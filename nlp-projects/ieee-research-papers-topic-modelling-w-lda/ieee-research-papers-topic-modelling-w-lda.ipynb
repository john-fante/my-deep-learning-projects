{
 "cells": [
  {
   "cell_type": "markdown",
   "id": "0e0fb2c2",
   "metadata": {
    "papermill": {
     "duration": 0.004875,
     "end_time": "2024-05-24T13:09:29.521459",
     "exception": false,
     "start_time": "2024-05-24T13:09:29.516584",
     "status": "completed"
    },
    "tags": []
   },
   "source": [
    "*I tried to apply <span style=\"color:#e74c3c;\"> Latent Dirichlet Allocation (LDA) </span> model for topic modelling [1].*\n",
    "\n",
    "* I applied several <b>preprocessing</b> operations (cleaning,dropping stop words, lemmatizing),\n",
    "* I have chosen <b> 6 for the number of topics</b>. (I tried the topics number value from 5 to 30, but there was no betterment in respect of the Coherence Score.)\n",
    "* Topic modelling visualization with <b>pyLDAvis</b> library [2].\n",
    "* An LDA model evaluation with <b>the Coherence Score</b>.\n",
    "\n",
    "\n",
    "## My Another Projects\n",
    "* [PaliGemma 3B for Image Captioning](https://www.kaggle.com/code/banddaniel/paligemma-3b-for-image-captioning)\n",
    "* [Yelp Review Stars Prediction w/Gemma 7B (LoRA)](https://www.kaggle.com/code/banddaniel/yelp-review-stars-prediction-w-gemma-7b-lora)\n",
    "\n",
    "## References\n",
    "1. https://en.wikipedia.org/wiki/Latent_Dirichlet_allocation\n",
    "2. https://towardsdatascience.com/end-to-end-topic-modeling-in-python-latent-dirichlet-allocation-lda-35ce4ed6b3e0"
   ]
  },
  {
   "cell_type": "code",
   "execution_count": 1,
   "id": "1e258470",
   "metadata": {
    "execution": {
     "iopub.execute_input": "2024-05-24T13:09:29.532169Z",
     "iopub.status.busy": "2024-05-24T13:09:29.531509Z",
     "iopub.status.idle": "2024-05-24T13:09:53.722918Z",
     "shell.execute_reply": "2024-05-24T13:09:53.722178Z"
    },
    "papermill": {
     "duration": 24.199068,
     "end_time": "2024-05-24T13:09:53.725128",
     "exception": false,
     "start_time": "2024-05-24T13:09:29.526060",
     "status": "completed"
    },
    "tags": []
   },
   "outputs": [],
   "source": [
    "import os\n",
    "import numpy as np\n",
    "import pandas as pd\n",
    "import re\n",
    "import nltk\n",
    "from nltk.corpus import  stopwords\n",
    "import string\n",
    "import spacy\n",
    "import pprint\n",
    "\n",
    "from gensim.models import LdaModel, CoherenceModel\n",
    "from gensim.corpora import Dictionary\n",
    "\n",
    "import pyLDAvis.gensim\n",
    "import pickle \n",
    "import pyLDAvis\n",
    "\n",
    "SEED = 7"
   ]
  },
  {
   "cell_type": "markdown",
   "id": "0214d83f",
   "metadata": {
    "papermill": {
     "duration": 0.004253,
     "end_time": "2024-05-24T13:09:53.734274",
     "exception": false,
     "start_time": "2024-05-24T13:09:53.730021",
     "status": "completed"
    },
    "tags": []
   },
   "source": [
    "# <span style=\"color:#e74c3c;\"> Reading </span> Data"
   ]
  },
  {
   "cell_type": "code",
   "execution_count": 2,
   "id": "578ed393",
   "metadata": {
    "execution": {
     "iopub.execute_input": "2024-05-24T13:09:53.744266Z",
     "iopub.status.busy": "2024-05-24T13:09:53.743817Z",
     "iopub.status.idle": "2024-05-24T13:09:53.815750Z",
     "shell.execute_reply": "2024-05-24T13:09:53.814878Z"
    },
    "papermill": {
     "duration": 0.079148,
     "end_time": "2024-05-24T13:09:53.817718",
     "exception": false,
     "start_time": "2024-05-24T13:09:53.738570",
     "status": "completed"
    },
    "tags": []
   },
   "outputs": [
    {
     "data": {
      "text/html": [
       "<div>\n",
       "<style scoped>\n",
       "    .dataframe tbody tr th:only-of-type {\n",
       "        vertical-align: middle;\n",
       "    }\n",
       "\n",
       "    .dataframe tbody tr th {\n",
       "        vertical-align: top;\n",
       "    }\n",
       "\n",
       "    .dataframe thead th {\n",
       "        text-align: right;\n",
       "    }\n",
       "</style>\n",
       "<table border=\"1\" class=\"dataframe\">\n",
       "  <thead>\n",
       "    <tr style=\"text-align: right;\">\n",
       "      <th></th>\n",
       "      <th>Unnamed: 0</th>\n",
       "      <th>Id</th>\n",
       "      <th>title</th>\n",
       "      <th>link</th>\n",
       "      <th>year</th>\n",
       "      <th>authors</th>\n",
       "      <th>citations</th>\n",
       "      <th>abstract</th>\n",
       "    </tr>\n",
       "  </thead>\n",
       "  <tbody>\n",
       "    <tr>\n",
       "      <th>0</th>\n",
       "      <td>261</td>\n",
       "      <td>261</td>\n",
       "      <td>Interplay Between γ–Ray Irradiation and 3DEG f...</td>\n",
       "      <td>/document/9724229/</td>\n",
       "      <td>2022</td>\n",
       "      <td>['Khushwant Sehra', 'Vandana Kumari', 'Poonam ...</td>\n",
       "      <td>0</td>\n",
       "      <td>This work investigates the cumulative dose \\n6...</td>\n",
       "    </tr>\n",
       "    <tr>\n",
       "      <th>1</th>\n",
       "      <td>132</td>\n",
       "      <td>132</td>\n",
       "      <td>Practical Methods for Efficient Resource Utili...</td>\n",
       "      <td>/document/9281038/</td>\n",
       "      <td>2020</td>\n",
       "      <td>['George Koutitas', 'Shashwat Vyas', 'Chaitany...</td>\n",
       "      <td>0</td>\n",
       "      <td>This work presents a novel approach that adopt...</td>\n",
       "    </tr>\n",
       "    <tr>\n",
       "      <th>2</th>\n",
       "      <td>576</td>\n",
       "      <td>576</td>\n",
       "      <td>Application of Non-Negative Tensor Factorizati...</td>\n",
       "      <td>/document/8911489/</td>\n",
       "      <td>2019</td>\n",
       "      <td>['Han Zhong', 'Geqi Qi', 'Wei Guan', 'Xiaochen...</td>\n",
       "      <td>1</td>\n",
       "      <td>With the rapid development of civil aviation t...</td>\n",
       "    </tr>\n",
       "  </tbody>\n",
       "</table>\n",
       "</div>"
      ],
      "text/plain": [
       "   Unnamed: 0   Id                                              title  \\\n",
       "0         261  261  Interplay Between γ–Ray Irradiation and 3DEG f...   \n",
       "1         132  132  Practical Methods for Efficient Resource Utili...   \n",
       "2         576  576  Application of Non-Negative Tensor Factorizati...   \n",
       "\n",
       "                 link  year  \\\n",
       "0  /document/9724229/  2022   \n",
       "1  /document/9281038/  2020   \n",
       "2  /document/8911489/  2019   \n",
       "\n",
       "                                             authors  citations  \\\n",
       "0  ['Khushwant Sehra', 'Vandana Kumari', 'Poonam ...          0   \n",
       "1  ['George Koutitas', 'Shashwat Vyas', 'Chaitany...          0   \n",
       "2  ['Han Zhong', 'Geqi Qi', 'Wei Guan', 'Xiaochen...          1   \n",
       "\n",
       "                                            abstract  \n",
       "0  This work investigates the cumulative dose \\n6...  \n",
       "1  This work presents a novel approach that adopt...  \n",
       "2  With the rapid development of civil aviation t...  "
      ]
     },
     "execution_count": 2,
     "metadata": {},
     "output_type": "execute_result"
    }
   ],
   "source": [
    "data_raw = pd.read_csv('/kaggle/input/ieee-research-papers-dataset/database.csv')\n",
    "data_raw.drop_duplicates(subset = ['title'], inplace = True)\n",
    "data_raw = data_raw.sample(frac = 1, random_state = SEED).reset_index(drop = True)\n",
    "data_raw.head(3)"
   ]
  },
  {
   "cell_type": "markdown",
   "id": "6c0aaf0c",
   "metadata": {
    "papermill": {
     "duration": 0.004588,
     "end_time": "2024-05-24T13:09:53.827103",
     "exception": false,
     "start_time": "2024-05-24T13:09:53.822515",
     "status": "completed"
    },
    "tags": []
   },
   "source": [
    "# <span style=\"color:#e74c3c;\"> Preprocessing </span>"
   ]
  },
  {
   "cell_type": "code",
   "execution_count": 3,
   "id": "13306fa7",
   "metadata": {
    "execution": {
     "iopub.execute_input": "2024-05-24T13:09:53.837404Z",
     "iopub.status.busy": "2024-05-24T13:09:53.837103Z",
     "iopub.status.idle": "2024-05-24T13:10:08.178498Z",
     "shell.execute_reply": "2024-05-24T13:10:08.177672Z"
    },
    "papermill": {
     "duration": 14.34909,
     "end_time": "2024-05-24T13:10:08.180817",
     "exception": false,
     "start_time": "2024-05-24T13:09:53.831727",
     "status": "completed"
    },
    "tags": []
   },
   "outputs": [],
   "source": [
    "# preprocessing functions\n",
    "\n",
    "stop_words = set(stopwords.words('english'))\n",
    "nlp = spacy.load('en_core_web_sm')\n",
    "\n",
    "def text_preprocessing(text):\n",
    "    text = str(text)\n",
    "    text = text.lower()\n",
    "    text = re.sub(r'\\[.*?\\]', ' ', text)\n",
    "    text = re.sub(r'@\\w+\\s*', ' ', text)\n",
    "    text = re.sub(r'\\\\W',' ',text) \n",
    "    text = re.sub(r'https?://\\S+|www\\.\\S+', ' ', text)\n",
    "    text = re.sub(r'http', ' ', text)\n",
    "    text = re.sub(r'<.*?>+', ' ', text)\n",
    "    text = re.sub(r'[%s]' % re.escape(string.punctuation), ' ', text)\n",
    "    text = re.sub(r'\\n', ' ', text)\n",
    "    text = re.sub(r'\\w*\\d\\w*', ' ', text)\n",
    "    text = re.sub(r'[\\U0001F600-\\U0001F64F\\U0001F300-\\U0001F5FF\\U0001F680-\\U0001F6FF\\U0001F1E0-\\U0001F1FF]', ' ', text)\n",
    "    return text\n",
    "\n",
    "def drop_stopwords(text):\n",
    "    dropped = [word for word in text.split() if word not in stop_words]\n",
    "    final_text = ' '.join(dropped)\n",
    "    return final_text\n",
    "\n",
    "def lemmatization(text):\n",
    "    doc = nlp(text)\n",
    "    lemmatized_tokens = [token.lemma_ for token in doc]\n",
    "    lemmatized_text = ' '.join(lemmatized_tokens)    \n",
    "    return lemmatized_text\n",
    "\n",
    "def delete_one_characters(text):\n",
    "    deleted = [word if len(word)>1 else \"\" for word in text.split()]\n",
    "    final_text = ' '.join(deleted)\n",
    "    return final_text\n",
    "\n",
    "# applying preprocessing functions\n",
    "data = data_raw.copy()\n",
    "data['preprocessed_abstract'] = data['abstract'].apply(text_preprocessing).apply(drop_stopwords).apply(lemmatization).apply(delete_one_characters)"
   ]
  },
  {
   "cell_type": "code",
   "execution_count": 4,
   "id": "17e89ad7",
   "metadata": {
    "execution": {
     "iopub.execute_input": "2024-05-24T13:10:08.192027Z",
     "iopub.status.busy": "2024-05-24T13:10:08.191509Z",
     "iopub.status.idle": "2024-05-24T13:10:08.203452Z",
     "shell.execute_reply": "2024-05-24T13:10:08.202548Z"
    },
    "papermill": {
     "duration": 0.019511,
     "end_time": "2024-05-24T13:10:08.205334",
     "exception": false,
     "start_time": "2024-05-24T13:10:08.185823",
     "status": "completed"
    },
    "tags": []
   },
   "outputs": [
    {
     "data": {
      "text/html": [
       "<div>\n",
       "<style scoped>\n",
       "    .dataframe tbody tr th:only-of-type {\n",
       "        vertical-align: middle;\n",
       "    }\n",
       "\n",
       "    .dataframe tbody tr th {\n",
       "        vertical-align: top;\n",
       "    }\n",
       "\n",
       "    .dataframe thead th {\n",
       "        text-align: right;\n",
       "    }\n",
       "</style>\n",
       "<table border=\"1\" class=\"dataframe\">\n",
       "  <thead>\n",
       "    <tr style=\"text-align: right;\">\n",
       "      <th></th>\n",
       "      <th>Unnamed: 0</th>\n",
       "      <th>Id</th>\n",
       "      <th>title</th>\n",
       "      <th>link</th>\n",
       "      <th>year</th>\n",
       "      <th>authors</th>\n",
       "      <th>citations</th>\n",
       "      <th>abstract</th>\n",
       "      <th>preprocessed_abstract</th>\n",
       "    </tr>\n",
       "  </thead>\n",
       "  <tbody>\n",
       "    <tr>\n",
       "      <th>0</th>\n",
       "      <td>261</td>\n",
       "      <td>261</td>\n",
       "      <td>Interplay Between γ–Ray Irradiation and 3DEG f...</td>\n",
       "      <td>/document/9724229/</td>\n",
       "      <td>2022</td>\n",
       "      <td>['Khushwant Sehra', 'Vandana Kumari', 'Poonam ...</td>\n",
       "      <td>0</td>\n",
       "      <td>This work investigates the cumulative dose \\n6...</td>\n",
       "      <td>work investigate cumulative dose co gamma  gam...</td>\n",
       "    </tr>\n",
       "    <tr>\n",
       "      <th>1</th>\n",
       "      <td>132</td>\n",
       "      <td>132</td>\n",
       "      <td>Practical Methods for Efficient Resource Utili...</td>\n",
       "      <td>/document/9281038/</td>\n",
       "      <td>2020</td>\n",
       "      <td>['George Koutitas', 'Shashwat Vyas', 'Chaitany...</td>\n",
       "      <td>0</td>\n",
       "      <td>This work presents a novel approach that adopt...</td>\n",
       "      <td>work present novel approach adopt content cach...</td>\n",
       "    </tr>\n",
       "    <tr>\n",
       "      <th>2</th>\n",
       "      <td>576</td>\n",
       "      <td>576</td>\n",
       "      <td>Application of Non-Negative Tensor Factorizati...</td>\n",
       "      <td>/document/8911489/</td>\n",
       "      <td>2019</td>\n",
       "      <td>['Han Zhong', 'Geqi Qi', 'Wei Guan', 'Xiaochen...</td>\n",
       "      <td>1</td>\n",
       "      <td>With the rapid development of civil aviation t...</td>\n",
       "      <td>rapid development civil aviation transportatio...</td>\n",
       "    </tr>\n",
       "    <tr>\n",
       "      <th>3</th>\n",
       "      <td>454</td>\n",
       "      <td>454</td>\n",
       "      <td>Novel Method for Magnetic Flux Density Estimat...</td>\n",
       "      <td>/document/9705564/</td>\n",
       "      <td>2022</td>\n",
       "      <td>['Adnan Mujezinovic', 'Emir Turajlic', 'Ajdin ...</td>\n",
       "      <td>0</td>\n",
       "      <td>In this paper, a novel method for the magnetic...</td>\n",
       "      <td>paper novel method magnetic flux density estim...</td>\n",
       "    </tr>\n",
       "    <tr>\n",
       "      <th>4</th>\n",
       "      <td>337</td>\n",
       "      <td>337</td>\n",
       "      <td>Separation Behaviour Difference Between Gelati...</td>\n",
       "      <td>/document/8918179/</td>\n",
       "      <td>2019</td>\n",
       "      <td>['Chao Cao', 'Jiyun Zhao', 'Guilin Li', 'Haiga...</td>\n",
       "      <td>2</td>\n",
       "      <td>Different from the rigid separation of biologi...</td>\n",
       "      <td>different rigid separation biological tissue s...</td>\n",
       "    </tr>\n",
       "  </tbody>\n",
       "</table>\n",
       "</div>"
      ],
      "text/plain": [
       "   Unnamed: 0   Id                                              title  \\\n",
       "0         261  261  Interplay Between γ–Ray Irradiation and 3DEG f...   \n",
       "1         132  132  Practical Methods for Efficient Resource Utili...   \n",
       "2         576  576  Application of Non-Negative Tensor Factorizati...   \n",
       "3         454  454  Novel Method for Magnetic Flux Density Estimat...   \n",
       "4         337  337  Separation Behaviour Difference Between Gelati...   \n",
       "\n",
       "                 link  year  \\\n",
       "0  /document/9724229/  2022   \n",
       "1  /document/9281038/  2020   \n",
       "2  /document/8911489/  2019   \n",
       "3  /document/9705564/  2022   \n",
       "4  /document/8918179/  2019   \n",
       "\n",
       "                                             authors  citations  \\\n",
       "0  ['Khushwant Sehra', 'Vandana Kumari', 'Poonam ...          0   \n",
       "1  ['George Koutitas', 'Shashwat Vyas', 'Chaitany...          0   \n",
       "2  ['Han Zhong', 'Geqi Qi', 'Wei Guan', 'Xiaochen...          1   \n",
       "3  ['Adnan Mujezinovic', 'Emir Turajlic', 'Ajdin ...          0   \n",
       "4  ['Chao Cao', 'Jiyun Zhao', 'Guilin Li', 'Haiga...          2   \n",
       "\n",
       "                                            abstract  \\\n",
       "0  This work investigates the cumulative dose \\n6...   \n",
       "1  This work presents a novel approach that adopt...   \n",
       "2  With the rapid development of civil aviation t...   \n",
       "3  In this paper, a novel method for the magnetic...   \n",
       "4  Different from the rigid separation of biologi...   \n",
       "\n",
       "                               preprocessed_abstract  \n",
       "0  work investigate cumulative dose co gamma  gam...  \n",
       "1  work present novel approach adopt content cach...  \n",
       "2  rapid development civil aviation transportatio...  \n",
       "3  paper novel method magnetic flux density estim...  \n",
       "4  different rigid separation biological tissue s...  "
      ]
     },
     "execution_count": 4,
     "metadata": {},
     "output_type": "execute_result"
    }
   ],
   "source": [
    "# data after preprocessing functions\n",
    "data.head()"
   ]
  },
  {
   "cell_type": "markdown",
   "id": "4e3c40b4",
   "metadata": {
    "papermill": {
     "duration": 0.004654,
     "end_time": "2024-05-24T13:10:08.214955",
     "exception": false,
     "start_time": "2024-05-24T13:10:08.210301",
     "status": "completed"
    },
    "tags": []
   },
   "source": [
    "# <span style=\"color:#e74c3c;\"> Creating </span> Dictionary, Corpus"
   ]
  },
  {
   "cell_type": "code",
   "execution_count": 5,
   "id": "535a6518",
   "metadata": {
    "execution": {
     "iopub.execute_input": "2024-05-24T13:10:08.226351Z",
     "iopub.status.busy": "2024-05-24T13:10:08.225657Z",
     "iopub.status.idle": "2024-05-24T13:10:08.373184Z",
     "shell.execute_reply": "2024-05-24T13:10:08.372477Z"
    },
    "papermill": {
     "duration": 0.155462,
     "end_time": "2024-05-24T13:10:08.375239",
     "exception": false,
     "start_time": "2024-05-24T13:10:08.219777",
     "status": "completed"
    },
    "tags": []
   },
   "outputs": [],
   "source": [
    "text_corpus = data['preprocessed_abstract'].values\n",
    "nested_document_tokens  = [t.split() for t in text_corpus]\n",
    "\n",
    "# dictionary\n",
    "id2word = Dictionary(nested_document_tokens)\n",
    "id2word.filter_extremes(no_below=15, no_above=0.8)\n",
    "\n",
    "# corpus\n",
    "corpus = [id2word.doc2bow(text) for text in nested_document_tokens]"
   ]
  },
  {
   "cell_type": "markdown",
   "id": "969c8d43",
   "metadata": {
    "papermill": {
     "duration": 0.004673,
     "end_time": "2024-05-24T13:10:08.384971",
     "exception": false,
     "start_time": "2024-05-24T13:10:08.380298",
     "status": "completed"
    },
    "tags": []
   },
   "source": [
    "# <span style=\"color:#e74c3c;\"> Latent Dirichlet Allocation </span> Model"
   ]
  },
  {
   "cell_type": "code",
   "execution_count": 6,
   "id": "09292cfb",
   "metadata": {
    "execution": {
     "iopub.execute_input": "2024-05-24T13:10:08.396418Z",
     "iopub.status.busy": "2024-05-24T13:10:08.395904Z",
     "iopub.status.idle": "2024-05-24T13:10:29.193831Z",
     "shell.execute_reply": "2024-05-24T13:10:29.192908Z"
    },
    "papermill": {
     "duration": 20.806391,
     "end_time": "2024-05-24T13:10:29.196210",
     "exception": false,
     "start_time": "2024-05-24T13:10:08.389819",
     "status": "completed"
    },
    "tags": []
   },
   "outputs": [],
   "source": [
    "# training\n",
    "NUM_TOPICS = 6\n",
    "\n",
    "lda_model = LdaModel(corpus, num_topics = NUM_TOPICS, id2word=id2word, iterations = 300, random_state = SEED, passes=15)"
   ]
  },
  {
   "cell_type": "code",
   "execution_count": 7,
   "id": "1e21aaa7",
   "metadata": {
    "execution": {
     "iopub.execute_input": "2024-05-24T13:10:29.207768Z",
     "iopub.status.busy": "2024-05-24T13:10:29.207439Z",
     "iopub.status.idle": "2024-05-24T13:10:29.214025Z",
     "shell.execute_reply": "2024-05-24T13:10:29.212997Z"
    },
    "papermill": {
     "duration": 0.014458,
     "end_time": "2024-05-24T13:10:29.215938",
     "exception": false,
     "start_time": "2024-05-24T13:10:29.201480",
     "status": "completed"
    },
    "tags": []
   },
   "outputs": [
    {
     "name": "stdout",
     "output_type": "stream",
     "text": [
      "[(0,\n",
      "  '0.038*\"image\" + 0.025*\"feature\" + 0.017*\"use\" + 0.017*\"method\" + '\n",
      "  '0.015*\"propose\" + 0.013*\"detection\" + 0.010*\"result\" + 0.010*\"base\" + '\n",
      "  '0.009*\"performance\" + 0.009*\"model\"'),\n",
      " (1,\n",
      "  '0.021*\"method\" + 0.021*\"propose\" + 0.020*\"system\" + 0.017*\"base\" + '\n",
      "  '0.015*\"control\" + 0.013*\"use\" + 0.010*\"approach\" + 0.009*\"user\" + '\n",
      "  '0.008*\"study\" + 0.008*\"set\"'),\n",
      " (2,\n",
      "  '0.026*\"algorithm\" + 0.020*\"propose\" + 0.019*\"use\" + 0.016*\"base\" + '\n",
      "  '0.016*\"method\" + 0.015*\"network\" + 0.014*\"problem\" + 0.012*\"system\" + '\n",
      "  '0.012*\"optimization\" + 0.011*\"datum\"'),\n",
      " (3,\n",
      "  '0.047*\"model\" + 0.020*\"propose\" + 0.020*\"network\" + 0.019*\"use\" + '\n",
      "  '0.018*\"datum\" + 0.016*\"method\" + 0.015*\"base\" + 0.014*\"prediction\" + '\n",
      "  '0.013*\"result\" + 0.012*\"performance\"'),\n",
      " (4,\n",
      "  '0.024*\"power\" + 0.016*\"high\" + 0.016*\"voltage\" + 0.013*\"result\" + '\n",
      "  '0.013*\"use\" + 0.012*\"antenna\" + 0.011*\"frequency\" + 0.011*\"propose\" + '\n",
      "  '0.011*\"system\" + 0.011*\"low\"'),\n",
      " (5,\n",
      "  '0.022*\"propose\" + 0.022*\"signal\" + 0.015*\"system\" + 0.015*\"scheme\" + '\n",
      "  '0.013*\"security\" + 0.012*\"base\" + 0.012*\"use\" + 0.009*\"time\" + '\n",
      "  '0.009*\"power\" + 0.009*\"communication\"')]\n"
     ]
    }
   ],
   "source": [
    "# printing topics\n",
    "pprint.pprint(lda_model.print_topics())"
   ]
  },
  {
   "cell_type": "markdown",
   "id": "75954094",
   "metadata": {
    "papermill": {
     "duration": 0.00482,
     "end_time": "2024-05-24T13:10:29.225777",
     "exception": false,
     "start_time": "2024-05-24T13:10:29.220957",
     "status": "completed"
    },
    "tags": []
   },
   "source": [
    "# <span style=\"color:#e74c3c;\"> Topic Modelling </span> Visualization"
   ]
  },
  {
   "cell_type": "code",
   "execution_count": 8,
   "id": "644f5e0b",
   "metadata": {
    "execution": {
     "iopub.execute_input": "2024-05-24T13:10:29.236726Z",
     "iopub.status.busy": "2024-05-24T13:10:29.236455Z",
     "iopub.status.idle": "2024-05-24T13:10:31.745991Z",
     "shell.execute_reply": "2024-05-24T13:10:31.744994Z"
    },
    "papermill": {
     "duration": 2.517595,
     "end_time": "2024-05-24T13:10:31.748359",
     "exception": false,
     "start_time": "2024-05-24T13:10:29.230764",
     "status": "completed"
    },
    "tags": []
   },
   "outputs": [
    {
     "data": {
      "text/html": [
       "\n",
       "<link rel=\"stylesheet\" type=\"text/css\" href=\"https://cdn.jsdelivr.net/gh/bmabey/pyLDAvis@3.4.0/pyLDAvis/js/ldavis.v1.0.0.css\">\n",
       "\n",
       "\n",
       "<div id=\"ldavis_el241340406060301122704742320\" style=\"background-color:white;\"></div>\n",
       "<script type=\"text/javascript\">\n",
       "\n",
       "var ldavis_el241340406060301122704742320_data = {\"mdsDat\": {\"x\": [-0.035112437815474594, -0.06837703762358023, -0.07669218241822007, 0.04269010062294433, -0.04391671258525554, 0.1814082698195862], \"y\": [-0.04141978980928189, 0.044332595111604395, 0.09246525376726342, -0.04927202947444473, -0.08492527809472658, 0.038819248499585506], \"topics\": [1, 2, 3, 4, 5, 6], \"cluster\": [1, 1, 1, 1, 1, 1], \"Freq\": [21.906345970515336, 17.235967412433943, 16.965100902602597, 15.897003254855353, 14.453950225887988, 13.541632233704783]}, \"tinfo\": {\"Term\": [\"image\", \"model\", \"feature\", \"signal\", \"power\", \"voltage\", \"algorithm\", \"scheme\", \"prediction\", \"antenna\", \"security\", \"control\", \"optimization\", \"frequency\", \"datum\", \"user\", \"device\", \"db\", \"ghz\", \"network\", \"detection\", \"band\", \"method\", \"current\", \"nan\", \"high\", \"problem\", \"neural\", \"gain\", \"visual\", \"reinforcement\", \"optimization\", \"scheduling\", \"hardware\", \"minimize\", \"track\", \"target\", \"fix\", \"algorithm\", \"convergence\", \"formulate\", \"consumption\", \"traffic\", \"delay\", \"optimal\", \"testing\", \"handle\", \"solve\", \"distribute\", \"move\", \"problem\", \"uncertainty\", \"class\", \"variable\", \"balance\", \"aware\", \"benchmark\", \"agent\", \"software\", \"run\", \"solution\", \"energy\", \"scenario\", \"resource\", \"network\", \"technique\", \"datum\", \"distribution\", \"real\", \"test\", \"time\", \"use\", \"propose\", \"method\", \"base\", \"cost\", \"system\", \"approach\", \"result\", \"performance\", \"control\", \"paper\", \"design\", \"large\", \"compare\", \"model\", \"process\", \"show\", \"two\", \"prediction\", \"label\", \"depth\", \"module\", \"leverage\", \"name\", \"encoder\", \"cross\", \"model\", \"memory\", \"predict\", \"text\", \"face\", \"although\", \"neural\", \"layer\", \"convolutional\", \"encode\", \"importance\", \"content\", \"step\", \"incorporate\", \"advance\", \"training\", \"sense\", \"technical\", \"often\", \"automatically\", \"collect\", \"superior\", \"estimation\", \"accuracy\", \"datum\", \"network\", \"dataset\", \"learning\", \"task\", \"information\", \"classification\", \"deep\", \"improve\", \"performance\", \"use\", \"propose\", \"method\", \"result\", \"base\", \"learn\", \"challenge\", \"paper\", \"error\", \"show\", \"multi\", \"feature\", \"system\", \"approach\", \"well\", \"pixel\", \"image\", \"visual\", \"vision\", \"segmentation\", \"spatial\", \"resolution\", \"extraction\", \"researcher\", \"contrast\", \"convert\", \"transform\", \"semantic\", \"match\", \"feature\", \"extract\", \"human\", \"interaction\", \"pattern\", \"attention\", \"activity\", \"edge\", \"graph\", \"autonomous\", \"knowledge\", \"object\", \"map\", \"detection\", \"classify\", \"cnn\", \"deep\", \"research\", \"scale\", \"method\", \"use\", \"analysis\", \"different\", \"propose\", \"learn\", \"dataset\", \"result\", \"performance\", \"base\", \"high\", \"model\", \"paper\", \"level\", \"accuracy\", \"however\", \"show\", \"network\", \"information\", \"nan\", \"secure\", \"security\", \"signal\", \"scheme\", \"privacy\", \"side\", \"bit\", \"digital\", \"server\", \"radio\", \"communication\", \"service\", \"nonlinear\", \"requirement\", \"key\", \"transmit\", \"spectrum\", \"allow\", \"thing\", \"operating\", \"ratio\", \"architecture\", \"supply\", \"capacity\", \"internet\", \"computation\", \"throughput\", \"overhead\", \"phase\", \"iot\", \"user\", \"attack\", \"device\", \"non\", \"access\", \"propose\", \"system\", \"power\", \"time\", \"consider\", \"base\", \"function\", \"use\", \"high\", \"low\", \"provide\", \"application\", \"paper\", \"result\", \"present\", \"design\", \"two\", \"information\", \"robot\", \"whether\", \"operator\", \"attribute\", \"metric\", \"desire\", \"finite\", \"distance\", \"occur\", \"extend\", \"feedback\", \"action\", \"event\", \"guarantee\", \"positive\", \"fuzzy\", \"control\", \"assist\", \"set\", \"example\", \"dynamic\", \"effectiveness\", \"alternative\", \"objective\", \"strategy\", \"describe\", \"call\", \"user\", \"selection\", \"programming\", \"search\", \"impact\", \"estimate\", \"role\", \"system\", \"state\", \"estimation\", \"method\", \"approach\", \"condition\", \"base\", \"propose\", \"study\", \"make\", \"use\", \"error\", \"two\", \"paper\", \"show\", \"result\", \"time\", \"problem\", \"information\", \"model\", \"also\", \"performance\", \"analysis\", \"algorithm\", \"design\", \"antenna\", \"ghz\", \"voltage\", \"db\", \"radiation\", \"fabricate\", \"pulse\", \"mm\", \"impedance\", \"band\", \"active\", \"circuit\", \"ground\", \"wave\", \"array\", \"feed\", \"temperature\", \"line\", \"switch\", \"bandwidth\", \"shape\", \"electric\", \"electrical\", \"dc\", \"configuration\", \"gate\", \"frequency\", \"gain\", \"reliability\", \"grid\", \"power\", \"current\", \"device\", \"range\", \"transmission\", \"high\", \"structure\", \"low\", \"characteristic\", \"measure\", \"result\", \"simulation\", \"design\", \"use\", \"system\", \"present\", \"performance\", \"study\", \"increase\", \"propose\", \"two\", \"paper\", \"show\", \"base\"], \"Freq\": [319.0, 584.0, 275.0, 187.0, 268.0, 103.0, 375.0, 133.0, 116.0, 74.0, 107.0, 196.0, 130.0, 111.0, 312.0, 125.0, 143.0, 63.0, 58.0, 416.0, 178.0, 75.0, 594.0, 136.0, 51.0, 297.0, 242.0, 118.0, 88.0, 57.0, 24.619911720580905, 116.97588371368343, 38.181169910715816, 31.646324746919802, 25.882488607205513, 30.114147761104444, 59.773698453923146, 20.475666424208747, 261.3697454122643, 19.06858556288399, 11.10676526057957, 33.27509792499691, 32.87333503088957, 34.294869219967325, 53.463814630567995, 19.51417025284739, 15.860688749369382, 52.878072161615094, 26.35602936887734, 19.16820580717742, 144.28021360362263, 17.826859397806537, 37.11581278953752, 20.39034361661396, 10.694672532923686, 15.586565465376193, 24.98676439542013, 16.317882048372248, 23.385521811963272, 16.640308116949072, 72.22808092944318, 81.84681684753043, 33.910383274289075, 36.191833617180116, 155.6680527794155, 67.65251673275012, 108.04152124530965, 43.52127072245223, 53.31079290931193, 59.22348039155022, 98.25831440432079, 188.96523800537562, 203.65721738087447, 159.14547819321623, 159.25655701606073, 46.77266114012954, 120.69468005259309, 74.62521181156492, 105.62785887874803, 89.35943414645214, 62.63382811168068, 72.54879922910133, 61.81992208905026, 45.32964446049491, 52.005204157045945, 66.76195450745604, 47.50028556657528, 52.234961784662644, 47.81978018006247, 106.9802547369502, 29.853332172184174, 35.08301275797436, 32.74694067879664, 11.094509921836162, 23.3464484907722, 20.256213123389784, 17.74669514480562, 375.5123918801899, 25.319144982809078, 35.72643936903533, 15.40739160124941, 15.861849479451099, 11.97064254589748, 67.7681387694304, 47.96306168215003, 27.40700481552186, 12.31291217020552, 9.685454041800583, 14.99870173508417, 16.340458496107097, 16.316388513150876, 10.041981211568514, 42.0953052148434, 21.289057014262774, 9.258444244163108, 11.775738395018799, 9.161457890616216, 13.119026966068175, 9.606892752984814, 35.82234672334625, 66.07516130154873, 141.6493523213482, 157.19747677850125, 66.76241557046455, 41.84228450511663, 49.58344186810396, 74.87367151583223, 46.6591178499076, 36.7948625680482, 64.27791377416662, 98.21553472096234, 150.43244299099462, 157.5612747431208, 122.9598755996749, 103.87885311080787, 120.66541784658594, 54.164898446230175, 44.26096919246363, 64.34190119552426, 40.56232581144605, 57.70467993973669, 42.472744680914595, 52.14238538946804, 57.37229284176424, 46.537742424741545, 41.103404272756784, 33.08730954675263, 296.11869862596285, 53.265755048164465, 25.313613705502686, 38.66610109667782, 40.42676069490695, 33.10180052742635, 25.02408093429167, 16.944934391669452, 21.40759909376486, 11.976541362799182, 28.592447708319412, 16.638543283383, 21.011974625158345, 198.56200367063306, 60.3443249732151, 46.24811913405504, 21.70785758707814, 41.79749272973556, 50.48692523505618, 18.356722994768692, 32.054321568874364, 41.7322052520372, 12.803511239092153, 34.872550437680616, 44.64798227588734, 24.374119966376103, 99.08935489421899, 13.723036762679989, 30.41748705556527, 45.454720695323886, 47.95727783780258, 31.222900191126627, 130.25420038978257, 135.10009180215062, 53.786068759395945, 61.956759739561676, 114.2167840867002, 51.66167138568898, 48.18350924167066, 78.66022377825566, 70.7915522850456, 76.42965119611449, 57.07299062476609, 69.28321947482435, 53.05767821792921, 42.116838941766396, 40.95921255406934, 41.483803482848714, 45.19687128601688, 45.38053747654544, 41.5706622249376, 50.709316926118674, 33.39847752990031, 94.31185901358832, 161.81806802752465, 108.2181317693668, 43.331714195560544, 21.526232783661534, 15.881910188806039, 28.212632556686067, 26.459385919511487, 28.81193891291484, 64.79712034323069, 61.19513421775889, 20.119787792825402, 28.745141209345146, 57.18644183805625, 12.514235729858147, 28.426172223020547, 28.83839193309792, 15.827617703973694, 14.48582185307438, 19.80218823937845, 49.295864861962016, 13.375806344323895, 17.00004958166484, 20.046855710427398, 12.88797692781198, 19.757915580197444, 14.554140392659749, 34.56377814967458, 41.29626401721871, 59.542485609428454, 36.46142765618939, 52.676254632765755, 35.70540204051585, 23.169788697916182, 162.74854748369816, 112.206070011048, 67.39159853960999, 69.22797910883132, 44.00208646292425, 90.80068074775465, 41.316055299328674, 87.97051719907667, 53.426462285157875, 45.120632432749204, 44.71220460575788, 42.29947141672774, 49.27069791787273, 52.54101590617319, 43.17694956763927, 40.23603717523403, 39.95778882840283, 38.89008709441272, 36.237915141501034, 13.150394900057616, 29.83194451796195, 28.905554900625702, 38.24723332819502, 11.357586482503205, 15.361016122033503, 24.149526114478856, 11.588515696934758, 14.960833786602175, 28.38776340867344, 22.350726415472206, 21.280519748772186, 14.188039682897426, 9.510610600872864, 24.980001092823304, 100.28415549427329, 10.518557281344352, 53.13994886640257, 15.592695503369493, 47.03881823158062, 31.855795835035494, 10.543506131176443, 34.847136635393106, 42.55134455701446, 11.861293397482681, 13.356604181568123, 56.605534356593864, 24.83105352052754, 9.13254117502768, 27.816925062794247, 29.912693411597047, 27.352895016747986, 21.22121480145278, 132.41787811361934, 52.40445739204689, 28.214395970218405, 138.06976240398802, 68.09309228218235, 37.41015533435564, 110.63142260345676, 136.5033396642017, 54.52044157887235, 35.49692656780852, 85.58468295064864, 34.54619442110727, 44.939473829410694, 51.23348242914658, 44.05885522039628, 50.888353064085585, 43.50090427791454, 40.367115289451775, 38.305715412023375, 45.455854698235434, 36.27702590510018, 39.82616916129453, 35.07411703310914, 36.00212762965333, 35.370007607993145, 72.87854631679976, 56.44067007996916, 99.22854431489857, 60.474730480044926, 20.92457117925003, 20.881680493732038, 23.75308712100091, 26.997888191096745, 26.74584201522285, 61.60960196273929, 22.53769018038543, 41.60164927857513, 20.955640045305366, 27.896752220375248, 30.61995861763111, 18.16153316253228, 26.658617333058544, 32.47049215562171, 36.26474264404799, 29.454450102933862, 12.154217928101108, 20.28141956796856, 18.272897078406924, 21.638520389412072, 18.264445883125457, 15.604971236294672, 71.38641185662023, 55.97528049289514, 16.493201714308526, 26.147725768646026, 147.54973142641091, 67.43364639057917, 67.09453783258753, 39.41197820044171, 28.586970845158458, 101.6411808784209, 45.75098328671852, 68.57193197068148, 40.6750899056376, 40.20962496497054, 81.00132165762962, 44.641488575589506, 56.24984580022892, 79.92367253420733, 69.4035052413711, 49.984617677973056, 61.69658319483376, 49.83767237510575, 42.843282311538175, 69.6885099195567, 47.22010881708338, 49.0046384039971, 43.84704433876507, 41.359433848378444], \"Total\": [319.0, 584.0, 275.0, 187.0, 268.0, 103.0, 375.0, 133.0, 116.0, 74.0, 107.0, 196.0, 130.0, 111.0, 312.0, 125.0, 143.0, 63.0, 58.0, 416.0, 178.0, 75.0, 594.0, 136.0, 51.0, 297.0, 242.0, 118.0, 88.0, 57.0, 25.822892908703697, 130.3060038622165, 46.93154156001697, 40.559146351246696, 33.699430635051435, 41.47860531865808, 83.92009959675003, 29.009016483766203, 375.1230889084116, 27.963470558508796, 16.419867932834457, 49.44719313040923, 49.118092421602576, 51.44542691501874, 81.1231320201079, 30.961042212367527, 25.196420571452787, 85.16366178615762, 43.64819498893425, 32.08445298307039, 242.26216217069106, 29.94829418267981, 63.34048415990482, 34.97403264549309, 18.513571562957516, 27.07628258543299, 44.456967900538395, 29.106687761872696, 41.91147865301691, 30.116759809406748, 133.25616898574157, 164.32755063979272, 65.40696444221606, 71.06765106786806, 416.9415259720485, 156.63846114526967, 312.6120114927165, 94.53318751547582, 123.92118193690334, 144.95445770576652, 289.6190147527461, 727.9766454824535, 844.375673278152, 594.9386149715803, 599.143163258351, 109.49028920877397, 521.5076131953374, 241.3427445257345, 472.59762639569993, 392.3663081381488, 196.24286418201373, 339.4571973935712, 237.84911843228554, 110.64632583613147, 192.37401226346003, 584.7604382677921, 155.21630180472616, 276.52986070755344, 237.23454141791893, 116.8830640353461, 35.71140482371606, 43.67862686809145, 45.7906737245065, 15.529940027663994, 32.90224171649598, 29.267643164329115, 27.284000975491814, 584.7604382677921, 40.194121298789284, 57.482112800792315, 25.408305697572615, 26.32242386678039, 20.503173032888313, 118.23865599189345, 84.17592954468043, 48.92499399532181, 22.15333221478486, 17.538135855226177, 27.357773122161127, 30.10191062426793, 30.07633400124916, 18.559753352930255, 79.0425936168944, 40.28407759982328, 17.52523222450895, 22.380635363019827, 17.564866500854087, 26.315978789834563, 19.384006432189686, 72.37763511330812, 139.40994642050143, 312.6120114927165, 416.9415259720485, 160.0671751638471, 97.80951212756092, 121.20750585825003, 200.9556720549997, 113.78655184765898, 90.26630749762327, 190.65483067065298, 392.3663081381488, 727.9766454824535, 844.375673278152, 594.9386149715803, 472.59762639569993, 599.143163258351, 178.62046683125874, 126.6156178081561, 339.4571973935712, 117.61255890929225, 276.52986070755344, 133.9331445156326, 275.76145003202896, 521.5076131953374, 241.3427445257345, 168.79236641065702, 34.92652442600173, 319.9411210072367, 57.91135185236438, 27.90645654217022, 45.73179904016638, 48.701171691007964, 41.82412286195636, 31.77415560526031, 21.87246241803214, 27.71268014735983, 15.8430223431494, 39.07265889837152, 22.775559057729858, 28.928467621303472, 275.76145003202896, 84.41456732781657, 65.5710422253036, 32.70410626814774, 65.74419722118887, 80.19100668460877, 29.989977953293184, 52.62378111417123, 68.5133349045705, 21.733684851667753, 60.50280966139935, 77.68487948358722, 43.77880272789593, 178.50336750245563, 25.701899933595055, 57.00278112130327, 90.26630749762327, 106.67022953101157, 64.93179990742634, 594.9386149715803, 727.9766454824535, 178.44662680237693, 230.24112625015115, 844.375673278152, 178.62046683125874, 160.0671751638471, 472.59762639569993, 392.3663081381488, 599.143163258351, 297.7815381440214, 584.7604382677921, 339.4571973935712, 157.47398427999403, 139.40994642050143, 151.79192486544292, 276.52986070755344, 416.9415259720485, 200.9556720549997, 51.57473668141619, 37.34535689187368, 107.84427092386102, 187.63813478695639, 133.29529081091724, 56.310402248688256, 28.214933087545134, 21.0341163336166, 38.028501491106084, 36.96580105963485, 42.022901445956514, 95.43222901276147, 90.8523242579604, 29.95260959649688, 44.07433830634228, 89.09396967592711, 19.995404525201582, 45.92299480326356, 46.87503192752259, 25.881482720804794, 24.16247670623692, 34.25008322272143, 85.43637957112546, 23.829545982995125, 30.998938889296603, 36.69472501192461, 23.67089280493223, 36.66212402260901, 27.10690048409451, 64.40735784579559, 77.25937764403321, 125.11230687209726, 79.33062639673642, 143.93841437475396, 85.32325945332022, 47.428790517793466, 844.375673278152, 521.5076131953374, 268.278583153546, 289.6190147527461, 142.87488752318333, 599.143163258351, 135.81456198667865, 727.9766454824535, 297.7815381440214, 184.47664852174836, 182.48916160550112, 175.59791812134426, 339.4571973935712, 472.59762639569993, 212.96048618052492, 237.84911843228554, 237.23454141791893, 200.9556720549997, 39.55861783836961, 16.78097076453455, 38.50245030879514, 38.51201956004254, 52.08868118329706, 17.918336472173575, 24.54526076181302, 39.46057963010285, 18.94206855575532, 24.74870903529867, 47.11133216531138, 37.12054614385806, 35.501453854614034, 25.676795328741985, 17.869627844682924, 47.86178343470364, 196.24286418201373, 20.691882466354667, 105.31757634865717, 31.57409595806391, 95.55870795274166, 64.93258973226263, 21.712791073317824, 72.31910116449289, 88.76859017449937, 24.86057526271462, 29.45814407561675, 125.11230687209726, 55.31665693212881, 20.445587228912764, 62.75460892039513, 70.37219224926878, 64.97843216512018, 50.30714059931034, 521.5076131953374, 159.0137584268419, 72.37763511330812, 594.9386149715803, 241.3427445257345, 110.15554085597097, 599.143163258351, 844.375673278152, 238.2692460616296, 110.4470297302989, 727.9766454824535, 117.61255890929225, 237.23454141791893, 339.4571973935712, 276.52986070755344, 472.59762639569993, 289.6190147527461, 242.26216217069106, 200.9556720549997, 584.7604382677921, 191.0330442546636, 392.3663081381488, 178.44662680237693, 375.1230889084116, 237.84911843228554, 74.31574394337459, 58.246171596369045, 103.44272013948309, 63.25838728397256, 22.078531851374013, 22.080255393556044, 27.118566030135245, 31.014061537520195, 32.05645046189871, 75.24871502741519, 27.92418776309581, 51.81807179936898, 26.882967686375245, 36.098728898989094, 40.1831962232092, 24.913334075691424, 37.09526581035261, 46.95511652336365, 52.753501240300864, 43.06750011359462, 18.02922847133031, 30.89206865245142, 27.869691969856362, 33.01223600566405, 27.90671045940811, 23.941322822024716, 111.43907161438895, 88.70302475815686, 26.966315787903284, 43.67988912909355, 268.278583153546, 136.30231061985035, 143.93841437475396, 75.41276416505778, 50.6129391470223, 297.7815381440214, 101.0043825963669, 184.47664852174836, 92.61371453087415, 93.88533333592946, 472.59762639569993, 131.09389086676998, 237.84911843228554, 727.9766454824535, 521.5076131953374, 212.96048618052492, 392.3663081381488, 238.2692460616296, 148.751112496215, 844.375673278152, 237.23454141791893, 339.4571973935712, 276.52986070755344, 599.143163258351], \"Category\": [\"Default\", \"Default\", \"Default\", \"Default\", \"Default\", \"Default\", \"Default\", \"Default\", \"Default\", \"Default\", \"Default\", \"Default\", \"Default\", \"Default\", \"Default\", \"Default\", \"Default\", \"Default\", \"Default\", \"Default\", \"Default\", \"Default\", \"Default\", \"Default\", \"Default\", \"Default\", \"Default\", \"Default\", \"Default\", \"Default\", \"Topic1\", \"Topic1\", \"Topic1\", \"Topic1\", \"Topic1\", \"Topic1\", \"Topic1\", \"Topic1\", \"Topic1\", \"Topic1\", \"Topic1\", \"Topic1\", \"Topic1\", \"Topic1\", \"Topic1\", \"Topic1\", \"Topic1\", \"Topic1\", \"Topic1\", \"Topic1\", \"Topic1\", \"Topic1\", \"Topic1\", \"Topic1\", \"Topic1\", \"Topic1\", \"Topic1\", \"Topic1\", \"Topic1\", \"Topic1\", \"Topic1\", \"Topic1\", \"Topic1\", \"Topic1\", \"Topic1\", \"Topic1\", \"Topic1\", \"Topic1\", \"Topic1\", \"Topic1\", \"Topic1\", \"Topic1\", \"Topic1\", \"Topic1\", \"Topic1\", \"Topic1\", \"Topic1\", \"Topic1\", \"Topic1\", \"Topic1\", \"Topic1\", \"Topic1\", \"Topic1\", \"Topic1\", \"Topic1\", \"Topic1\", \"Topic1\", \"Topic1\", \"Topic1\", \"Topic2\", \"Topic2\", \"Topic2\", \"Topic2\", \"Topic2\", \"Topic2\", \"Topic2\", \"Topic2\", \"Topic2\", \"Topic2\", \"Topic2\", \"Topic2\", \"Topic2\", \"Topic2\", \"Topic2\", \"Topic2\", \"Topic2\", \"Topic2\", \"Topic2\", \"Topic2\", \"Topic2\", \"Topic2\", \"Topic2\", \"Topic2\", \"Topic2\", \"Topic2\", \"Topic2\", \"Topic2\", \"Topic2\", \"Topic2\", \"Topic2\", \"Topic2\", \"Topic2\", \"Topic2\", \"Topic2\", \"Topic2\", \"Topic2\", \"Topic2\", \"Topic2\", \"Topic2\", \"Topic2\", \"Topic2\", \"Topic2\", \"Topic2\", \"Topic2\", \"Topic2\", \"Topic2\", \"Topic2\", \"Topic2\", \"Topic2\", \"Topic2\", \"Topic2\", \"Topic2\", \"Topic2\", \"Topic2\", \"Topic2\", \"Topic2\", \"Topic3\", \"Topic3\", \"Topic3\", \"Topic3\", \"Topic3\", \"Topic3\", \"Topic3\", \"Topic3\", \"Topic3\", \"Topic3\", \"Topic3\", \"Topic3\", \"Topic3\", \"Topic3\", \"Topic3\", \"Topic3\", \"Topic3\", \"Topic3\", \"Topic3\", \"Topic3\", \"Topic3\", \"Topic3\", \"Topic3\", \"Topic3\", \"Topic3\", \"Topic3\", \"Topic3\", \"Topic3\", \"Topic3\", \"Topic3\", \"Topic3\", \"Topic3\", \"Topic3\", \"Topic3\", \"Topic3\", \"Topic3\", \"Topic3\", \"Topic3\", \"Topic3\", \"Topic3\", \"Topic3\", \"Topic3\", \"Topic3\", \"Topic3\", \"Topic3\", \"Topic3\", \"Topic3\", \"Topic3\", \"Topic3\", \"Topic3\", \"Topic3\", \"Topic3\", \"Topic4\", \"Topic4\", \"Topic4\", \"Topic4\", \"Topic4\", \"Topic4\", \"Topic4\", \"Topic4\", \"Topic4\", \"Topic4\", \"Topic4\", \"Topic4\", \"Topic4\", \"Topic4\", \"Topic4\", \"Topic4\", \"Topic4\", \"Topic4\", \"Topic4\", \"Topic4\", \"Topic4\", \"Topic4\", \"Topic4\", \"Topic4\", \"Topic4\", \"Topic4\", \"Topic4\", \"Topic4\", \"Topic4\", \"Topic4\", \"Topic4\", \"Topic4\", \"Topic4\", \"Topic4\", \"Topic4\", \"Topic4\", \"Topic4\", \"Topic4\", \"Topic4\", \"Topic4\", \"Topic4\", \"Topic4\", \"Topic4\", \"Topic4\", \"Topic4\", \"Topic4\", \"Topic4\", \"Topic4\", \"Topic4\", \"Topic4\", \"Topic4\", \"Topic4\", \"Topic4\", \"Topic4\", \"Topic5\", \"Topic5\", \"Topic5\", \"Topic5\", \"Topic5\", \"Topic5\", \"Topic5\", \"Topic5\", \"Topic5\", \"Topic5\", \"Topic5\", \"Topic5\", \"Topic5\", \"Topic5\", \"Topic5\", \"Topic5\", \"Topic5\", \"Topic5\", \"Topic5\", \"Topic5\", \"Topic5\", \"Topic5\", \"Topic5\", \"Topic5\", \"Topic5\", \"Topic5\", \"Topic5\", \"Topic5\", \"Topic5\", \"Topic5\", \"Topic5\", \"Topic5\", \"Topic5\", \"Topic5\", \"Topic5\", \"Topic5\", \"Topic5\", \"Topic5\", \"Topic5\", \"Topic5\", \"Topic5\", \"Topic5\", \"Topic5\", \"Topic5\", \"Topic5\", \"Topic5\", \"Topic5\", \"Topic5\", \"Topic5\", \"Topic5\", \"Topic5\", \"Topic5\", \"Topic5\", \"Topic5\", \"Topic5\", \"Topic5\", \"Topic5\", \"Topic5\", \"Topic5\", \"Topic6\", \"Topic6\", \"Topic6\", \"Topic6\", \"Topic6\", \"Topic6\", \"Topic6\", \"Topic6\", \"Topic6\", \"Topic6\", \"Topic6\", \"Topic6\", \"Topic6\", \"Topic6\", \"Topic6\", \"Topic6\", \"Topic6\", \"Topic6\", \"Topic6\", \"Topic6\", \"Topic6\", \"Topic6\", \"Topic6\", \"Topic6\", \"Topic6\", \"Topic6\", \"Topic6\", \"Topic6\", \"Topic6\", \"Topic6\", \"Topic6\", \"Topic6\", \"Topic6\", \"Topic6\", \"Topic6\", \"Topic6\", \"Topic6\", \"Topic6\", \"Topic6\", \"Topic6\", \"Topic6\", \"Topic6\", \"Topic6\", \"Topic6\", \"Topic6\", \"Topic6\", \"Topic6\", \"Topic6\", \"Topic6\", \"Topic6\", \"Topic6\", \"Topic6\", \"Topic6\", \"Topic6\"], \"logprob\": [30.0, 29.0, 28.0, 27.0, 26.0, 25.0, 24.0, 23.0, 22.0, 21.0, 20.0, 19.0, 18.0, 17.0, 16.0, 15.0, 14.0, 13.0, 12.0, 11.0, 10.0, 9.0, 8.0, 7.0, 6.0, 5.0, 4.0, 3.0, 2.0, 1.0, -6.0136, -4.4552, -5.5748, -5.7625, -5.9636, -5.8122, -5.1266, -6.1979, -3.6512, -6.2691, -6.8096, -5.7123, -5.7245, -5.6822, -5.2381, -6.246, -6.4533, -5.2492, -5.9455, -6.2639, -4.2454, -6.3364, -5.6031, -6.2021, -6.8474, -6.4707, -5.9988, -6.4249, -6.065, -6.4053, -4.9373, -4.8123, -5.6934, -5.6283, -4.1694, -5.0028, -4.5346, -5.4439, -5.241, -5.1358, -4.6296, -3.9756, -3.9007, -4.1473, -4.1466, -5.3719, -4.4239, -4.9047, -4.5572, -4.7245, -5.0798, -4.9329, -5.0929, -5.4032, -5.2658, -5.016, -5.3564, -5.2614, -5.3497, -4.3047, -5.5811, -5.4197, -5.4886, -6.5709, -5.8269, -5.9689, -6.1012, -3.0491, -5.7458, -5.4015, -6.2425, -6.2135, -6.4949, -4.7613, -5.1069, -5.6666, -6.4667, -6.7068, -6.2694, -6.1837, -6.1852, -6.6706, -5.2374, -5.9192, -6.7518, -6.5113, -6.7624, -6.4033, -6.7149, -5.3988, -4.7866, -4.024, -3.9199, -4.7762, -5.2435, -5.0737, -4.6616, -5.1345, -5.372, -4.8142, -4.3902, -3.9639, -3.9176, -4.1655, -4.3342, -4.1844, -4.9853, -5.1873, -4.8132, -5.2745, -4.922, -5.2285, -5.0234, -4.9278, -5.1371, -5.2613, -5.4624, -3.2708, -4.9862, -5.7302, -5.3066, -5.262, -5.4619, -5.7417, -6.1316, -5.8978, -6.4786, -5.6084, -6.1498, -5.9164, -3.6704, -4.8615, -5.1275, -5.8839, -5.2287, -5.0398, -6.0515, -5.4941, -5.2303, -6.4118, -5.4098, -5.1627, -5.768, -4.3655, -6.3425, -5.5465, -5.1448, -5.0912, -5.5204, -4.092, -4.0555, -4.9765, -4.8351, -4.2234, -5.0168, -5.0865, -4.5964, -4.7018, -4.6252, -4.9172, -4.7233, -4.9902, -5.2211, -5.249, -5.2362, -5.1505, -5.1465, -5.2341, -4.9704, -5.388, -4.3499, -3.81, -4.2124, -5.1276, -5.8272, -6.1313, -5.5567, -5.6209, -5.5357, -4.7252, -4.7824, -5.8948, -5.538, -4.8502, -6.3696, -5.5492, -5.5348, -6.1348, -6.2233, -5.9107, -4.9987, -6.3031, -6.0633, -5.8984, -6.3402, -5.913, -6.2186, -5.3537, -5.1757, -4.8098, -5.3003, -4.9323, -5.3212, -5.7537, -3.8043, -4.1762, -4.686, -4.6591, -5.1123, -4.3878, -5.1753, -4.4195, -4.9182, -5.0872, -5.0963, -5.1517, -4.9992, -4.9349, -5.1312, -5.2017, -5.2087, -5.2358, -5.2112, -6.2249, -5.4058, -5.4373, -5.1573, -6.3715, -6.0695, -5.6171, -6.3513, -6.0959, -5.4554, -5.6945, -5.7436, -6.1489, -6.5489, -5.5833, -4.1933, -6.4482, -4.8284, -6.0545, -4.9504, -5.3401, -6.4458, -5.2504, -5.0506, -6.3281, -6.2093, -4.7652, -5.5893, -6.5895, -5.4757, -5.4031, -5.4925, -5.7463, -3.9154, -4.8424, -5.4615, -3.8736, -4.5805, -5.1794, -4.0951, -3.885, -4.8028, -5.2319, -4.3518, -5.259, -4.996, -4.865, -5.0158, -4.8717, -5.0286, -5.1033, -5.1557, -4.9846, -5.2102, -5.1168, -5.2439, -5.2178, -5.2355, -4.4474, -4.703, -4.1387, -4.6339, -5.6952, -5.6973, -5.5684, -5.4404, -5.4498, -4.6153, -5.621, -5.008, -5.6937, -5.4076, -5.3145, -5.8368, -5.453, -5.2558, -5.1453, -5.3533, -6.2385, -5.7264, -5.8307, -5.6617, -5.8312, -5.9886, -4.468, -4.7112, -5.9332, -5.4724, -3.742, -4.525, -4.53, -5.0621, -5.3832, -4.1147, -4.9129, -4.5083, -5.0305, -5.042, -4.3417, -4.9375, -4.7063, -4.3551, -4.4962, -4.8244, -4.6139, -4.8274, -4.9786, -4.4921, -4.8813, -4.8442, -4.9554, -5.0138], \"loglift\": [30.0, 29.0, 28.0, 27.0, 26.0, 25.0, 24.0, 23.0, 22.0, 21.0, 20.0, 19.0, 18.0, 17.0, 16.0, 15.0, 14.0, 13.0, 12.0, 11.0, 10.0, 9.0, 8.0, 7.0, 6.0, 5.0, 4.0, 3.0, 2.0, 1.0, 1.4707, 1.4105, 1.312, 1.2703, 1.2545, 1.1982, 1.1791, 1.17, 1.1571, 1.1355, 1.1275, 1.1223, 1.1168, 1.1129, 1.1014, 1.0568, 1.0555, 1.0418, 1.0139, 1.0033, 1.0001, 0.9996, 0.9839, 0.9788, 0.9696, 0.9661, 0.9422, 0.9397, 0.935, 0.9251, 0.9059, 0.8214, 0.8615, 0.8436, 0.5332, 0.6788, 0.4559, 0.7427, 0.6749, 0.6233, 0.4374, 0.1697, 0.0962, 0.1998, 0.1934, 0.6679, 0.0549, 0.3447, 0.0201, 0.0389, 0.3763, -0.0247, 0.171, 0.626, 0.2103, -0.6517, 0.3343, -0.1482, -0.0832, 1.6696, 1.579, 1.539, 1.4229, 1.4219, 1.4151, 1.3902, 1.3281, 1.3153, 1.296, 1.2826, 1.2579, 1.2517, 1.22, 1.2016, 1.1957, 1.1787, 1.1708, 1.1644, 1.1571, 1.1472, 1.1466, 1.144, 1.1281, 1.1204, 1.1201, 1.116, 1.1073, 1.0621, 1.0562, 1.0548, 1.0115, 0.9666, 0.7827, 0.8837, 0.9091, 0.8643, 0.7709, 0.8667, 0.8608, 0.6709, 0.3731, 0.1814, 0.0794, 0.1816, 0.2432, 0.1557, 0.5649, 0.7071, 0.095, 0.6936, 0.1912, 0.6097, 0.0926, -0.449, 0.1122, 0.3456, 1.7199, 1.6966, 1.6904, 1.6765, 1.6062, 1.5878, 1.5401, 1.5352, 1.5188, 1.5159, 1.4942, 1.4617, 1.46, 1.4543, 1.4456, 1.4383, 1.4249, 1.3642, 1.3211, 1.3113, 1.2831, 1.2783, 1.2783, 1.2449, 1.223, 1.2202, 1.1884, 1.1854, 1.1465, 1.1459, 1.088, 0.9746, 1.0418, 0.255, 0.0898, 0.5747, 0.4613, -0.2265, 0.5335, 0.5734, -0.0191, 0.0616, -0.2851, 0.122, -0.359, -0.082, 0.4552, 0.5492, 0.4768, -0.0373, -0.4439, 0.1983, 1.8221, 1.7273, 1.705, 1.691, 1.6306, 1.577, 1.5685, 1.5581, 1.5405, 1.5047, 1.4616, 1.4519, 1.4439, 1.4411, 1.4116, 1.3957, 1.3704, 1.3594, 1.3533, 1.3473, 1.3274, 1.2911, 1.2891, 1.2616, 1.2383, 1.2345, 1.2311, 1.2208, 1.2171, 1.2166, 1.2126, 1.0965, 1.0617, 0.8338, 0.9679, 1.1227, 0.1926, 0.3027, 0.4575, 0.4079, 0.6613, -0.0478, 0.649, -0.2742, 0.121, 0.4309, 0.4326, 0.4156, -0.091, -0.3576, 0.2432, 0.0622, 0.0578, 0.1967, 1.8465, 1.6904, 1.6791, 1.6473, 1.6253, 1.4783, 1.4655, 1.4432, 1.4428, 1.4309, 1.4276, 1.4269, 1.4224, 1.341, 1.3035, 1.284, 1.2629, 1.2576, 1.2502, 1.2287, 1.2254, 1.2221, 1.2118, 1.2041, 1.1989, 1.1942, 1.1432, 1.1411, 1.1332, 1.1283, 1.1206, 1.0787, 1.069, 1.0711, 0.5634, 0.8242, 0.9921, 0.4735, 0.6689, 0.8543, 0.2449, 0.112, 0.4594, 0.7991, -0.2066, 0.7091, 0.2705, 0.0432, 0.0974, -0.2944, 0.0384, 0.1422, 0.2767, -0.6203, 0.2729, -0.3535, 0.3074, -0.4095, 0.0284, 1.9799, 1.9679, 1.9578, 1.9544, 1.9457, 1.9436, 1.8669, 1.8607, 1.8183, 1.7994, 1.7851, 1.7798, 1.7503, 1.7417, 1.7276, 1.6833, 1.669, 1.6305, 1.6246, 1.6195, 1.6051, 1.5786, 1.5773, 1.577, 1.5755, 1.5714, 1.554, 1.539, 1.5078, 1.4863, 1.4015, 1.2957, 1.2361, 1.3505, 1.4281, 0.9245, 1.2075, 1.0098, 1.1766, 1.1514, 0.2356, 0.9222, 0.5576, -0.2098, -0.0174, 0.55, 0.1494, 0.4348, 0.7547, -0.4952, 0.3852, 0.064, 0.1578, -0.6738]}, \"token.table\": {\"Topic\": [1, 2, 3, 4, 5, 1, 2, 3, 4, 5, 6, 1, 2, 5, 1, 2, 4, 6, 1, 3, 4, 5, 1, 2, 3, 4, 1, 5, 1, 2, 3, 4, 5, 6, 1, 2, 3, 4, 5, 6, 1, 2, 3, 4, 5, 6, 2, 3, 4, 5, 6, 1, 2, 3, 5, 6, 1, 2, 3, 4, 5, 6, 4, 6, 1, 2, 3, 4, 5, 6, 1, 2, 3, 4, 5, 6, 1, 2, 3, 4, 5, 6, 2, 4, 6, 1, 2, 3, 4, 5, 1, 2, 3, 4, 5, 1, 2, 3, 4, 5, 1, 2, 5, 6, 1, 2, 3, 5, 1, 3, 5, 1, 2, 3, 4, 1, 3, 4, 5, 6, 3, 4, 5, 6, 1, 2, 4, 6, 1, 2, 3, 4, 5, 6, 1, 2, 3, 5, 1, 4, 6, 1, 3, 4, 5, 1, 2, 4, 6, 1, 2, 3, 4, 5, 6, 1, 2, 3, 4, 5, 6, 1, 2, 4, 6, 1, 2, 3, 4, 1, 2, 3, 4, 5, 1, 2, 3, 4, 5, 1, 2, 3, 1, 2, 3, 5, 1, 2, 3, 4, 5, 6, 1, 2, 3, 4, 5, 6, 1, 2, 4, 1, 2, 3, 4, 5, 6, 1, 2, 3, 5, 6, 1, 2, 3, 4, 5, 6, 1, 3, 4, 5, 1, 2, 4, 5, 6, 1, 3, 1, 2, 4, 5, 6, 1, 2, 5, 1, 3, 1, 2, 3, 1, 2, 4, 5, 6, 1, 2, 6, 1, 2, 3, 4, 5, 6, 1, 2, 3, 5, 1, 2, 3, 4, 5, 6, 3, 4, 6, 1, 4, 6, 1, 2, 3, 1, 4, 5, 6, 1, 2, 3, 4, 6, 2, 3, 4, 5, 6, 1, 2, 3, 4, 5, 6, 3, 4, 5, 6, 1, 2, 3, 4, 5, 1, 2, 3, 4, 5, 6, 1, 2, 3, 4, 5, 6, 1, 2, 4, 6, 1, 2, 4, 5, 6, 1, 2, 3, 4, 5, 6, 1, 2, 3, 4, 5, 6, 1, 2, 4, 5, 6, 1, 2, 3, 4, 6, 1, 2, 3, 4, 5, 6, 1, 2, 5, 6, 1, 2, 5, 6, 1, 2, 3, 5, 2, 3, 4, 5, 1, 2, 3, 4, 5, 6, 1, 2, 3, 4, 5, 1, 2, 3, 4, 5, 1, 2, 4, 5, 2, 3, 4, 5, 1, 2, 3, 4, 5, 6, 2, 5, 6, 1, 2, 3, 4, 5, 2, 3, 4, 6, 1, 2, 3, 4, 5, 6, 1, 2, 3, 4, 5, 2, 3, 4, 6, 1, 2, 5, 6, 1, 2, 3, 5, 1, 2, 4, 5, 6, 1, 2, 4, 5, 6, 1, 2, 3, 4, 6, 1, 2, 3, 4, 5, 6, 1, 3, 5, 1, 2, 3, 4, 5, 6, 1, 2, 3, 4, 6, 4, 6, 1, 3, 5, 1, 2, 3, 4, 6, 1, 2, 6, 2, 3, 4, 5, 1, 2, 3, 4, 1, 3, 4, 6, 1, 2, 3, 4, 5, 6, 1, 2, 3, 4, 5, 6, 1, 2, 3, 4, 5, 6, 1, 2, 3, 4, 1, 2, 3, 4, 5, 6, 5, 6, 1, 2, 4, 1, 2, 3, 4, 5, 6, 1, 2, 3, 4, 1, 2, 3, 4, 5, 6, 1, 2, 3, 4, 5, 1, 2, 3, 4, 6, 1, 2, 3, 4, 6, 1, 2, 4, 6, 1, 2, 3, 4, 5, 6, 1, 2, 3, 4, 5, 1, 2, 3, 5, 1, 2, 3, 4, 5, 6, 1, 2, 3, 4, 6, 1, 2, 3, 4, 5, 1, 2, 3, 5, 1, 2, 3, 4, 5, 6, 1, 2, 3, 5, 2, 3, 4, 6, 1, 2, 3, 4, 5, 6, 1, 2, 3, 4, 5, 6, 2, 3, 4, 6, 1, 3, 6, 1, 2, 3, 4, 5, 6, 2, 3, 4, 1, 2, 3, 4, 5, 6, 1, 2, 3, 5, 1, 2, 4, 5, 2, 4, 6, 1, 2, 3, 4, 5, 6, 2, 3, 5, 6, 1, 2, 4, 5, 6, 1, 2, 3, 4, 5, 6, 1, 2, 5, 4, 1, 2, 3, 4, 5, 6, 1, 2, 3, 5, 1, 2, 3, 4, 5, 6, 1, 4, 5, 1, 2, 3, 5, 1, 2, 3, 4, 5, 6, 3, 4, 5, 1, 2, 3, 4, 4, 5, 6, 1, 4, 5, 1, 2, 3, 4, 5, 1, 2, 3, 4, 5, 1, 2, 4, 5, 6, 1, 2, 3, 4, 5, 6, 1, 2, 3, 5, 6, 1, 2, 3, 4, 5, 6, 1, 2, 3, 4, 6, 1, 3, 2, 3, 4, 5, 6, 1, 2, 3, 4, 5, 6, 1, 2, 3, 4, 5, 1, 2, 3, 4, 1, 2, 3, 4, 5, 6, 2, 4, 5, 6, 1, 2, 3, 4, 5, 6, 1, 2, 3, 4, 5, 6, 1, 3, 5, 1, 2, 3, 4, 5, 6, 1, 2, 3, 4, 5, 6, 4, 6, 6, 1, 2, 3, 4, 6, 1, 2, 3, 4, 5, 6, 2, 4, 6, 1, 2, 3, 4, 5, 6, 1, 5, 2, 4, 5, 6, 1, 3, 4, 5, 6, 1, 2, 3, 4, 5, 1, 2, 3, 5, 1, 2, 3, 4, 1, 2, 3, 4, 5, 6, 1, 2, 3, 4, 5, 6, 1, 3, 5, 1, 2, 3, 4, 5, 1, 2, 3, 4, 5, 1, 2, 3, 4, 5, 6, 1, 2, 3, 4, 5, 6, 1, 2, 4, 1, 2, 4, 5, 6, 1, 3, 4, 5, 6, 2, 3, 4, 6, 1, 2, 3, 4, 5, 6, 2, 3, 1, 2, 3, 4, 5, 6, 1, 2, 3, 1, 2, 4, 6, 1, 2, 4, 5, 6, 1, 2, 4, 5, 6, 1, 2, 3, 4, 5, 3, 6, 1, 2, 3, 4, 5, 6, 2, 4, 6, 1, 3, 4, 5, 6, 1, 2, 3, 4, 5, 6, 1, 3, 4, 5, 1, 2, 3, 4, 5, 6, 1, 2, 3, 4, 5, 6, 1, 2, 3, 5, 2, 3, 4, 6, 1, 2, 3, 4, 5, 6, 1, 2, 4, 5, 6, 1, 2, 3, 4, 5, 6, 1, 2, 3, 5, 6, 1, 2, 3, 4, 5, 6, 1, 2, 5, 6, 1, 4, 5, 6, 1, 4, 5, 6, 1, 2, 3, 4, 5, 6, 1, 2, 3, 4, 5, 6, 1, 2, 3, 4, 5, 1, 2, 3, 4, 5, 1, 2, 3, 4, 5, 6, 2, 4, 6, 1, 2, 3, 4, 5, 6, 1, 2, 3, 4, 1, 2, 6, 1, 2, 4, 6, 1, 2, 4, 5, 1, 2, 3, 4, 5, 6, 1, 2, 3, 4, 1, 2, 3, 4, 1, 2, 3, 5, 3, 4, 1, 2, 4, 5, 6, 1, 2, 3, 4, 6, 1, 2, 3, 4, 5, 6, 1, 2, 4, 5, 1, 2, 3, 4, 5, 6, 2, 3, 4, 5, 6, 1, 3, 5, 6, 1, 3, 5, 1, 2, 3, 4, 5, 4, 6, 2, 3, 4, 6, 1, 2, 3, 4, 5, 6, 2, 5], \"Freq\": [0.1686739196311301, 0.25301087944669515, 0.042168479907782525, 0.484937518939499, 0.06325271986167379, 0.16498105472779706, 0.47342389617541764, 0.29409666277563823, 0.014346178671982351, 0.03586544667995588, 0.014346178671982351, 0.35021036462177624, 0.026939258817059712, 0.5926636939753136, 0.03581124752790787, 0.14324499011163147, 0.03581124752790787, 0.823658693141881, 0.03334447266208112, 0.6002005079174602, 0.26675578129664895, 0.10003341798624335, 0.10776005273174795, 0.5388002636587398, 0.2155201054634959, 0.10776005273174795, 0.549701846218265, 0.41227638466369876, 0.695771621948135, 0.03198949985968437, 0.1039658745439742, 0.06931058302931613, 0.09596849957905311, 0.0026657916549736975, 0.1279999128166377, 0.0853332752110918, 0.02133331880277295, 0.6186662452804155, 0.10666659401386475, 0.0426666376055459, 0.19891846537996175, 0.1779796795504921, 0.14133680434892018, 0.1465715008062876, 0.1884490724652269, 0.1465715008062876, 0.2763348101927446, 0.04605580169879076, 0.1381674050963723, 0.5066138186866984, 0.04605580169879076, 0.04877293862739881, 0.5852752635287857, 0.14631881588219642, 0.04877293862739881, 0.14631881588219642, 0.08405874781041363, 0.1457018295380503, 0.30261149211748906, 0.20734491126568697, 0.1961370782242985, 0.0672469982483309, 0.01345609889557127, 0.9822952193767026, 0.16515002176711452, 0.07972759671515874, 0.18792933511430274, 0.23918279014547622, 0.09681208172554989, 0.2277931334718821, 0.3107613620097981, 0.19474378685947347, 0.11187409032352731, 0.08701318136274347, 0.28175696822221696, 0.02071742413398654, 0.16386462149118872, 0.1521600056703895, 0.07022769492479516, 0.5735261752191605, 0.011704615820799192, 0.03511384746239758, 0.024886024358172266, 0.19908819486537813, 0.7714667551033403, 0.24164065343644206, 0.04832813068728841, 0.04832813068728841, 0.19331252274915364, 0.5316094375601725, 0.012605472128745715, 0.3403477474761343, 0.11344924915871143, 0.45379699663484574, 0.07563283277247429, 0.06235113146371887, 0.16211294180566907, 0.6235113146371887, 0.02494045258548755, 0.12470226292743775, 0.07789775852504491, 0.07789775852504491, 0.7530116657421008, 0.1038636780333932, 0.05693183036440244, 0.512386473279622, 0.22772732145760977, 0.11386366072880488, 0.23005762870516275, 0.5981498346334231, 0.18404610296413018, 0.5909230689078413, 0.22159615084044046, 0.11079807542022023, 0.11079807542022023, 0.5941587209465901, 0.10802885835392546, 0.1620432875308882, 0.05401442917696273, 0.05401442917696273, 0.026578526945893292, 0.06644631736473323, 0.09302484431062652, 0.823934335322692, 0.023219364889125328, 0.09287745955650131, 0.20897428400212795, 0.6733615817846346, 0.2653789774305395, 0.2019550708748131, 0.12684781311145285, 0.1518835656992396, 0.18526456914962194, 0.06843105707328379, 0.5623415446580026, 0.17994929429056084, 0.13496197071792063, 0.08997464714528042, 0.1426254353840108, 0.7606689887147242, 0.09508362358934053, 0.3055182287416921, 0.10183940958056403, 0.10183940958056403, 0.44130410818244414, 0.12903667490957668, 0.03225916872739417, 0.5484058683657009, 0.25807334981915336, 0.11057087776653547, 0.34750847298054005, 0.26063135473540505, 0.07108127856420138, 0.15006047696886957, 0.055285438883267736, 0.0863802951919511, 0.0863802951919511, 0.19435566418189, 0.14036797968692055, 0.04319014759597555, 0.4426990128587494, 0.13508800611305732, 0.019298286587579618, 0.038596573175159236, 0.8105280366783439, 0.5841445718443273, 0.015787691130927768, 0.17366460244020543, 0.20523998470206098, 0.27243992806376427, 0.4130540844837717, 0.27243992806376427, 0.017576769552500923, 0.017576769552500923, 0.03890762949757252, 0.2334457769854351, 0.5447068129660152, 0.11672288849271754, 0.03890762949757252, 0.017543003697871797, 0.43857509244679493, 0.526290110936154, 0.11399917988833656, 0.49399644618279176, 0.15199890651778208, 0.22799835977667313, 0.020957280582145413, 0.05239320145536353, 0.03143592087321812, 0.6811116189197259, 0.10478640291072706, 0.11526504320179977, 0.27030678098445526, 0.187135463758469, 0.1715408417785966, 0.11436056118573107, 0.10396414653248279, 0.15074801247210004, 0.42245977295441645, 0.04224597729544165, 0.5491977048407414, 0.04539036312787507, 0.12709301675805018, 0.1543272346347752, 0.1361710893836252, 0.3358886871462755, 0.19063952513707527, 0.035833675253647564, 0.07166735050729513, 0.035833675253647564, 0.21500205152188537, 0.6450061545656561, 0.29396348601278827, 0.06999130619352102, 0.055993044954816815, 0.30796174725149245, 0.20997391858056305, 0.055993044954816815, 0.6673786298236922, 0.02022359484314219, 0.1820123535882797, 0.12134156905885313, 0.07310536537712212, 0.5482902403284159, 0.14621073075424423, 0.18276341344280528, 0.03655268268856106, 0.21650738824594043, 0.7577758588607915, 0.3210307812342567, 0.010191453372516085, 0.06624444692135456, 0.5095726686258043, 0.09172308035264477, 0.6794578648685877, 0.07152188051248291, 0.21456564153744875, 0.1893578090734193, 0.7574312362936771, 0.020439450643481318, 0.5518651673739956, 0.4087890128696263, 0.42926181252824447, 0.05479938032275461, 0.08219907048413191, 0.2557304415061882, 0.1826646010758487, 0.07330303212481645, 0.6597272891233481, 0.25656061243685757, 0.014673265558777186, 0.05869306223510874, 0.12472275724960609, 0.2787920456167665, 0.02934653111755437, 0.49155439621903574, 0.16867918092739753, 0.41857426378280127, 0.2998740994264845, 0.11245278728493169, 0.3454761686356901, 0.45423718468766655, 0.041585094372814546, 0.06397706826586853, 0.08956789557221595, 0.006397706826586853, 0.031616360863292656, 0.015808180431646328, 0.9484908258987798, 0.09087539539839946, 0.2120425892629321, 0.6664195662549294, 0.07754831447142459, 0.40989823363467276, 0.4985248787448723, 0.6608945058647029, 0.17494266331712724, 0.0777522948076121, 0.0777522948076121, 0.022894492608936157, 0.8013072413127655, 0.06868347782680848, 0.022894492608936157, 0.09157797043574463, 0.04022433066944269, 0.24134598401665616, 0.16089732267777077, 0.4826919680333123, 0.08044866133888538, 0.26066945468898634, 0.06726953669393196, 0.11772168921438093, 0.1681738417348299, 0.14715211151797616, 0.23544337842876187, 0.05580875219934384, 0.16742625659803154, 0.6138962741927823, 0.11161750439868769, 0.06722562250728922, 0.18487046189504536, 0.554611385685136, 0.17926832668610457, 0.016806405626822306, 0.1042112355145613, 0.04168449420582452, 0.006947415700970753, 0.3682130321514499, 0.013894831401941506, 0.46547685196504046, 0.143327999378123, 0.17373090833711877, 0.26928290792253406, 0.14767127208655095, 0.10423854500227125, 0.15635781750340688, 0.026296066392042163, 0.18407246474429514, 0.7362898589771806, 0.026296066392042163, 0.10136698541925535, 0.10136698541925535, 0.025341746354813836, 0.6082019125155321, 0.1267087317740692, 0.595671825755717, 0.09164181934703337, 0.022910454836758343, 0.13746272902055007, 0.09164181934703337, 0.04582090967351669, 0.465445005679057, 0.16925272933783891, 0.021156591167229864, 0.11636125141976425, 0.021156591167229864, 0.2009876160886837, 0.20929542088295036, 0.0627886262648851, 0.13604202357391773, 0.49184423907493335, 0.09418293939732766, 0.15202252347932585, 0.01900281543491573, 0.6080900939173034, 0.09501407717457866, 0.11401689260949438, 0.23100880562210271, 0.046201761124420544, 0.1078041092903146, 0.046201761124420544, 0.49281878532715245, 0.07700293520736758, 0.06474153681648287, 0.032370768408241435, 0.22659537885769004, 0.6474153681648287, 0.07176254413443765, 0.07176254413443765, 0.17940636033609414, 0.645862897209939, 0.3611194885914679, 0.5416792328872019, 0.04513993607393349, 0.04513993607393349, 0.683348498124907, 0.17083712453122674, 0.10250227471873605, 0.034167424906245344, 0.4990033605487411, 0.042597847851721805, 0.042597847851721805, 0.17647679824284745, 0.02434162734384103, 0.21907464609456928, 0.13603989359962718, 0.3486022273490446, 0.08502493349976699, 0.13603989359962718, 0.29758726724918444, 0.1846766627041132, 0.15389721892009434, 0.0461691656760283, 0.20006638459612264, 0.4155224910842547, 0.02763284537922487, 0.4973912168260477, 0.08289853613767462, 0.3868598353091482, 0.22534288406220468, 0.11267144203110234, 0.028167860507775585, 0.5915250706632873, 0.1583576615033064, 0.06334306460132257, 0.12668612920264513, 0.06334306460132257, 0.5067445168105805, 0.09501459690198386, 0.12121844398918546, 0.6060922199459273, 0.24243688797837093, 0.03553888973155265, 0.1421555589262106, 0.710777794631053, 0.0710777794631053, 0.03553888973155265, 0.15736059400339295, 0.7868029700169648, 0.031472118800678586, 0.95107595567616, 0.03799042235096089, 0.6078467576153742, 0.07598084470192178, 0.03799042235096089, 0.15196168940384355, 0.07598084470192178, 0.02175793606866774, 0.18856877926178708, 0.7216382129441468, 0.04714219481544677, 0.01813161339055645, 0.16055659141595593, 0.040139147853988984, 0.040139147853988984, 0.7225046613718017, 0.14858420847530568, 0.1698105239717779, 0.5943368339012227, 0.06367894648941672, 0.20370531193455035, 0.04074106238691007, 0.08148212477382014, 0.6111159358036511, 0.6894408161404659, 0.0344720408070233, 0.0344720408070233, 0.0344720408070233, 0.20683224484213977, 0.66992012633692, 0.06090182966699272, 0.06090182966699272, 0.06090182966699272, 0.12180365933398545, 0.017947026756652926, 0.03589405351330585, 0.008973513378326463, 0.2961259414847733, 0.6371194498611789, 0.301882209096411, 0.08099278780635417, 0.08099278780635417, 0.301882209096411, 0.22088942129005684, 0.007362980709668562, 0.39697643164344504, 0.06268048920685974, 0.5223374100571645, 0.04509429087571416, 0.06764143631357124, 0.04509429087571416, 0.02254714543785708, 0.1916507362217852, 0.6313200722599982, 0.041768786438151795, 0.12530635931445538, 0.041768786438151795, 0.12530635931445538, 0.6683005830104287, 0.017168510351714482, 0.961436579696011, 0.07297849399630453, 0.6130193495689581, 0.30650967478447905, 0.20604447903704576, 0.045787662008232394, 0.022893831004116197, 0.13736298602469718, 0.5952396061070211, 0.03719827407696574, 0.14879309630786297, 0.7811637556162806, 0.23367402057700498, 0.077891340192335, 0.11683701028850249, 0.545239381346345, 0.6350108323770317, 0.07937635404712896, 0.15875270809425793, 0.11906453107069345, 0.7889712402444682, 0.02465535125763963, 0.14793210754583777, 0.02465535125763963, 0.12089399572712489, 0.13096849537105196, 0.1914154932346144, 0.17798282704271165, 0.03358166547975691, 0.34253298789352055, 0.19105100634112956, 0.15152321192572346, 0.2701065951719418, 0.14493524618982243, 0.18446304060522856, 0.059291691623109176, 0.015250634518877664, 0.15250634518877665, 0.7015291878683726, 0.030501269037755328, 0.04575190355663299, 0.061002538075510655, 0.02187902567185688, 0.046883626439693314, 0.9251702284099481, 0.0031255750959795544, 0.08526095050083288, 0.05684063366722192, 0.09947110891763836, 0.02842031683361096, 0.4263047525041644, 0.2842031683361096, 0.1247798786941266, 0.8422641811853545, 0.17105580802682813, 0.5701860267560938, 0.2280744107024375, 0.22553847625440146, 0.3356851739600394, 0.16259750613689408, 0.04720572758813054, 0.08392129349000985, 0.1416171827643916, 0.2327411312731555, 0.5319797286243554, 0.06649746607804442, 0.13299493215608885, 0.19495652512002498, 0.22184708030899394, 0.053781110377937924, 0.16806596993105602, 0.0672263879724224, 0.28907346828141633, 0.03483355273537223, 0.3732166364504168, 0.2090013164122334, 0.19407265095421672, 0.18909642913487784, 0.061154400111153806, 0.18346320033346142, 0.6726984012226919, 0.030577200055576903, 0.061154400111153806, 0.13625936693557889, 0.245266860484042, 0.02725187338711578, 0.5450374677423155, 0.05450374677423156, 0.181207776025636, 0.19415118859889574, 0.5306799155036483, 0.0776604754395583, 0.0448964168343796, 0.0897928336687592, 0.12346514629454391, 0.6397739398899094, 0.0897928336687592, 0.0112241042085949, 0.08264079020432646, 0.08264079020432646, 0.5784855314302852, 0.08264079020432646, 0.16528158040865293, 0.1120090352016504, 0.840067764012378, 0.0280022588004126, 0.0280022588004126, 0.4067012588076855, 0.07230244601025519, 0.1988317265282018, 0.11749147476666469, 0.0994158632641009, 0.0994158632641009, 0.03563964207140244, 0.570234273142439, 0.13067868759514226, 0.023759761380934958, 0.2257177331188821, 0.24633235362421504, 0.30231697944790026, 0.29112005428316323, 0.005598462582368523, 0.15675695230631867, 0.3476144524231752, 0.4294060882874517, 0.21470304414372585, 0.010223954483034564, 0.17780714781569926, 0.0762030633495854, 0.26671072172354887, 0.1524061266991708, 0.11430459502437809, 0.21590867949049197, 0.06439174898413433, 0.7083092388254776, 0.06439174898413433, 0.12878349796826866, 0.10648466813008822, 0.12778160175610587, 0.06389080087805293, 0.6815018760325646, 0.10841480566925063, 0.048786662551162784, 0.20056739048811367, 0.24393331275581392, 0.021682961133850126, 0.3740310795589147, 0.2535151924716611, 0.226352850421126, 0.12675759623583055, 0.00905411401684504, 0.3168939905895764, 0.054324684101070234, 0.18273683841295152, 0.5482105152388546, 0.20557894321457046, 0.04568420960323788, 0.06913605055689719, 0.7259285308474204, 0.20740815167069154, 0.031953872808500906, 0.02130258187233394, 0.2662822734041742, 0.08521032748933575, 0.15976936404250452, 0.42605163744667873, 0.6219815035676136, 0.024879260142704543, 0.32343038185515904, 0.26725446289546245, 0.2067440184663011, 0.21850993821641582, 0.05042537035763442, 0.23195670364511833, 0.02521268517881721, 0.13438620139694848, 0.11518817262595585, 0.01919802877099264, 0.7295250932977203, 0.7715263881330058, 0.05934818370253891, 0.08902227555380836, 0.05934818370253891, 0.09673031687161192, 0.032243438957203975, 0.8705728518445073, 0.1145768345725831, 0.6429983552133021, 0.11799703858967513, 0.03933234619655837, 0.07695459038457073, 0.00855051004273008, 0.7206707679939395, 0.1310310487261708, 0.021838508121028468, 0.10919254060514234, 0.5921871259586534, 0.031167743471508077, 0.15583871735754037, 0.09350323041452423, 0.09350323041452423, 0.26132441022404895, 0.31358929226885873, 0.04479847032412267, 0.20159311645855202, 0.14186182269305514, 0.03733205860343556, 0.12157226350916225, 0.699040515177683, 0.15196532938645282, 0.9888562362428254, 0.37415318523695845, 0.3765516030910415, 0.10792880343373802, 0.03357784995716294, 0.03357784995716294, 0.07435095347657508, 0.2198942450917455, 0.5751080256245651, 0.1945218321965441, 0.008457470965067134, 0.08204093520160997, 0.19924227120390994, 0.14064160320275995, 0.4219248096082799, 0.14064160320275995, 0.011720133600229997, 0.16693036324236593, 0.6677214529694637, 0.13354429059389275, 0.2574503575592915, 0.10298014302371661, 0.5792633045084059, 0.051490071511858304, 0.37334534812023373, 0.04148281645780375, 0.05531042194373833, 0.027655210971869165, 0.4839661920077104, 0.027655210971869165, 0.052792544650365654, 0.31675526790219394, 0.6335105358043879, 0.17872593584225566, 0.536177807526767, 0.22340741980281958, 0.044681483960563914, 0.5794108017240741, 0.08277297167486773, 0.28970540086203705, 0.12986186489169618, 0.0779171189350177, 0.779171189350177, 0.6533278323975823, 0.061634701169583236, 0.061634701169583236, 0.012326940233916648, 0.19723104374266637, 0.8978864866711279, 0.03837121737910803, 0.007674243475821606, 0.03837121737910803, 0.015348486951643212, 0.036890975439511024, 0.036890975439511024, 0.5533646315926654, 0.036890975439511024, 0.3320187789555992, 0.21504920373028008, 0.1885362882018894, 0.15613161366718964, 0.14434809565457157, 0.1502398546608806, 0.14434809565457157, 0.030420935756067226, 0.07605233939016806, 0.6388396508774117, 0.045631403634100835, 0.2129465502924706, 0.2268288539409043, 0.2497666032158272, 0.18095335539105847, 0.08155644186639256, 0.1019455523329907, 0.15801560611613558, 0.015526176409754377, 0.031052352819508754, 0.06210470563901751, 0.5434161743414032, 0.3571020574243507, 0.028631534812995324, 0.9448406488288458, 0.05596087443407772, 0.11192174886815544, 0.05596087443407772, 0.5596087443407772, 0.16788262330223316, 0.1416438075425915, 0.029819748956335056, 0.003727468619541882, 0.24974039750930607, 0.026092280336793172, 0.5516653556921985, 0.05219014844490283, 0.6262817813388339, 0.10438029688980566, 0.05219014844490283, 0.17396716148300942, 0.03422223769553455, 0.9154448583555492, 0.03422223769553455, 0.017111118847767275, 0.1643497374922913, 0.09860984249537477, 0.14556691035031516, 0.2019153917762436, 0.15026261713580918, 0.23478533927470185, 0.07103483264663021, 0.7636244509512748, 0.12431095713160288, 0.03551741632331511, 0.5943974028372688, 0.06604415587080764, 0.1279605519996898, 0.02476655845155287, 0.16511038967701913, 0.02063879870962739, 0.309245868133024, 0.115967200549884, 0.09019671153879867, 0.23837702335253932, 0.21904915659422533, 0.038655733516628, 0.4891030953544185, 0.04891030953544185, 0.44019278581897664, 0.24159862304891255, 0.18712050216533424, 0.13501099523321583, 0.19304203704398407, 0.162250055675005, 0.08290148830109745, 0.17535287969143348, 0.18631243467214806, 0.11507532729750322, 0.24658998706607832, 0.18631243467214806, 0.09315621733607403, 0.11062531833970421, 0.8850025467176337, 0.9511502006277246, 0.1427792892339024, 0.023796548205650397, 0.023796548205650397, 0.6900998979638615, 0.11898274102825199, 0.1856449654776989, 0.039781064030935474, 0.1723846108007204, 0.05304141870791397, 0.013260354676978493, 0.5171538324021612, 0.029197009347311665, 0.5839401869462333, 0.37956112151505167, 0.4276912080049873, 0.1613929086811273, 0.08876609977462001, 0.20981078128546546, 0.08876609977462001, 0.024208936302169092, 0.9681332021314182, 0.03872532808525673, 0.07416660161256335, 0.11124990241884501, 0.18541650403140836, 0.5933328129005068, 0.1361336376350454, 0.0453778792116818, 0.657979248569386, 0.0226889396058409, 0.1588225772408863, 0.1687443636255322, 0.09374686868085122, 0.4499849696680859, 0.09374686868085122, 0.18749373736170244, 0.04571958935796721, 0.04571958935796721, 0.7772330190854426, 0.09143917871593442, 0.023909646672102953, 0.09563858668841181, 0.7890183401793975, 0.09563858668841181, 0.5065595873658577, 0.07035549824525801, 0.04221329894715481, 0.14071099649051602, 0.22513759438482564, 0.014071099649051603, 0.22429228180517258, 0.22006035195979198, 0.1671612288925343, 0.11214614090258629, 0.10791421105720568, 0.1713931587379149, 0.0505578836998727, 0.02527894184993635, 0.9100419065977086, 0.19877893835486826, 0.05963368150646048, 0.09938946917743413, 0.2186568321903551, 0.41743577054522335, 0.5644697539703516, 0.0996123095241797, 0.033204103174726565, 0.1660205158736328, 0.13281641269890626, 0.2618131643391528, 0.1078054206102394, 0.4774240055596316, 0.06160309749156537, 0.046202323118674025, 0.030801548745782684, 0.5198223199921986, 0.0458666752934293, 0.0458666752934293, 0.24462226823162292, 0.10702224235133502, 0.0458666752934293, 0.8096900024348201, 0.14915342150115107, 0.02130763164302158, 0.1425406695496241, 0.007502140502611795, 0.8102311742820738, 0.03000856201044718, 0.007502140502611795, 0.36650694499866515, 0.015935084565159355, 0.1434157610864342, 0.44618236782446197, 0.03187016913031871, 0.026777090466568797, 0.026777090466568797, 0.8836439853967704, 0.053554180933137595, 0.018545259593919616, 0.03709051918783923, 0.04636314898479904, 0.8716272009142221, 0.018545259593919616, 0.009272629796959808, 0.13119973685553418, 0.8527982895609723, 0.07231094975439008, 0.18077737438597521, 0.03615547487719504, 0.21693284926317025, 0.451943435964938, 0.03615547487719504, 0.04390671585559202, 0.2195335792779601, 0.7464141695450643, 0.02482370354694151, 0.5212977744857716, 0.24823703546941508, 0.17376592482859055, 0.1623121866159626, 0.027052031102660436, 0.7033528086691713, 0.0811560933079813, 0.027052031102660436, 0.1540962227917172, 0.03302061916965369, 0.671419256449625, 0.1100687305655123, 0.02201374611310246, 0.19939691671672005, 0.056970547633348585, 0.17091164290004576, 0.056970547633348585, 0.5032398374279126, 0.2773274523616411, 0.6655858856679386, 0.18804479149900216, 0.20974226744119473, 0.16273106956644418, 0.11933611768205907, 0.15911482357607876, 0.15911482357607876, 0.03544222475726615, 0.7797289446598553, 0.17721112378633075, 0.03197644235172332, 0.037305849410343865, 0.8633639434965295, 0.005329407058620552, 0.058623477644826075, 0.28224045953142773, 0.08390932580664068, 0.007628120527876426, 0.14493429002965208, 0.13730616950177565, 0.3432654237544392, 0.5487756752849472, 0.33403736756475044, 0.09543924787564298, 0.023859811968910745, 0.5403126965754509, 0.06753908707193136, 0.045026058047954245, 0.12006948812787799, 0.15759120316783987, 0.06753908707193136, 0.6223311549599732, 0.07045258358037432, 0.11742097263395719, 0.02348419452679144, 0.16438936168754006, 0.01174209726339572, 0.020533386883269524, 0.10266693441634762, 0.821335475330781, 0.020533386883269524, 0.2395314166056582, 0.06532674998336133, 0.609716333178039, 0.06532674998336133, 0.25783932412906924, 0.11319775205666455, 0.207529212103885, 0.03144382001574015, 0.32701572816369756, 0.0628876400314803, 0.19932289597467764, 0.5315277225991404, 0.06644096532489255, 0.16610241331223136, 0.06644096532489255, 0.19150918096797268, 0.04506098375717004, 0.09012196751434008, 0.1013872134536326, 0.48440557538957796, 0.09012196751434008, 0.05940336296076541, 0.23761345184306165, 0.21781233085613985, 0.029701681480382706, 0.45542578269920153, 0.13430184771610446, 0.142695713198361, 0.1552865114217458, 0.1301049149749762, 0.23083130076205455, 0.20984663705641324, 0.25794461106331684, 0.5158892221266337, 0.20635568885065345, 0.05158892221266336, 0.2937529739339236, 0.545541237305858, 0.04196471056198908, 0.12589413168596725, 0.17060478998357895, 0.09478043887976607, 0.03791217555190643, 0.6824191599343158, 0.2320196233735094, 0.10929850026685979, 0.055608008907700596, 0.21476196543663678, 0.2531123164074648, 0.1323087108493566, 0.7149657863647675, 0.07149657863647675, 0.1429931572729535, 0.011916096439412792, 0.04766438575765117, 0.011916096439412792, 0.1485056546007198, 0.41251570722422165, 0.2887609950569551, 0.03300125657793773, 0.11550439802278206, 0.11412116965862569, 0.5135452634638156, 0.22824233931725138, 0.057060584829312845, 0.057060584829312845, 0.43412071021902743, 0.06384128091456286, 0.2106762270180574, 0.178755586560776, 0.08299366518893171, 0.025536512365825142, 0.0808728535694373, 0.18870332499535367, 0.7278556821249357, 0.4070243918939023, 0.0689871850667631, 0.09658205909346834, 0.05518974805341049, 0.08968334058679203, 0.2759487402670524, 0.6459730865264901, 0.12919461730529802, 0.12919461730529802, 0.09689596297897352, 0.039357209091495426, 0.5903581363724314, 0.3148576727319634, 0.11591298815304944, 0.15455065087073258, 0.6182026034829303, 0.07727532543536629, 0.19093274562279045, 0.16365663910524894, 0.5455221303508299, 0.10910442607016596, 0.338375572762944, 0.11048998294300212, 0.11048998294300212, 0.23824402572084832, 0.15192372654662792, 0.05179217950453224, 0.7232644340263117, 0.09643525787017489, 0.02410881446754372, 0.14465288680526234, 0.6718501955806065, 0.1832318715219836, 0.10179548417887978, 0.04071819367155191, 0.36689079486128606, 0.5313590822128971, 0.07590844031612815, 0.012651406719354693, 0.7422069758658956, 0.25593343995375706, 0.13830455448687037, 0.13830455448687037, 0.13830455448687037, 0.019757793498124336, 0.5729760114456058, 0.10002298265480264, 0.05001149132740132, 0.05001149132740132, 0.6501493872562172, 0.10002298265480264, 0.20233141309486577, 0.08430475545619408, 0.16017903536676875, 0.16860951091238816, 0.18968569977643668, 0.19811617532205608, 0.6010359017512943, 0.13356353372250984, 0.03339088343062746, 0.23373618401439222, 0.25962371344309215, 0.20605056622467632, 0.18544550960220868, 0.12088299885181011, 0.11813565796881442, 0.10989363531982738, 0.007992818812159729, 0.04795691287295838, 0.47956912872958374, 0.45559067229310457, 0.007992818812159729, 0.5718528430142953, 0.05718528430142954, 0.20014849505500337, 0.14296321075357382, 0.03583400129962298, 0.8958500324905747, 0.03583400129962298, 0.017267771654672096, 0.017267771654672096, 0.915191897697621, 0.03453554330934419, 0.017267771654672096, 0.02900155753787964, 0.9570513987500282, 0.055403612841780914, 0.027701806420890457, 0.13850903210445228, 0.7756505797849328, 0.1066398936324382, 0.24290197994055368, 0.24290197994055368, 0.13626208630811548, 0.11848877070270912, 0.15403540191352186, 0.11918261631364409, 0.7746870060386866], \"Term\": [\"access\", \"access\", \"access\", \"access\", \"access\", \"accuracy\", \"accuracy\", \"accuracy\", \"accuracy\", \"accuracy\", \"accuracy\", \"action\", \"action\", \"action\", \"active\", \"active\", \"active\", \"active\", \"activity\", \"activity\", \"activity\", \"activity\", \"advance\", \"advance\", \"advance\", \"advance\", \"agent\", \"agent\", \"algorithm\", \"algorithm\", \"algorithm\", \"algorithm\", \"algorithm\", \"algorithm\", \"allow\", \"allow\", \"allow\", \"allow\", \"allow\", \"allow\", \"also\", \"also\", \"also\", \"also\", \"also\", \"also\", \"alternative\", \"alternative\", \"alternative\", \"alternative\", \"alternative\", \"although\", \"although\", \"although\", \"although\", \"although\", \"analysis\", \"analysis\", \"analysis\", \"analysis\", \"analysis\", \"analysis\", \"antenna\", \"antenna\", \"application\", \"application\", \"application\", \"application\", \"application\", \"application\", \"approach\", \"approach\", \"approach\", \"approach\", \"approach\", \"approach\", \"architecture\", \"architecture\", \"architecture\", \"architecture\", \"architecture\", \"architecture\", \"array\", \"array\", \"array\", \"assist\", \"assist\", \"assist\", \"assist\", \"assist\", \"attack\", \"attack\", \"attack\", \"attack\", \"attack\", \"attention\", \"attention\", \"attention\", \"attention\", \"attention\", \"attribute\", \"attribute\", \"attribute\", \"attribute\", \"automatically\", \"automatically\", \"automatically\", \"automatically\", \"autonomous\", \"autonomous\", \"autonomous\", \"aware\", \"aware\", \"aware\", \"aware\", \"balance\", \"balance\", \"balance\", \"balance\", \"balance\", \"band\", \"band\", \"band\", \"band\", \"bandwidth\", \"bandwidth\", \"bandwidth\", \"bandwidth\", \"base\", \"base\", \"base\", \"base\", \"base\", \"base\", \"benchmark\", \"benchmark\", \"benchmark\", \"benchmark\", \"bit\", \"bit\", \"bit\", \"call\", \"call\", \"call\", \"call\", \"capacity\", \"capacity\", \"capacity\", \"capacity\", \"challenge\", \"challenge\", \"challenge\", \"challenge\", \"challenge\", \"challenge\", \"characteristic\", \"characteristic\", \"characteristic\", \"characteristic\", \"characteristic\", \"characteristic\", \"circuit\", \"circuit\", \"circuit\", \"circuit\", \"class\", \"class\", \"class\", \"class\", \"classification\", \"classification\", \"classification\", \"classification\", \"classification\", \"classify\", \"classify\", \"classify\", \"classify\", \"classify\", \"cnn\", \"cnn\", \"cnn\", \"collect\", \"collect\", \"collect\", \"collect\", \"communication\", \"communication\", \"communication\", \"communication\", \"communication\", \"communication\", \"compare\", \"compare\", \"compare\", \"compare\", \"compare\", \"compare\", \"computation\", \"computation\", \"computation\", \"condition\", \"condition\", \"condition\", \"condition\", \"condition\", \"condition\", \"configuration\", \"configuration\", \"configuration\", \"configuration\", \"configuration\", \"consider\", \"consider\", \"consider\", \"consider\", \"consider\", \"consider\", \"consumption\", \"consumption\", \"consumption\", \"consumption\", \"content\", \"content\", \"content\", \"content\", \"content\", \"contrast\", \"contrast\", \"control\", \"control\", \"control\", \"control\", \"control\", \"convergence\", \"convergence\", \"convergence\", \"convert\", \"convert\", \"convolutional\", \"convolutional\", \"convolutional\", \"cost\", \"cost\", \"cost\", \"cost\", \"cost\", \"cross\", \"cross\", \"cross\", \"current\", \"current\", \"current\", \"current\", \"current\", \"current\", \"dataset\", \"dataset\", \"dataset\", \"dataset\", \"datum\", \"datum\", \"datum\", \"datum\", \"datum\", \"datum\", \"db\", \"db\", \"db\", \"dc\", \"dc\", \"dc\", \"deep\", \"deep\", \"deep\", \"delay\", \"delay\", \"delay\", \"delay\", \"depth\", \"depth\", \"depth\", \"depth\", \"depth\", \"describe\", \"describe\", \"describe\", \"describe\", \"describe\", \"design\", \"design\", \"design\", \"design\", \"design\", \"design\", \"desire\", \"desire\", \"desire\", \"desire\", \"detection\", \"detection\", \"detection\", \"detection\", \"detection\", \"device\", \"device\", \"device\", \"device\", \"device\", \"device\", \"different\", \"different\", \"different\", \"different\", \"different\", \"different\", \"digital\", \"digital\", \"digital\", \"digital\", \"distance\", \"distance\", \"distance\", \"distance\", \"distance\", \"distribute\", \"distribute\", \"distribute\", \"distribute\", \"distribute\", \"distribute\", \"distribution\", \"distribution\", \"distribution\", \"distribution\", \"distribution\", \"distribution\", \"dynamic\", \"dynamic\", \"dynamic\", \"dynamic\", \"dynamic\", \"edge\", \"edge\", \"edge\", \"edge\", \"edge\", \"effectiveness\", \"effectiveness\", \"effectiveness\", \"effectiveness\", \"effectiveness\", \"effectiveness\", \"electric\", \"electric\", \"electric\", \"electric\", \"electrical\", \"electrical\", \"electrical\", \"electrical\", \"encode\", \"encode\", \"encode\", \"encode\", \"encoder\", \"encoder\", \"encoder\", \"encoder\", \"energy\", \"energy\", \"energy\", \"energy\", \"energy\", \"energy\", \"error\", \"error\", \"error\", \"error\", \"error\", \"estimate\", \"estimate\", \"estimate\", \"estimate\", \"estimate\", \"estimation\", \"estimation\", \"estimation\", \"estimation\", \"event\", \"event\", \"event\", \"event\", \"example\", \"example\", \"example\", \"example\", \"example\", \"example\", \"extend\", \"extend\", \"extend\", \"extract\", \"extract\", \"extract\", \"extract\", \"extract\", \"extraction\", \"extraction\", \"extraction\", \"fabricate\", \"face\", \"face\", \"face\", \"face\", \"face\", \"face\", \"feature\", \"feature\", \"feature\", \"feature\", \"feature\", \"feed\", \"feed\", \"feed\", \"feed\", \"feedback\", \"feedback\", \"feedback\", \"feedback\", \"finite\", \"finite\", \"finite\", \"finite\", \"fix\", \"fix\", \"fix\", \"fix\", \"fix\", \"formulate\", \"formulate\", \"formulate\", \"formulate\", \"formulate\", \"frequency\", \"frequency\", \"frequency\", \"frequency\", \"frequency\", \"function\", \"function\", \"function\", \"function\", \"function\", \"function\", \"fuzzy\", \"fuzzy\", \"fuzzy\", \"gain\", \"gain\", \"gain\", \"gain\", \"gain\", \"gain\", \"gate\", \"gate\", \"gate\", \"gate\", \"gate\", \"ghz\", \"ghz\", \"graph\", \"graph\", \"graph\", \"grid\", \"grid\", \"grid\", \"grid\", \"grid\", \"ground\", \"ground\", \"ground\", \"guarantee\", \"guarantee\", \"guarantee\", \"guarantee\", \"handle\", \"handle\", \"handle\", \"handle\", \"hardware\", \"hardware\", \"hardware\", \"hardware\", \"high\", \"high\", \"high\", \"high\", \"high\", \"high\", \"however\", \"however\", \"however\", \"however\", \"however\", \"however\", \"human\", \"human\", \"human\", \"human\", \"human\", \"human\", \"image\", \"image\", \"image\", \"image\", \"impact\", \"impact\", \"impact\", \"impact\", \"impact\", \"impact\", \"impedance\", \"impedance\", \"importance\", \"importance\", \"importance\", \"improve\", \"improve\", \"improve\", \"improve\", \"improve\", \"improve\", \"incorporate\", \"incorporate\", \"incorporate\", \"incorporate\", \"increase\", \"increase\", \"increase\", \"increase\", \"increase\", \"increase\", \"information\", \"information\", \"information\", \"information\", \"information\", \"interaction\", \"interaction\", \"interaction\", \"interaction\", \"interaction\", \"internet\", \"internet\", \"internet\", \"internet\", \"internet\", \"iot\", \"iot\", \"iot\", \"iot\", \"key\", \"key\", \"key\", \"key\", \"key\", \"key\", \"knowledge\", \"knowledge\", \"knowledge\", \"knowledge\", \"knowledge\", \"label\", \"label\", \"label\", \"label\", \"large\", \"large\", \"large\", \"large\", \"large\", \"large\", \"layer\", \"layer\", \"layer\", \"layer\", \"layer\", \"learn\", \"learn\", \"learn\", \"learn\", \"learn\", \"learning\", \"learning\", \"learning\", \"learning\", \"level\", \"level\", \"level\", \"level\", \"level\", \"level\", \"leverage\", \"leverage\", \"leverage\", \"leverage\", \"line\", \"line\", \"line\", \"line\", \"low\", \"low\", \"low\", \"low\", \"low\", \"low\", \"make\", \"make\", \"make\", \"make\", \"make\", \"make\", \"map\", \"map\", \"map\", \"map\", \"match\", \"match\", \"match\", \"measure\", \"measure\", \"measure\", \"measure\", \"measure\", \"measure\", \"memory\", \"memory\", \"memory\", \"method\", \"method\", \"method\", \"method\", \"method\", \"method\", \"metric\", \"metric\", \"metric\", \"metric\", \"minimize\", \"minimize\", \"minimize\", \"minimize\", \"mm\", \"mm\", \"mm\", \"model\", \"model\", \"model\", \"model\", \"model\", \"model\", \"module\", \"module\", \"module\", \"module\", \"move\", \"move\", \"move\", \"move\", \"move\", \"multi\", \"multi\", \"multi\", \"multi\", \"multi\", \"multi\", \"name\", \"name\", \"name\", \"nan\", \"network\", \"network\", \"network\", \"network\", \"network\", \"network\", \"neural\", \"neural\", \"neural\", \"neural\", \"non\", \"non\", \"non\", \"non\", \"non\", \"non\", \"nonlinear\", \"nonlinear\", \"nonlinear\", \"object\", \"object\", \"object\", \"object\", \"objective\", \"objective\", \"objective\", \"objective\", \"objective\", \"objective\", \"occur\", \"occur\", \"occur\", \"often\", \"often\", \"often\", \"often\", \"operating\", \"operating\", \"operating\", \"operator\", \"operator\", \"operator\", \"optimal\", \"optimal\", \"optimal\", \"optimal\", \"optimal\", \"optimization\", \"optimization\", \"optimization\", \"optimization\", \"optimization\", \"overhead\", \"overhead\", \"overhead\", \"overhead\", \"overhead\", \"paper\", \"paper\", \"paper\", \"paper\", \"paper\", \"paper\", \"pattern\", \"pattern\", \"pattern\", \"pattern\", \"pattern\", \"performance\", \"performance\", \"performance\", \"performance\", \"performance\", \"performance\", \"phase\", \"phase\", \"phase\", \"phase\", \"phase\", \"pixel\", \"pixel\", \"positive\", \"positive\", \"positive\", \"positive\", \"positive\", \"power\", \"power\", \"power\", \"power\", \"power\", \"power\", \"predict\", \"predict\", \"predict\", \"predict\", \"predict\", \"prediction\", \"prediction\", \"prediction\", \"prediction\", \"present\", \"present\", \"present\", \"present\", \"present\", \"present\", \"privacy\", \"privacy\", \"privacy\", \"privacy\", \"problem\", \"problem\", \"problem\", \"problem\", \"problem\", \"problem\", \"process\", \"process\", \"process\", \"process\", \"process\", \"process\", \"programming\", \"programming\", \"programming\", \"propose\", \"propose\", \"propose\", \"propose\", \"propose\", \"propose\", \"provide\", \"provide\", \"provide\", \"provide\", \"provide\", \"provide\", \"pulse\", \"pulse\", \"radiation\", \"radio\", \"radio\", \"radio\", \"radio\", \"radio\", \"range\", \"range\", \"range\", \"range\", \"range\", \"range\", \"ratio\", \"ratio\", \"ratio\", \"real\", \"real\", \"real\", \"real\", \"real\", \"real\", \"reinforcement\", \"reinforcement\", \"reliability\", \"reliability\", \"reliability\", \"reliability\", \"requirement\", \"requirement\", \"requirement\", \"requirement\", \"requirement\", \"research\", \"research\", \"research\", \"research\", \"research\", \"researcher\", \"researcher\", \"researcher\", \"researcher\", \"resolution\", \"resolution\", \"resolution\", \"resolution\", \"resource\", \"resource\", \"resource\", \"resource\", \"resource\", \"resource\", \"result\", \"result\", \"result\", \"result\", \"result\", \"result\", \"robot\", \"robot\", \"robot\", \"role\", \"role\", \"role\", \"role\", \"role\", \"run\", \"run\", \"run\", \"run\", \"run\", \"scale\", \"scale\", \"scale\", \"scale\", \"scale\", \"scale\", \"scenario\", \"scenario\", \"scenario\", \"scenario\", \"scenario\", \"scenario\", \"scheduling\", \"scheduling\", \"scheduling\", \"scheme\", \"scheme\", \"scheme\", \"scheme\", \"scheme\", \"search\", \"search\", \"search\", \"search\", \"search\", \"secure\", \"secure\", \"secure\", \"secure\", \"security\", \"security\", \"security\", \"security\", \"security\", \"security\", \"segmentation\", \"segmentation\", \"selection\", \"selection\", \"selection\", \"selection\", \"selection\", \"selection\", \"semantic\", \"semantic\", \"semantic\", \"sense\", \"sense\", \"sense\", \"sense\", \"server\", \"server\", \"server\", \"server\", \"server\", \"service\", \"service\", \"service\", \"service\", \"service\", \"set\", \"set\", \"set\", \"set\", \"set\", \"shape\", \"shape\", \"show\", \"show\", \"show\", \"show\", \"show\", \"show\", \"side\", \"side\", \"side\", \"signal\", \"signal\", \"signal\", \"signal\", \"signal\", \"simulation\", \"simulation\", \"simulation\", \"simulation\", \"simulation\", \"simulation\", \"software\", \"software\", \"software\", \"software\", \"solution\", \"solution\", \"solution\", \"solution\", \"solution\", \"solution\", \"solve\", \"solve\", \"solve\", \"solve\", \"solve\", \"solve\", \"spatial\", \"spatial\", \"spatial\", \"spatial\", \"spectrum\", \"spectrum\", \"spectrum\", \"spectrum\", \"state\", \"state\", \"state\", \"state\", \"state\", \"state\", \"step\", \"step\", \"step\", \"step\", \"step\", \"strategy\", \"strategy\", \"strategy\", \"strategy\", \"strategy\", \"strategy\", \"structure\", \"structure\", \"structure\", \"structure\", \"structure\", \"study\", \"study\", \"study\", \"study\", \"study\", \"study\", \"superior\", \"superior\", \"superior\", \"superior\", \"supply\", \"supply\", \"supply\", \"supply\", \"switch\", \"switch\", \"switch\", \"switch\", \"system\", \"system\", \"system\", \"system\", \"system\", \"system\", \"target\", \"target\", \"target\", \"target\", \"target\", \"target\", \"task\", \"task\", \"task\", \"task\", \"task\", \"technical\", \"technical\", \"technical\", \"technical\", \"technical\", \"technique\", \"technique\", \"technique\", \"technique\", \"technique\", \"technique\", \"temperature\", \"temperature\", \"temperature\", \"test\", \"test\", \"test\", \"test\", \"test\", \"test\", \"testing\", \"testing\", \"testing\", \"testing\", \"text\", \"text\", \"text\", \"thing\", \"thing\", \"thing\", \"thing\", \"throughput\", \"throughput\", \"throughput\", \"throughput\", \"time\", \"time\", \"time\", \"time\", \"time\", \"time\", \"track\", \"track\", \"track\", \"track\", \"traffic\", \"traffic\", \"traffic\", \"traffic\", \"training\", \"training\", \"training\", \"training\", \"transform\", \"transform\", \"transmission\", \"transmission\", \"transmission\", \"transmission\", \"transmission\", \"transmit\", \"transmit\", \"transmit\", \"transmit\", \"transmit\", \"two\", \"two\", \"two\", \"two\", \"two\", \"two\", \"uncertainty\", \"uncertainty\", \"uncertainty\", \"uncertainty\", \"use\", \"use\", \"use\", \"use\", \"use\", \"use\", \"user\", \"user\", \"user\", \"user\", \"user\", \"variable\", \"variable\", \"variable\", \"variable\", \"vision\", \"vision\", \"vision\", \"visual\", \"visual\", \"visual\", \"visual\", \"visual\", \"voltage\", \"voltage\", \"wave\", \"wave\", \"wave\", \"wave\", \"well\", \"well\", \"well\", \"well\", \"well\", \"well\", \"whether\", \"whether\"]}, \"R\": 30, \"lambda.step\": 0.01, \"plot.opts\": {\"xlab\": \"PC1\", \"ylab\": \"PC2\"}, \"topic.order\": [3, 4, 1, 6, 2, 5]};\n",
       "\n",
       "function LDAvis_load_lib(url, callback){\n",
       "  var s = document.createElement('script');\n",
       "  s.src = url;\n",
       "  s.async = true;\n",
       "  s.onreadystatechange = s.onload = callback;\n",
       "  s.onerror = function(){console.warn(\"failed to load library \" + url);};\n",
       "  document.getElementsByTagName(\"head\")[0].appendChild(s);\n",
       "}\n",
       "\n",
       "if(typeof(LDAvis) !== \"undefined\"){\n",
       "   // already loaded: just create the visualization\n",
       "   !function(LDAvis){\n",
       "       new LDAvis(\"#\" + \"ldavis_el241340406060301122704742320\", ldavis_el241340406060301122704742320_data);\n",
       "   }(LDAvis);\n",
       "}else if(typeof define === \"function\" && define.amd){\n",
       "   // require.js is available: use it to load d3/LDAvis\n",
       "   require.config({paths: {d3: \"https://d3js.org/d3.v5\"}});\n",
       "   require([\"d3\"], function(d3){\n",
       "      window.d3 = d3;\n",
       "      LDAvis_load_lib(\"https://cdn.jsdelivr.net/gh/bmabey/pyLDAvis@3.4.0/pyLDAvis/js/ldavis.v3.0.0.js\", function(){\n",
       "        new LDAvis(\"#\" + \"ldavis_el241340406060301122704742320\", ldavis_el241340406060301122704742320_data);\n",
       "      });\n",
       "    });\n",
       "}else{\n",
       "    // require.js not available: dynamically load d3 & LDAvis\n",
       "    LDAvis_load_lib(\"https://d3js.org/d3.v5.js\", function(){\n",
       "         LDAvis_load_lib(\"https://cdn.jsdelivr.net/gh/bmabey/pyLDAvis@3.4.0/pyLDAvis/js/ldavis.v3.0.0.js\", function(){\n",
       "                 new LDAvis(\"#\" + \"ldavis_el241340406060301122704742320\", ldavis_el241340406060301122704742320_data);\n",
       "            })\n",
       "         });\n",
       "}\n",
       "</script>"
      ],
      "text/plain": [
       "PreparedData(topic_coordinates=              x         y  topics  cluster       Freq\n",
       "topic                                                \n",
       "2     -0.035112 -0.041420       1        1  21.906346\n",
       "3     -0.068377  0.044333       2        1  17.235967\n",
       "0     -0.076692  0.092465       3        1  16.965101\n",
       "5      0.042690 -0.049272       4        1  15.897003\n",
       "1     -0.043917 -0.084925       5        1  14.453950\n",
       "4      0.181408  0.038819       6        1  13.541632, topic_info=        Term        Freq       Total Category  logprob  loglift\n",
       "60     image  319.000000  319.000000  Default  30.0000  30.0000\n",
       "171    model  584.000000  584.000000  Default  29.0000  29.0000\n",
       "331  feature  275.000000  275.000000  Default  28.0000  28.0000\n",
       "294   signal  187.000000  187.000000  Default  27.0000  27.0000\n",
       "200    power  268.000000  268.000000  Default  26.0000  26.0000\n",
       "..       ...         ...         ...      ...      ...      ...\n",
       "81   propose   69.688510  844.375673   Topic6  -4.4921  -0.4952\n",
       "180      two   47.220109  237.234541   Topic6  -4.8813   0.3852\n",
       "174    paper   49.004638  339.457197   Topic6  -4.8442   0.0640\n",
       "140     show   43.847044  276.529861   Topic6  -4.9554   0.1578\n",
       "45      base   41.359434  599.143163   Topic6  -5.0138  -0.6738\n",
       "\n",
       "[365 rows x 6 columns], token_table=      Topic      Freq     Term\n",
       "term                          \n",
       "464       1  0.168674   access\n",
       "464       2  0.253011   access\n",
       "464       3  0.042168   access\n",
       "464       4  0.484938   access\n",
       "464       5  0.063253   access\n",
       "...     ...       ...      ...\n",
       "182       4  0.136262     well\n",
       "182       5  0.118489     well\n",
       "182       6  0.154035     well\n",
       "406       2  0.119183  whether\n",
       "406       5  0.774687  whether\n",
       "\n",
       "[1171 rows x 3 columns], R=30, lambda_step=0.01, plot_opts={'xlab': 'PC1', 'ylab': 'PC2'}, topic_order=[3, 4, 1, 6, 2, 5])"
      ]
     },
     "execution_count": 8,
     "metadata": {},
     "output_type": "execute_result"
    }
   ],
   "source": [
    "pyLDAvis.enable_notebook()\n",
    "LDAvis_data_filepath = os.path.join('/kaggle/working/ldavis.html')\n",
    "\n",
    "if 1 == 1:\n",
    "    LDAvis_prepared = pyLDAvis.gensim.prepare(lda_model, corpus, id2word)\n",
    "    with open(LDAvis_data_filepath, 'wb') as f:\n",
    "        pickle.dump(LDAvis_prepared, f)\n",
    "\n",
    "with open(LDAvis_data_filepath, 'rb') as f:\n",
    "    LDAvis_prepared = pickle.load(f)\n",
    "pyLDAvis.save_html(LDAvis_prepared, '/kaggle/working/ldavis.html')\n",
    "LDAvis_prepared"
   ]
  },
  {
   "cell_type": "markdown",
   "id": "7dfd3b94",
   "metadata": {
    "papermill": {
     "duration": 0.006621,
     "end_time": "2024-05-24T13:10:31.761109",
     "exception": false,
     "start_time": "2024-05-24T13:10:31.754488",
     "status": "completed"
    },
    "tags": []
   },
   "source": [
    "# <span style=\"color:#e74c3c;\"> LDA </span> Evaluation"
   ]
  },
  {
   "cell_type": "code",
   "execution_count": 9,
   "id": "c68572c7",
   "metadata": {
    "execution": {
     "iopub.execute_input": "2024-05-24T13:10:31.774175Z",
     "iopub.status.busy": "2024-05-24T13:10:31.773855Z",
     "iopub.status.idle": "2024-05-24T13:10:32.928120Z",
     "shell.execute_reply": "2024-05-24T13:10:32.926997Z"
    },
    "papermill": {
     "duration": 1.163504,
     "end_time": "2024-05-24T13:10:32.930452",
     "exception": false,
     "start_time": "2024-05-24T13:10:31.766948",
     "status": "completed"
    },
    "tags": []
   },
   "outputs": [
    {
     "name": "stdout",
     "output_type": "stream",
     "text": [
      "Coherence Score \t:0.3914806\n"
     ]
    }
   ],
   "source": [
    "# creating CoherenceModel\n",
    "coherence_model_lda = CoherenceModel(model=lda_model, texts=nested_document_tokens, dictionary=id2word, coherence='c_v')\n",
    "coherence_lda = coherence_model_lda.get_coherence()\n",
    "\n",
    "print(\"Coherence Score \\t:{0:.7f}\".format(coherence_lda))"
   ]
  }
 ],
 "metadata": {
  "kaggle": {
   "accelerator": "gpu",
   "dataSources": [
    {
     "datasetId": 5070479,
     "sourceId": 8497287,
     "sourceType": "datasetVersion"
    }
   ],
   "dockerImageVersionId": 30699,
   "isGpuEnabled": true,
   "isInternetEnabled": true,
   "language": "python",
   "sourceType": "notebook"
  },
  "kernelspec": {
   "display_name": "Python 3",
   "language": "python",
   "name": "python3"
  },
  "language_info": {
   "codemirror_mode": {
    "name": "ipython",
    "version": 3
   },
   "file_extension": ".py",
   "mimetype": "text/x-python",
   "name": "python",
   "nbconvert_exporter": "python",
   "pygments_lexer": "ipython3",
   "version": "3.10.13"
  },
  "papermill": {
   "default_parameters": {},
   "duration": 68.74915,
   "end_time": "2024-05-24T13:10:35.557120",
   "environment_variables": {},
   "exception": null,
   "input_path": "__notebook__.ipynb",
   "output_path": "__notebook__.ipynb",
   "parameters": {},
   "start_time": "2024-05-24T13:09:26.807970",
   "version": "2.5.0"
  }
 },
 "nbformat": 4,
 "nbformat_minor": 5
}
