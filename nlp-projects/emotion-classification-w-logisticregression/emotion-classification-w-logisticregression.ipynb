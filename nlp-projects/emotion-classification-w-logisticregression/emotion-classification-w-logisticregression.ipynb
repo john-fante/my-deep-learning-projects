{
 "cells": [
  {
   "cell_type": "markdown",
   "id": "348f7101",
   "metadata": {
    "papermill": {
     "duration": 0.004746,
     "end_time": "2024-03-13T13:40:41.466733",
     "exception": false,
     "start_time": "2024-03-13T13:40:41.461987",
     "status": "completed"
    },
    "tags": []
   },
   "source": [
    "*I tried to predict an emotion with LogisticRegression.*\n",
    "\n",
    "* Dropped duplicate samples (original data size <b>839555</b>, after dropped <b>393822</b>),\n",
    "* I applied several <b>preprocessing</b> operations (cleaning,dropping stop words),\n",
    "* I tried a hybrid model <b>(SentenceTransformer + PCA + CatBoostClassifier)</b>, the model produce nearly 0.9 F1 score. \n",
    "\n",
    "\n",
    "<i> <b>Result: </b> <span style=\"color:#e74c3c;\">I checked target leakage for an overfitting issue by calculating cosine similarities between train samples and test samples, but there was no considerable leakage (generally, at most cosine similarity is nearly 80-90% for only 4-5 samples). </span> </i>\n",
    "\n",
    "\n",
    "## My Another Projects\n",
    "* [Towards Data Science Articles Topic Modeling w/LDA](https://www.kaggle.com/code/banddaniel/towards-data-science-articles-topic-modeling-w-lda)\n",
    "* [Rating Prediction w/SentenceTransformer, CatBoost](https://www.kaggle.com/code/banddaniel/rating-prediction-w-sentencetransformer-catboost)\n"
   ]
  },
  {
   "cell_type": "code",
   "execution_count": 1,
   "id": "ae94645c",
   "metadata": {
    "_kg_hide-output": true,
    "execution": {
     "iopub.execute_input": "2024-03-13T13:40:41.476842Z",
     "iopub.status.busy": "2024-03-13T13:40:41.476481Z",
     "iopub.status.idle": "2024-03-13T13:40:43.824551Z",
     "shell.execute_reply": "2024-03-13T13:40:43.823567Z"
    },
    "papermill": {
     "duration": 2.355839,
     "end_time": "2024-03-13T13:40:43.826979",
     "exception": false,
     "start_time": "2024-03-13T13:40:41.471140",
     "status": "completed"
    },
    "tags": []
   },
   "outputs": [],
   "source": [
    "import os\n",
    "import pandas as pd\n",
    "import numpy as np\n",
    "import re\n",
    "import nltk\n",
    "from nltk.corpus import  stopwords\n",
    "import string\n",
    "import matplotlib.pyplot as plt\n",
    "\n",
    "from sklearn.model_selection import train_test_split\n",
    "from sklearn.metrics import mean_squared_error, classification_report, confusion_matrix, f1_score, accuracy_score, ConfusionMatrixDisplay\n",
    "from sklearn.preprocessing import LabelEncoder\n",
    "from sklearn.feature_extraction.text import TfidfVectorizer\n",
    "from sklearn.pipeline import make_pipeline\n",
    "from sklearn.linear_model import LogisticRegression\n",
    "\n",
    "SEED = 99"
   ]
  },
  {
   "cell_type": "markdown",
   "id": "9fa6da8d",
   "metadata": {
    "papermill": {
     "duration": 0.00411,
     "end_time": "2024-03-13T13:40:43.836129",
     "exception": false,
     "start_time": "2024-03-13T13:40:43.832019",
     "status": "completed"
    },
    "tags": []
   },
   "source": [
    "# <span style=\"color:#e74c3c;\"> Reading </span> Data"
   ]
  },
  {
   "cell_type": "code",
   "execution_count": 2,
   "id": "b372dadb",
   "metadata": {
    "execution": {
     "iopub.execute_input": "2024-03-13T13:40:43.845870Z",
     "iopub.status.busy": "2024-03-13T13:40:43.845367Z",
     "iopub.status.idle": "2024-03-13T13:40:46.489951Z",
     "shell.execute_reply": "2024-03-13T13:40:46.489052Z"
    },
    "papermill": {
     "duration": 2.651685,
     "end_time": "2024-03-13T13:40:46.492012",
     "exception": false,
     "start_time": "2024-03-13T13:40:43.840327",
     "status": "completed"
    },
    "tags": []
   },
   "outputs": [
    {
     "data": {
      "text/html": [
       "<div>\n",
       "<style scoped>\n",
       "    .dataframe tbody tr th:only-of-type {\n",
       "        vertical-align: middle;\n",
       "    }\n",
       "\n",
       "    .dataframe tbody tr th {\n",
       "        vertical-align: top;\n",
       "    }\n",
       "\n",
       "    .dataframe thead th {\n",
       "        text-align: right;\n",
       "    }\n",
       "</style>\n",
       "<table border=\"1\" class=\"dataframe\">\n",
       "  <thead>\n",
       "    <tr style=\"text-align: right;\">\n",
       "      <th></th>\n",
       "      <th>text</th>\n",
       "      <th>Emotion</th>\n",
       "    </tr>\n",
       "  </thead>\n",
       "  <tbody>\n",
       "    <tr>\n",
       "      <th>0</th>\n",
       "      <td>i seriously hate one subject to death but now ...</td>\n",
       "      <td>hate</td>\n",
       "    </tr>\n",
       "    <tr>\n",
       "      <th>1</th>\n",
       "      <td>im so full of life i feel appalled</td>\n",
       "      <td>neutral</td>\n",
       "    </tr>\n",
       "    <tr>\n",
       "      <th>2</th>\n",
       "      <td>i sit here to write i start to dig out my feel...</td>\n",
       "      <td>neutral</td>\n",
       "    </tr>\n",
       "    <tr>\n",
       "      <th>3</th>\n",
       "      <td>ive been really angry with r and i feel like a...</td>\n",
       "      <td>anger</td>\n",
       "    </tr>\n",
       "    <tr>\n",
       "      <th>4</th>\n",
       "      <td>i feel suspicious if there is no one outside l...</td>\n",
       "      <td>neutral</td>\n",
       "    </tr>\n",
       "  </tbody>\n",
       "</table>\n",
       "</div>"
      ],
      "text/plain": [
       "                                                text  Emotion\n",
       "0  i seriously hate one subject to death but now ...     hate\n",
       "1                 im so full of life i feel appalled  neutral\n",
       "2  i sit here to write i start to dig out my feel...  neutral\n",
       "3  ive been really angry with r and i feel like a...    anger\n",
       "4  i feel suspicious if there is no one outside l...  neutral"
      ]
     },
     "execution_count": 2,
     "metadata": {},
     "output_type": "execute_result"
    }
   ],
   "source": [
    "data = pd.read_csv('/kaggle/input/emotion-analysis-based-on-text/emotion_sentimen_dataset.csv')\n",
    "data = data.drop_duplicates(subset = ['text'], keep = 'first').reset_index(drop = True)\n",
    "data.drop(['Unnamed: 0'], axis = 1, inplace = True)\n",
    "data.head()"
   ]
  },
  {
   "cell_type": "markdown",
   "id": "52e6ed3c",
   "metadata": {
    "papermill": {
     "duration": 0.004563,
     "end_time": "2024-03-13T13:40:46.501350",
     "exception": false,
     "start_time": "2024-03-13T13:40:46.496787",
     "status": "completed"
    },
    "tags": []
   },
   "source": [
    "# <span style=\"color:#e74c3c;\"> Preprocessing </span>"
   ]
  },
  {
   "cell_type": "code",
   "execution_count": 3,
   "id": "1d4dfc39",
   "metadata": {
    "execution": {
     "iopub.execute_input": "2024-03-13T13:40:46.511337Z",
     "iopub.status.busy": "2024-03-13T13:40:46.511074Z",
     "iopub.status.idle": "2024-03-13T13:41:09.790975Z",
     "shell.execute_reply": "2024-03-13T13:41:09.790018Z"
    },
    "papermill": {
     "duration": 23.28741,
     "end_time": "2024-03-13T13:41:09.793211",
     "exception": false,
     "start_time": "2024-03-13T13:40:46.505801",
     "status": "completed"
    },
    "tags": []
   },
   "outputs": [
    {
     "name": "stdout",
     "output_type": "stream",
     "text": [
      "CPU times: user 23.2 s, sys: 62.2 ms, total: 23.3 s\n",
      "Wall time: 23.3 s\n"
     ]
    }
   ],
   "source": [
    "%%time\n",
    "# preprocessing functions\n",
    "stop_words = set(stopwords.words('english'))\n",
    "\n",
    "def text_preprocessing(text):\n",
    "    text = str(text)\n",
    "    text = text.lower()\n",
    "    text = re.sub('\\[.*?\\]', '', text)\n",
    "    text = re.sub(\"\\\\W\",\" \",text) \n",
    "    text = re.sub('https?://\\S+|www\\.\\S+', '', text)\n",
    "    text = re.sub('<.*?>+', '', text)\n",
    "    text = re.sub('[%s]' % re.escape(string.punctuation), '', text)\n",
    "    text = re.sub('\\n', '', text)\n",
    "    text = re.sub('\\w*\\d\\w*', '', text)\n",
    "    text = re.sub('\\w*xx+\\w*', '', text)\n",
    "    return text\n",
    "\n",
    "\n",
    "def drop_stopwords(text):\n",
    "    dropped = [word for word in text.split() if word not in stop_words]\n",
    "    final_text = ' '.join(dropped)\n",
    "    return final_text\n",
    "\n",
    "\n",
    "def delete_one_characters(text):\n",
    "    deleted = [word if len(word)>1 else \"\" for word in text.split()]\n",
    "    final_text = ' '.join(deleted)\n",
    "    return final_text\n",
    "\n",
    "\n",
    "# applying preprocessing functions\n",
    "data_processed = data.copy()\n",
    "data_processed['preprocessed_text'] = data_processed['text'].apply(text_preprocessing).apply(drop_stopwords).apply(delete_one_characters)\n",
    "\n",
    "\n",
    "# label encoding\n",
    "LE = LabelEncoder()\n",
    "data_processed['encoded_Emotion'] = LE.fit_transform(data_processed['Emotion'])"
   ]
  },
  {
   "cell_type": "code",
   "execution_count": 4,
   "id": "7e23a304",
   "metadata": {
    "execution": {
     "iopub.execute_input": "2024-03-13T13:41:09.803621Z",
     "iopub.status.busy": "2024-03-13T13:41:09.803329Z",
     "iopub.status.idle": "2024-03-13T13:41:09.812991Z",
     "shell.execute_reply": "2024-03-13T13:41:09.812150Z"
    },
    "papermill": {
     "duration": 0.01701,
     "end_time": "2024-03-13T13:41:09.814983",
     "exception": false,
     "start_time": "2024-03-13T13:41:09.797973",
     "status": "completed"
    },
    "tags": []
   },
   "outputs": [
    {
     "data": {
      "text/html": [
       "<div>\n",
       "<style scoped>\n",
       "    .dataframe tbody tr th:only-of-type {\n",
       "        vertical-align: middle;\n",
       "    }\n",
       "\n",
       "    .dataframe tbody tr th {\n",
       "        vertical-align: top;\n",
       "    }\n",
       "\n",
       "    .dataframe thead th {\n",
       "        text-align: right;\n",
       "    }\n",
       "</style>\n",
       "<table border=\"1\" class=\"dataframe\">\n",
       "  <thead>\n",
       "    <tr style=\"text-align: right;\">\n",
       "      <th></th>\n",
       "      <th>text</th>\n",
       "      <th>Emotion</th>\n",
       "      <th>preprocessed_text</th>\n",
       "      <th>encoded_Emotion</th>\n",
       "    </tr>\n",
       "  </thead>\n",
       "  <tbody>\n",
       "    <tr>\n",
       "      <th>0</th>\n",
       "      <td>i seriously hate one subject to death but now ...</td>\n",
       "      <td>hate</td>\n",
       "      <td>seriously hate one subject death feel reluctan...</td>\n",
       "      <td>6</td>\n",
       "    </tr>\n",
       "    <tr>\n",
       "      <th>1</th>\n",
       "      <td>im so full of life i feel appalled</td>\n",
       "      <td>neutral</td>\n",
       "      <td>im full life feel appalled</td>\n",
       "      <td>8</td>\n",
       "    </tr>\n",
       "    <tr>\n",
       "      <th>2</th>\n",
       "      <td>i sit here to write i start to dig out my feel...</td>\n",
       "      <td>neutral</td>\n",
       "      <td>sit write start dig feelings think afraid acce...</td>\n",
       "      <td>8</td>\n",
       "    </tr>\n",
       "    <tr>\n",
       "      <th>3</th>\n",
       "      <td>ive been really angry with r and i feel like a...</td>\n",
       "      <td>anger</td>\n",
       "      <td>ive really angry  feel like idiot trusting fir...</td>\n",
       "      <td>0</td>\n",
       "    </tr>\n",
       "    <tr>\n",
       "      <th>4</th>\n",
       "      <td>i feel suspicious if there is no one outside l...</td>\n",
       "      <td>neutral</td>\n",
       "      <td>feel suspicious one outside like rapture happe...</td>\n",
       "      <td>8</td>\n",
       "    </tr>\n",
       "  </tbody>\n",
       "</table>\n",
       "</div>"
      ],
      "text/plain": [
       "                                                text  Emotion  \\\n",
       "0  i seriously hate one subject to death but now ...     hate   \n",
       "1                 im so full of life i feel appalled  neutral   \n",
       "2  i sit here to write i start to dig out my feel...  neutral   \n",
       "3  ive been really angry with r and i feel like a...    anger   \n",
       "4  i feel suspicious if there is no one outside l...  neutral   \n",
       "\n",
       "                                   preprocessed_text  encoded_Emotion  \n",
       "0  seriously hate one subject death feel reluctan...                6  \n",
       "1                         im full life feel appalled                8  \n",
       "2  sit write start dig feelings think afraid acce...                8  \n",
       "3  ive really angry  feel like idiot trusting fir...                0  \n",
       "4  feel suspicious one outside like rapture happe...                8  "
      ]
     },
     "execution_count": 4,
     "metadata": {},
     "output_type": "execute_result"
    }
   ],
   "source": [
    "# data after preprocessing operations\n",
    "data_processed.head()"
   ]
  },
  {
   "cell_type": "code",
   "execution_count": 5,
   "id": "b6974530",
   "metadata": {
    "execution": {
     "iopub.execute_input": "2024-03-13T13:41:09.825857Z",
     "iopub.status.busy": "2024-03-13T13:41:09.825158Z",
     "iopub.status.idle": "2024-03-13T13:41:09.887743Z",
     "shell.execute_reply": "2024-03-13T13:41:09.886935Z"
    },
    "papermill": {
     "duration": 0.069919,
     "end_time": "2024-03-13T13:41:09.889619",
     "exception": false,
     "start_time": "2024-03-13T13:41:09.819700",
     "status": "completed"
    },
    "tags": []
   },
   "outputs": [
    {
     "data": {
      "text/plain": [
       "Emotion\n",
       "neutral       316935\n",
       "love           17634\n",
       "happiness      13038\n",
       "sadness         8485\n",
       "relief          8007\n",
       "hate            6160\n",
       "anger           5952\n",
       "fun             4854\n",
       "enthusiasm      4497\n",
       "surprise        3430\n",
       "empty           2697\n",
       "worry           2072\n",
       "boredom           61\n",
       "Name: count, dtype: int64"
      ]
     },
     "execution_count": 5,
     "metadata": {},
     "output_type": "execute_result"
    }
   ],
   "source": [
    "# classes\n",
    "data_processed['Emotion'].value_counts()"
   ]
  },
  {
   "cell_type": "markdown",
   "id": "9137784f",
   "metadata": {
    "papermill": {
     "duration": 0.004708,
     "end_time": "2024-03-13T13:41:09.899162",
     "exception": false,
     "start_time": "2024-03-13T13:41:09.894454",
     "status": "completed"
    },
    "tags": []
   },
   "source": [
    "# <span style=\"color:#e74c3c;\"> Train and Test </span> Split"
   ]
  },
  {
   "cell_type": "code",
   "execution_count": 6,
   "id": "c0e23986",
   "metadata": {
    "execution": {
     "iopub.execute_input": "2024-03-13T13:41:09.909856Z",
     "iopub.status.busy": "2024-03-13T13:41:09.909620Z",
     "iopub.status.idle": "2024-03-13T13:41:10.248518Z",
     "shell.execute_reply": "2024-03-13T13:41:10.247635Z"
    },
    "papermill": {
     "duration": 0.346519,
     "end_time": "2024-03-13T13:41:10.250589",
     "exception": false,
     "start_time": "2024-03-13T13:41:09.904070",
     "status": "completed"
    },
    "tags": []
   },
   "outputs": [
    {
     "name": "stdout",
     "output_type": "stream",
     "text": [
      "train sample size\t 334748\n",
      "test sample size\t 59074\n"
     ]
    }
   ],
   "source": [
    "# train and test splitting\n",
    "type_train_data, type_test_data = train_test_split(data_processed, test_size = 0.15, random_state = SEED, stratify = data_processed['encoded_Emotion'])\n",
    "\n",
    "type_train_data = type_train_data.reset_index(drop = True)\n",
    "type_test_data = type_test_data.reset_index(drop = True)\n",
    "\n",
    "y_train = type_train_data['encoded_Emotion']\n",
    "y_test = type_test_data['encoded_Emotion']\n",
    "\n",
    "print('train sample size\\t', type_train_data.shape[0])\n",
    "print('test sample size\\t', type_test_data.shape[0])"
   ]
  },
  {
   "cell_type": "markdown",
   "id": "937a493e",
   "metadata": {
    "papermill": {
     "duration": 0.004859,
     "end_time": "2024-03-13T13:41:10.260627",
     "exception": false,
     "start_time": "2024-03-13T13:41:10.255768",
     "status": "completed"
    },
    "tags": []
   },
   "source": [
    "# <span style=\"color:#e74c3c;\"> LogisticRegression </span> Model"
   ]
  },
  {
   "cell_type": "code",
   "execution_count": 7,
   "id": "bee2fe16",
   "metadata": {
    "execution": {
     "iopub.execute_input": "2024-03-13T13:41:10.271753Z",
     "iopub.status.busy": "2024-03-13T13:41:10.271445Z",
     "iopub.status.idle": "2024-03-13T13:43:48.917842Z",
     "shell.execute_reply": "2024-03-13T13:43:48.916433Z"
    },
    "papermill": {
     "duration": 158.660525,
     "end_time": "2024-03-13T13:43:48.926236",
     "exception": false,
     "start_time": "2024-03-13T13:41:10.265711",
     "status": "completed"
    },
    "tags": []
   },
   "outputs": [
    {
     "name": "stdout",
     "output_type": "stream",
     "text": [
      "CPU times: user 4min 39s, sys: 3min 49s, total: 8min 28s\n",
      "Wall time: 2min 38s\n"
     ]
    },
    {
     "data": {
      "text/html": [
       "<style>#sk-container-id-1 {color: black;background-color: white;}#sk-container-id-1 pre{padding: 0;}#sk-container-id-1 div.sk-toggleable {background-color: white;}#sk-container-id-1 label.sk-toggleable__label {cursor: pointer;display: block;width: 100%;margin-bottom: 0;padding: 0.3em;box-sizing: border-box;text-align: center;}#sk-container-id-1 label.sk-toggleable__label-arrow:before {content: \"▸\";float: left;margin-right: 0.25em;color: #696969;}#sk-container-id-1 label.sk-toggleable__label-arrow:hover:before {color: black;}#sk-container-id-1 div.sk-estimator:hover label.sk-toggleable__label-arrow:before {color: black;}#sk-container-id-1 div.sk-toggleable__content {max-height: 0;max-width: 0;overflow: hidden;text-align: left;background-color: #f0f8ff;}#sk-container-id-1 div.sk-toggleable__content pre {margin: 0.2em;color: black;border-radius: 0.25em;background-color: #f0f8ff;}#sk-container-id-1 input.sk-toggleable__control:checked~div.sk-toggleable__content {max-height: 200px;max-width: 100%;overflow: auto;}#sk-container-id-1 input.sk-toggleable__control:checked~label.sk-toggleable__label-arrow:before {content: \"▾\";}#sk-container-id-1 div.sk-estimator input.sk-toggleable__control:checked~label.sk-toggleable__label {background-color: #d4ebff;}#sk-container-id-1 div.sk-label input.sk-toggleable__control:checked~label.sk-toggleable__label {background-color: #d4ebff;}#sk-container-id-1 input.sk-hidden--visually {border: 0;clip: rect(1px 1px 1px 1px);clip: rect(1px, 1px, 1px, 1px);height: 1px;margin: -1px;overflow: hidden;padding: 0;position: absolute;width: 1px;}#sk-container-id-1 div.sk-estimator {font-family: monospace;background-color: #f0f8ff;border: 1px dotted black;border-radius: 0.25em;box-sizing: border-box;margin-bottom: 0.5em;}#sk-container-id-1 div.sk-estimator:hover {background-color: #d4ebff;}#sk-container-id-1 div.sk-parallel-item::after {content: \"\";width: 100%;border-bottom: 1px solid gray;flex-grow: 1;}#sk-container-id-1 div.sk-label:hover label.sk-toggleable__label {background-color: #d4ebff;}#sk-container-id-1 div.sk-serial::before {content: \"\";position: absolute;border-left: 1px solid gray;box-sizing: border-box;top: 0;bottom: 0;left: 50%;z-index: 0;}#sk-container-id-1 div.sk-serial {display: flex;flex-direction: column;align-items: center;background-color: white;padding-right: 0.2em;padding-left: 0.2em;position: relative;}#sk-container-id-1 div.sk-item {position: relative;z-index: 1;}#sk-container-id-1 div.sk-parallel {display: flex;align-items: stretch;justify-content: center;background-color: white;position: relative;}#sk-container-id-1 div.sk-item::before, #sk-container-id-1 div.sk-parallel-item::before {content: \"\";position: absolute;border-left: 1px solid gray;box-sizing: border-box;top: 0;bottom: 0;left: 50%;z-index: -1;}#sk-container-id-1 div.sk-parallel-item {display: flex;flex-direction: column;z-index: 1;position: relative;background-color: white;}#sk-container-id-1 div.sk-parallel-item:first-child::after {align-self: flex-end;width: 50%;}#sk-container-id-1 div.sk-parallel-item:last-child::after {align-self: flex-start;width: 50%;}#sk-container-id-1 div.sk-parallel-item:only-child::after {width: 0;}#sk-container-id-1 div.sk-dashed-wrapped {border: 1px dashed gray;margin: 0 0.4em 0.5em 0.4em;box-sizing: border-box;padding-bottom: 0.4em;background-color: white;}#sk-container-id-1 div.sk-label label {font-family: monospace;font-weight: bold;display: inline-block;line-height: 1.2em;}#sk-container-id-1 div.sk-label-container {text-align: center;}#sk-container-id-1 div.sk-container {/* jupyter's `normalize.less` sets `[hidden] { display: none; }` but bootstrap.min.css set `[hidden] { display: none !important; }` so we also need the `!important` here to be able to override the default hidden behavior on the sphinx rendered scikit-learn.org. See: https://github.com/scikit-learn/scikit-learn/issues/21755 */display: inline-block !important;position: relative;}#sk-container-id-1 div.sk-text-repr-fallback {display: none;}</style><div id=\"sk-container-id-1\" class=\"sk-top-container\"><div class=\"sk-text-repr-fallback\"><pre>Pipeline(steps=[(&#x27;tfidfvectorizer&#x27;, TfidfVectorizer()),\n",
       "                (&#x27;logisticregression&#x27;,\n",
       "                 LogisticRegression(C=2.0, max_iter=500))])</pre><b>In a Jupyter environment, please rerun this cell to show the HTML representation or trust the notebook. <br />On GitHub, the HTML representation is unable to render, please try loading this page with nbviewer.org.</b></div><div class=\"sk-container\" hidden><div class=\"sk-item sk-dashed-wrapped\"><div class=\"sk-label-container\"><div class=\"sk-label sk-toggleable\"><input class=\"sk-toggleable__control sk-hidden--visually\" id=\"sk-estimator-id-1\" type=\"checkbox\" ><label for=\"sk-estimator-id-1\" class=\"sk-toggleable__label sk-toggleable__label-arrow\">Pipeline</label><div class=\"sk-toggleable__content\"><pre>Pipeline(steps=[(&#x27;tfidfvectorizer&#x27;, TfidfVectorizer()),\n",
       "                (&#x27;logisticregression&#x27;,\n",
       "                 LogisticRegression(C=2.0, max_iter=500))])</pre></div></div></div><div class=\"sk-serial\"><div class=\"sk-item\"><div class=\"sk-estimator sk-toggleable\"><input class=\"sk-toggleable__control sk-hidden--visually\" id=\"sk-estimator-id-2\" type=\"checkbox\" ><label for=\"sk-estimator-id-2\" class=\"sk-toggleable__label sk-toggleable__label-arrow\">TfidfVectorizer</label><div class=\"sk-toggleable__content\"><pre>TfidfVectorizer()</pre></div></div></div><div class=\"sk-item\"><div class=\"sk-estimator sk-toggleable\"><input class=\"sk-toggleable__control sk-hidden--visually\" id=\"sk-estimator-id-3\" type=\"checkbox\" ><label for=\"sk-estimator-id-3\" class=\"sk-toggleable__label sk-toggleable__label-arrow\">LogisticRegression</label><div class=\"sk-toggleable__content\"><pre>LogisticRegression(C=2.0, max_iter=500)</pre></div></div></div></div></div></div></div>"
      ],
      "text/plain": [
       "Pipeline(steps=[('tfidfvectorizer', TfidfVectorizer()),\n",
       "                ('logisticregression',\n",
       "                 LogisticRegression(C=2.0, max_iter=500))])"
      ]
     },
     "execution_count": 7,
     "metadata": {},
     "output_type": "execute_result"
    }
   ],
   "source": [
    "%%time\n",
    "log_reg = make_pipeline(TfidfVectorizer(), LogisticRegression(C=2.0, max_iter = 500))\n",
    "log_reg.fit(type_train_data['preprocessed_text'].values, y_train)"
   ]
  },
  {
   "cell_type": "markdown",
   "id": "9763808a",
   "metadata": {
    "papermill": {
     "duration": 0.010584,
     "end_time": "2024-03-13T13:43:48.950069",
     "exception": false,
     "start_time": "2024-03-13T13:43:48.939485",
     "status": "completed"
    },
    "tags": []
   },
   "source": [
    "# <span style=\"color:#e74c3c;\">Test</span> Predictions"
   ]
  },
  {
   "cell_type": "code",
   "execution_count": 8,
   "id": "f9575326",
   "metadata": {
    "execution": {
     "iopub.execute_input": "2024-03-13T13:43:48.962032Z",
     "iopub.status.busy": "2024-03-13T13:43:48.961721Z",
     "iopub.status.idle": "2024-03-13T13:43:48.969496Z",
     "shell.execute_reply": "2024-03-13T13:43:48.968623Z"
    },
    "papermill": {
     "duration": 0.016183,
     "end_time": "2024-03-13T13:43:48.971519",
     "exception": false,
     "start_time": "2024-03-13T13:43:48.955336",
     "status": "completed"
    },
    "tags": []
   },
   "outputs": [],
   "source": [
    "# a function for calculating and plotting predictions \n",
    "def plot_prediction_results(model, X_data, y_data, target_names = list(LE.classes_)):\n",
    "    pred = model.predict(X_data)\n",
    "    \n",
    "    mse = mean_squared_error(y_data, pred)\n",
    "    f1 = f1_score(y_data, pred, average = 'weighted')\n",
    "    acc = accuracy_score(y_data, pred)\n",
    "    cm = confusion_matrix(y_data, pred)\n",
    "    \n",
    "    clf = classification_report(y_data, pred, target_names = target_names)\n",
    "    \n",
    "    print('Mean Squared Error :\\t{0:.5f}'.format(mse))\n",
    "    print('Weighted F1 Score :\\t{0:.3f}'.format(f1))\n",
    "    print('Accuracy Score :\\t{0:.3f} %'.format(acc*100))\n",
    "    print('--'*35)\n",
    "    \n",
    "    print('\\n Classification Report:\\n',clf)\n",
    "    print('--'*35)\n",
    "\n",
    "    print('\\n Confusion Matrix: \\n')\n",
    "\n",
    "    cmd = ConfusionMatrixDisplay(cm, display_labels = target_names)\n",
    "    fig, axs = plt.subplots(figsize=(8,8))\n",
    "    cmd.plot(ax=axs, cmap = 'bone', xticks_rotation=\"vertical\", colorbar = False)"
   ]
  },
  {
   "cell_type": "code",
   "execution_count": 9,
   "id": "79570a74",
   "metadata": {
    "execution": {
     "iopub.execute_input": "2024-03-13T13:43:48.983862Z",
     "iopub.status.busy": "2024-03-13T13:43:48.983184Z",
     "iopub.status.idle": "2024-03-13T13:43:50.696439Z",
     "shell.execute_reply": "2024-03-13T13:43:50.695564Z"
    },
    "papermill": {
     "duration": 1.7221,
     "end_time": "2024-03-13T13:43:50.698997",
     "exception": false,
     "start_time": "2024-03-13T13:43:48.976897",
     "status": "completed"
    },
    "tags": []
   },
   "outputs": [
    {
     "name": "stdout",
     "output_type": "stream",
     "text": [
      "Mean Squared Error :\t0.17446\n",
      "Weighted F1 Score :\t0.990\n",
      "Accuracy Score :\t99.066 %\n",
      "----------------------------------------------------------------------\n",
      "\n",
      " Classification Report:\n",
      "               precision    recall  f1-score   support\n",
      "\n",
      "       anger       0.98      0.93      0.96       893\n",
      "     boredom       1.00      0.22      0.36         9\n",
      "       empty       1.00      0.91      0.95       404\n",
      "  enthusiasm       1.00      0.96      0.98       675\n",
      "         fun       0.99      0.89      0.94       728\n",
      "   happiness       0.99      0.97      0.98      1956\n",
      "        hate       0.99      0.96      0.97       924\n",
      "        love       0.99      0.98      0.99      2645\n",
      "     neutral       0.99      1.00      1.00     47541\n",
      "      relief       0.98      0.93      0.95      1201\n",
      "     sadness       1.00      0.97      0.98      1273\n",
      "    surprise       0.99      0.95      0.97       514\n",
      "       worry       1.00      0.93      0.96       311\n",
      "\n",
      "    accuracy                           0.99     59074\n",
      "   macro avg       0.99      0.89      0.92     59074\n",
      "weighted avg       0.99      0.99      0.99     59074\n",
      "\n",
      "----------------------------------------------------------------------\n",
      "\n",
      " Confusion Matrix: \n",
      "\n"
     ]
    },
    {
     "data": {
      "image/png": "[encoded data removed]",
      "text/plain": [
       "<Figure size 800x800 with 1 Axes>"
      ]
     },
     "metadata": {},
     "output_type": "display_data"
    }
   ],
   "source": [
    "plot_prediction_results(log_reg, type_test_data['preprocessed_text'].values, y_test)"
   ]
  }
 ],
 "metadata": {
  "kaggle": {
   "accelerator": "gpu",
   "dataSources": [
    {
     "datasetId": 4540583,
     "sourceId": 7763359,
     "sourceType": "datasetVersion"
    }
   ],
   "dockerImageVersionId": 30665,
   "isGpuEnabled": true,
   "isInternetEnabled": true,
   "language": "python",
   "sourceType": "notebook"
  },
  "kernelspec": {
   "display_name": "Python 3",
   "language": "python",
   "name": "python3"
  },
  "language_info": {
   "codemirror_mode": {
    "name": "ipython",
    "version": 3
   },
   "file_extension": ".py",
   "mimetype": "text/x-python",
   "name": "python",
   "nbconvert_exporter": "python",
   "pygments_lexer": "ipython3",
   "version": "3.10.13"
  },
  "papermill": {
   "default_parameters": {},
   "duration": 192.532342,
   "end_time": "2024-03-13T13:43:51.223930",
   "environment_variables": {},
   "exception": null,
   "input_path": "__notebook__.ipynb",
   "output_path": "__notebook__.ipynb",
   "parameters": {},
   "start_time": "2024-03-13T13:40:38.691588",
   "version": "2.5.0"
  }
 },
 "nbformat": 4,
 "nbformat_minor": 5
}
