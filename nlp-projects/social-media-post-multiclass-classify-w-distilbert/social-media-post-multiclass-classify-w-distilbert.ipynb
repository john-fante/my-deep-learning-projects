{
 "cells": [
  {
   "cell_type": "markdown",
   "id": "60fa96c2",
   "metadata": {
    "papermill": {
     "duration": 0.008151,
     "end_time": "2024-03-18T23:11:12.231580",
     "exception": false,
     "start_time": "2024-03-18T23:11:12.223429",
     "status": "completed"
    },
    "tags": []
   },
   "source": [
    "<i><span style=\"color:#e74c3c;\"><b>MAIN GOAL: </b>  I tried to fine-tune a DistilBERT model for solving a multi-class problem (multi output model). The first prediction is bias class (neutral or partisan), the second  prediction is message (policy, personal, support, information etc.). </span></i>\n",
    "\n",
    "\n",
    "* I applied several <b>preprocessing</b> operations (cleaning,dropping stop words),\n",
    "* Used <b>tf.data pipeline</b> for efficient training,\n",
    "* I only used only 75 max length for sequence length (BERT models support up to 512 input lengths),\n",
    "\n",
    "\n",
    "## My Another Projects\n",
    "* [Complaint Analysis w/Ensemble Model (CatBoost, LR)](https://www.kaggle.com/code/banddaniel/complaint-analysis-w-ensemble-model-catboost-lr)\n",
    "* [Gemma 2B Text Summarization w/Zero-Shot Prompting](https://www.kaggle.com/code/banddaniel/gemma-2b-text-summarization-w-zero-shot-prompting)\n",
    "* [Crop Disease Classification w/Feature Fusion, DL Model](https://www.kaggle.com/code/banddaniel/crop-disease-classify-w-feature-fusion-dl-model)"
   ]
  },
  {
   "cell_type": "code",
   "execution_count": 1,
   "id": "7cb262cf",
   "metadata": {
    "execution": {
     "iopub.execute_input": "2024-03-18T23:11:12.249350Z",
     "iopub.status.busy": "2024-03-18T23:11:12.248453Z",
     "iopub.status.idle": "2024-03-18T23:12:57.201287Z",
     "shell.execute_reply": "2024-03-18T23:12:57.200357Z"
    },
    "papermill": {
     "duration": 104.964026,
     "end_time": "2024-03-18T23:12:57.203303",
     "exception": false,
     "start_time": "2024-03-18T23:11:12.239277",
     "status": "completed"
    },
    "tags": []
   },
   "outputs": [],
   "source": [
    "# downgrade tensorflow for using huggingface distilbert model as embedding\n",
    "\n",
    "from IPython.display import clear_output\n",
    "!pip uninstall tensorflow -y\n",
    "!pip install tensorflow==2.9.0\n",
    "!pip install --user -U nltk spacy\n",
    "clear_output()"
   ]
  },
  {
   "cell_type": "code",
   "execution_count": 2,
   "id": "334d7539",
   "metadata": {
    "_kg_hide-output": true,
    "execution": {
     "iopub.execute_input": "2024-03-18T23:12:57.220004Z",
     "iopub.status.busy": "2024-03-18T23:12:57.219663Z",
     "iopub.status.idle": "2024-03-18T23:13:12.213205Z",
     "shell.execute_reply": "2024-03-18T23:13:12.212234Z"
    },
    "papermill": {
     "duration": 15.004667,
     "end_time": "2024-03-18T23:13:12.215710",
     "exception": false,
     "start_time": "2024-03-18T23:12:57.211043",
     "status": "completed"
    },
    "tags": []
   },
   "outputs": [],
   "source": [
    "import os\n",
    "import numpy as np\n",
    "import pandas as pd\n",
    "import re\n",
    "import nltk\n",
    "from nltk.corpus import stopwords\n",
    "import string\n",
    "import matplotlib.pyplot as plt\n",
    "import spacy\n",
    "\n",
    "from sklearn.model_selection import train_test_split\n",
    "from sklearn.metrics import mean_squared_error, classification_report, confusion_matrix, f1_score, accuracy_score, ConfusionMatrixDisplay\n",
    "from sklearn.preprocessing import LabelEncoder\n",
    "\n",
    "import tensorflow as tf\n",
    "from tensorflow.keras.layers import *\n",
    "\n",
    "from transformers import AutoTokenizer, TFDistilBertModel, DistilBertTokenizer, DistilBertConfig\n",
    "\n",
    "\n",
    "SEED = 99\n",
    "BATCH_SIZE = 64\n",
    "AUTO = tf.data.AUTOTUNE"
   ]
  },
  {
   "cell_type": "code",
   "execution_count": 3,
   "id": "0b68fdb4",
   "metadata": {
    "_kg_hide-output": true,
    "execution": {
     "iopub.execute_input": "2024-03-18T23:13:12.233065Z",
     "iopub.status.busy": "2024-03-18T23:13:12.232418Z",
     "iopub.status.idle": "2024-03-18T23:13:18.496260Z",
     "shell.execute_reply": "2024-03-18T23:13:18.495514Z"
    },
    "papermill": {
     "duration": 6.274757,
     "end_time": "2024-03-18T23:13:18.498517",
     "exception": false,
     "start_time": "2024-03-18T23:13:12.223760",
     "status": "completed"
    },
    "tags": []
   },
   "outputs": [
    {
     "data": {
      "application/vnd.jupyter.widget-view+json": {
       "model_id": "8719e5fdd72446c7a5511768e53e0ae0",
       "version_major": 2,
       "version_minor": 0
      },
      "text/plain": [
       "tokenizer_config.json:   0%|          | 0.00/28.0 [00:00<?, ?B/s]"
      ]
     },
     "metadata": {},
     "output_type": "display_data"
    },
    {
     "data": {
      "application/vnd.jupyter.widget-view+json": {
       "model_id": "41d254226d6843b88ec47d190fc9d60f",
       "version_major": 2,
       "version_minor": 0
      },
      "text/plain": [
       "config.json:   0%|          | 0.00/483 [00:00<?, ?B/s]"
      ]
     },
     "metadata": {},
     "output_type": "display_data"
    },
    {
     "data": {
      "application/vnd.jupyter.widget-view+json": {
       "model_id": "74331e5cf1334bb1b64a9a15ca596876",
       "version_major": 2,
       "version_minor": 0
      },
      "text/plain": [
       "vocab.txt:   0%|          | 0.00/232k [00:00<?, ?B/s]"
      ]
     },
     "metadata": {},
     "output_type": "display_data"
    },
    {
     "data": {
      "application/vnd.jupyter.widget-view+json": {
       "model_id": "7311cbd918ed4dd391004fec255f5383",
       "version_major": 2,
       "version_minor": 0
      },
      "text/plain": [
       "tokenizer.json:   0%|          | 0.00/466k [00:00<?, ?B/s]"
      ]
     },
     "metadata": {},
     "output_type": "display_data"
    },
    {
     "data": {
      "application/vnd.jupyter.widget-view+json": {
       "model_id": "bfd129478d2c408392e99e4c0debe0be",
       "version_major": 2,
       "version_minor": 0
      },
      "text/plain": [
       "model.safetensors:   0%|          | 0.00/268M [00:00<?, ?B/s]"
      ]
     },
     "metadata": {},
     "output_type": "display_data"
    },
    {
     "name": "stderr",
     "output_type": "stream",
     "text": [
      "Some weights of the PyTorch model were not used when initializing the TF 2.0 model TFDistilBertModel: ['vocab_layer_norm.weight', 'vocab_layer_norm.bias', 'vocab_transform.weight', 'vocab_transform.bias', 'vocab_projector.bias']\n",
      "- This IS expected if you are initializing TFDistilBertModel from a PyTorch model trained on another task or with another architecture (e.g. initializing a TFBertForSequenceClassification model from a BertForPreTraining model).\n",
      "- This IS NOT expected if you are initializing TFDistilBertModel from a PyTorch model that you expect to be exactly identical (e.g. initializing a TFBertForSequenceClassification model from a BertForSequenceClassification model).\n",
      "All the weights of TFDistilBertModel were initialized from the PyTorch model.\n",
      "If your task is similar to the task the model of the checkpoint was trained on, you can already use TFDistilBertModel for predictions without further training.\n"
     ]
    }
   ],
   "source": [
    "checkpoint = \"distilbert-base-uncased\"\n",
    "tokenizer = AutoTokenizer.from_pretrained(checkpoint)\n",
    "distil_bert = TFDistilBertModel.from_pretrained(checkpoint)"
   ]
  },
  {
   "cell_type": "markdown",
   "id": "64f2ccdc",
   "metadata": {
    "papermill": {
     "duration": 0.008285,
     "end_time": "2024-03-18T23:13:18.515550",
     "exception": false,
     "start_time": "2024-03-18T23:13:18.507265",
     "status": "completed"
    },
    "tags": []
   },
   "source": [
    "# <span style=\"color:#e74c3c;\"> Reading </span> Data"
   ]
  },
  {
   "cell_type": "code",
   "execution_count": 4,
   "id": "e727a14d",
   "metadata": {
    "execution": {
     "iopub.execute_input": "2024-03-18T23:13:18.534765Z",
     "iopub.status.busy": "2024-03-18T23:13:18.533933Z",
     "iopub.status.idle": "2024-03-18T23:13:18.668375Z",
     "shell.execute_reply": "2024-03-18T23:13:18.667539Z"
    },
    "papermill": {
     "duration": 0.146849,
     "end_time": "2024-03-18T23:13:18.670693",
     "exception": false,
     "start_time": "2024-03-18T23:13:18.523844",
     "status": "completed"
    },
    "tags": []
   },
   "outputs": [],
   "source": [
    "data = pd.read_csv('/kaggle/input/classification-of-pol-social/political_media_dfe.csv')\n",
    "data.drop_duplicates(subset = ['text'], inplace = True)\n",
    "data = data[['unit_id','bioid','bias','message','text']]"
   ]
  },
  {
   "cell_type": "code",
   "execution_count": 5,
   "id": "051226bf",
   "metadata": {
    "execution": {
     "iopub.execute_input": "2024-03-18T23:13:18.690244Z",
     "iopub.status.busy": "2024-03-18T23:13:18.689883Z",
     "iopub.status.idle": "2024-03-18T23:13:18.705560Z",
     "shell.execute_reply": "2024-03-18T23:13:18.704577Z"
    },
    "papermill": {
     "duration": 0.028084,
     "end_time": "2024-03-18T23:13:18.707897",
     "exception": false,
     "start_time": "2024-03-18T23:13:18.679813",
     "status": "completed"
    },
    "tags": []
   },
   "outputs": [
    {
     "data": {
      "text/html": [
       "<div>\n",
       "<style scoped>\n",
       "    .dataframe tbody tr th:only-of-type {\n",
       "        vertical-align: middle;\n",
       "    }\n",
       "\n",
       "    .dataframe tbody tr th {\n",
       "        vertical-align: top;\n",
       "    }\n",
       "\n",
       "    .dataframe thead th {\n",
       "        text-align: right;\n",
       "    }\n",
       "</style>\n",
       "<table border=\"1\" class=\"dataframe\">\n",
       "  <thead>\n",
       "    <tr style=\"text-align: right;\">\n",
       "      <th></th>\n",
       "      <th>unit_id</th>\n",
       "      <th>bioid</th>\n",
       "      <th>bias</th>\n",
       "      <th>message</th>\n",
       "      <th>text</th>\n",
       "    </tr>\n",
       "  </thead>\n",
       "  <tbody>\n",
       "    <tr>\n",
       "      <th>0</th>\n",
       "      <td>766192484</td>\n",
       "      <td>R000596</td>\n",
       "      <td>partisan</td>\n",
       "      <td>policy</td>\n",
       "      <td>RT @nowthisnews: Rep. Trey Radel (R- #FL) slam...</td>\n",
       "    </tr>\n",
       "    <tr>\n",
       "      <th>1</th>\n",
       "      <td>766192485</td>\n",
       "      <td>M000355</td>\n",
       "      <td>partisan</td>\n",
       "      <td>attack</td>\n",
       "      <td>VIDEO - #Obamacare:  Full of Higher Costs and ...</td>\n",
       "    </tr>\n",
       "    <tr>\n",
       "      <th>2</th>\n",
       "      <td>766192486</td>\n",
       "      <td>S001180</td>\n",
       "      <td>neutral</td>\n",
       "      <td>support</td>\n",
       "      <td>Please join me today in remembering our fallen...</td>\n",
       "    </tr>\n",
       "    <tr>\n",
       "      <th>3</th>\n",
       "      <td>766192487</td>\n",
       "      <td>C000880</td>\n",
       "      <td>neutral</td>\n",
       "      <td>policy</td>\n",
       "      <td>RT @SenatorLeahy: 1st step toward Senate debat...</td>\n",
       "    </tr>\n",
       "    <tr>\n",
       "      <th>4</th>\n",
       "      <td>766192488</td>\n",
       "      <td>U000038</td>\n",
       "      <td>partisan</td>\n",
       "      <td>policy</td>\n",
       "      <td>.@amazon delivery #drones show need to update ...</td>\n",
       "    </tr>\n",
       "  </tbody>\n",
       "</table>\n",
       "</div>"
      ],
      "text/plain": [
       "     unit_id    bioid      bias  message  \\\n",
       "0  766192484  R000596  partisan   policy   \n",
       "1  766192485  M000355  partisan   attack   \n",
       "2  766192486  S001180   neutral  support   \n",
       "3  766192487  C000880   neutral   policy   \n",
       "4  766192488  U000038  partisan   policy   \n",
       "\n",
       "                                                text  \n",
       "0  RT @nowthisnews: Rep. Trey Radel (R- #FL) slam...  \n",
       "1  VIDEO - #Obamacare:  Full of Higher Costs and ...  \n",
       "2  Please join me today in remembering our fallen...  \n",
       "3  RT @SenatorLeahy: 1st step toward Senate debat...  \n",
       "4  .@amazon delivery #drones show need to update ...  "
      ]
     },
     "execution_count": 5,
     "metadata": {},
     "output_type": "execute_result"
    }
   ],
   "source": [
    "data.head()"
   ]
  },
  {
   "cell_type": "markdown",
   "id": "75e467f9",
   "metadata": {
    "papermill": {
     "duration": 0.009178,
     "end_time": "2024-03-18T23:13:18.726766",
     "exception": false,
     "start_time": "2024-03-18T23:13:18.717588",
     "status": "completed"
    },
    "tags": []
   },
   "source": [
    "# <span style=\"color:#e74c3c;\"> Preprocessing </span>"
   ]
  },
  {
   "cell_type": "code",
   "execution_count": 6,
   "id": "e288a705",
   "metadata": {
    "execution": {
     "iopub.execute_input": "2024-03-18T23:13:18.745472Z",
     "iopub.status.busy": "2024-03-18T23:13:18.745061Z",
     "iopub.status.idle": "2024-03-18T23:13:19.246039Z",
     "shell.execute_reply": "2024-03-18T23:13:19.245048Z"
    },
    "papermill": {
     "duration": 0.512713,
     "end_time": "2024-03-18T23:13:19.248110",
     "exception": false,
     "start_time": "2024-03-18T23:13:18.735397",
     "status": "completed"
    },
    "tags": []
   },
   "outputs": [
    {
     "data": {
      "text/plain": [
       "5000"
      ]
     },
     "execution_count": 6,
     "metadata": {},
     "output_type": "execute_result"
    }
   ],
   "source": [
    "# preprocessing functions\n",
    "\n",
    "stop_words = set(stopwords.words('english'))\n",
    "\n",
    "def text_preprocessing(text):\n",
    "    text = str(text)\n",
    "    text = text.lower()\n",
    "    text = re.sub('\\[.*?\\]', '', text)\n",
    "    text = re.sub('@\\w+\\s*', '', text)\n",
    "    text = re.sub(\"\\\\W\",\" \",text) \n",
    "    text = re.sub('https?://\\S+|www\\.\\S+', '', text)\n",
    "    text = re.sub('http', '', text)\n",
    "    text = re.sub('<.*?>+', '', text)\n",
    "    text = re.sub('[%s]' % re.escape(string.punctuation), '', text)\n",
    "    text = re.sub('\\n', '', text)\n",
    "    text = re.sub('\\w*\\d\\w*', '', text)\n",
    "    return text\n",
    "\n",
    "def drop_stopwords(text):\n",
    "    dropped = [word for word in text.split() if word not in stop_words]\n",
    "    final_text = ' '.join(dropped)\n",
    "    return final_text\n",
    "\n",
    "\n",
    "def delete_one_characters(text):\n",
    "    deleted = [word if len(word)>1 else \"\" for word in text.split()]\n",
    "    final_text = ' '.join(deleted)\n",
    "    return final_text\n",
    "\n",
    "\n",
    "# applying preprocessing functions \n",
    "full_data = data.copy()\n",
    "full_data['preprocessed_text'] = data['text'].apply(text_preprocessing).apply(drop_stopwords).apply(delete_one_characters)\n",
    "\n",
    "\n",
    "# label encoding\n",
    "LE_for_bias = LabelEncoder()\n",
    "full_data['encoded_bias'] = LE_for_bias.fit_transform(full_data['bias'].tolist())\n",
    "\n",
    "LE_for_message = LabelEncoder()\n",
    "full_data['encoded_message'] = LE_for_message.fit_transform(full_data['message'].tolist())\n",
    "\n",
    "full_data.shape[0]"
   ]
  },
  {
   "cell_type": "code",
   "execution_count": 7,
   "id": "96408ec5",
   "metadata": {
    "execution": {
     "iopub.execute_input": "2024-03-18T23:13:19.268562Z",
     "iopub.status.busy": "2024-03-18T23:13:19.268065Z",
     "iopub.status.idle": "2024-03-18T23:13:19.294182Z",
     "shell.execute_reply": "2024-03-18T23:13:19.293195Z"
    },
    "papermill": {
     "duration": 0.038898,
     "end_time": "2024-03-18T23:13:19.296443",
     "exception": false,
     "start_time": "2024-03-18T23:13:19.257545",
     "status": "completed"
    },
    "tags": []
   },
   "outputs": [
    {
     "data": {
      "text/plain": [
       "4939"
      ]
     },
     "execution_count": 7,
     "metadata": {},
     "output_type": "execute_result"
    }
   ],
   "source": [
    "# calculating max token numbers and dropping samples have 0,1 or 2 tokens\n",
    "full_data['max']= full_data['preprocessed_text'].apply(lambda X: len(X.split()))\n",
    "\n",
    "\n",
    "drop_idx = full_data[(full_data['max'] == 0) | (full_data['max'] == 1) | (full_data['max'] == 2)].index\n",
    "full_data.drop(index = drop_idx, inplace = True)\n",
    "\n",
    "full_data.shape[0]"
   ]
  },
  {
   "cell_type": "code",
   "execution_count": 8,
   "id": "137a4552",
   "metadata": {
    "execution": {
     "iopub.execute_input": "2024-03-18T23:13:19.317880Z",
     "iopub.status.busy": "2024-03-18T23:13:19.317028Z",
     "iopub.status.idle": "2024-03-18T23:13:19.330870Z",
     "shell.execute_reply": "2024-03-18T23:13:19.329878Z"
    },
    "papermill": {
     "duration": 0.02686,
     "end_time": "2024-03-18T23:13:19.333259",
     "exception": false,
     "start_time": "2024-03-18T23:13:19.306399",
     "status": "completed"
    },
    "tags": []
   },
   "outputs": [
    {
     "data": {
      "text/html": [
       "<div>\n",
       "<style scoped>\n",
       "    .dataframe tbody tr th:only-of-type {\n",
       "        vertical-align: middle;\n",
       "    }\n",
       "\n",
       "    .dataframe tbody tr th {\n",
       "        vertical-align: top;\n",
       "    }\n",
       "\n",
       "    .dataframe thead th {\n",
       "        text-align: right;\n",
       "    }\n",
       "</style>\n",
       "<table border=\"1\" class=\"dataframe\">\n",
       "  <thead>\n",
       "    <tr style=\"text-align: right;\">\n",
       "      <th></th>\n",
       "      <th>unit_id</th>\n",
       "      <th>bioid</th>\n",
       "      <th>bias</th>\n",
       "      <th>message</th>\n",
       "      <th>text</th>\n",
       "      <th>preprocessed_text</th>\n",
       "      <th>encoded_bias</th>\n",
       "      <th>encoded_message</th>\n",
       "      <th>max</th>\n",
       "    </tr>\n",
       "  </thead>\n",
       "  <tbody>\n",
       "    <tr>\n",
       "      <th>0</th>\n",
       "      <td>766192484</td>\n",
       "      <td>R000596</td>\n",
       "      <td>partisan</td>\n",
       "      <td>policy</td>\n",
       "      <td>RT @nowthisnews: Rep. Trey Radel (R- #FL) slam...</td>\n",
       "      <td>rt rep trey radel  fl slams obamacare politics co</td>\n",
       "      <td>1</td>\n",
       "      <td>7</td>\n",
       "      <td>9</td>\n",
       "    </tr>\n",
       "    <tr>\n",
       "      <th>1</th>\n",
       "      <td>766192485</td>\n",
       "      <td>M000355</td>\n",
       "      <td>partisan</td>\n",
       "      <td>attack</td>\n",
       "      <td>VIDEO - #Obamacare:  Full of Higher Costs and ...</td>\n",
       "      <td>video obamacare full higher costs broken promi...</td>\n",
       "      <td>1</td>\n",
       "      <td>0</td>\n",
       "      <td>8</td>\n",
       "    </tr>\n",
       "    <tr>\n",
       "      <th>2</th>\n",
       "      <td>766192486</td>\n",
       "      <td>S001180</td>\n",
       "      <td>neutral</td>\n",
       "      <td>support</td>\n",
       "      <td>Please join me today in remembering our fallen...</td>\n",
       "      <td>please join today remembering fallen heroes ho...</td>\n",
       "      <td>0</td>\n",
       "      <td>8</td>\n",
       "      <td>13</td>\n",
       "    </tr>\n",
       "    <tr>\n",
       "      <th>3</th>\n",
       "      <td>766192487</td>\n",
       "      <td>C000880</td>\n",
       "      <td>neutral</td>\n",
       "      <td>policy</td>\n",
       "      <td>RT @SenatorLeahy: 1st step toward Senate debat...</td>\n",
       "      <td>rt step toward senate debate leahy crapo vawa ...</td>\n",
       "      <td>0</td>\n",
       "      <td>7</td>\n",
       "      <td>14</td>\n",
       "    </tr>\n",
       "    <tr>\n",
       "      <th>4</th>\n",
       "      <td>766192488</td>\n",
       "      <td>U000038</td>\n",
       "      <td>partisan</td>\n",
       "      <td>policy</td>\n",
       "      <td>.@amazon delivery #drones show need to update ...</td>\n",
       "      <td>delivery drones show need update law promote i...</td>\n",
       "      <td>1</td>\n",
       "      <td>7</td>\n",
       "      <td>14</td>\n",
       "    </tr>\n",
       "  </tbody>\n",
       "</table>\n",
       "</div>"
      ],
      "text/plain": [
       "     unit_id    bioid      bias  message  \\\n",
       "0  766192484  R000596  partisan   policy   \n",
       "1  766192485  M000355  partisan   attack   \n",
       "2  766192486  S001180   neutral  support   \n",
       "3  766192487  C000880   neutral   policy   \n",
       "4  766192488  U000038  partisan   policy   \n",
       "\n",
       "                                                text  \\\n",
       "0  RT @nowthisnews: Rep. Trey Radel (R- #FL) slam...   \n",
       "1  VIDEO - #Obamacare:  Full of Higher Costs and ...   \n",
       "2  Please join me today in remembering our fallen...   \n",
       "3  RT @SenatorLeahy: 1st step toward Senate debat...   \n",
       "4  .@amazon delivery #drones show need to update ...   \n",
       "\n",
       "                                   preprocessed_text  encoded_bias  \\\n",
       "0  rt rep trey radel  fl slams obamacare politics co             1   \n",
       "1  video obamacare full higher costs broken promi...             1   \n",
       "2  please join today remembering fallen heroes ho...             0   \n",
       "3  rt step toward senate debate leahy crapo vawa ...             0   \n",
       "4  delivery drones show need update law promote i...             1   \n",
       "\n",
       "   encoded_message  max  \n",
       "0                7    9  \n",
       "1                0    8  \n",
       "2                8   13  \n",
       "3                7   14  \n",
       "4                7   14  "
      ]
     },
     "execution_count": 8,
     "metadata": {},
     "output_type": "execute_result"
    }
   ],
   "source": [
    "# after preprocessing functions\n",
    "full_data.head()"
   ]
  },
  {
   "cell_type": "markdown",
   "id": "75a40f4a",
   "metadata": {
    "papermill": {
     "duration": 0.009809,
     "end_time": "2024-03-18T23:13:19.353966",
     "exception": false,
     "start_time": "2024-03-18T23:13:19.344157",
     "status": "completed"
    },
    "tags": []
   },
   "source": [
    "# <span style=\"color:#e74c3c;\"> Dataset </span> Splitting"
   ]
  },
  {
   "cell_type": "code",
   "execution_count": 9,
   "id": "02aa3510",
   "metadata": {
    "execution": {
     "iopub.execute_input": "2024-03-18T23:13:19.375951Z",
     "iopub.status.busy": "2024-03-18T23:13:19.375103Z",
     "iopub.status.idle": "2024-03-18T23:13:19.394207Z",
     "shell.execute_reply": "2024-03-18T23:13:19.393205Z"
    },
    "papermill": {
     "duration": 0.032853,
     "end_time": "2024-03-18T23:13:19.396620",
     "exception": false,
     "start_time": "2024-03-18T23:13:19.363767",
     "status": "completed"
    },
    "tags": []
   },
   "outputs": [
    {
     "name": "stdout",
     "output_type": "stream",
     "text": [
      "train samples :\t 3694\n",
      "val samples :\t 652\n",
      "test samples :\t 593\n"
     ]
    }
   ],
   "source": [
    "# train and test splitting\n",
    "\n",
    "train_val_data, test_data = train_test_split(full_data, test_size = 0.12, random_state = SEED, stratify = full_data['encoded_message'])\n",
    "train_data, val_data = train_test_split(train_val_data, test_size = 0.15, random_state = SEED, stratify = train_val_data['encoded_message'])\n",
    "\n",
    "\n",
    "print('train samples :\\t', train_data.shape[0])\n",
    "print('val samples :\\t', val_data.shape[0])\n",
    "print('test samples :\\t', test_data.shape[0])"
   ]
  },
  {
   "cell_type": "markdown",
   "id": "f3707671",
   "metadata": {
    "papermill": {
     "duration": 0.010776,
     "end_time": "2024-03-18T23:13:19.417985",
     "exception": false,
     "start_time": "2024-03-18T23:13:19.407209",
     "status": "completed"
    },
    "tags": []
   },
   "source": [
    "# <span style=\"color:#e74c3c;\"> Tokenizing </span>"
   ]
  },
  {
   "cell_type": "code",
   "execution_count": 10,
   "id": "464ddf08",
   "metadata": {
    "execution": {
     "iopub.execute_input": "2024-03-18T23:13:19.439061Z",
     "iopub.status.busy": "2024-03-18T23:13:19.438696Z",
     "iopub.status.idle": "2024-03-18T23:13:19.774017Z",
     "shell.execute_reply": "2024-03-18T23:13:19.773117Z"
    },
    "papermill": {
     "duration": 0.348759,
     "end_time": "2024-03-18T23:13:19.776466",
     "exception": false,
     "start_time": "2024-03-18T23:13:19.427707",
     "status": "completed"
    },
    "tags": []
   },
   "outputs": [],
   "source": [
    "MAX_LEN = 75\n",
    "\n",
    "X_train = tokenizer(text=train_data['preprocessed_text'].tolist(), add_special_tokens=True,\n",
    "                    max_length= MAX_LEN, truncation=True, padding=True, return_tensors='tf',\n",
    "                    return_token_type_ids=False, return_attention_mask=True, verbose=True)\n",
    "\n",
    "X_valid = tokenizer(text=val_data['preprocessed_text'].tolist(), add_special_tokens=True,\n",
    "                    max_length= MAX_LEN, truncation=True, padding=True, return_tensors='tf',\n",
    "                    return_token_type_ids=False, return_attention_mask=True, verbose=True)\n",
    "\n",
    "X_test = tokenizer(text=test_data['preprocessed_text'].tolist()[:40000], add_special_tokens=True,\n",
    "                   max_length= MAX_LEN, truncation=True, padding=True, return_tensors='tf',\n",
    "                   return_token_type_ids=False, return_attention_mask=True, verbose=True)"
   ]
  },
  {
   "cell_type": "markdown",
   "id": "75595bb4",
   "metadata": {
    "papermill": {
     "duration": 0.009525,
     "end_time": "2024-03-18T23:13:19.795612",
     "exception": false,
     "start_time": "2024-03-18T23:13:19.786087",
     "status": "completed"
    },
    "tags": []
   },
   "source": [
    "# <span style=\"color:#e74c3c;\"> Creating </span> tf.data Pipeline"
   ]
  },
  {
   "cell_type": "code",
   "execution_count": 11,
   "id": "1614adb2",
   "metadata": {
    "execution": {
     "iopub.execute_input": "2024-03-18T23:13:19.816399Z",
     "iopub.status.busy": "2024-03-18T23:13:19.816023Z",
     "iopub.status.idle": "2024-03-18T23:13:19.821186Z",
     "shell.execute_reply": "2024-03-18T23:13:19.820357Z"
    },
    "papermill": {
     "duration": 0.017827,
     "end_time": "2024-03-18T23:13:19.823137",
     "exception": false,
     "start_time": "2024-03-18T23:13:19.805310",
     "status": "completed"
    },
    "tags": []
   },
   "outputs": [],
   "source": [
    "# a function for tf.data pipeline\n",
    "def parsing(text, label_bias, label_message):\n",
    "    input_ids = text['input_ids']\n",
    "    attention_mask = text['attention_mask']\n",
    "    \n",
    "    return {'input_ids': input_ids, 'attention_mask' : attention_mask}, {'out_bias': label_bias, 'out_message': label_message}"
   ]
  },
  {
   "cell_type": "code",
   "execution_count": 12,
   "id": "20a27fe1",
   "metadata": {
    "execution": {
     "iopub.execute_input": "2024-03-18T23:13:19.843974Z",
     "iopub.status.busy": "2024-03-18T23:13:19.843219Z",
     "iopub.status.idle": "2024-03-18T23:13:19.946216Z",
     "shell.execute_reply": "2024-03-18T23:13:19.945288Z"
    },
    "papermill": {
     "duration": 0.116168,
     "end_time": "2024-03-18T23:13:19.948864",
     "exception": false,
     "start_time": "2024-03-18T23:13:19.832696",
     "status": "completed"
    },
    "tags": []
   },
   "outputs": [],
   "source": [
    "# tf.datasets\n",
    "train_loader = tf.data.Dataset.from_tensor_slices((X_train, train_data['encoded_bias'], train_data['encoded_message']))\n",
    "train_dataset = (train_loader.map(parsing, num_parallel_calls = AUTO).shuffle(BATCH_SIZE*20).batch(BATCH_SIZE).prefetch(AUTO))\n",
    "\n",
    "valid_loader = tf.data.Dataset.from_tensor_slices((X_valid, val_data['encoded_bias'], val_data['encoded_message']))\n",
    "valid_dataset = (valid_loader.map(parsing, num_parallel_calls = AUTO).batch(BATCH_SIZE).prefetch(AUTO))\n",
    "\n",
    "test_loader = tf.data.Dataset.from_tensor_slices((X_test, test_data['encoded_bias'], test_data['encoded_message']))\n",
    "test_dataset = (test_loader.map(parsing, num_parallel_calls = AUTO).batch(BATCH_SIZE).prefetch(AUTO))"
   ]
  },
  {
   "cell_type": "markdown",
   "id": "1a0d0b76",
   "metadata": {
    "papermill": {
     "duration": 0.009294,
     "end_time": "2024-03-18T23:13:19.967886",
     "exception": false,
     "start_time": "2024-03-18T23:13:19.958592",
     "status": "completed"
    },
    "tags": []
   },
   "source": [
    "# <span style=\"color:#e74c3c;\"> Fine-tuning TFDistilBert </span>  Model"
   ]
  },
  {
   "cell_type": "code",
   "execution_count": 13,
   "id": "cf882867",
   "metadata": {
    "execution": {
     "iopub.execute_input": "2024-03-18T23:13:19.989228Z",
     "iopub.status.busy": "2024-03-18T23:13:19.988859Z",
     "iopub.status.idle": "2024-03-18T23:13:24.502599Z",
     "shell.execute_reply": "2024-03-18T23:13:24.501504Z"
    },
    "papermill": {
     "duration": 4.529322,
     "end_time": "2024-03-18T23:13:24.506779",
     "exception": false,
     "start_time": "2024-03-18T23:13:19.977457",
     "status": "completed"
    },
    "tags": []
   },
   "outputs": [
    {
     "name": "stdout",
     "output_type": "stream",
     "text": [
      "Model: \"model\"\n",
      "__________________________________________________________________________________________________\n",
      " Layer (type)                   Output Shape         Param #     Connected to                     \n",
      "==================================================================================================\n",
      " input_ids (InputLayer)         [(None, 75)]         0           []                               \n",
      "                                                                                                  \n",
      " attention_mask (InputLayer)    [(None, 75)]         0           []                               \n",
      "                                                                                                  \n",
      " tf_distil_bert_model (TFDistil  TFBaseModelOutput(l  66362880   ['input_ids[0][0]',              \n",
      " BertModel)                     ast_hidden_state=(N               'attention_mask[0][0]']         \n",
      "                                one, 75, 768),                                                    \n",
      "                                 hidden_states=None                                               \n",
      "                                , attentions=None)                                                \n",
      "                                                                                                  \n",
      " global_max_pooling1d (GlobalMa  (None, 768)         0           ['tf_distil_bert_model[0][0]']   \n",
      " xPooling1D)                                                                                      \n",
      "                                                                                                  \n",
      " dense (Dense)                  (None, 128)          98432       ['global_max_pooling1d[0][0]']   \n",
      "                                                                                                  \n",
      " dropout_19 (Dropout)           (None, 128)          0           ['dense[0][0]']                  \n",
      "                                                                                                  \n",
      " dense_1 (Dense)                (None, 32)           4128        ['dropout_19[0][0]']             \n",
      "                                                                                                  \n",
      " out_bias (Dense)               (None, 2)            66          ['dense_1[0][0]']                \n",
      "                                                                                                  \n",
      " out_message (Dense)            (None, 9)            297         ['dense_1[0][0]']                \n",
      "                                                                                                  \n",
      "==================================================================================================\n",
      "Total params: 66,465,803\n",
      "Trainable params: 66,465,803\n",
      "Non-trainable params: 0\n",
      "__________________________________________________________________________________________________\n"
     ]
    }
   ],
   "source": [
    "input_ids = Input(shape=(MAX_LEN,), dtype=tf.int32, name=\"input_ids\")\n",
    "input_mask = Input(shape=(MAX_LEN,), dtype=tf.int32, name=\"attention_mask\")\n",
    "embeddings = distil_bert(input_ids, attention_mask = input_mask)[0] \n",
    "\n",
    "X = GlobalMaxPool1D()(embeddings)\n",
    "X = Dense(128, activation='gelu')(X)\n",
    "X = Dropout(0.1)(X)\n",
    "X = Dense(32,activation = 'gelu')(X)\n",
    "out_bias = Dense(2, activation = 'softmax', name = 'out_bias')(X)\n",
    "out_message = Dense(9,activation = 'softmax', name = 'out_message')(X)\n",
    "\n",
    "model = tf.keras.Model(inputs=[input_ids, input_mask], outputs=[out_bias, out_message])\n",
    "\n",
    "# for distilbert tuning\n",
    "model.layers[2].trainable = True\n",
    "\n",
    "model.compile(optimizer = tf.keras.optimizers.Adam(learning_rate=6e-06), loss = {\"out_bias\":  tf.keras.losses.SparseCategoricalCrossentropy(),\"out_message\": tf.keras.losses.SparseCategoricalCrossentropy()},\n",
    "              metrics = {'out_bias': 'acc', 'out_message': 'acc'})\n",
    "model.summary()\n",
    "\n",
    "my_callbacks = [tf.keras.callbacks.EarlyStopping(patience = 4, min_delta = 0.001),\n",
    "                tf.keras.callbacks.ModelCheckpoint('/kaggle/working/model.best.weights.h5', save_best_only=True, save_weights_only=True)]"
   ]
  },
  {
   "cell_type": "code",
   "execution_count": 14,
   "id": "b5f3b693",
   "metadata": {
    "collapsed": true,
    "execution": {
     "iopub.execute_input": "2024-03-18T23:13:24.532272Z",
     "iopub.status.busy": "2024-03-18T23:13:24.531905Z",
     "iopub.status.idle": "2024-03-18T23:13:24.764098Z",
     "shell.execute_reply": "2024-03-18T23:13:24.763178Z"
    },
    "jupyter": {
     "outputs_hidden": true
    },
    "papermill": {
     "duration": 0.248191,
     "end_time": "2024-03-18T23:13:24.766986",
     "exception": false,
     "start_time": "2024-03-18T23:13:24.518795",
     "status": "completed"
    },
    "tags": []
   },
   "outputs": [
    {
     "data": {
      "image/png": "[encoded data removed]",
      "text/plain": [
       "<IPython.core.display.Image object>"
      ]
     },
     "execution_count": 14,
     "metadata": {},
     "output_type": "execute_result"
    }
   ],
   "source": [
    "# plotting the model\n",
    "tf.keras.utils.plot_model(model, show_shapes=True, dpi=80)"
   ]
  },
  {
   "cell_type": "code",
   "execution_count": 15,
   "id": "04a11a4f",
   "metadata": {
    "execution": {
     "iopub.execute_input": "2024-03-18T23:13:24.795083Z",
     "iopub.status.busy": "2024-03-18T23:13:24.794721Z",
     "iopub.status.idle": "2024-03-19T00:32:16.398411Z",
     "shell.execute_reply": "2024-03-19T00:32:16.397220Z"
    },
    "papermill": {
     "duration": 4731.681117,
     "end_time": "2024-03-19T00:32:16.461514",
     "exception": false,
     "start_time": "2024-03-18T23:13:24.780397",
     "status": "completed"
    },
    "tags": []
   },
   "outputs": [
    {
     "name": "stdout",
     "output_type": "stream",
     "text": [
      "Epoch 1/10\n",
      "58/58 [==============================] - 473s 8s/step - loss: 2.5675 - out_bias_loss: 0.5698 - out_message_loss: 1.9977 - out_bias_acc: 0.7398 - out_message_acc: 0.2680 - val_loss: 2.4173 - val_out_bias_loss: 0.5648 - val_out_message_loss: 1.8525 - val_out_bias_acc: 0.7147 - val_out_message_acc: 0.2899\n",
      "Epoch 2/10\n",
      "58/58 [==============================] - 445s 8s/step - loss: 2.3317 - out_bias_loss: 0.5162 - out_message_loss: 1.8156 - out_bias_acc: 0.7439 - out_message_acc: 0.3257 - val_loss: 2.2565 - val_out_bias_loss: 0.4950 - val_out_message_loss: 1.7615 - val_out_bias_acc: 0.7408 - val_out_message_acc: 0.3911\n",
      "Epoch 3/10\n",
      "58/58 [==============================] - 451s 8s/step - loss: 2.2160 - out_bias_loss: 0.4705 - out_message_loss: 1.7455 - out_bias_acc: 0.7718 - out_message_acc: 0.3882 - val_loss: 2.1989 - val_out_bias_loss: 0.4768 - val_out_message_loss: 1.7221 - val_out_bias_acc: 0.7546 - val_out_message_acc: 0.4248\n",
      "Epoch 4/10\n",
      "58/58 [==============================] - 458s 8s/step - loss: 2.1525 - out_bias_loss: 0.4495 - out_message_loss: 1.7030 - out_bias_acc: 0.7861 - out_message_acc: 0.4082 - val_loss: 2.1636 - val_out_bias_loss: 0.4567 - val_out_message_loss: 1.7068 - val_out_bias_acc: 0.7730 - val_out_message_acc: 0.4141\n",
      "Epoch 5/10\n",
      "58/58 [==============================] - 461s 8s/step - loss: 2.1044 - out_bias_loss: 0.4340 - out_message_loss: 1.6704 - out_bias_acc: 0.7951 - out_message_acc: 0.4169 - val_loss: 2.1488 - val_out_bias_loss: 0.4623 - val_out_message_loss: 1.6866 - val_out_bias_acc: 0.7715 - val_out_message_acc: 0.4218\n",
      "Epoch 6/10\n",
      "58/58 [==============================] - 448s 8s/step - loss: 2.0534 - out_bias_loss: 0.4261 - out_message_loss: 1.6274 - out_bias_acc: 0.7953 - out_message_acc: 0.4272 - val_loss: 2.1453 - val_out_bias_loss: 0.4659 - val_out_message_loss: 1.6794 - val_out_bias_acc: 0.7638 - val_out_message_acc: 0.4156\n",
      "Epoch 7/10\n",
      "58/58 [==============================] - 453s 8s/step - loss: 1.9964 - out_bias_loss: 0.4036 - out_message_loss: 1.5928 - out_bias_acc: 0.8162 - out_message_acc: 0.4388 - val_loss: 2.1419 - val_out_bias_loss: 0.4669 - val_out_message_loss: 1.6750 - val_out_bias_acc: 0.7623 - val_out_message_acc: 0.4049\n",
      "Epoch 8/10\n",
      "58/58 [==============================] - 454s 8s/step - loss: 1.9506 - out_bias_loss: 0.3953 - out_message_loss: 1.5552 - out_bias_acc: 0.8240 - out_message_acc: 0.4564 - val_loss: 2.1507 - val_out_bias_loss: 0.4720 - val_out_message_loss: 1.6787 - val_out_bias_acc: 0.7684 - val_out_message_acc: 0.3957\n",
      "Epoch 9/10\n",
      "58/58 [==============================] - 450s 8s/step - loss: 1.8734 - out_bias_loss: 0.3740 - out_message_loss: 1.4994 - out_bias_acc: 0.8346 - out_message_acc: 0.4756 - val_loss: 2.1442 - val_out_bias_loss: 0.4794 - val_out_message_loss: 1.6648 - val_out_bias_acc: 0.7638 - val_out_message_acc: 0.4141\n",
      "Epoch 10/10\n",
      "58/58 [==============================] - 447s 8s/step - loss: 1.8051 - out_bias_loss: 0.3500 - out_message_loss: 1.4551 - out_bias_acc: 0.8517 - out_message_acc: 0.4992 - val_loss: 2.1531 - val_out_bias_loss: 0.4894 - val_out_message_loss: 1.6637 - val_out_bias_acc: 0.7577 - val_out_message_acc: 0.4034\n"
     ]
    }
   ],
   "source": [
    "# training\n",
    "hist = model.fit(train_dataset, validation_data = valid_dataset, epochs = 10, callbacks = my_callbacks)"
   ]
  },
  {
   "cell_type": "markdown",
   "id": "4e29f3d6",
   "metadata": {
    "papermill": {
     "duration": 0.062153,
     "end_time": "2024-03-19T00:32:16.586652",
     "exception": false,
     "start_time": "2024-03-19T00:32:16.524499",
     "status": "completed"
    },
    "tags": []
   },
   "source": [
    "# <span style=\"color:#e74c3c;\"> Test </span>  Predictions"
   ]
  },
  {
   "cell_type": "code",
   "execution_count": 16,
   "id": "6e119a06",
   "metadata": {
    "execution": {
     "iopub.execute_input": "2024-03-19T00:32:16.712093Z",
     "iopub.status.busy": "2024-03-19T00:32:16.711728Z",
     "iopub.status.idle": "2024-03-19T00:32:39.455428Z",
     "shell.execute_reply": "2024-03-19T00:32:39.454524Z"
    },
    "papermill": {
     "duration": 22.809049,
     "end_time": "2024-03-19T00:32:39.457854",
     "exception": false,
     "start_time": "2024-03-19T00:32:16.648805",
     "status": "completed"
    },
    "tags": []
   },
   "outputs": [
    {
     "name": "stdout",
     "output_type": "stream",
     "text": [
      "10/10 [==============================] - 23s 2s/step\n"
     ]
    }
   ],
   "source": [
    "# test predictions\n",
    "pred = model.predict(test_dataset)\n",
    "\n",
    "test_pred_bias = np.argmax(pred[0], axis = 1)\n",
    "y_test_bias = test_data['encoded_bias'].values\n",
    "\n",
    "test_pred_message = np.argmax(pred[1], axis = 1)\n",
    "y_test_message = test_data['encoded_message'].values"
   ]
  },
  {
   "cell_type": "code",
   "execution_count": 17,
   "id": "acb13717",
   "metadata": {
    "execution": {
     "iopub.execute_input": "2024-03-19T00:32:39.592956Z",
     "iopub.status.busy": "2024-03-19T00:32:39.592600Z",
     "iopub.status.idle": "2024-03-19T00:32:39.600320Z",
     "shell.execute_reply": "2024-03-19T00:32:39.599387Z"
    },
    "papermill": {
     "duration": 0.077053,
     "end_time": "2024-03-19T00:32:39.602224",
     "exception": false,
     "start_time": "2024-03-19T00:32:39.525171",
     "status": "completed"
    },
    "tags": []
   },
   "outputs": [],
   "source": [
    "# a function for calculating and plotting predictions \n",
    "def plot_prediction_results(y_true, y_pred, label_encoder):\n",
    "    \n",
    "    mse = mean_squared_error(y_true, y_pred)\n",
    "    f1 = f1_score(y_true, y_pred, average = 'weighted')\n",
    "    acc = accuracy_score(y_true, y_pred)\n",
    "    cm = confusion_matrix(y_true, y_pred)\n",
    "    \n",
    "    clf = classification_report(y_true, y_pred, target_names = list(label_encoder.classes_))\n",
    "    \n",
    "    print('Mean Squared Error :\\t{0:.5f}'.format(mse))\n",
    "    print('Weighted F1 Score :\\t{0:.3f}'.format(f1))\n",
    "    print('Accuracy Score :\\t{0:.3f} %'.format(acc*100))\n",
    "    print('--'*35)\n",
    "    \n",
    "    print('\\n Classification Report:\\n',clf)\n",
    "    print('--'*35)\n",
    "\n",
    "    print('\\n Confusion Matrix: \\n')\n",
    "\n",
    "    cmd = ConfusionMatrixDisplay.from_predictions(y_true, y_pred, display_labels = list(label_encoder.classes_),  xticks_rotation=\"vertical\", values_format = '2g', cmap = 'bone', colorbar = False)"
   ]
  },
  {
   "cell_type": "markdown",
   "id": "658344a6",
   "metadata": {
    "papermill": {
     "duration": 0.062911,
     "end_time": "2024-03-19T00:32:39.727785",
     "exception": false,
     "start_time": "2024-03-19T00:32:39.664874",
     "status": "completed"
    },
    "tags": []
   },
   "source": [
    "# <span style=\"color:#e74c3c;\"> (Bias) Test </span>  Results"
   ]
  },
  {
   "cell_type": "code",
   "execution_count": 18,
   "id": "3f484bcc",
   "metadata": {
    "execution": {
     "iopub.execute_input": "2024-03-19T00:32:39.856082Z",
     "iopub.status.busy": "2024-03-19T00:32:39.855249Z",
     "iopub.status.idle": "2024-03-19T00:32:40.073956Z",
     "shell.execute_reply": "2024-03-19T00:32:40.072935Z"
    },
    "papermill": {
     "duration": 0.286918,
     "end_time": "2024-03-19T00:32:40.077748",
     "exception": false,
     "start_time": "2024-03-19T00:32:39.790830",
     "status": "completed"
    },
    "tags": []
   },
   "outputs": [
    {
     "name": "stdout",
     "output_type": "stream",
     "text": [
      "Mean Squared Error :\t0.20911\n",
      "Weighted F1 Score :\t0.781\n",
      "Accuracy Score :\t79.089 %\n",
      "----------------------------------------------------------------------\n",
      "\n",
      " Classification Report:\n",
      "               precision    recall  f1-score   support\n",
      "\n",
      "     neutral       0.83      0.90      0.86       436\n",
      "    partisan       0.64      0.48      0.55       157\n",
      "\n",
      "    accuracy                           0.79       593\n",
      "   macro avg       0.73      0.69      0.71       593\n",
      "weighted avg       0.78      0.79      0.78       593\n",
      "\n",
      "----------------------------------------------------------------------\n",
      "\n",
      " Confusion Matrix: \n",
      "\n"
     ]
    },
    {
     "data": {
      "image/png": "[encoded data removed]",
      "text/plain": [
       "<Figure size 640x480 with 1 Axes>"
      ]
     },
     "metadata": {},
     "output_type": "display_data"
    }
   ],
   "source": [
    "plot_prediction_results(y_test_bias, test_pred_bias, LE_for_bias)"
   ]
  },
  {
   "cell_type": "markdown",
   "id": "020f4e33",
   "metadata": {
    "papermill": {
     "duration": 0.063707,
     "end_time": "2024-03-19T00:32:40.227198",
     "exception": false,
     "start_time": "2024-03-19T00:32:40.163491",
     "status": "completed"
    },
    "tags": []
   },
   "source": [
    "# <span style=\"color:#e74c3c;\"> (Message) Test </span>  Results"
   ]
  },
  {
   "cell_type": "code",
   "execution_count": 19,
   "id": "a8b227f8",
   "metadata": {
    "execution": {
     "iopub.execute_input": "2024-03-19T00:32:40.359057Z",
     "iopub.status.busy": "2024-03-19T00:32:40.358198Z",
     "iopub.status.idle": "2024-03-19T00:32:40.828444Z",
     "shell.execute_reply": "2024-03-19T00:32:40.827642Z"
    },
    "papermill": {
     "duration": 0.538025,
     "end_time": "2024-03-19T00:32:40.830590",
     "exception": false,
     "start_time": "2024-03-19T00:32:40.292565",
     "status": "completed"
    },
    "tags": []
   },
   "outputs": [
    {
     "name": "stderr",
     "output_type": "stream",
     "text": [
      "/opt/conda/lib/python3.10/site-packages/sklearn/metrics/_classification.py:1344: UndefinedMetricWarning: Precision and F-score are ill-defined and being set to 0.0 in labels with no predicted samples. Use `zero_division` parameter to control this behavior.\n",
      "  _warn_prf(average, modifier, msg_start, len(result))\n",
      "/opt/conda/lib/python3.10/site-packages/sklearn/metrics/_classification.py:1344: UndefinedMetricWarning: Precision and F-score are ill-defined and being set to 0.0 in labels with no predicted samples. Use `zero_division` parameter to control this behavior.\n",
      "  _warn_prf(average, modifier, msg_start, len(result))\n",
      "/opt/conda/lib/python3.10/site-packages/sklearn/metrics/_classification.py:1344: UndefinedMetricWarning: Precision and F-score are ill-defined and being set to 0.0 in labels with no predicted samples. Use `zero_division` parameter to control this behavior.\n",
      "  _warn_prf(average, modifier, msg_start, len(result))\n"
     ]
    },
    {
     "name": "stdout",
     "output_type": "stream",
     "text": [
      "Mean Squared Error :\t7.93255\n",
      "Weighted F1 Score :\t0.377\n",
      "Accuracy Score :\t41.653 %\n",
      "----------------------------------------------------------------------\n",
      "\n",
      " Classification Report:\n",
      "               precision    recall  f1-score   support\n",
      "\n",
      "      attack       0.00      0.00      0.00        20\n",
      "constituency       0.00      0.00      0.00        18\n",
      " information       0.25      0.32      0.28        77\n",
      "       media       0.46      0.33      0.39        33\n",
      "mobilization       0.00      0.00      0.00        15\n",
      "       other       0.00      0.00      0.00        14\n",
      "    personal       0.44      0.60      0.51       137\n",
      "      policy       0.53      0.67      0.59       169\n",
      "     support       0.24      0.15      0.18       110\n",
      "\n",
      "    accuracy                           0.42       593\n",
      "   macro avg       0.21      0.23      0.22       593\n",
      "weighted avg       0.35      0.42      0.38       593\n",
      "\n",
      "----------------------------------------------------------------------\n",
      "\n",
      " Confusion Matrix: \n",
      "\n"
     ]
    },
    {
     "data": {
      "image/png": "[encoded data removed]",
      "text/plain": [
       "<Figure size 640x480 with 1 Axes>"
      ]
     },
     "metadata": {},
     "output_type": "display_data"
    }
   ],
   "source": [
    "plot_prediction_results(y_test_message, test_pred_message, LE_for_message)"
   ]
  }
 ],
 "metadata": {
  "kaggle": {
   "accelerator": "gpu",
   "dataSources": [
    {
     "datasetId": 4479151,
     "sourceId": 7678054,
     "sourceType": "datasetVersion"
    }
   ],
   "dockerImageVersionId": 30665,
   "isGpuEnabled": true,
   "isInternetEnabled": true,
   "language": "python",
   "sourceType": "notebook"
  },
  "kernelspec": {
   "display_name": "Python 3",
   "language": "python",
   "name": "python3"
  },
  "language_info": {
   "codemirror_mode": {
    "name": "ipython",
    "version": 3
   },
   "file_extension": ".py",
   "mimetype": "text/x-python",
   "name": "python",
   "nbconvert_exporter": "python",
   "pygments_lexer": "ipython3",
   "version": "3.10.13"
  },
  "papermill": {
   "default_parameters": {},
   "duration": 4895.204732,
   "end_time": "2024-03-19T00:32:44.592515",
   "environment_variables": {},
   "exception": null,
   "input_path": "__notebook__.ipynb",
   "output_path": "__notebook__.ipynb",
   "parameters": {},
   "start_time": "2024-03-18T23:11:09.387783",
   "version": "2.5.0"
  },
  "widgets": {
   "application/vnd.jupyter.widget-state+json": {
    "state": {
     "052ee7da7a4f47a2bbfc8b9c1b563eda": {
      "model_module": "@jupyter-widgets/controls",
      "model_module_version": "1.5.0",
      "model_name": "HTMLModel",
      "state": {
       "_dom_classes": [],
       "_model_module": "@jupyter-widgets/controls",
       "_model_module_version": "1.5.0",
       "_model_name": "HTMLModel",
       "_view_count": null,
       "_view_module": "@jupyter-widgets/controls",
       "_view_module_version": "1.5.0",
       "_view_name": "HTMLView",
       "description": "",
       "description_tooltip": null,
       "layout": "IPY_MODEL_8c06a08559d544ce9e2483b02e294367",
       "placeholder": "​",
       "style": "IPY_MODEL_32ec7c215a134925a2b64c9135c5f243",
       "value": " 268M/268M [00:00&lt;00:00, 357MB/s]"
      }
     },
     "082b9b432172433fa74bfed50404eaf2": {
      "model_module": "@jupyter-widgets/controls",
      "model_module_version": "1.5.0",
      "model_name": "FloatProgressModel",
      "state": {
       "_dom_classes": [],
       "_model_module": "@jupyter-widgets/controls",
       "_model_module_version": "1.5.0",
       "_model_name": "FloatProgressModel",
       "_view_count": null,
       "_view_module": "@jupyter-widgets/controls",
       "_view_module_version": "1.5.0",
       "_view_name": "ProgressView",
       "bar_style": "success",
       "description": "",
       "description_tooltip": null,
       "layout": "IPY_MODEL_98cbd2b14dfd4132aa759abdcbee807d",
       "max": 231508.0,
       "min": 0.0,
       "orientation": "horizontal",
       "style": "IPY_MODEL_262cd22ce9d0404f99f570e656507dee",
       "value": 231508.0
      }
     },
     "08e4d658d9b94cd8816e5e53ea149fb2": {
      "model_module": "@jupyter-widgets/controls",
      "model_module_version": "1.5.0",
      "model_name": "ProgressStyleModel",
      "state": {
       "_model_module": "@jupyter-widgets/controls",
       "_model_module_version": "1.5.0",
       "_model_name": "ProgressStyleModel",
       "_view_count": null,
       "_view_module": "@jupyter-widgets/base",
       "_view_module_version": "1.2.0",
       "_view_name": "StyleView",
       "bar_color": null,
       "description_width": ""
      }
     },
     "0b789279c6f44e54af4a5b9f151fff2e": {
      "model_module": "@jupyter-widgets/base",
      "model_module_version": "1.2.0",
      "model_name": "LayoutModel",
      "state": {
       "_model_module": "@jupyter-widgets/base",
       "_model_module_version": "1.2.0",
       "_model_name": "LayoutModel",
       "_view_count": null,
       "_view_module": "@jupyter-widgets/base",
       "_view_module_version": "1.2.0",
       "_view_name": "LayoutView",
       "align_content": null,
       "align_items": null,
       "align_self": null,
       "border": null,
       "bottom": null,
       "display": null,
       "flex": null,
       "flex_flow": null,
       "grid_area": null,
       "grid_auto_columns": null,
       "grid_auto_flow": null,
       "grid_auto_rows": null,
       "grid_column": null,
       "grid_gap": null,
       "grid_row": null,
       "grid_template_areas": null,
       "grid_template_columns": null,
       "grid_template_rows": null,
       "height": null,
       "justify_content": null,
       "justify_items": null,
       "left": null,
       "margin": null,
       "max_height": null,
       "max_width": null,
       "min_height": null,
       "min_width": null,
       "object_fit": null,
       "object_position": null,
       "order": null,
       "overflow": null,
       "overflow_x": null,
       "overflow_y": null,
       "padding": null,
       "right": null,
       "top": null,
       "visibility": null,
       "width": null
      }
     },
     "0d793d79dbc248949e1be76b4f5e5d0c": {
      "model_module": "@jupyter-widgets/base",
      "model_module_version": "1.2.0",
      "model_name": "LayoutModel",
      "state": {
       "_model_module": "@jupyter-widgets/base",
       "_model_module_version": "1.2.0",
       "_model_name": "LayoutModel",
       "_view_count": null,
       "_view_module": "@jupyter-widgets/base",
       "_view_module_version": "1.2.0",
       "_view_name": "LayoutView",
       "align_content": null,
       "align_items": null,
       "align_self": null,
       "border": null,
       "bottom": null,
       "display": null,
       "flex": null,
       "flex_flow": null,
       "grid_area": null,
       "grid_auto_columns": null,
       "grid_auto_flow": null,
       "grid_auto_rows": null,
       "grid_column": null,
       "grid_gap": null,
       "grid_row": null,
       "grid_template_areas": null,
       "grid_template_columns": null,
       "grid_template_rows": null,
       "height": null,
       "justify_content": null,
       "justify_items": null,
       "left": null,
       "margin": null,
       "max_height": null,
       "max_width": null,
       "min_height": null,
       "min_width": null,
       "object_fit": null,
       "object_position": null,
       "order": null,
       "overflow": null,
       "overflow_x": null,
       "overflow_y": null,
       "padding": null,
       "right": null,
       "top": null,
       "visibility": null,
       "width": null
      }
     },
     "212dc64a0bd24f03b473dc18be3f6964": {
      "model_module": "@jupyter-widgets/base",
      "model_module_version": "1.2.0",
      "model_name": "LayoutModel",
      "state": {
       "_model_module": "@jupyter-widgets/base",
       "_model_module_version": "1.2.0",
       "_model_name": "LayoutModel",
       "_view_count": null,
       "_view_module": "@jupyter-widgets/base",
       "_view_module_version": "1.2.0",
       "_view_name": "LayoutView",
       "align_content": null,
       "align_items": null,
       "align_self": null,
       "border": null,
       "bottom": null,
       "display": null,
       "flex": null,
       "flex_flow": null,
       "grid_area": null,
       "grid_auto_columns": null,
       "grid_auto_flow": null,
       "grid_auto_rows": null,
       "grid_column": null,
       "grid_gap": null,
       "grid_row": null,
       "grid_template_areas": null,
       "grid_template_columns": null,
       "grid_template_rows": null,
       "height": null,
       "justify_content": null,
       "justify_items": null,
       "left": null,
       "margin": null,
       "max_height": null,
       "max_width": null,
       "min_height": null,
       "min_width": null,
       "object_fit": null,
       "object_position": null,
       "order": null,
       "overflow": null,
       "overflow_x": null,
       "overflow_y": null,
       "padding": null,
       "right": null,
       "top": null,
       "visibility": null,
       "width": null
      }
     },
     "23015fe99be84c228a296fa3a2e5be4a": {
      "model_module": "@jupyter-widgets/controls",
      "model_module_version": "1.5.0",
      "model_name": "ProgressStyleModel",
      "state": {
       "_model_module": "@jupyter-widgets/controls",
       "_model_module_version": "1.5.0",
       "_model_name": "ProgressStyleModel",
       "_view_count": null,
       "_view_module": "@jupyter-widgets/base",
       "_view_module_version": "1.2.0",
       "_view_name": "StyleView",
       "bar_color": null,
       "description_width": ""
      }
     },
     "250b351bb35c4588bb06bede2b33c78d": {
      "model_module": "@jupyter-widgets/controls",
      "model_module_version": "1.5.0",
      "model_name": "HTMLModel",
      "state": {
       "_dom_classes": [],
       "_model_module": "@jupyter-widgets/controls",
       "_model_module_version": "1.5.0",
       "_model_name": "HTMLModel",
       "_view_count": null,
       "_view_module": "@jupyter-widgets/controls",
       "_view_module_version": "1.5.0",
       "_view_name": "HTMLView",
       "description": "",
       "description_tooltip": null,
       "layout": "IPY_MODEL_a5c7fa999f90436082cfa2d4f79f4108",
       "placeholder": "​",
       "style": "IPY_MODEL_9f4c0dc628c044708193d3bed574898f",
       "value": " 466k/466k [00:00&lt;00:00, 780kB/s]"
      }
     },
     "2513577c76e446be8d3506146c3bc58d": {
      "model_module": "@jupyter-widgets/controls",
      "model_module_version": "1.5.0",
      "model_name": "HTMLModel",
      "state": {
       "_dom_classes": [],
       "_model_module": "@jupyter-widgets/controls",
       "_model_module_version": "1.5.0",
       "_model_name": "HTMLModel",
       "_view_count": null,
       "_view_module": "@jupyter-widgets/controls",
       "_view_module_version": "1.5.0",
       "_view_name": "HTMLView",
       "description": "",
       "description_tooltip": null,
       "layout": "IPY_MODEL_212dc64a0bd24f03b473dc18be3f6964",
       "placeholder": "​",
       "style": "IPY_MODEL_a6f838aef5a945b5aa0b77022d99efd1",
       "value": "vocab.txt: 100%"
      }
     },
     "262cd22ce9d0404f99f570e656507dee": {
      "model_module": "@jupyter-widgets/controls",
      "model_module_version": "1.5.0",
      "model_name": "ProgressStyleModel",
      "state": {
       "_model_module": "@jupyter-widgets/controls",
       "_model_module_version": "1.5.0",
       "_model_name": "ProgressStyleModel",
       "_view_count": null,
       "_view_module": "@jupyter-widgets/base",
       "_view_module_version": "1.2.0",
       "_view_name": "StyleView",
       "bar_color": null,
       "description_width": ""
      }
     },
     "2f0882d1ddab45918270fdf573375314": {
      "model_module": "@jupyter-widgets/controls",
      "model_module_version": "1.5.0",
      "model_name": "HTMLModel",
      "state": {
       "_dom_classes": [],
       "_model_module": "@jupyter-widgets/controls",
       "_model_module_version": "1.5.0",
       "_model_name": "HTMLModel",
       "_view_count": null,
       "_view_module": "@jupyter-widgets/controls",
       "_view_module_version": "1.5.0",
       "_view_name": "HTMLView",
       "description": "",
       "description_tooltip": null,
       "layout": "IPY_MODEL_d63b8ccedd8c4dfaafc9c4ae4027aa57",
       "placeholder": "​",
       "style": "IPY_MODEL_9b31874dd42a4661940b4374065fa0b3",
       "value": " 483/483 [00:00&lt;00:00, 35.8kB/s]"
      }
     },
     "30dc0255d69a48a6b75bd2b205795b90": {
      "model_module": "@jupyter-widgets/controls",
      "model_module_version": "1.5.0",
      "model_name": "HTMLModel",
      "state": {
       "_dom_classes": [],
       "_model_module": "@jupyter-widgets/controls",
       "_model_module_version": "1.5.0",
       "_model_name": "HTMLModel",
       "_view_count": null,
       "_view_module": "@jupyter-widgets/controls",
       "_view_module_version": "1.5.0",
       "_view_name": "HTMLView",
       "description": "",
       "description_tooltip": null,
       "layout": "IPY_MODEL_965ea50927a44baf8387e9456fc71a72",
       "placeholder": "​",
       "style": "IPY_MODEL_709da456aab3476da080cfa26cec9901",
       "value": "tokenizer.json: 100%"
      }
     },
     "32ec7c215a134925a2b64c9135c5f243": {
      "model_module": "@jupyter-widgets/controls",
      "model_module_version": "1.5.0",
      "model_name": "DescriptionStyleModel",
      "state": {
       "_model_module": "@jupyter-widgets/controls",
       "_model_module_version": "1.5.0",
       "_model_name": "DescriptionStyleModel",
       "_view_count": null,
       "_view_module": "@jupyter-widgets/base",
       "_view_module_version": "1.2.0",
       "_view_name": "StyleView",
       "description_width": ""
      }
     },
     "33327a51afdc4f5ea2119861636bc90c": {
      "model_module": "@jupyter-widgets/controls",
      "model_module_version": "1.5.0",
      "model_name": "DescriptionStyleModel",
      "state": {
       "_model_module": "@jupyter-widgets/controls",
       "_model_module_version": "1.5.0",
       "_model_name": "DescriptionStyleModel",
       "_view_count": null,
       "_view_module": "@jupyter-widgets/base",
       "_view_module_version": "1.2.0",
       "_view_name": "StyleView",
       "description_width": ""
      }
     },
     "41d254226d6843b88ec47d190fc9d60f": {
      "model_module": "@jupyter-widgets/controls",
      "model_module_version": "1.5.0",
      "model_name": "HBoxModel",
      "state": {
       "_dom_classes": [],
       "_model_module": "@jupyter-widgets/controls",
       "_model_module_version": "1.5.0",
       "_model_name": "HBoxModel",
       "_view_count": null,
       "_view_module": "@jupyter-widgets/controls",
       "_view_module_version": "1.5.0",
       "_view_name": "HBoxView",
       "box_style": "",
       "children": [
        "IPY_MODEL_d5ac120e60a04a92b88fb6e7de053106",
        "IPY_MODEL_9a3647c5366b4fbdb877a1979489a9a2",
        "IPY_MODEL_2f0882d1ddab45918270fdf573375314"
       ],
       "layout": "IPY_MODEL_ab7955191f3a4eca844262342e3a16bc"
      }
     },
     "43a08f0dab344224862a912f6e43ba13": {
      "model_module": "@jupyter-widgets/base",
      "model_module_version": "1.2.0",
      "model_name": "LayoutModel",
      "state": {
       "_model_module": "@jupyter-widgets/base",
       "_model_module_version": "1.2.0",
       "_model_name": "LayoutModel",
       "_view_count": null,
       "_view_module": "@jupyter-widgets/base",
       "_view_module_version": "1.2.0",
       "_view_name": "LayoutView",
       "align_content": null,
       "align_items": null,
       "align_self": null,
       "border": null,
       "bottom": null,
       "display": null,
       "flex": null,
       "flex_flow": null,
       "grid_area": null,
       "grid_auto_columns": null,
       "grid_auto_flow": null,
       "grid_auto_rows": null,
       "grid_column": null,
       "grid_gap": null,
       "grid_row": null,
       "grid_template_areas": null,
       "grid_template_columns": null,
       "grid_template_rows": null,
       "height": null,
       "justify_content": null,
       "justify_items": null,
       "left": null,
       "margin": null,
       "max_height": null,
       "max_width": null,
       "min_height": null,
       "min_width": null,
       "object_fit": null,
       "object_position": null,
       "order": null,
       "overflow": null,
       "overflow_x": null,
       "overflow_y": null,
       "padding": null,
       "right": null,
       "top": null,
       "visibility": null,
       "width": null
      }
     },
     "53e9bab05b8c46f2b4233ba939939764": {
      "model_module": "@jupyter-widgets/controls",
      "model_module_version": "1.5.0",
      "model_name": "HTMLModel",
      "state": {
       "_dom_classes": [],
       "_model_module": "@jupyter-widgets/controls",
       "_model_module_version": "1.5.0",
       "_model_name": "HTMLModel",
       "_view_count": null,
       "_view_module": "@jupyter-widgets/controls",
       "_view_module_version": "1.5.0",
       "_view_name": "HTMLView",
       "description": "",
       "description_tooltip": null,
       "layout": "IPY_MODEL_ca2280bf44a84020b19148e6ae50a148",
       "placeholder": "​",
       "style": "IPY_MODEL_a63a7f19524c41dea9755b3425dd1307",
       "value": "tokenizer_config.json: 100%"
      }
     },
     "62d1a734911a4ae6b63079d941ee05a2": {
      "model_module": "@jupyter-widgets/controls",
      "model_module_version": "1.5.0",
      "model_name": "FloatProgressModel",
      "state": {
       "_dom_classes": [],
       "_model_module": "@jupyter-widgets/controls",
       "_model_module_version": "1.5.0",
       "_model_name": "FloatProgressModel",
       "_view_count": null,
       "_view_module": "@jupyter-widgets/controls",
       "_view_module_version": "1.5.0",
       "_view_name": "ProgressView",
       "bar_style": "success",
       "description": "",
       "description_tooltip": null,
       "layout": "IPY_MODEL_f4f344f2bbde4c6fa15946a518d4e460",
       "max": 466062.0,
       "min": 0.0,
       "orientation": "horizontal",
       "style": "IPY_MODEL_08e4d658d9b94cd8816e5e53ea149fb2",
       "value": 466062.0
      }
     },
     "631d8d611d744bbd82da415c2ad976bd": {
      "model_module": "@jupyter-widgets/controls",
      "model_module_version": "1.5.0",
      "model_name": "HTMLModel",
      "state": {
       "_dom_classes": [],
       "_model_module": "@jupyter-widgets/controls",
       "_model_module_version": "1.5.0",
       "_model_name": "HTMLModel",
       "_view_count": null,
       "_view_module": "@jupyter-widgets/controls",
       "_view_module_version": "1.5.0",
       "_view_name": "HTMLView",
       "description": "",
       "description_tooltip": null,
       "layout": "IPY_MODEL_6bf6090bb6b54bc1a1280a044a5411c5",
       "placeholder": "​",
       "style": "IPY_MODEL_dd21769c6f5b4c19903bf9303769b167",
       "value": "model.safetensors: 100%"
      }
     },
     "6bf6090bb6b54bc1a1280a044a5411c5": {
      "model_module": "@jupyter-widgets/base",
      "model_module_version": "1.2.0",
      "model_name": "LayoutModel",
      "state": {
       "_model_module": "@jupyter-widgets/base",
       "_model_module_version": "1.2.0",
       "_model_name": "LayoutModel",
       "_view_count": null,
       "_view_module": "@jupyter-widgets/base",
       "_view_module_version": "1.2.0",
       "_view_name": "LayoutView",
       "align_content": null,
       "align_items": null,
       "align_self": null,
       "border": null,
       "bottom": null,
       "display": null,
       "flex": null,
       "flex_flow": null,
       "grid_area": null,
       "grid_auto_columns": null,
       "grid_auto_flow": null,
       "grid_auto_rows": null,
       "grid_column": null,
       "grid_gap": null,
       "grid_row": null,
       "grid_template_areas": null,
       "grid_template_columns": null,
       "grid_template_rows": null,
       "height": null,
       "justify_content": null,
       "justify_items": null,
       "left": null,
       "margin": null,
       "max_height": null,
       "max_width": null,
       "min_height": null,
       "min_width": null,
       "object_fit": null,
       "object_position": null,
       "order": null,
       "overflow": null,
       "overflow_x": null,
       "overflow_y": null,
       "padding": null,
       "right": null,
       "top": null,
       "visibility": null,
       "width": null
      }
     },
     "709da456aab3476da080cfa26cec9901": {
      "model_module": "@jupyter-widgets/controls",
      "model_module_version": "1.5.0",
      "model_name": "DescriptionStyleModel",
      "state": {
       "_model_module": "@jupyter-widgets/controls",
       "_model_module_version": "1.5.0",
       "_model_name": "DescriptionStyleModel",
       "_view_count": null,
       "_view_module": "@jupyter-widgets/base",
       "_view_module_version": "1.2.0",
       "_view_name": "StyleView",
       "description_width": ""
      }
     },
     "7311cbd918ed4dd391004fec255f5383": {
      "model_module": "@jupyter-widgets/controls",
      "model_module_version": "1.5.0",
      "model_name": "HBoxModel",
      "state": {
       "_dom_classes": [],
       "_model_module": "@jupyter-widgets/controls",
       "_model_module_version": "1.5.0",
       "_model_name": "HBoxModel",
       "_view_count": null,
       "_view_module": "@jupyter-widgets/controls",
       "_view_module_version": "1.5.0",
       "_view_name": "HBoxView",
       "box_style": "",
       "children": [
        "IPY_MODEL_30dc0255d69a48a6b75bd2b205795b90",
        "IPY_MODEL_62d1a734911a4ae6b63079d941ee05a2",
        "IPY_MODEL_250b351bb35c4588bb06bede2b33c78d"
       ],
       "layout": "IPY_MODEL_d10966b807ed4f2797c40efd7b3f9534"
      }
     },
     "74331e5cf1334bb1b64a9a15ca596876": {
      "model_module": "@jupyter-widgets/controls",
      "model_module_version": "1.5.0",
      "model_name": "HBoxModel",
      "state": {
       "_dom_classes": [],
       "_model_module": "@jupyter-widgets/controls",
       "_model_module_version": "1.5.0",
       "_model_name": "HBoxModel",
       "_view_count": null,
       "_view_module": "@jupyter-widgets/controls",
       "_view_module_version": "1.5.0",
       "_view_name": "HBoxView",
       "box_style": "",
       "children": [
        "IPY_MODEL_2513577c76e446be8d3506146c3bc58d",
        "IPY_MODEL_082b9b432172433fa74bfed50404eaf2",
        "IPY_MODEL_ebd286d851fa45a199b1b2e0a897925b"
       ],
       "layout": "IPY_MODEL_d0fffe1b56764d73991be0dc1ac4525f"
      }
     },
     "76c6e58962064743b3d54a7d614fa173": {
      "model_module": "@jupyter-widgets/base",
      "model_module_version": "1.2.0",
      "model_name": "LayoutModel",
      "state": {
       "_model_module": "@jupyter-widgets/base",
       "_model_module_version": "1.2.0",
       "_model_name": "LayoutModel",
       "_view_count": null,
       "_view_module": "@jupyter-widgets/base",
       "_view_module_version": "1.2.0",
       "_view_name": "LayoutView",
       "align_content": null,
       "align_items": null,
       "align_self": null,
       "border": null,
       "bottom": null,
       "display": null,
       "flex": null,
       "flex_flow": null,
       "grid_area": null,
       "grid_auto_columns": null,
       "grid_auto_flow": null,
       "grid_auto_rows": null,
       "grid_column": null,
       "grid_gap": null,
       "grid_row": null,
       "grid_template_areas": null,
       "grid_template_columns": null,
       "grid_template_rows": null,
       "height": null,
       "justify_content": null,
       "justify_items": null,
       "left": null,
       "margin": null,
       "max_height": null,
       "max_width": null,
       "min_height": null,
       "min_width": null,
       "object_fit": null,
       "object_position": null,
       "order": null,
       "overflow": null,
       "overflow_x": null,
       "overflow_y": null,
       "padding": null,
       "right": null,
       "top": null,
       "visibility": null,
       "width": null
      }
     },
     "7d624af362004c1ba069cc092fb51215": {
      "model_module": "@jupyter-widgets/controls",
      "model_module_version": "1.5.0",
      "model_name": "FloatProgressModel",
      "state": {
       "_dom_classes": [],
       "_model_module": "@jupyter-widgets/controls",
       "_model_module_version": "1.5.0",
       "_model_name": "FloatProgressModel",
       "_view_count": null,
       "_view_module": "@jupyter-widgets/controls",
       "_view_module_version": "1.5.0",
       "_view_name": "ProgressView",
       "bar_style": "success",
       "description": "",
       "description_tooltip": null,
       "layout": "IPY_MODEL_d178d1f7fc6e4ba5842ea074551bf534",
       "max": 267954768.0,
       "min": 0.0,
       "orientation": "horizontal",
       "style": "IPY_MODEL_e9317122e3dc46b8aec5bae8323060cd",
       "value": 267954768.0
      }
     },
     "8719e5fdd72446c7a5511768e53e0ae0": {
      "model_module": "@jupyter-widgets/controls",
      "model_module_version": "1.5.0",
      "model_name": "HBoxModel",
      "state": {
       "_dom_classes": [],
       "_model_module": "@jupyter-widgets/controls",
       "_model_module_version": "1.5.0",
       "_model_name": "HBoxModel",
       "_view_count": null,
       "_view_module": "@jupyter-widgets/controls",
       "_view_module_version": "1.5.0",
       "_view_name": "HBoxView",
       "box_style": "",
       "children": [
        "IPY_MODEL_53e9bab05b8c46f2b4233ba939939764",
        "IPY_MODEL_d12c74ac561d42e3baffdf337d2bbbd1",
        "IPY_MODEL_939e04ba076d4bd3bf48f3d194157d8b"
       ],
       "layout": "IPY_MODEL_0b789279c6f44e54af4a5b9f151fff2e"
      }
     },
     "888caf366a7c4914b117e63da62f2fb5": {
      "model_module": "@jupyter-widgets/base",
      "model_module_version": "1.2.0",
      "model_name": "LayoutModel",
      "state": {
       "_model_module": "@jupyter-widgets/base",
       "_model_module_version": "1.2.0",
       "_model_name": "LayoutModel",
       "_view_count": null,
       "_view_module": "@jupyter-widgets/base",
       "_view_module_version": "1.2.0",
       "_view_name": "LayoutView",
       "align_content": null,
       "align_items": null,
       "align_self": null,
       "border": null,
       "bottom": null,
       "display": null,
       "flex": null,
       "flex_flow": null,
       "grid_area": null,
       "grid_auto_columns": null,
       "grid_auto_flow": null,
       "grid_auto_rows": null,
       "grid_column": null,
       "grid_gap": null,
       "grid_row": null,
       "grid_template_areas": null,
       "grid_template_columns": null,
       "grid_template_rows": null,
       "height": null,
       "justify_content": null,
       "justify_items": null,
       "left": null,
       "margin": null,
       "max_height": null,
       "max_width": null,
       "min_height": null,
       "min_width": null,
       "object_fit": null,
       "object_position": null,
       "order": null,
       "overflow": null,
       "overflow_x": null,
       "overflow_y": null,
       "padding": null,
       "right": null,
       "top": null,
       "visibility": null,
       "width": null
      }
     },
     "8c06a08559d544ce9e2483b02e294367": {
      "model_module": "@jupyter-widgets/base",
      "model_module_version": "1.2.0",
      "model_name": "LayoutModel",
      "state": {
       "_model_module": "@jupyter-widgets/base",
       "_model_module_version": "1.2.0",
       "_model_name": "LayoutModel",
       "_view_count": null,
       "_view_module": "@jupyter-widgets/base",
       "_view_module_version": "1.2.0",
       "_view_name": "LayoutView",
       "align_content": null,
       "align_items": null,
       "align_self": null,
       "border": null,
       "bottom": null,
       "display": null,
       "flex": null,
       "flex_flow": null,
       "grid_area": null,
       "grid_auto_columns": null,
       "grid_auto_flow": null,
       "grid_auto_rows": null,
       "grid_column": null,
       "grid_gap": null,
       "grid_row": null,
       "grid_template_areas": null,
       "grid_template_columns": null,
       "grid_template_rows": null,
       "height": null,
       "justify_content": null,
       "justify_items": null,
       "left": null,
       "margin": null,
       "max_height": null,
       "max_width": null,
       "min_height": null,
       "min_width": null,
       "object_fit": null,
       "object_position": null,
       "order": null,
       "overflow": null,
       "overflow_x": null,
       "overflow_y": null,
       "padding": null,
       "right": null,
       "top": null,
       "visibility": null,
       "width": null
      }
     },
     "939e04ba076d4bd3bf48f3d194157d8b": {
      "model_module": "@jupyter-widgets/controls",
      "model_module_version": "1.5.0",
      "model_name": "HTMLModel",
      "state": {
       "_dom_classes": [],
       "_model_module": "@jupyter-widgets/controls",
       "_model_module_version": "1.5.0",
       "_model_name": "HTMLModel",
       "_view_count": null,
       "_view_module": "@jupyter-widgets/controls",
       "_view_module_version": "1.5.0",
       "_view_name": "HTMLView",
       "description": "",
       "description_tooltip": null,
       "layout": "IPY_MODEL_0d793d79dbc248949e1be76b4f5e5d0c",
       "placeholder": "​",
       "style": "IPY_MODEL_f8b3d692bc4d4eda8dd0ca4b5493803f",
       "value": " 28.0/28.0 [00:00&lt;00:00, 2.49kB/s]"
      }
     },
     "965ea50927a44baf8387e9456fc71a72": {
      "model_module": "@jupyter-widgets/base",
      "model_module_version": "1.2.0",
      "model_name": "LayoutModel",
      "state": {
       "_model_module": "@jupyter-widgets/base",
       "_model_module_version": "1.2.0",
       "_model_name": "LayoutModel",
       "_view_count": null,
       "_view_module": "@jupyter-widgets/base",
       "_view_module_version": "1.2.0",
       "_view_name": "LayoutView",
       "align_content": null,
       "align_items": null,
       "align_self": null,
       "border": null,
       "bottom": null,
       "display": null,
       "flex": null,
       "flex_flow": null,
       "grid_area": null,
       "grid_auto_columns": null,
       "grid_auto_flow": null,
       "grid_auto_rows": null,
       "grid_column": null,
       "grid_gap": null,
       "grid_row": null,
       "grid_template_areas": null,
       "grid_template_columns": null,
       "grid_template_rows": null,
       "height": null,
       "justify_content": null,
       "justify_items": null,
       "left": null,
       "margin": null,
       "max_height": null,
       "max_width": null,
       "min_height": null,
       "min_width": null,
       "object_fit": null,
       "object_position": null,
       "order": null,
       "overflow": null,
       "overflow_x": null,
       "overflow_y": null,
       "padding": null,
       "right": null,
       "top": null,
       "visibility": null,
       "width": null
      }
     },
     "98cbd2b14dfd4132aa759abdcbee807d": {
      "model_module": "@jupyter-widgets/base",
      "model_module_version": "1.2.0",
      "model_name": "LayoutModel",
      "state": {
       "_model_module": "@jupyter-widgets/base",
       "_model_module_version": "1.2.0",
       "_model_name": "LayoutModel",
       "_view_count": null,
       "_view_module": "@jupyter-widgets/base",
       "_view_module_version": "1.2.0",
       "_view_name": "LayoutView",
       "align_content": null,
       "align_items": null,
       "align_self": null,
       "border": null,
       "bottom": null,
       "display": null,
       "flex": null,
       "flex_flow": null,
       "grid_area": null,
       "grid_auto_columns": null,
       "grid_auto_flow": null,
       "grid_auto_rows": null,
       "grid_column": null,
       "grid_gap": null,
       "grid_row": null,
       "grid_template_areas": null,
       "grid_template_columns": null,
       "grid_template_rows": null,
       "height": null,
       "justify_content": null,
       "justify_items": null,
       "left": null,
       "margin": null,
       "max_height": null,
       "max_width": null,
       "min_height": null,
       "min_width": null,
       "object_fit": null,
       "object_position": null,
       "order": null,
       "overflow": null,
       "overflow_x": null,
       "overflow_y": null,
       "padding": null,
       "right": null,
       "top": null,
       "visibility": null,
       "width": null
      }
     },
     "9a3647c5366b4fbdb877a1979489a9a2": {
      "model_module": "@jupyter-widgets/controls",
      "model_module_version": "1.5.0",
      "model_name": "FloatProgressModel",
      "state": {
       "_dom_classes": [],
       "_model_module": "@jupyter-widgets/controls",
       "_model_module_version": "1.5.0",
       "_model_name": "FloatProgressModel",
       "_view_count": null,
       "_view_module": "@jupyter-widgets/controls",
       "_view_module_version": "1.5.0",
       "_view_name": "ProgressView",
       "bar_style": "success",
       "description": "",
       "description_tooltip": null,
       "layout": "IPY_MODEL_fdd1185a39e54976a4079ed69e467014",
       "max": 483.0,
       "min": 0.0,
       "orientation": "horizontal",
       "style": "IPY_MODEL_23015fe99be84c228a296fa3a2e5be4a",
       "value": 483.0
      }
     },
     "9b31874dd42a4661940b4374065fa0b3": {
      "model_module": "@jupyter-widgets/controls",
      "model_module_version": "1.5.0",
      "model_name": "DescriptionStyleModel",
      "state": {
       "_model_module": "@jupyter-widgets/controls",
       "_model_module_version": "1.5.0",
       "_model_name": "DescriptionStyleModel",
       "_view_count": null,
       "_view_module": "@jupyter-widgets/base",
       "_view_module_version": "1.2.0",
       "_view_name": "StyleView",
       "description_width": ""
      }
     },
     "9f4c0dc628c044708193d3bed574898f": {
      "model_module": "@jupyter-widgets/controls",
      "model_module_version": "1.5.0",
      "model_name": "DescriptionStyleModel",
      "state": {
       "_model_module": "@jupyter-widgets/controls",
       "_model_module_version": "1.5.0",
       "_model_name": "DescriptionStyleModel",
       "_view_count": null,
       "_view_module": "@jupyter-widgets/base",
       "_view_module_version": "1.2.0",
       "_view_name": "StyleView",
       "description_width": ""
      }
     },
     "a5c7fa999f90436082cfa2d4f79f4108": {
      "model_module": "@jupyter-widgets/base",
      "model_module_version": "1.2.0",
      "model_name": "LayoutModel",
      "state": {
       "_model_module": "@jupyter-widgets/base",
       "_model_module_version": "1.2.0",
       "_model_name": "LayoutModel",
       "_view_count": null,
       "_view_module": "@jupyter-widgets/base",
       "_view_module_version": "1.2.0",
       "_view_name": "LayoutView",
       "align_content": null,
       "align_items": null,
       "align_self": null,
       "border": null,
       "bottom": null,
       "display": null,
       "flex": null,
       "flex_flow": null,
       "grid_area": null,
       "grid_auto_columns": null,
       "grid_auto_flow": null,
       "grid_auto_rows": null,
       "grid_column": null,
       "grid_gap": null,
       "grid_row": null,
       "grid_template_areas": null,
       "grid_template_columns": null,
       "grid_template_rows": null,
       "height": null,
       "justify_content": null,
       "justify_items": null,
       "left": null,
       "margin": null,
       "max_height": null,
       "max_width": null,
       "min_height": null,
       "min_width": null,
       "object_fit": null,
       "object_position": null,
       "order": null,
       "overflow": null,
       "overflow_x": null,
       "overflow_y": null,
       "padding": null,
       "right": null,
       "top": null,
       "visibility": null,
       "width": null
      }
     },
     "a63a7f19524c41dea9755b3425dd1307": {
      "model_module": "@jupyter-widgets/controls",
      "model_module_version": "1.5.0",
      "model_name": "DescriptionStyleModel",
      "state": {
       "_model_module": "@jupyter-widgets/controls",
       "_model_module_version": "1.5.0",
       "_model_name": "DescriptionStyleModel",
       "_view_count": null,
       "_view_module": "@jupyter-widgets/base",
       "_view_module_version": "1.2.0",
       "_view_name": "StyleView",
       "description_width": ""
      }
     },
     "a6f838aef5a945b5aa0b77022d99efd1": {
      "model_module": "@jupyter-widgets/controls",
      "model_module_version": "1.5.0",
      "model_name": "DescriptionStyleModel",
      "state": {
       "_model_module": "@jupyter-widgets/controls",
       "_model_module_version": "1.5.0",
       "_model_name": "DescriptionStyleModel",
       "_view_count": null,
       "_view_module": "@jupyter-widgets/base",
       "_view_module_version": "1.2.0",
       "_view_name": "StyleView",
       "description_width": ""
      }
     },
     "aae1c9767032416aa9d2cffc74e75b8e": {
      "model_module": "@jupyter-widgets/controls",
      "model_module_version": "1.5.0",
      "model_name": "ProgressStyleModel",
      "state": {
       "_model_module": "@jupyter-widgets/controls",
       "_model_module_version": "1.5.0",
       "_model_name": "ProgressStyleModel",
       "_view_count": null,
       "_view_module": "@jupyter-widgets/base",
       "_view_module_version": "1.2.0",
       "_view_name": "StyleView",
       "bar_color": null,
       "description_width": ""
      }
     },
     "ab7955191f3a4eca844262342e3a16bc": {
      "model_module": "@jupyter-widgets/base",
      "model_module_version": "1.2.0",
      "model_name": "LayoutModel",
      "state": {
       "_model_module": "@jupyter-widgets/base",
       "_model_module_version": "1.2.0",
       "_model_name": "LayoutModel",
       "_view_count": null,
       "_view_module": "@jupyter-widgets/base",
       "_view_module_version": "1.2.0",
       "_view_name": "LayoutView",
       "align_content": null,
       "align_items": null,
       "align_self": null,
       "border": null,
       "bottom": null,
       "display": null,
       "flex": null,
       "flex_flow": null,
       "grid_area": null,
       "grid_auto_columns": null,
       "grid_auto_flow": null,
       "grid_auto_rows": null,
       "grid_column": null,
       "grid_gap": null,
       "grid_row": null,
       "grid_template_areas": null,
       "grid_template_columns": null,
       "grid_template_rows": null,
       "height": null,
       "justify_content": null,
       "justify_items": null,
       "left": null,
       "margin": null,
       "max_height": null,
       "max_width": null,
       "min_height": null,
       "min_width": null,
       "object_fit": null,
       "object_position": null,
       "order": null,
       "overflow": null,
       "overflow_x": null,
       "overflow_y": null,
       "padding": null,
       "right": null,
       "top": null,
       "visibility": null,
       "width": null
      }
     },
     "bfd129478d2c408392e99e4c0debe0be": {
      "model_module": "@jupyter-widgets/controls",
      "model_module_version": "1.5.0",
      "model_name": "HBoxModel",
      "state": {
       "_dom_classes": [],
       "_model_module": "@jupyter-widgets/controls",
       "_model_module_version": "1.5.0",
       "_model_name": "HBoxModel",
       "_view_count": null,
       "_view_module": "@jupyter-widgets/controls",
       "_view_module_version": "1.5.0",
       "_view_name": "HBoxView",
       "box_style": "",
       "children": [
        "IPY_MODEL_631d8d611d744bbd82da415c2ad976bd",
        "IPY_MODEL_7d624af362004c1ba069cc092fb51215",
        "IPY_MODEL_052ee7da7a4f47a2bbfc8b9c1b563eda"
       ],
       "layout": "IPY_MODEL_43a08f0dab344224862a912f6e43ba13"
      }
     },
     "c12db93146b641198817a2588e274834": {
      "model_module": "@jupyter-widgets/base",
      "model_module_version": "1.2.0",
      "model_name": "LayoutModel",
      "state": {
       "_model_module": "@jupyter-widgets/base",
       "_model_module_version": "1.2.0",
       "_model_name": "LayoutModel",
       "_view_count": null,
       "_view_module": "@jupyter-widgets/base",
       "_view_module_version": "1.2.0",
       "_view_name": "LayoutView",
       "align_content": null,
       "align_items": null,
       "align_self": null,
       "border": null,
       "bottom": null,
       "display": null,
       "flex": null,
       "flex_flow": null,
       "grid_area": null,
       "grid_auto_columns": null,
       "grid_auto_flow": null,
       "grid_auto_rows": null,
       "grid_column": null,
       "grid_gap": null,
       "grid_row": null,
       "grid_template_areas": null,
       "grid_template_columns": null,
       "grid_template_rows": null,
       "height": null,
       "justify_content": null,
       "justify_items": null,
       "left": null,
       "margin": null,
       "max_height": null,
       "max_width": null,
       "min_height": null,
       "min_width": null,
       "object_fit": null,
       "object_position": null,
       "order": null,
       "overflow": null,
       "overflow_x": null,
       "overflow_y": null,
       "padding": null,
       "right": null,
       "top": null,
       "visibility": null,
       "width": null
      }
     },
     "ca2280bf44a84020b19148e6ae50a148": {
      "model_module": "@jupyter-widgets/base",
      "model_module_version": "1.2.0",
      "model_name": "LayoutModel",
      "state": {
       "_model_module": "@jupyter-widgets/base",
       "_model_module_version": "1.2.0",
       "_model_name": "LayoutModel",
       "_view_count": null,
       "_view_module": "@jupyter-widgets/base",
       "_view_module_version": "1.2.0",
       "_view_name": "LayoutView",
       "align_content": null,
       "align_items": null,
       "align_self": null,
       "border": null,
       "bottom": null,
       "display": null,
       "flex": null,
       "flex_flow": null,
       "grid_area": null,
       "grid_auto_columns": null,
       "grid_auto_flow": null,
       "grid_auto_rows": null,
       "grid_column": null,
       "grid_gap": null,
       "grid_row": null,
       "grid_template_areas": null,
       "grid_template_columns": null,
       "grid_template_rows": null,
       "height": null,
       "justify_content": null,
       "justify_items": null,
       "left": null,
       "margin": null,
       "max_height": null,
       "max_width": null,
       "min_height": null,
       "min_width": null,
       "object_fit": null,
       "object_position": null,
       "order": null,
       "overflow": null,
       "overflow_x": null,
       "overflow_y": null,
       "padding": null,
       "right": null,
       "top": null,
       "visibility": null,
       "width": null
      }
     },
     "d0fffe1b56764d73991be0dc1ac4525f": {
      "model_module": "@jupyter-widgets/base",
      "model_module_version": "1.2.0",
      "model_name": "LayoutModel",
      "state": {
       "_model_module": "@jupyter-widgets/base",
       "_model_module_version": "1.2.0",
       "_model_name": "LayoutModel",
       "_view_count": null,
       "_view_module": "@jupyter-widgets/base",
       "_view_module_version": "1.2.0",
       "_view_name": "LayoutView",
       "align_content": null,
       "align_items": null,
       "align_self": null,
       "border": null,
       "bottom": null,
       "display": null,
       "flex": null,
       "flex_flow": null,
       "grid_area": null,
       "grid_auto_columns": null,
       "grid_auto_flow": null,
       "grid_auto_rows": null,
       "grid_column": null,
       "grid_gap": null,
       "grid_row": null,
       "grid_template_areas": null,
       "grid_template_columns": null,
       "grid_template_rows": null,
       "height": null,
       "justify_content": null,
       "justify_items": null,
       "left": null,
       "margin": null,
       "max_height": null,
       "max_width": null,
       "min_height": null,
       "min_width": null,
       "object_fit": null,
       "object_position": null,
       "order": null,
       "overflow": null,
       "overflow_x": null,
       "overflow_y": null,
       "padding": null,
       "right": null,
       "top": null,
       "visibility": null,
       "width": null
      }
     },
     "d10966b807ed4f2797c40efd7b3f9534": {
      "model_module": "@jupyter-widgets/base",
      "model_module_version": "1.2.0",
      "model_name": "LayoutModel",
      "state": {
       "_model_module": "@jupyter-widgets/base",
       "_model_module_version": "1.2.0",
       "_model_name": "LayoutModel",
       "_view_count": null,
       "_view_module": "@jupyter-widgets/base",
       "_view_module_version": "1.2.0",
       "_view_name": "LayoutView",
       "align_content": null,
       "align_items": null,
       "align_self": null,
       "border": null,
       "bottom": null,
       "display": null,
       "flex": null,
       "flex_flow": null,
       "grid_area": null,
       "grid_auto_columns": null,
       "grid_auto_flow": null,
       "grid_auto_rows": null,
       "grid_column": null,
       "grid_gap": null,
       "grid_row": null,
       "grid_template_areas": null,
       "grid_template_columns": null,
       "grid_template_rows": null,
       "height": null,
       "justify_content": null,
       "justify_items": null,
       "left": null,
       "margin": null,
       "max_height": null,
       "max_width": null,
       "min_height": null,
       "min_width": null,
       "object_fit": null,
       "object_position": null,
       "order": null,
       "overflow": null,
       "overflow_x": null,
       "overflow_y": null,
       "padding": null,
       "right": null,
       "top": null,
       "visibility": null,
       "width": null
      }
     },
     "d12c74ac561d42e3baffdf337d2bbbd1": {
      "model_module": "@jupyter-widgets/controls",
      "model_module_version": "1.5.0",
      "model_name": "FloatProgressModel",
      "state": {
       "_dom_classes": [],
       "_model_module": "@jupyter-widgets/controls",
       "_model_module_version": "1.5.0",
       "_model_name": "FloatProgressModel",
       "_view_count": null,
       "_view_module": "@jupyter-widgets/controls",
       "_view_module_version": "1.5.0",
       "_view_name": "ProgressView",
       "bar_style": "success",
       "description": "",
       "description_tooltip": null,
       "layout": "IPY_MODEL_888caf366a7c4914b117e63da62f2fb5",
       "max": 28.0,
       "min": 0.0,
       "orientation": "horizontal",
       "style": "IPY_MODEL_aae1c9767032416aa9d2cffc74e75b8e",
       "value": 28.0
      }
     },
     "d178d1f7fc6e4ba5842ea074551bf534": {
      "model_module": "@jupyter-widgets/base",
      "model_module_version": "1.2.0",
      "model_name": "LayoutModel",
      "state": {
       "_model_module": "@jupyter-widgets/base",
       "_model_module_version": "1.2.0",
       "_model_name": "LayoutModel",
       "_view_count": null,
       "_view_module": "@jupyter-widgets/base",
       "_view_module_version": "1.2.0",
       "_view_name": "LayoutView",
       "align_content": null,
       "align_items": null,
       "align_self": null,
       "border": null,
       "bottom": null,
       "display": null,
       "flex": null,
       "flex_flow": null,
       "grid_area": null,
       "grid_auto_columns": null,
       "grid_auto_flow": null,
       "grid_auto_rows": null,
       "grid_column": null,
       "grid_gap": null,
       "grid_row": null,
       "grid_template_areas": null,
       "grid_template_columns": null,
       "grid_template_rows": null,
       "height": null,
       "justify_content": null,
       "justify_items": null,
       "left": null,
       "margin": null,
       "max_height": null,
       "max_width": null,
       "min_height": null,
       "min_width": null,
       "object_fit": null,
       "object_position": null,
       "order": null,
       "overflow": null,
       "overflow_x": null,
       "overflow_y": null,
       "padding": null,
       "right": null,
       "top": null,
       "visibility": null,
       "width": null
      }
     },
     "d5ac120e60a04a92b88fb6e7de053106": {
      "model_module": "@jupyter-widgets/controls",
      "model_module_version": "1.5.0",
      "model_name": "HTMLModel",
      "state": {
       "_dom_classes": [],
       "_model_module": "@jupyter-widgets/controls",
       "_model_module_version": "1.5.0",
       "_model_name": "HTMLModel",
       "_view_count": null,
       "_view_module": "@jupyter-widgets/controls",
       "_view_module_version": "1.5.0",
       "_view_name": "HTMLView",
       "description": "",
       "description_tooltip": null,
       "layout": "IPY_MODEL_76c6e58962064743b3d54a7d614fa173",
       "placeholder": "​",
       "style": "IPY_MODEL_33327a51afdc4f5ea2119861636bc90c",
       "value": "config.json: 100%"
      }
     },
     "d63b8ccedd8c4dfaafc9c4ae4027aa57": {
      "model_module": "@jupyter-widgets/base",
      "model_module_version": "1.2.0",
      "model_name": "LayoutModel",
      "state": {
       "_model_module": "@jupyter-widgets/base",
       "_model_module_version": "1.2.0",
       "_model_name": "LayoutModel",
       "_view_count": null,
       "_view_module": "@jupyter-widgets/base",
       "_view_module_version": "1.2.0",
       "_view_name": "LayoutView",
       "align_content": null,
       "align_items": null,
       "align_self": null,
       "border": null,
       "bottom": null,
       "display": null,
       "flex": null,
       "flex_flow": null,
       "grid_area": null,
       "grid_auto_columns": null,
       "grid_auto_flow": null,
       "grid_auto_rows": null,
       "grid_column": null,
       "grid_gap": null,
       "grid_row": null,
       "grid_template_areas": null,
       "grid_template_columns": null,
       "grid_template_rows": null,
       "height": null,
       "justify_content": null,
       "justify_items": null,
       "left": null,
       "margin": null,
       "max_height": null,
       "max_width": null,
       "min_height": null,
       "min_width": null,
       "object_fit": null,
       "object_position": null,
       "order": null,
       "overflow": null,
       "overflow_x": null,
       "overflow_y": null,
       "padding": null,
       "right": null,
       "top": null,
       "visibility": null,
       "width": null
      }
     },
     "dcc0fb9adf9c46aa8649f9bf887653d7": {
      "model_module": "@jupyter-widgets/controls",
      "model_module_version": "1.5.0",
      "model_name": "DescriptionStyleModel",
      "state": {
       "_model_module": "@jupyter-widgets/controls",
       "_model_module_version": "1.5.0",
       "_model_name": "DescriptionStyleModel",
       "_view_count": null,
       "_view_module": "@jupyter-widgets/base",
       "_view_module_version": "1.2.0",
       "_view_name": "StyleView",
       "description_width": ""
      }
     },
     "dd21769c6f5b4c19903bf9303769b167": {
      "model_module": "@jupyter-widgets/controls",
      "model_module_version": "1.5.0",
      "model_name": "DescriptionStyleModel",
      "state": {
       "_model_module": "@jupyter-widgets/controls",
       "_model_module_version": "1.5.0",
       "_model_name": "DescriptionStyleModel",
       "_view_count": null,
       "_view_module": "@jupyter-widgets/base",
       "_view_module_version": "1.2.0",
       "_view_name": "StyleView",
       "description_width": ""
      }
     },
     "e9317122e3dc46b8aec5bae8323060cd": {
      "model_module": "@jupyter-widgets/controls",
      "model_module_version": "1.5.0",
      "model_name": "ProgressStyleModel",
      "state": {
       "_model_module": "@jupyter-widgets/controls",
       "_model_module_version": "1.5.0",
       "_model_name": "ProgressStyleModel",
       "_view_count": null,
       "_view_module": "@jupyter-widgets/base",
       "_view_module_version": "1.2.0",
       "_view_name": "StyleView",
       "bar_color": null,
       "description_width": ""
      }
     },
     "ebd286d851fa45a199b1b2e0a897925b": {
      "model_module": "@jupyter-widgets/controls",
      "model_module_version": "1.5.0",
      "model_name": "HTMLModel",
      "state": {
       "_dom_classes": [],
       "_model_module": "@jupyter-widgets/controls",
       "_model_module_version": "1.5.0",
       "_model_name": "HTMLModel",
       "_view_count": null,
       "_view_module": "@jupyter-widgets/controls",
       "_view_module_version": "1.5.0",
       "_view_name": "HTMLView",
       "description": "",
       "description_tooltip": null,
       "layout": "IPY_MODEL_c12db93146b641198817a2588e274834",
       "placeholder": "​",
       "style": "IPY_MODEL_dcc0fb9adf9c46aa8649f9bf887653d7",
       "value": " 232k/232k [00:00&lt;00:00, 580kB/s]"
      }
     },
     "f4f344f2bbde4c6fa15946a518d4e460": {
      "model_module": "@jupyter-widgets/base",
      "model_module_version": "1.2.0",
      "model_name": "LayoutModel",
      "state": {
       "_model_module": "@jupyter-widgets/base",
       "_model_module_version": "1.2.0",
       "_model_name": "LayoutModel",
       "_view_count": null,
       "_view_module": "@jupyter-widgets/base",
       "_view_module_version": "1.2.0",
       "_view_name": "LayoutView",
       "align_content": null,
       "align_items": null,
       "align_self": null,
       "border": null,
       "bottom": null,
       "display": null,
       "flex": null,
       "flex_flow": null,
       "grid_area": null,
       "grid_auto_columns": null,
       "grid_auto_flow": null,
       "grid_auto_rows": null,
       "grid_column": null,
       "grid_gap": null,
       "grid_row": null,
       "grid_template_areas": null,
       "grid_template_columns": null,
       "grid_template_rows": null,
       "height": null,
       "justify_content": null,
       "justify_items": null,
       "left": null,
       "margin": null,
       "max_height": null,
       "max_width": null,
       "min_height": null,
       "min_width": null,
       "object_fit": null,
       "object_position": null,
       "order": null,
       "overflow": null,
       "overflow_x": null,
       "overflow_y": null,
       "padding": null,
       "right": null,
       "top": null,
       "visibility": null,
       "width": null
      }
     },
     "f8b3d692bc4d4eda8dd0ca4b5493803f": {
      "model_module": "@jupyter-widgets/controls",
      "model_module_version": "1.5.0",
      "model_name": "DescriptionStyleModel",
      "state": {
       "_model_module": "@jupyter-widgets/controls",
       "_model_module_version": "1.5.0",
       "_model_name": "DescriptionStyleModel",
       "_view_count": null,
       "_view_module": "@jupyter-widgets/base",
       "_view_module_version": "1.2.0",
       "_view_name": "StyleView",
       "description_width": ""
      }
     },
     "fdd1185a39e54976a4079ed69e467014": {
      "model_module": "@jupyter-widgets/base",
      "model_module_version": "1.2.0",
      "model_name": "LayoutModel",
      "state": {
       "_model_module": "@jupyter-widgets/base",
       "_model_module_version": "1.2.0",
       "_model_name": "LayoutModel",
       "_view_count": null,
       "_view_module": "@jupyter-widgets/base",
       "_view_module_version": "1.2.0",
       "_view_name": "LayoutView",
       "align_content": null,
       "align_items": null,
       "align_self": null,
       "border": null,
       "bottom": null,
       "display": null,
       "flex": null,
       "flex_flow": null,
       "grid_area": null,
       "grid_auto_columns": null,
       "grid_auto_flow": null,
       "grid_auto_rows": null,
       "grid_column": null,
       "grid_gap": null,
       "grid_row": null,
       "grid_template_areas": null,
       "grid_template_columns": null,
       "grid_template_rows": null,
       "height": null,
       "justify_content": null,
       "justify_items": null,
       "left": null,
       "margin": null,
       "max_height": null,
       "max_width": null,
       "min_height": null,
       "min_width": null,
       "object_fit": null,
       "object_position": null,
       "order": null,
       "overflow": null,
       "overflow_x": null,
       "overflow_y": null,
       "padding": null,
       "right": null,
       "top": null,
       "visibility": null,
       "width": null
      }
     }
    },
    "version_major": 2,
    "version_minor": 0
   }
  }
 },
 "nbformat": 4,
 "nbformat_minor": 5
}
