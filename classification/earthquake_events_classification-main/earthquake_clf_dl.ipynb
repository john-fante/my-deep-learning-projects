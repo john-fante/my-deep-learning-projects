{
  "nbformat": 4,
  "nbformat_minor": 0,
  "metadata": {
    "colab": {
      "provenance": []
    },
    "kernelspec": {
      "name": "python3",
      "display_name": "Python 3"
    },
    "language_info": {
      "name": "python"
    }
  },
  "cells": [
    {
      "cell_type": "markdown",
      "source": [
        "My accounts;\n",
        "- Github -> https://github.com/john-fante\n",
        "- Kaggle -> https://www.kaggle.com/banddaniel\n",
        "\n",
        "\n",
        "Goal -> Mojor Event/Non-Major Event Classification (Time Series Classification)\n",
        "\n",
        "A major event as any reading of over 5 on the Richter scale.\n",
        "\n",
        "Data source -> https://www.timeseriesclassification.com/description.php?Dataset=Earthquakes\n"
      ],
      "metadata": {
        "id": "MhkLb1CUoxf8"
      }
    },
    {
      "cell_type": "code",
      "source": [
        "!pip install imblearn"
      ],
      "metadata": {
        "colab": {
          "base_uri": "https://localhost:8080/"
        },
        "id": "pqhudeOFoyKc",
        "outputId": "e4f72c62-7284-4a52-afcd-3179d23eaba9"
      },
      "execution_count": 1,
      "outputs": [
        {
          "output_type": "stream",
          "name": "stdout",
          "text": [
            "Collecting imblearn\n",
            "  Downloading imblearn-0.0-py2.py3-none-any.whl (1.9 kB)\n",
            "Requirement already satisfied: imbalanced-learn in /usr/local/lib/python3.10/dist-packages (from imblearn) (0.10.1)\n",
            "Requirement already satisfied: numpy>=1.17.3 in /usr/local/lib/python3.10/dist-packages (from imbalanced-learn->imblearn) (1.22.4)\n",
            "Requirement already satisfied: scipy>=1.3.2 in /usr/local/lib/python3.10/dist-packages (from imbalanced-learn->imblearn) (1.10.1)\n",
            "Requirement already satisfied: scikit-learn>=1.0.2 in /usr/local/lib/python3.10/dist-packages (from imbalanced-learn->imblearn) (1.2.2)\n",
            "Requirement already satisfied: joblib>=1.1.1 in /usr/local/lib/python3.10/dist-packages (from imbalanced-learn->imblearn) (1.3.1)\n",
            "Requirement already satisfied: threadpoolctl>=2.0.0 in /usr/local/lib/python3.10/dist-packages (from imbalanced-learn->imblearn) (3.2.0)\n",
            "Installing collected packages: imblearn\n",
            "Successfully installed imblearn-0.0\n"
          ]
        }
      ]
    },
    {
      "cell_type": "code",
      "source": [
        "import pandas as pd\n",
        "import numpy as np\n",
        "import matplotlib.pyplot as plt\n",
        "import seaborn as sns\n",
        "\n",
        "from scipy.io.arff import loadarff\n",
        "from sklearn.utils import class_weight\n",
        "from sklearn.model_selection import train_test_split, StratifiedKFold\n",
        "from sklearn.metrics import classification_report, roc_auc_score, confusion_matrix\n",
        "\n",
        "import tensorflow as tf\n",
        "from tensorflow.keras.models import Model\n",
        "from tensorflow.keras.layers import Input, ReLU, Conv1D, GlobalAveragePooling1D, Dense, BatchNormalization, Dropout\n",
        "from tensorflow.keras.callbacks import ModelCheckpoint, ReduceLROnPlateau, EarlyStopping\n",
        "\n",
        "from imblearn.over_sampling import SMOTE\n",
        "from imblearn.under_sampling import RandomUnderSampler"
      ],
      "metadata": {
        "id": "eom5RMKCo1_J"
      },
      "execution_count": 3,
      "outputs": []
    },
    {
      "cell_type": "code",
      "source": [
        "# reading .arff file and converting dataframe\n",
        "def arff_to_pd(path):\n",
        "  data = loadarff(path)\n",
        "  raw_data, meta_data = data\n",
        "\n",
        "  cols = []\n",
        "  for col_name in meta_data:\n",
        "    cols.append(col_name)\n",
        "\n",
        "  data2d = np.zeros([ raw_data.shape[0], len(cols) ])\n",
        "\n",
        "  for row_number in range(raw_data.shape[0]):\n",
        "    for col_number in range(len(cols)):\n",
        "      data2d[row_number][col_number] = raw_data[row_number][col_number]\n",
        "\n",
        "  df = pd.DataFrame(data2d, columns = cols)\n",
        "\n",
        "  return df"
      ],
      "metadata": {
        "id": "cju1haVWo5US"
      },
      "execution_count": 4,
      "outputs": []
    },
    {
      "cell_type": "code",
      "source": [
        "train_data = arff_to_pd('/content/drive/MyDrive/Colab Notebooks/datasets/Earthquakes/Earthquakes_TRAIN.arff')\n",
        "test_data = arff_to_pd('/content/drive/MyDrive/Colab Notebooks/datasets/Earthquakes/Earthquakes_TEST.arff')"
      ],
      "metadata": {
        "id": "NQOq4jeBpHmg"
      },
      "execution_count": 6,
      "outputs": []
    },
    {
      "cell_type": "code",
      "source": [
        "X = train_data.iloc[:,0:-1]\n",
        "y = train_data['target']\n",
        "\n",
        "X.head()"
      ],
      "metadata": {
        "colab": {
          "base_uri": "https://localhost:8080/",
          "height": 279
        },
        "id": "cni2SONppSQK",
        "outputId": "8175c69f-d037-4316-e987-0ed49a2842a8"
      },
      "execution_count": 8,
      "outputs": [
        {
          "output_type": "execute_result",
          "data": {
            "text/plain": [
              "       att1      att2      att3      att4      att5      att6      att7  \\\n",
              "0 -0.518009 -0.518009  2.654211 -0.518009 -0.518009 -0.518009 -0.518009   \n",
              "1  1.943733 -0.353115 -0.353115 -0.353115 -0.353115 -0.353115 -0.353115   \n",
              "2  2.638517 -0.316102 -0.316102 -0.316102 -0.316102 -0.316102 -0.316102   \n",
              "3 -0.531138 -0.531138 -0.531138 -0.531138 -0.531138 -0.531138 -0.531138   \n",
              "4 -0.593665  2.020105  1.174727 -0.593665 -0.593665  1.606043  1.217859   \n",
              "\n",
              "       att8      att9     att10  ...    att503    att504    att505    att506  \\\n",
              "0  1.456243  2.558373 -0.518009  ... -0.518009 -0.518009 -0.518009 -0.518009   \n",
              "1 -0.353115 -0.353115 -0.353115  ...  2.457789  3.365590 -0.353115 -0.353115   \n",
              "2 -0.316102 -0.316102 -0.316102  ... -0.316102 -0.316102 -0.316102 -0.316102   \n",
              "3 -0.531138 -0.531138 -0.531138  ...  1.366900 -0.531138  2.147402 -0.531138   \n",
              "4  1.588790 -0.593665 -0.593665  ...  1.226485 -0.593665 -0.593665 -0.593665   \n",
              "\n",
              "     att507    att508    att509    att510    att511    att512  \n",
              "0 -0.518009 -0.518009 -0.518009 -0.518009  1.465826 -0.518009  \n",
              "1 -0.353115 -0.353115 -0.353115 -0.353115 -0.353115 -0.353115  \n",
              "2 -0.316102 -0.316102 -0.316102 -0.316102 -0.316102 -0.316102  \n",
              "3 -0.531138 -0.531138 -0.531138 -0.531138 -0.531138 -0.531138  \n",
              "4  1.493901 -0.593665 -0.593665 -0.593665  1.899337 -0.593665  \n",
              "\n",
              "[5 rows x 512 columns]"
            ],
            "text/html": [
              "\n",
              "\n",
              "  <div id=\"df-9e4fc153-8ceb-4571-8528-aa8c6d7282cd\">\n",
              "    <div class=\"colab-df-container\">\n",
              "      <div>\n",
              "<style scoped>\n",
              "    .dataframe tbody tr th:only-of-type {\n",
              "        vertical-align: middle;\n",
              "    }\n",
              "\n",
              "    .dataframe tbody tr th {\n",
              "        vertical-align: top;\n",
              "    }\n",
              "\n",
              "    .dataframe thead th {\n",
              "        text-align: right;\n",
              "    }\n",
              "</style>\n",
              "<table border=\"1\" class=\"dataframe\">\n",
              "  <thead>\n",
              "    <tr style=\"text-align: right;\">\n",
              "      <th></th>\n",
              "      <th>att1</th>\n",
              "      <th>att2</th>\n",
              "      <th>att3</th>\n",
              "      <th>att4</th>\n",
              "      <th>att5</th>\n",
              "      <th>att6</th>\n",
              "      <th>att7</th>\n",
              "      <th>att8</th>\n",
              "      <th>att9</th>\n",
              "      <th>att10</th>\n",
              "      <th>...</th>\n",
              "      <th>att503</th>\n",
              "      <th>att504</th>\n",
              "      <th>att505</th>\n",
              "      <th>att506</th>\n",
              "      <th>att507</th>\n",
              "      <th>att508</th>\n",
              "      <th>att509</th>\n",
              "      <th>att510</th>\n",
              "      <th>att511</th>\n",
              "      <th>att512</th>\n",
              "    </tr>\n",
              "  </thead>\n",
              "  <tbody>\n",
              "    <tr>\n",
              "      <th>0</th>\n",
              "      <td>-0.518009</td>\n",
              "      <td>-0.518009</td>\n",
              "      <td>2.654211</td>\n",
              "      <td>-0.518009</td>\n",
              "      <td>-0.518009</td>\n",
              "      <td>-0.518009</td>\n",
              "      <td>-0.518009</td>\n",
              "      <td>1.456243</td>\n",
              "      <td>2.558373</td>\n",
              "      <td>-0.518009</td>\n",
              "      <td>...</td>\n",
              "      <td>-0.518009</td>\n",
              "      <td>-0.518009</td>\n",
              "      <td>-0.518009</td>\n",
              "      <td>-0.518009</td>\n",
              "      <td>-0.518009</td>\n",
              "      <td>-0.518009</td>\n",
              "      <td>-0.518009</td>\n",
              "      <td>-0.518009</td>\n",
              "      <td>1.465826</td>\n",
              "      <td>-0.518009</td>\n",
              "    </tr>\n",
              "    <tr>\n",
              "      <th>1</th>\n",
              "      <td>1.943733</td>\n",
              "      <td>-0.353115</td>\n",
              "      <td>-0.353115</td>\n",
              "      <td>-0.353115</td>\n",
              "      <td>-0.353115</td>\n",
              "      <td>-0.353115</td>\n",
              "      <td>-0.353115</td>\n",
              "      <td>-0.353115</td>\n",
              "      <td>-0.353115</td>\n",
              "      <td>-0.353115</td>\n",
              "      <td>...</td>\n",
              "      <td>2.457789</td>\n",
              "      <td>3.365590</td>\n",
              "      <td>-0.353115</td>\n",
              "      <td>-0.353115</td>\n",
              "      <td>-0.353115</td>\n",
              "      <td>-0.353115</td>\n",
              "      <td>-0.353115</td>\n",
              "      <td>-0.353115</td>\n",
              "      <td>-0.353115</td>\n",
              "      <td>-0.353115</td>\n",
              "    </tr>\n",
              "    <tr>\n",
              "      <th>2</th>\n",
              "      <td>2.638517</td>\n",
              "      <td>-0.316102</td>\n",
              "      <td>-0.316102</td>\n",
              "      <td>-0.316102</td>\n",
              "      <td>-0.316102</td>\n",
              "      <td>-0.316102</td>\n",
              "      <td>-0.316102</td>\n",
              "      <td>-0.316102</td>\n",
              "      <td>-0.316102</td>\n",
              "      <td>-0.316102</td>\n",
              "      <td>...</td>\n",
              "      <td>-0.316102</td>\n",
              "      <td>-0.316102</td>\n",
              "      <td>-0.316102</td>\n",
              "      <td>-0.316102</td>\n",
              "      <td>-0.316102</td>\n",
              "      <td>-0.316102</td>\n",
              "      <td>-0.316102</td>\n",
              "      <td>-0.316102</td>\n",
              "      <td>-0.316102</td>\n",
              "      <td>-0.316102</td>\n",
              "    </tr>\n",
              "    <tr>\n",
              "      <th>3</th>\n",
              "      <td>-0.531138</td>\n",
              "      <td>-0.531138</td>\n",
              "      <td>-0.531138</td>\n",
              "      <td>-0.531138</td>\n",
              "      <td>-0.531138</td>\n",
              "      <td>-0.531138</td>\n",
              "      <td>-0.531138</td>\n",
              "      <td>-0.531138</td>\n",
              "      <td>-0.531138</td>\n",
              "      <td>-0.531138</td>\n",
              "      <td>...</td>\n",
              "      <td>1.366900</td>\n",
              "      <td>-0.531138</td>\n",
              "      <td>2.147402</td>\n",
              "      <td>-0.531138</td>\n",
              "      <td>-0.531138</td>\n",
              "      <td>-0.531138</td>\n",
              "      <td>-0.531138</td>\n",
              "      <td>-0.531138</td>\n",
              "      <td>-0.531138</td>\n",
              "      <td>-0.531138</td>\n",
              "    </tr>\n",
              "    <tr>\n",
              "      <th>4</th>\n",
              "      <td>-0.593665</td>\n",
              "      <td>2.020105</td>\n",
              "      <td>1.174727</td>\n",
              "      <td>-0.593665</td>\n",
              "      <td>-0.593665</td>\n",
              "      <td>1.606043</td>\n",
              "      <td>1.217859</td>\n",
              "      <td>1.588790</td>\n",
              "      <td>-0.593665</td>\n",
              "      <td>-0.593665</td>\n",
              "      <td>...</td>\n",
              "      <td>1.226485</td>\n",
              "      <td>-0.593665</td>\n",
              "      <td>-0.593665</td>\n",
              "      <td>-0.593665</td>\n",
              "      <td>1.493901</td>\n",
              "      <td>-0.593665</td>\n",
              "      <td>-0.593665</td>\n",
              "      <td>-0.593665</td>\n",
              "      <td>1.899337</td>\n",
              "      <td>-0.593665</td>\n",
              "    </tr>\n",
              "  </tbody>\n",
              "</table>\n",
              "<p>5 rows × 512 columns</p>\n",
              "</div>\n",
              "      <button class=\"colab-df-convert\" onclick=\"convertToInteractive('df-9e4fc153-8ceb-4571-8528-aa8c6d7282cd')\"\n",
              "              title=\"Convert this dataframe to an interactive table.\"\n",
              "              style=\"display:none;\">\n",
              "\n",
              "  <svg xmlns=\"http://www.w3.org/2000/svg\" height=\"24px\"viewBox=\"0 0 24 24\"\n",
              "       width=\"24px\">\n",
              "    <path d=\"M0 0h24v24H0V0z\" fill=\"none\"/>\n",
              "    <path d=\"M18.56 5.44l.94 2.06.94-2.06 2.06-.94-2.06-.94-.94-2.06-.94 2.06-2.06.94zm-11 1L8.5 8.5l.94-2.06 2.06-.94-2.06-.94L8.5 2.5l-.94 2.06-2.06.94zm10 10l.94 2.06.94-2.06 2.06-.94-2.06-.94-.94-2.06-.94 2.06-2.06.94z\"/><path d=\"M17.41 7.96l-1.37-1.37c-.4-.4-.92-.59-1.43-.59-.52 0-1.04.2-1.43.59L10.3 9.45l-7.72 7.72c-.78.78-.78 2.05 0 2.83L4 21.41c.39.39.9.59 1.41.59.51 0 1.02-.2 1.41-.59l7.78-7.78 2.81-2.81c.8-.78.8-2.07 0-2.86zM5.41 20L4 18.59l7.72-7.72 1.47 1.35L5.41 20z\"/>\n",
              "  </svg>\n",
              "      </button>\n",
              "\n",
              "\n",
              "\n",
              "    <div id=\"df-4f18fb3c-e197-4f19-bf68-48f445cc740b\">\n",
              "      <button class=\"colab-df-quickchart\" onclick=\"quickchart('df-4f18fb3c-e197-4f19-bf68-48f445cc740b')\"\n",
              "              title=\"Suggest charts.\"\n",
              "              style=\"display:none;\">\n",
              "\n",
              "<svg xmlns=\"http://www.w3.org/2000/svg\" height=\"24px\"viewBox=\"0 0 24 24\"\n",
              "     width=\"24px\">\n",
              "    <g>\n",
              "        <path d=\"M19 3H5c-1.1 0-2 .9-2 2v14c0 1.1.9 2 2 2h14c1.1 0 2-.9 2-2V5c0-1.1-.9-2-2-2zM9 17H7v-7h2v7zm4 0h-2V7h2v10zm4 0h-2v-4h2v4z\"/>\n",
              "    </g>\n",
              "</svg>\n",
              "      </button>\n",
              "    </div>\n",
              "\n",
              "<style>\n",
              "  .colab-df-quickchart {\n",
              "    background-color: #E8F0FE;\n",
              "    border: none;\n",
              "    border-radius: 50%;\n",
              "    cursor: pointer;\n",
              "    display: none;\n",
              "    fill: #1967D2;\n",
              "    height: 32px;\n",
              "    padding: 0 0 0 0;\n",
              "    width: 32px;\n",
              "  }\n",
              "\n",
              "  .colab-df-quickchart:hover {\n",
              "    background-color: #E2EBFA;\n",
              "    box-shadow: 0px 1px 2px rgba(60, 64, 67, 0.3), 0px 1px 3px 1px rgba(60, 64, 67, 0.15);\n",
              "    fill: #174EA6;\n",
              "  }\n",
              "\n",
              "  [theme=dark] .colab-df-quickchart {\n",
              "    background-color: #3B4455;\n",
              "    fill: #D2E3FC;\n",
              "  }\n",
              "\n",
              "  [theme=dark] .colab-df-quickchart:hover {\n",
              "    background-color: #434B5C;\n",
              "    box-shadow: 0px 1px 3px 1px rgba(0, 0, 0, 0.15);\n",
              "    filter: drop-shadow(0px 1px 2px rgba(0, 0, 0, 0.3));\n",
              "    fill: #FFFFFF;\n",
              "  }\n",
              "</style>\n",
              "\n",
              "    <script>\n",
              "      async function quickchart(key) {\n",
              "        const containerElement = document.querySelector('#' + key);\n",
              "        const charts = await google.colab.kernel.invokeFunction(\n",
              "            'suggestCharts', [key], {});\n",
              "      }\n",
              "    </script>\n",
              "\n",
              "      <script>\n",
              "\n",
              "function displayQuickchartButton(domScope) {\n",
              "  let quickchartButtonEl =\n",
              "    domScope.querySelector('#df-4f18fb3c-e197-4f19-bf68-48f445cc740b button.colab-df-quickchart');\n",
              "  quickchartButtonEl.style.display =\n",
              "    google.colab.kernel.accessAllowed ? 'block' : 'none';\n",
              "}\n",
              "\n",
              "        displayQuickchartButton(document);\n",
              "      </script>\n",
              "      <style>\n",
              "    .colab-df-container {\n",
              "      display:flex;\n",
              "      flex-wrap:wrap;\n",
              "      gap: 12px;\n",
              "    }\n",
              "\n",
              "    .colab-df-convert {\n",
              "      background-color: #E8F0FE;\n",
              "      border: none;\n",
              "      border-radius: 50%;\n",
              "      cursor: pointer;\n",
              "      display: none;\n",
              "      fill: #1967D2;\n",
              "      height: 32px;\n",
              "      padding: 0 0 0 0;\n",
              "      width: 32px;\n",
              "    }\n",
              "\n",
              "    .colab-df-convert:hover {\n",
              "      background-color: #E2EBFA;\n",
              "      box-shadow: 0px 1px 2px rgba(60, 64, 67, 0.3), 0px 1px 3px 1px rgba(60, 64, 67, 0.15);\n",
              "      fill: #174EA6;\n",
              "    }\n",
              "\n",
              "    [theme=dark] .colab-df-convert {\n",
              "      background-color: #3B4455;\n",
              "      fill: #D2E3FC;\n",
              "    }\n",
              "\n",
              "    [theme=dark] .colab-df-convert:hover {\n",
              "      background-color: #434B5C;\n",
              "      box-shadow: 0px 1px 3px 1px rgba(0, 0, 0, 0.15);\n",
              "      filter: drop-shadow(0px 1px 2px rgba(0, 0, 0, 0.3));\n",
              "      fill: #FFFFFF;\n",
              "    }\n",
              "  </style>\n",
              "\n",
              "      <script>\n",
              "        const buttonEl =\n",
              "          document.querySelector('#df-9e4fc153-8ceb-4571-8528-aa8c6d7282cd button.colab-df-convert');\n",
              "        buttonEl.style.display =\n",
              "          google.colab.kernel.accessAllowed ? 'block' : 'none';\n",
              "\n",
              "        async function convertToInteractive(key) {\n",
              "          const element = document.querySelector('#df-9e4fc153-8ceb-4571-8528-aa8c6d7282cd');\n",
              "          const dataTable =\n",
              "            await google.colab.kernel.invokeFunction('convertToInteractive',\n",
              "                                                     [key], {});\n",
              "          if (!dataTable) return;\n",
              "\n",
              "          const docLinkHtml = 'Like what you see? Visit the ' +\n",
              "            '<a target=\"_blank\" href=https://colab.research.google.com/notebooks/data_table.ipynb>data table notebook</a>'\n",
              "            + ' to learn more about interactive tables.';\n",
              "          element.innerHTML = '';\n",
              "          dataTable['output_type'] = 'display_data';\n",
              "          await google.colab.output.renderOutput(dataTable, element);\n",
              "          const docLink = document.createElement('div');\n",
              "          docLink.innerHTML = docLinkHtml;\n",
              "          element.appendChild(docLink);\n",
              "        }\n",
              "      </script>\n",
              "    </div>\n",
              "  </div>\n"
            ]
          },
          "metadata": {},
          "execution_count": 8
        }
      ]
    },
    {
      "cell_type": "code",
      "source": [
        "# The number of classes before undersampling\n",
        "\n",
        "y.value_counts()"
      ],
      "metadata": {
        "colab": {
          "base_uri": "https://localhost:8080/"
        },
        "id": "pTjRSoUfpUWL",
        "outputId": "e52c8bcd-a6f8-4022-c25c-3c8094547dbb"
      },
      "execution_count": 9,
      "outputs": [
        {
          "output_type": "execute_result",
          "data": {
            "text/plain": [
              "0.0    264\n",
              "1.0     58\n",
              "Name: target, dtype: int64"
            ]
          },
          "metadata": {},
          "execution_count": 9
        }
      ]
    },
    {
      "cell_type": "code",
      "source": [
        "# After undersampling\n",
        "\n",
        "y.value_counts()\n",
        "rum = RandomUnderSampler()\n",
        "\n",
        "X_n, y_n = rum.fit_resample(X,y)\n",
        "print(y_n.value_counts())\n",
        "\n",
        "X_n = np.array(X_n).reshape(X_n.shape[0], X_n.shape[1], 1)\n",
        "y_n = np.array(y_n).reshape(-1,1)"
      ],
      "metadata": {
        "colab": {
          "base_uri": "https://localhost:8080/"
        },
        "id": "0XJrmBgdpisT",
        "outputId": "43ac5205-d12b-43e0-8792-5d2860f9f7d9"
      },
      "execution_count": 11,
      "outputs": [
        {
          "output_type": "stream",
          "name": "stdout",
          "text": [
            "0.0    58\n",
            "1.0    58\n",
            "Name: target, dtype: int64\n"
          ]
        }
      ]
    },
    {
      "cell_type": "code",
      "source": [
        "# Reading test set\n",
        "\n",
        "X_test = test_data.iloc[:,0:-1]\n",
        "y_test = test_data['target']\n",
        "\n",
        "X_test = np.array(X_test).reshape(X_test.shape[0], X_test.shape[1], 1)"
      ],
      "metadata": {
        "id": "YMox3DF1prfv"
      },
      "execution_count": 12,
      "outputs": []
    },
    {
      "cell_type": "code",
      "source": [
        "inp = Input(X_n.shape[1:])\n",
        "\n",
        "L = Conv1D(8, 3, padding ='same',  activation =\"relu\")(inp)\n",
        "L = BatchNormalization()(L)\n",
        "L = Dropout(0.1)(L)\n",
        "\n",
        "L = Conv1D(32, 3, padding ='same',  activation =\"relu\")(L)\n",
        "L = BatchNormalization()(L)\n",
        "L = Dropout(0.1)(L)\n",
        "\n",
        "\n",
        "\n",
        "L = GlobalAveragePooling1D()(L)\n",
        "\n",
        "\n",
        "out = Dense(2, activation =\"softmax\")(L)\n",
        "\n",
        "model = Model(inputs = inp, outputs = out)\n",
        "model.compile(optimizer = \"adam\" , loss = \"sparse_categorical_crossentropy\", metrics =[\"sparse_categorical_accuracy\"] )\n",
        "\n",
        "model.summary()"
      ],
      "metadata": {
        "colab": {
          "base_uri": "https://localhost:8080/"
        },
        "id": "CK6U0gB4pzmE",
        "outputId": "aff68350-1b76-4b42-e8bf-540da1c5ac1b"
      },
      "execution_count": 13,
      "outputs": [
        {
          "output_type": "stream",
          "name": "stdout",
          "text": [
            "Model: \"model\"\n",
            "_________________________________________________________________\n",
            " Layer (type)                Output Shape              Param #   \n",
            "=================================================================\n",
            " input_1 (InputLayer)        [(None, 512, 1)]          0         \n",
            "                                                                 \n",
            " conv1d (Conv1D)             (None, 512, 8)            32        \n",
            "                                                                 \n",
            " batch_normalization (BatchN  (None, 512, 8)           32        \n",
            " ormalization)                                                   \n",
            "                                                                 \n",
            " dropout (Dropout)           (None, 512, 8)            0         \n",
            "                                                                 \n",
            " conv1d_1 (Conv1D)           (None, 512, 32)           800       \n",
            "                                                                 \n",
            " batch_normalization_1 (Batc  (None, 512, 32)          128       \n",
            " hNormalization)                                                 \n",
            "                                                                 \n",
            " dropout_1 (Dropout)         (None, 512, 32)           0         \n",
            "                                                                 \n",
            " global_average_pooling1d (G  (None, 32)               0         \n",
            " lobalAveragePooling1D)                                          \n",
            "                                                                 \n",
            " dense (Dense)               (None, 2)                 66        \n",
            "                                                                 \n",
            "=================================================================\n",
            "Total params: 1,058\n",
            "Trainable params: 978\n",
            "Non-trainable params: 80\n",
            "_________________________________________________________________\n"
          ]
        }
      ]
    },
    {
      "cell_type": "code",
      "source": [
        "my_callbacks = [ EarlyStopping(patience =  30, monitor = \"val_loss\" ),\n",
        "                 ReduceLROnPlateau(monitor = \"val_loss\", patience= 10, min_lr = 0.000001, factor = 0.5  ) ]\n",
        "\n",
        "\n",
        "hist = model.fit(X_n, y_n , epochs = 100, batch_size= 2 ,validation_split=0.15,\n",
        "                 callbacks = my_callbacks, verbose =1 )"
      ],
      "metadata": {
        "colab": {
          "base_uri": "https://localhost:8080/"
        },
        "id": "Np-1srGUp-9L",
        "outputId": "9f04a2a3-aa12-4c8a-f4ca-aff53b21323e"
      },
      "execution_count": 14,
      "outputs": [
        {
          "output_type": "stream",
          "name": "stdout",
          "text": [
            "Epoch 1/100\n",
            "49/49 [==============================] - 2s 11ms/step - loss: 0.6944 - sparse_categorical_accuracy: 0.5918 - val_loss: 0.7205 - val_sparse_categorical_accuracy: 0.0000e+00 - lr: 0.0010\n",
            "Epoch 2/100\n",
            "49/49 [==============================] - 0s 7ms/step - loss: 0.6606 - sparse_categorical_accuracy: 0.5714 - val_loss: 0.7572 - val_sparse_categorical_accuracy: 0.0000e+00 - lr: 0.0010\n",
            "Epoch 3/100\n",
            "49/49 [==============================] - 0s 6ms/step - loss: 0.6726 - sparse_categorical_accuracy: 0.5714 - val_loss: 0.7735 - val_sparse_categorical_accuracy: 0.0000e+00 - lr: 0.0010\n",
            "Epoch 4/100\n",
            "49/49 [==============================] - 0s 6ms/step - loss: 0.6361 - sparse_categorical_accuracy: 0.6327 - val_loss: 0.7543 - val_sparse_categorical_accuracy: 0.2778 - lr: 0.0010\n",
            "Epoch 5/100\n",
            "49/49 [==============================] - 0s 6ms/step - loss: 0.6639 - sparse_categorical_accuracy: 0.5306 - val_loss: 0.7586 - val_sparse_categorical_accuracy: 0.2778 - lr: 0.0010\n",
            "Epoch 6/100\n",
            "49/49 [==============================] - 0s 6ms/step - loss: 0.6186 - sparse_categorical_accuracy: 0.6429 - val_loss: 0.7498 - val_sparse_categorical_accuracy: 0.5000 - lr: 0.0010\n",
            "Epoch 7/100\n",
            "49/49 [==============================] - 0s 7ms/step - loss: 0.6305 - sparse_categorical_accuracy: 0.6531 - val_loss: 0.7424 - val_sparse_categorical_accuracy: 0.5556 - lr: 0.0010\n",
            "Epoch 8/100\n",
            "49/49 [==============================] - 0s 6ms/step - loss: 0.6529 - sparse_categorical_accuracy: 0.5918 - val_loss: 0.8588 - val_sparse_categorical_accuracy: 0.2778 - lr: 0.0010\n",
            "Epoch 9/100\n",
            "49/49 [==============================] - 0s 6ms/step - loss: 0.6067 - sparse_categorical_accuracy: 0.6633 - val_loss: 0.7189 - val_sparse_categorical_accuracy: 0.6111 - lr: 0.0010\n",
            "Epoch 10/100\n",
            "49/49 [==============================] - 0s 6ms/step - loss: 0.6496 - sparse_categorical_accuracy: 0.5816 - val_loss: 0.7260 - val_sparse_categorical_accuracy: 0.6111 - lr: 0.0010\n",
            "Epoch 11/100\n",
            "49/49 [==============================] - 0s 6ms/step - loss: 0.6493 - sparse_categorical_accuracy: 0.5612 - val_loss: 0.7262 - val_sparse_categorical_accuracy: 0.6111 - lr: 0.0010\n",
            "Epoch 12/100\n",
            "49/49 [==============================] - 0s 6ms/step - loss: 0.5922 - sparse_categorical_accuracy: 0.7143 - val_loss: 0.6883 - val_sparse_categorical_accuracy: 0.6667 - lr: 0.0010\n",
            "Epoch 13/100\n",
            "49/49 [==============================] - 0s 6ms/step - loss: 0.6626 - sparse_categorical_accuracy: 0.6122 - val_loss: 0.6077 - val_sparse_categorical_accuracy: 0.8333 - lr: 0.0010\n",
            "Epoch 14/100\n",
            "49/49 [==============================] - 0s 6ms/step - loss: 0.6575 - sparse_categorical_accuracy: 0.5918 - val_loss: 0.6437 - val_sparse_categorical_accuracy: 0.7222 - lr: 0.0010\n",
            "Epoch 15/100\n",
            "49/49 [==============================] - 0s 6ms/step - loss: 0.6248 - sparse_categorical_accuracy: 0.6735 - val_loss: 0.5566 - val_sparse_categorical_accuracy: 0.8333 - lr: 0.0010\n",
            "Epoch 16/100\n",
            "49/49 [==============================] - 0s 6ms/step - loss: 0.6406 - sparse_categorical_accuracy: 0.6327 - val_loss: 0.5849 - val_sparse_categorical_accuracy: 0.8333 - lr: 0.0010\n",
            "Epoch 17/100\n",
            "49/49 [==============================] - 0s 8ms/step - loss: 0.6213 - sparse_categorical_accuracy: 0.6429 - val_loss: 0.6360 - val_sparse_categorical_accuracy: 0.7778 - lr: 0.0010\n",
            "Epoch 18/100\n",
            "49/49 [==============================] - 0s 9ms/step - loss: 0.6411 - sparse_categorical_accuracy: 0.6224 - val_loss: 0.6164 - val_sparse_categorical_accuracy: 0.8333 - lr: 0.0010\n",
            "Epoch 19/100\n",
            "49/49 [==============================] - 0s 8ms/step - loss: 0.6535 - sparse_categorical_accuracy: 0.6020 - val_loss: 0.6460 - val_sparse_categorical_accuracy: 0.7778 - lr: 0.0010\n",
            "Epoch 20/100\n",
            "49/49 [==============================] - 0s 9ms/step - loss: 0.6577 - sparse_categorical_accuracy: 0.6429 - val_loss: 0.6172 - val_sparse_categorical_accuracy: 0.8333 - lr: 0.0010\n",
            "Epoch 21/100\n",
            "49/49 [==============================] - 0s 9ms/step - loss: 0.6506 - sparse_categorical_accuracy: 0.5816 - val_loss: 0.6110 - val_sparse_categorical_accuracy: 0.8333 - lr: 0.0010\n",
            "Epoch 22/100\n",
            "49/49 [==============================] - 0s 9ms/step - loss: 0.6446 - sparse_categorical_accuracy: 0.5612 - val_loss: 0.6671 - val_sparse_categorical_accuracy: 0.6667 - lr: 0.0010\n",
            "Epoch 23/100\n",
            "49/49 [==============================] - 0s 9ms/step - loss: 0.6463 - sparse_categorical_accuracy: 0.6327 - val_loss: 0.7093 - val_sparse_categorical_accuracy: 0.6111 - lr: 0.0010\n",
            "Epoch 24/100\n",
            "49/49 [==============================] - 0s 9ms/step - loss: 0.6174 - sparse_categorical_accuracy: 0.7245 - val_loss: 0.7016 - val_sparse_categorical_accuracy: 0.6111 - lr: 0.0010\n",
            "Epoch 25/100\n",
            "49/49 [==============================] - 0s 9ms/step - loss: 0.6535 - sparse_categorical_accuracy: 0.5816 - val_loss: 0.6314 - val_sparse_categorical_accuracy: 0.7778 - lr: 0.0010\n",
            "Epoch 26/100\n",
            "49/49 [==============================] - 0s 10ms/step - loss: 0.6165 - sparse_categorical_accuracy: 0.6429 - val_loss: 0.6130 - val_sparse_categorical_accuracy: 0.8333 - lr: 5.0000e-04\n",
            "Epoch 27/100\n",
            "49/49 [==============================] - 0s 6ms/step - loss: 0.6289 - sparse_categorical_accuracy: 0.6224 - val_loss: 0.6483 - val_sparse_categorical_accuracy: 0.7222 - lr: 5.0000e-04\n",
            "Epoch 28/100\n",
            "49/49 [==============================] - 0s 6ms/step - loss: 0.6533 - sparse_categorical_accuracy: 0.5714 - val_loss: 0.6640 - val_sparse_categorical_accuracy: 0.7222 - lr: 5.0000e-04\n",
            "Epoch 29/100\n",
            "49/49 [==============================] - 0s 6ms/step - loss: 0.6306 - sparse_categorical_accuracy: 0.6020 - val_loss: 0.7299 - val_sparse_categorical_accuracy: 0.6111 - lr: 5.0000e-04\n",
            "Epoch 30/100\n",
            "49/49 [==============================] - 0s 6ms/step - loss: 0.6189 - sparse_categorical_accuracy: 0.6122 - val_loss: 0.6665 - val_sparse_categorical_accuracy: 0.7222 - lr: 5.0000e-04\n",
            "Epoch 31/100\n",
            "49/49 [==============================] - 0s 6ms/step - loss: 0.6098 - sparse_categorical_accuracy: 0.6735 - val_loss: 0.6433 - val_sparse_categorical_accuracy: 0.7222 - lr: 5.0000e-04\n",
            "Epoch 32/100\n",
            "49/49 [==============================] - 0s 6ms/step - loss: 0.6511 - sparse_categorical_accuracy: 0.6122 - val_loss: 0.6498 - val_sparse_categorical_accuracy: 0.7222 - lr: 5.0000e-04\n",
            "Epoch 33/100\n",
            "49/49 [==============================] - 0s 6ms/step - loss: 0.6616 - sparse_categorical_accuracy: 0.5612 - val_loss: 0.6942 - val_sparse_categorical_accuracy: 0.6111 - lr: 5.0000e-04\n",
            "Epoch 34/100\n",
            "49/49 [==============================] - 0s 6ms/step - loss: 0.6471 - sparse_categorical_accuracy: 0.6122 - val_loss: 0.7130 - val_sparse_categorical_accuracy: 0.6111 - lr: 5.0000e-04\n",
            "Epoch 35/100\n",
            "49/49 [==============================] - 0s 6ms/step - loss: 0.6045 - sparse_categorical_accuracy: 0.6837 - val_loss: 0.6639 - val_sparse_categorical_accuracy: 0.7222 - lr: 5.0000e-04\n",
            "Epoch 36/100\n",
            "49/49 [==============================] - 0s 7ms/step - loss: 0.6518 - sparse_categorical_accuracy: 0.5408 - val_loss: 0.6366 - val_sparse_categorical_accuracy: 0.7222 - lr: 2.5000e-04\n",
            "Epoch 37/100\n",
            "49/49 [==============================] - 0s 6ms/step - loss: 0.6620 - sparse_categorical_accuracy: 0.5918 - val_loss: 0.6357 - val_sparse_categorical_accuracy: 0.7222 - lr: 2.5000e-04\n",
            "Epoch 38/100\n",
            "49/49 [==============================] - 0s 6ms/step - loss: 0.6353 - sparse_categorical_accuracy: 0.6531 - val_loss: 0.6547 - val_sparse_categorical_accuracy: 0.7222 - lr: 2.5000e-04\n",
            "Epoch 39/100\n",
            "49/49 [==============================] - 0s 7ms/step - loss: 0.6597 - sparse_categorical_accuracy: 0.5510 - val_loss: 0.6693 - val_sparse_categorical_accuracy: 0.6667 - lr: 2.5000e-04\n",
            "Epoch 40/100\n",
            "49/49 [==============================] - 0s 6ms/step - loss: 0.6170 - sparse_categorical_accuracy: 0.6429 - val_loss: 0.6631 - val_sparse_categorical_accuracy: 0.7222 - lr: 2.5000e-04\n",
            "Epoch 41/100\n",
            "49/49 [==============================] - 0s 6ms/step - loss: 0.6360 - sparse_categorical_accuracy: 0.6633 - val_loss: 0.6752 - val_sparse_categorical_accuracy: 0.6667 - lr: 2.5000e-04\n",
            "Epoch 42/100\n",
            "49/49 [==============================] - 0s 7ms/step - loss: 0.6298 - sparse_categorical_accuracy: 0.6224 - val_loss: 0.6690 - val_sparse_categorical_accuracy: 0.7222 - lr: 2.5000e-04\n",
            "Epoch 43/100\n",
            "49/49 [==============================] - 0s 6ms/step - loss: 0.6508 - sparse_categorical_accuracy: 0.5816 - val_loss: 0.6889 - val_sparse_categorical_accuracy: 0.6111 - lr: 2.5000e-04\n",
            "Epoch 44/100\n",
            "49/49 [==============================] - 0s 9ms/step - loss: 0.6520 - sparse_categorical_accuracy: 0.5918 - val_loss: 0.7166 - val_sparse_categorical_accuracy: 0.6111 - lr: 2.5000e-04\n",
            "Epoch 45/100\n",
            "49/49 [==============================] - 1s 11ms/step - loss: 0.6315 - sparse_categorical_accuracy: 0.6429 - val_loss: 0.6974 - val_sparse_categorical_accuracy: 0.6111 - lr: 2.5000e-04\n"
          ]
        }
      ]
    },
    {
      "cell_type": "code",
      "source": [
        "pred = model.predict(X_test)"
      ],
      "metadata": {
        "colab": {
          "base_uri": "https://localhost:8080/"
        },
        "id": "D7ElWAe2qK96",
        "outputId": "142d8def-1f0a-4889-b6a8-67cdf250752a"
      },
      "execution_count": 15,
      "outputs": [
        {
          "output_type": "stream",
          "name": "stdout",
          "text": [
            "5/5 [==============================] - 0s 7ms/step\n"
          ]
        }
      ]
    },
    {
      "cell_type": "code",
      "source": [
        "train_ev =  model.evaluate(X_n, y_n)\n",
        "test_ev =  model.evaluate(X_test, y_test)\n",
        "\n",
        "\n",
        "print('train acc: {0:.3f}'.format(train_ev[1]))\n",
        "print('test acc: {0:.3f}'.format(test_ev[1]))"
      ],
      "metadata": {
        "colab": {
          "base_uri": "https://localhost:8080/"
        },
        "id": "KvkXk34yqO5l",
        "outputId": "a718202c-83f0-4781-8138-166be8a34500"
      },
      "execution_count": 16,
      "outputs": [
        {
          "output_type": "stream",
          "name": "stdout",
          "text": [
            "4/4 [==============================] - 0s 8ms/step - loss: 0.6107 - sparse_categorical_accuracy: 0.6552\n",
            "5/5 [==============================] - 0s 9ms/step - loss: 0.6166 - sparse_categorical_accuracy: 0.6403\n",
            "train acc: 0.655\n",
            "test acc: 0.640\n"
          ]
        }
      ]
    },
    {
      "cell_type": "code",
      "source": [
        "pred_ =[]\n",
        "\n",
        "for i in range(len(pred)):\n",
        "  pred_.append(np.argmax(pred[i]))\n",
        "\n",
        "roc_auc = roc_auc_score(pred_, y_test)\n",
        "print('ROC AUC Score: {0:.3f}'.format(roc_auc))\n",
        "\n",
        "\n",
        "# Creatin classification report\n",
        "report = classification_report(y_test, pred_)\n",
        "print(report)\n"
      ],
      "metadata": {
        "colab": {
          "base_uri": "https://localhost:8080/"
        },
        "id": "rTJYjalAqU3G",
        "outputId": "eb749ce4-5d01-43e4-eff7-b914de5fdb92"
      },
      "execution_count": 20,
      "outputs": [
        {
          "output_type": "stream",
          "name": "stdout",
          "text": [
            "ROC AUC Score: 0.625\n",
            "              precision    recall  f1-score   support\n",
            "\n",
            "         0.0       0.86      0.62      0.72       104\n",
            "         1.0       0.38      0.71      0.50        35\n",
            "\n",
            "    accuracy                           0.64       139\n",
            "   macro avg       0.62      0.66      0.61       139\n",
            "weighted avg       0.74      0.64      0.66       139\n",
            "\n"
          ]
        }
      ]
    },
    {
      "cell_type": "markdown",
      "source": [
        "It is an overt fact that the precision of class 1 (major event) is very low. This classification performance not good."
      ],
      "metadata": {
        "id": "b7ShVc2trJF4"
      }
    },
    {
      "cell_type": "code",
      "source": [
        "# Creating confusion matrix\n",
        "\n",
        "cf = confusion_matrix(y_test, pred_)\n",
        "sns.heatmap(cf, annot =True)"
      ],
      "metadata": {
        "colab": {
          "base_uri": "https://localhost:8080/",
          "height": 448
        },
        "id": "QsVHdJhOqcVT",
        "outputId": "48622c2f-cdb7-44b6-9caf-ff375f781975"
      },
      "execution_count": 18,
      "outputs": [
        {
          "output_type": "execute_result",
          "data": {
            "text/plain": [
              "<Axes: >"
            ]
          },
          "metadata": {},
          "execution_count": 18
        },
        {
          "output_type": "display_data",
          "data": {
            "text/plain": [
              "<Figure size 640x480 with 2 Axes>"
            ],
            "image/png": "[encoded data removed]"
          },
          "metadata": {}
        }
      ]
    }
  ]
}