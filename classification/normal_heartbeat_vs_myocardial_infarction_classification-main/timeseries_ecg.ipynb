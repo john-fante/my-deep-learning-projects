{
  "cells": [
    {
      "cell_type": "markdown",
      "metadata": {},
      "source": [
        "# -*- coding: utf-8 -*-\n",
        "# 2023 https://github.com/john-fante\n",
        "# https://www.kaggle.com/banddaniel"
      ]
    },
    {
      "cell_type": "code",
      "execution_count": 1,
      "metadata": {
        "id": "VILZEDEQ2Uw4"
      },
      "outputs": [],
      "source": [
        "import tensorflow as tf\n",
        "import numpy as np\n",
        "import pandas as pd\n",
        "import matplotlib.pyplot as plt\n",
        "import random\n",
        "\n",
        "from scipy.io.arff import loadarff\n",
        "\n",
        "from sklearn.preprocessing import MinMaxScaler, StandardScaler, LabelEncoder\n",
        "\n",
        "from tensorflow.keras.layers import Input, Conv1D, BatchNormalization, Dropout, GlobalAveragePooling1D, Dense\n",
        "from tensorflow.keras.models import Model\n",
        "from tensorflow.keras.callbacks import EarlyStopping, ReduceLROnPlateau, ModelCheckpoint"
      ]
    },
    {
      "cell_type": "code",
      "execution_count": 2,
      "metadata": {
        "id": "3I363lcN2pZS"
      },
      "outputs": [],
      "source": [
        "# reading .arff file and converting dataframe\n",
        "def arff_to_pd(path):\n",
        "  data = loadarff(path)\n",
        "  raw_data, meta_data = data\n",
        "\n",
        "  cols = []\n",
        "  for col_name in meta_data:\n",
        "    cols.append(col_name)\n",
        "\n",
        "  data2d = np.zeros([ raw_data.shape[0], len(cols) ])\n",
        "\n",
        "  for row_number in range(raw_data.shape[0]):\n",
        "    for col_number in range(len(cols)):\n",
        "      data2d[row_number][col_number] = raw_data[row_number][col_number]\n",
        "\n",
        "  df = pd.DataFrame(data2d, columns = cols)\n",
        "\n",
        "  return df\n",
        "\n",
        "\n",
        "# plotting random examples\n",
        "def plot_samples(df):\n",
        "  pos = df[df.target == 1]\n",
        "  neg = df[df.target== -1 ]\n",
        "\n",
        "  idx_pos = random.randint(0, pos.shape[0])\n",
        "  idx_neg = random.randint(0, neg.shape[0])\n",
        "\n",
        "  fig,axs = plt.subplots(1,2, figsize=(12,5), sharey=True)\n",
        "  axs[0].plot(pos.iloc[idx_pos, :-1])\n",
        "  axs[0].set_title('positive example no: ' + str(idx_pos))\n",
        "\n",
        "  axs[1].plot(neg.iloc[idx_neg, : -1])\n",
        "  axs[1].set_title('negative example no: ' + str(idx_neg))\n",
        "\n",
        "  plt.tight_layout()\n",
        "\n",
        "  plt.show()\n",
        "\n",
        "\n",
        "\n"
      ]
    },
    {
      "cell_type": "code",
      "execution_count": 3,
      "metadata": {
        "colab": {
          "base_uri": "https://localhost:8080/"
        },
        "id": "83MczMj-2qT0",
        "outputId": "e8ccd97e-c680-4bec-d0a8-d8f1194a6526"
      },
      "outputs": [
        {
          "name": "stdout",
          "output_type": "stream",
          "text": [
            "(100, 97)\n",
            "(100, 97)\n"
          ]
        }
      ],
      "source": [
        "train_data = arff_to_pd('/content/drive/MyDrive/ECG200/ECG200_TRAIN.arff')\n",
        "test_data = arff_to_pd('/content/drive/MyDrive/ECG200/ECG200_TEST.arff')\n",
        "\n",
        "print(train_data.shape)\n",
        "print(test_data.shape)"
      ]
    },
    {
      "cell_type": "code",
      "execution_count": 4,
      "metadata": {
        "colab": {
          "base_uri": "https://localhost:8080/",
          "height": 488
        },
        "id": "RKjytuk92xVS",
        "outputId": "dd1cebfb-3474-4b35-802b-c2ec4417752f"
      },
      "outputs": [
        {
          "data": {
            "text/html": [
              "\n",
              "\n",
              "  <div id=\"df-941ffc61-e0f5-483e-a651-b2e89a2c8df8\">\n",
              "    <div class=\"colab-df-container\">\n",
              "      <div>\n",
              "<style scoped>\n",
              "    .dataframe tbody tr th:only-of-type {\n",
              "        vertical-align: middle;\n",
              "    }\n",
              "\n",
              "    .dataframe tbody tr th {\n",
              "        vertical-align: top;\n",
              "    }\n",
              "\n",
              "    .dataframe thead th {\n",
              "        text-align: right;\n",
              "    }\n",
              "</style>\n",
              "<table border=\"1\" class=\"dataframe\">\n",
              "  <thead>\n",
              "    <tr style=\"text-align: right;\">\n",
              "      <th></th>\n",
              "      <th>att1</th>\n",
              "      <th>att2</th>\n",
              "      <th>att3</th>\n",
              "      <th>att4</th>\n",
              "      <th>att5</th>\n",
              "      <th>att6</th>\n",
              "      <th>att7</th>\n",
              "      <th>att8</th>\n",
              "      <th>att9</th>\n",
              "      <th>att10</th>\n",
              "      <th>...</th>\n",
              "      <th>att88</th>\n",
              "      <th>att89</th>\n",
              "      <th>att90</th>\n",
              "      <th>att91</th>\n",
              "      <th>att92</th>\n",
              "      <th>att93</th>\n",
              "      <th>att94</th>\n",
              "      <th>att95</th>\n",
              "      <th>att96</th>\n",
              "      <th>target</th>\n",
              "    </tr>\n",
              "  </thead>\n",
              "  <tbody>\n",
              "    <tr>\n",
              "      <th>0</th>\n",
              "      <td>0.502055</td>\n",
              "      <td>0.542163</td>\n",
              "      <td>0.722383</td>\n",
              "      <td>1.428885</td>\n",
              "      <td>2.136516</td>\n",
              "      <td>2.281149</td>\n",
              "      <td>1.936274</td>\n",
              "      <td>1.468890</td>\n",
              "      <td>1.008845</td>\n",
              "      <td>0.380282</td>\n",
              "      <td>...</td>\n",
              "      <td>0.610298</td>\n",
              "      <td>0.638894</td>\n",
              "      <td>0.684679</td>\n",
              "      <td>0.583238</td>\n",
              "      <td>0.640522</td>\n",
              "      <td>0.708585</td>\n",
              "      <td>0.705011</td>\n",
              "      <td>0.713815</td>\n",
              "      <td>0.433765</td>\n",
              "      <td>-1.0</td>\n",
              "    </tr>\n",
              "    <tr>\n",
              "      <th>1</th>\n",
              "      <td>0.147647</td>\n",
              "      <td>0.804668</td>\n",
              "      <td>0.367771</td>\n",
              "      <td>0.243894</td>\n",
              "      <td>0.026614</td>\n",
              "      <td>-0.274402</td>\n",
              "      <td>0.096731</td>\n",
              "      <td>-0.747731</td>\n",
              "      <td>-1.609777</td>\n",
              "      <td>-1.179593</td>\n",
              "      <td>...</td>\n",
              "      <td>-0.400228</td>\n",
              "      <td>0.176084</td>\n",
              "      <td>1.111768</td>\n",
              "      <td>2.438428</td>\n",
              "      <td>2.734889</td>\n",
              "      <td>1.736054</td>\n",
              "      <td>0.036857</td>\n",
              "      <td>-1.265074</td>\n",
              "      <td>-0.208024</td>\n",
              "      <td>1.0</td>\n",
              "    </tr>\n",
              "    <tr>\n",
              "      <th>2</th>\n",
              "      <td>0.316646</td>\n",
              "      <td>0.243199</td>\n",
              "      <td>0.370471</td>\n",
              "      <td>1.063738</td>\n",
              "      <td>1.678187</td>\n",
              "      <td>1.759558</td>\n",
              "      <td>1.697717</td>\n",
              "      <td>1.612159</td>\n",
              "      <td>1.168188</td>\n",
              "      <td>0.499957</td>\n",
              "      <td>...</td>\n",
              "      <td>0.610621</td>\n",
              "      <td>0.552900</td>\n",
              "      <td>0.566786</td>\n",
              "      <td>0.604002</td>\n",
              "      <td>0.777068</td>\n",
              "      <td>0.812345</td>\n",
              "      <td>0.748848</td>\n",
              "      <td>0.818042</td>\n",
              "      <td>0.539347</td>\n",
              "      <td>-1.0</td>\n",
              "    </tr>\n",
              "    <tr>\n",
              "      <th>3</th>\n",
              "      <td>1.168874</td>\n",
              "      <td>2.075901</td>\n",
              "      <td>1.760141</td>\n",
              "      <td>1.606446</td>\n",
              "      <td>1.949046</td>\n",
              "      <td>1.302842</td>\n",
              "      <td>0.459332</td>\n",
              "      <td>0.516412</td>\n",
              "      <td>0.852180</td>\n",
              "      <td>0.989227</td>\n",
              "      <td>...</td>\n",
              "      <td>0.723888</td>\n",
              "      <td>1.323947</td>\n",
              "      <td>2.136488</td>\n",
              "      <td>1.746597</td>\n",
              "      <td>1.470220</td>\n",
              "      <td>1.893512</td>\n",
              "      <td>1.256949</td>\n",
              "      <td>0.800407</td>\n",
              "      <td>0.731540</td>\n",
              "      <td>-1.0</td>\n",
              "    </tr>\n",
              "    <tr>\n",
              "      <th>4</th>\n",
              "      <td>0.648658</td>\n",
              "      <td>0.752026</td>\n",
              "      <td>2.636231</td>\n",
              "      <td>3.455716</td>\n",
              "      <td>2.118157</td>\n",
              "      <td>0.520620</td>\n",
              "      <td>-0.188627</td>\n",
              "      <td>0.780818</td>\n",
              "      <td>0.933775</td>\n",
              "      <td>0.701402</td>\n",
              "      <td>...</td>\n",
              "      <td>-0.136787</td>\n",
              "      <td>-0.340237</td>\n",
              "      <td>-0.089441</td>\n",
              "      <td>-0.080297</td>\n",
              "      <td>-0.192584</td>\n",
              "      <td>-0.304704</td>\n",
              "      <td>-0.454556</td>\n",
              "      <td>0.314590</td>\n",
              "      <td>0.582190</td>\n",
              "      <td>1.0</td>\n",
              "    </tr>\n",
              "    <tr>\n",
              "      <th>...</th>\n",
              "      <td>...</td>\n",
              "      <td>...</td>\n",
              "      <td>...</td>\n",
              "      <td>...</td>\n",
              "      <td>...</td>\n",
              "      <td>...</td>\n",
              "      <td>...</td>\n",
              "      <td>...</td>\n",
              "      <td>...</td>\n",
              "      <td>...</td>\n",
              "      <td>...</td>\n",
              "      <td>...</td>\n",
              "      <td>...</td>\n",
              "      <td>...</td>\n",
              "      <td>...</td>\n",
              "      <td>...</td>\n",
              "      <td>...</td>\n",
              "      <td>...</td>\n",
              "      <td>...</td>\n",
              "      <td>...</td>\n",
              "      <td>...</td>\n",
              "    </tr>\n",
              "    <tr>\n",
              "      <th>95</th>\n",
              "      <td>0.581277</td>\n",
              "      <td>0.876188</td>\n",
              "      <td>1.042767</td>\n",
              "      <td>1.796120</td>\n",
              "      <td>2.541399</td>\n",
              "      <td>2.246653</td>\n",
              "      <td>1.500387</td>\n",
              "      <td>1.031521</td>\n",
              "      <td>0.382672</td>\n",
              "      <td>-0.197561</td>\n",
              "      <td>...</td>\n",
              "      <td>0.907869</td>\n",
              "      <td>0.916457</td>\n",
              "      <td>0.923975</td>\n",
              "      <td>0.767357</td>\n",
              "      <td>0.656223</td>\n",
              "      <td>0.762357</td>\n",
              "      <td>0.501373</td>\n",
              "      <td>-0.333336</td>\n",
              "      <td>-0.524546</td>\n",
              "      <td>1.0</td>\n",
              "    </tr>\n",
              "    <tr>\n",
              "      <th>96</th>\n",
              "      <td>2.689017</td>\n",
              "      <td>2.708703</td>\n",
              "      <td>2.008381</td>\n",
              "      <td>2.235800</td>\n",
              "      <td>1.516982</td>\n",
              "      <td>0.029916</td>\n",
              "      <td>-0.561346</td>\n",
              "      <td>-0.793702</td>\n",
              "      <td>-0.979371</td>\n",
              "      <td>-1.288162</td>\n",
              "      <td>...</td>\n",
              "      <td>-0.072176</td>\n",
              "      <td>-0.082738</td>\n",
              "      <td>-0.138468</td>\n",
              "      <td>-0.120396</td>\n",
              "      <td>-0.089411</td>\n",
              "      <td>-0.243141</td>\n",
              "      <td>-0.119710</td>\n",
              "      <td>0.124042</td>\n",
              "      <td>0.273463</td>\n",
              "      <td>-1.0</td>\n",
              "    </tr>\n",
              "    <tr>\n",
              "      <th>97</th>\n",
              "      <td>0.197677</td>\n",
              "      <td>0.455417</td>\n",
              "      <td>0.973110</td>\n",
              "      <td>1.935956</td>\n",
              "      <td>2.259463</td>\n",
              "      <td>1.741341</td>\n",
              "      <td>1.158296</td>\n",
              "      <td>0.418241</td>\n",
              "      <td>-0.071605</td>\n",
              "      <td>-0.241250</td>\n",
              "      <td>...</td>\n",
              "      <td>0.325569</td>\n",
              "      <td>0.247991</td>\n",
              "      <td>0.184127</td>\n",
              "      <td>0.050358</td>\n",
              "      <td>0.241988</td>\n",
              "      <td>0.331451</td>\n",
              "      <td>-0.120006</td>\n",
              "      <td>0.042423</td>\n",
              "      <td>0.343293</td>\n",
              "      <td>-1.0</td>\n",
              "    </tr>\n",
              "    <tr>\n",
              "      <th>98</th>\n",
              "      <td>0.179500</td>\n",
              "      <td>1.038409</td>\n",
              "      <td>1.946421</td>\n",
              "      <td>2.705141</td>\n",
              "      <td>1.670706</td>\n",
              "      <td>-0.101167</td>\n",
              "      <td>-1.578876</td>\n",
              "      <td>-0.750906</td>\n",
              "      <td>0.175310</td>\n",
              "      <td>0.064901</td>\n",
              "      <td>...</td>\n",
              "      <td>0.330489</td>\n",
              "      <td>0.111953</td>\n",
              "      <td>0.448948</td>\n",
              "      <td>0.567132</td>\n",
              "      <td>0.136757</td>\n",
              "      <td>0.444768</td>\n",
              "      <td>0.151050</td>\n",
              "      <td>0.193378</td>\n",
              "      <td>0.451709</td>\n",
              "      <td>1.0</td>\n",
              "    </tr>\n",
              "    <tr>\n",
              "      <th>99</th>\n",
              "      <td>0.073124</td>\n",
              "      <td>0.776054</td>\n",
              "      <td>2.181336</td>\n",
              "      <td>3.440325</td>\n",
              "      <td>2.168475</td>\n",
              "      <td>0.497315</td>\n",
              "      <td>-0.924284</td>\n",
              "      <td>-1.499227</td>\n",
              "      <td>-0.679328</td>\n",
              "      <td>-0.549892</td>\n",
              "      <td>...</td>\n",
              "      <td>-0.130638</td>\n",
              "      <td>-0.347235</td>\n",
              "      <td>-0.177933</td>\n",
              "      <td>-0.060332</td>\n",
              "      <td>-0.347634</td>\n",
              "      <td>-0.447443</td>\n",
              "      <td>-0.066689</td>\n",
              "      <td>-0.178448</td>\n",
              "      <td>-0.256052</td>\n",
              "      <td>1.0</td>\n",
              "    </tr>\n",
              "  </tbody>\n",
              "</table>\n",
              "<p>100 rows × 97 columns</p>\n",
              "</div>\n",
              "      <button class=\"colab-df-convert\" onclick=\"convertToInteractive('df-941ffc61-e0f5-483e-a651-b2e89a2c8df8')\"\n",
              "              title=\"Convert this dataframe to an interactive table.\"\n",
              "              style=\"display:none;\">\n",
              "\n",
              "  <svg xmlns=\"http://www.w3.org/2000/svg\" height=\"24px\"viewBox=\"0 0 24 24\"\n",
              "       width=\"24px\">\n",
              "    <path d=\"M0 0h24v24H0V0z\" fill=\"none\"/>\n",
              "    <path d=\"M18.56 5.44l.94 2.06.94-2.06 2.06-.94-2.06-.94-.94-2.06-.94 2.06-2.06.94zm-11 1L8.5 8.5l.94-2.06 2.06-.94-2.06-.94L8.5 2.5l-.94 2.06-2.06.94zm10 10l.94 2.06.94-2.06 2.06-.94-2.06-.94-.94-2.06-.94 2.06-2.06.94z\"/><path d=\"M17.41 7.96l-1.37-1.37c-.4-.4-.92-.59-1.43-.59-.52 0-1.04.2-1.43.59L10.3 9.45l-7.72 7.72c-.78.78-.78 2.05 0 2.83L4 21.41c.39.39.9.59 1.41.59.51 0 1.02-.2 1.41-.59l7.78-7.78 2.81-2.81c.8-.78.8-2.07 0-2.86zM5.41 20L4 18.59l7.72-7.72 1.47 1.35L5.41 20z\"/>\n",
              "  </svg>\n",
              "      </button>\n",
              "\n",
              "\n",
              "\n",
              "    <div id=\"df-51be18cd-b086-41ff-a28c-c8dc5dcbb24b\">\n",
              "      <button class=\"colab-df-quickchart\" onclick=\"quickchart('df-51be18cd-b086-41ff-a28c-c8dc5dcbb24b')\"\n",
              "              title=\"Suggest charts.\"\n",
              "              style=\"display:none;\">\n",
              "\n",
              "<svg xmlns=\"http://www.w3.org/2000/svg\" height=\"24px\"viewBox=\"0 0 24 24\"\n",
              "     width=\"24px\">\n",
              "    <g>\n",
              "        <path d=\"M19 3H5c-1.1 0-2 .9-2 2v14c0 1.1.9 2 2 2h14c1.1 0 2-.9 2-2V5c0-1.1-.9-2-2-2zM9 17H7v-7h2v7zm4 0h-2V7h2v10zm4 0h-2v-4h2v4z\"/>\n",
              "    </g>\n",
              "</svg>\n",
              "      </button>\n",
              "    </div>\n",
              "\n",
              "<style>\n",
              "  .colab-df-quickchart {\n",
              "    background-color: #E8F0FE;\n",
              "    border: none;\n",
              "    border-radius: 50%;\n",
              "    cursor: pointer;\n",
              "    display: none;\n",
              "    fill: #1967D2;\n",
              "    height: 32px;\n",
              "    padding: 0 0 0 0;\n",
              "    width: 32px;\n",
              "  }\n",
              "\n",
              "  .colab-df-quickchart:hover {\n",
              "    background-color: #E2EBFA;\n",
              "    box-shadow: 0px 1px 2px rgba(60, 64, 67, 0.3), 0px 1px 3px 1px rgba(60, 64, 67, 0.15);\n",
              "    fill: #174EA6;\n",
              "  }\n",
              "\n",
              "  [theme=dark] .colab-df-quickchart {\n",
              "    background-color: #3B4455;\n",
              "    fill: #D2E3FC;\n",
              "  }\n",
              "\n",
              "  [theme=dark] .colab-df-quickchart:hover {\n",
              "    background-color: #434B5C;\n",
              "    box-shadow: 0px 1px 3px 1px rgba(0, 0, 0, 0.15);\n",
              "    filter: drop-shadow(0px 1px 2px rgba(0, 0, 0, 0.3));\n",
              "    fill: #FFFFFF;\n",
              "  }\n",
              "</style>\n",
              "\n",
              "    <script>\n",
              "      async function quickchart(key) {\n",
              "        const containerElement = document.querySelector('#' + key);\n",
              "        const charts = await google.colab.kernel.invokeFunction(\n",
              "            'suggestCharts', [key], {});\n",
              "      }\n",
              "    </script>\n",
              "\n",
              "      <script>\n",
              "\n",
              "function displayQuickchartButton(domScope) {\n",
              "  let quickchartButtonEl =\n",
              "    domScope.querySelector('#df-51be18cd-b086-41ff-a28c-c8dc5dcbb24b button.colab-df-quickchart');\n",
              "  quickchartButtonEl.style.display =\n",
              "    google.colab.kernel.accessAllowed ? 'block' : 'none';\n",
              "}\n",
              "\n",
              "        displayQuickchartButton(document);\n",
              "      </script>\n",
              "      <style>\n",
              "    .colab-df-container {\n",
              "      display:flex;\n",
              "      flex-wrap:wrap;\n",
              "      gap: 12px;\n",
              "    }\n",
              "\n",
              "    .colab-df-convert {\n",
              "      background-color: #E8F0FE;\n",
              "      border: none;\n",
              "      border-radius: 50%;\n",
              "      cursor: pointer;\n",
              "      display: none;\n",
              "      fill: #1967D2;\n",
              "      height: 32px;\n",
              "      padding: 0 0 0 0;\n",
              "      width: 32px;\n",
              "    }\n",
              "\n",
              "    .colab-df-convert:hover {\n",
              "      background-color: #E2EBFA;\n",
              "      box-shadow: 0px 1px 2px rgba(60, 64, 67, 0.3), 0px 1px 3px 1px rgba(60, 64, 67, 0.15);\n",
              "      fill: #174EA6;\n",
              "    }\n",
              "\n",
              "    [theme=dark] .colab-df-convert {\n",
              "      background-color: #3B4455;\n",
              "      fill: #D2E3FC;\n",
              "    }\n",
              "\n",
              "    [theme=dark] .colab-df-convert:hover {\n",
              "      background-color: #434B5C;\n",
              "      box-shadow: 0px 1px 3px 1px rgba(0, 0, 0, 0.15);\n",
              "      filter: drop-shadow(0px 1px 2px rgba(0, 0, 0, 0.3));\n",
              "      fill: #FFFFFF;\n",
              "    }\n",
              "  </style>\n",
              "\n",
              "      <script>\n",
              "        const buttonEl =\n",
              "          document.querySelector('#df-941ffc61-e0f5-483e-a651-b2e89a2c8df8 button.colab-df-convert');\n",
              "        buttonEl.style.display =\n",
              "          google.colab.kernel.accessAllowed ? 'block' : 'none';\n",
              "\n",
              "        async function convertToInteractive(key) {\n",
              "          const element = document.querySelector('#df-941ffc61-e0f5-483e-a651-b2e89a2c8df8');\n",
              "          const dataTable =\n",
              "            await google.colab.kernel.invokeFunction('convertToInteractive',\n",
              "                                                     [key], {});\n",
              "          if (!dataTable) return;\n",
              "\n",
              "          const docLinkHtml = 'Like what you see? Visit the ' +\n",
              "            '<a target=\"_blank\" href=https://colab.research.google.com/notebooks/data_table.ipynb>data table notebook</a>'\n",
              "            + ' to learn more about interactive tables.';\n",
              "          element.innerHTML = '';\n",
              "          dataTable['output_type'] = 'display_data';\n",
              "          await google.colab.output.renderOutput(dataTable, element);\n",
              "          const docLink = document.createElement('div');\n",
              "          docLink.innerHTML = docLinkHtml;\n",
              "          element.appendChild(docLink);\n",
              "        }\n",
              "      </script>\n",
              "    </div>\n",
              "  </div>\n"
            ],
            "text/plain": [
              "        att1      att2      att3      att4      att5      att6      att7  \\\n",
              "0   0.502055  0.542163  0.722383  1.428885  2.136516  2.281149  1.936274   \n",
              "1   0.147647  0.804668  0.367771  0.243894  0.026614 -0.274402  0.096731   \n",
              "2   0.316646  0.243199  0.370471  1.063738  1.678187  1.759558  1.697717   \n",
              "3   1.168874  2.075901  1.760141  1.606446  1.949046  1.302842  0.459332   \n",
              "4   0.648658  0.752026  2.636231  3.455716  2.118157  0.520620 -0.188627   \n",
              "..       ...       ...       ...       ...       ...       ...       ...   \n",
              "95  0.581277  0.876188  1.042767  1.796120  2.541399  2.246653  1.500387   \n",
              "96  2.689017  2.708703  2.008381  2.235800  1.516982  0.029916 -0.561346   \n",
              "97  0.197677  0.455417  0.973110  1.935956  2.259463  1.741341  1.158296   \n",
              "98  0.179500  1.038409  1.946421  2.705141  1.670706 -0.101167 -1.578876   \n",
              "99  0.073124  0.776054  2.181336  3.440325  2.168475  0.497315 -0.924284   \n",
              "\n",
              "        att8      att9     att10  ...     att88     att89     att90     att91  \\\n",
              "0   1.468890  1.008845  0.380282  ...  0.610298  0.638894  0.684679  0.583238   \n",
              "1  -0.747731 -1.609777 -1.179593  ... -0.400228  0.176084  1.111768  2.438428   \n",
              "2   1.612159  1.168188  0.499957  ...  0.610621  0.552900  0.566786  0.604002   \n",
              "3   0.516412  0.852180  0.989227  ...  0.723888  1.323947  2.136488  1.746597   \n",
              "4   0.780818  0.933775  0.701402  ... -0.136787 -0.340237 -0.089441 -0.080297   \n",
              "..       ...       ...       ...  ...       ...       ...       ...       ...   \n",
              "95  1.031521  0.382672 -0.197561  ...  0.907869  0.916457  0.923975  0.767357   \n",
              "96 -0.793702 -0.979371 -1.288162  ... -0.072176 -0.082738 -0.138468 -0.120396   \n",
              "97  0.418241 -0.071605 -0.241250  ...  0.325569  0.247991  0.184127  0.050358   \n",
              "98 -0.750906  0.175310  0.064901  ...  0.330489  0.111953  0.448948  0.567132   \n",
              "99 -1.499227 -0.679328 -0.549892  ... -0.130638 -0.347235 -0.177933 -0.060332   \n",
              "\n",
              "       att92     att93     att94     att95     att96  target  \n",
              "0   0.640522  0.708585  0.705011  0.713815  0.433765    -1.0  \n",
              "1   2.734889  1.736054  0.036857 -1.265074 -0.208024     1.0  \n",
              "2   0.777068  0.812345  0.748848  0.818042  0.539347    -1.0  \n",
              "3   1.470220  1.893512  1.256949  0.800407  0.731540    -1.0  \n",
              "4  -0.192584 -0.304704 -0.454556  0.314590  0.582190     1.0  \n",
              "..       ...       ...       ...       ...       ...     ...  \n",
              "95  0.656223  0.762357  0.501373 -0.333336 -0.524546     1.0  \n",
              "96 -0.089411 -0.243141 -0.119710  0.124042  0.273463    -1.0  \n",
              "97  0.241988  0.331451 -0.120006  0.042423  0.343293    -1.0  \n",
              "98  0.136757  0.444768  0.151050  0.193378  0.451709     1.0  \n",
              "99 -0.347634 -0.447443 -0.066689 -0.178448 -0.256052     1.0  \n",
              "\n",
              "[100 rows x 97 columns]"
            ]
          },
          "execution_count": 4,
          "metadata": {},
          "output_type": "execute_result"
        }
      ],
      "source": [
        "train_data"
      ]
    },
    {
      "cell_type": "code",
      "execution_count": 5,
      "metadata": {
        "colab": {
          "base_uri": "https://localhost:8080/"
        },
        "id": "gmWHGs_X2zMp",
        "outputId": "33cd4627-fd14-4711-cb2c-f21e74d3fc6e"
      },
      "outputs": [
        {
          "name": "stdout",
          "output_type": "stream",
          "text": [
            "(100, 96)\n",
            "(100,)\n"
          ]
        }
      ],
      "source": [
        "X_train = train_data.iloc[:,0:-1]\n",
        "y_train = train_data.iloc[:,-1]\n",
        "\n",
        "X_test = test_data.iloc[:,0:-1]\n",
        "y_test = test_data.iloc[:,-1]\n",
        "\n",
        "\n",
        "\n",
        "print(X_train.shape)\n",
        "print(y_train.shape)"
      ]
    },
    {
      "cell_type": "code",
      "execution_count": 6,
      "metadata": {
        "id": "_7KhgAhQ3NlJ"
      },
      "outputs": [],
      "source": [
        "# labels encoding (-1,1) -> 0,1\n",
        "lb = LabelEncoder()\n",
        "y_train = lb.fit_transform(y_train)\n",
        "y_test = lb.fit_transform(y_test)"
      ]
    },
    {
      "cell_type": "code",
      "execution_count": 7,
      "metadata": {
        "colab": {
          "base_uri": "https://localhost:8080/"
        },
        "id": "rWu7YHKC3RGS",
        "outputId": "76de638c-ab52-4f20-879f-745bd75c6f76"
      },
      "outputs": [
        {
          "name": "stdout",
          "output_type": "stream",
          "text": [
            "(100, 96, 1)\n",
            "(100, 96, 1)\n"
          ]
        }
      ],
      "source": [
        "X_train = np.array(X_train).reshape(X_train.shape[0], X_train.shape[1], 1)\n",
        "X_test = np.array(X_test).reshape(X_test.shape[0], X_test.shape[1], 1)\n",
        "\n",
        "print(X_train.shape)\n",
        "print(X_test.shape)"
      ]
    },
    {
      "cell_type": "code",
      "execution_count": 8,
      "metadata": {
        "colab": {
          "base_uri": "https://localhost:8080/"
        },
        "id": "awMy19x23WAl",
        "outputId": "5e57bb7a-c45b-4005-a0b0-e54f09a99e63"
      },
      "outputs": [
        {
          "name": "stdout",
          "output_type": "stream",
          "text": [
            "(100, 96, 1)\n",
            "(100,)\n"
          ]
        }
      ],
      "source": [
        "# shuffling dataset\n",
        "idx = np.random.permutation(len(X_train))\n",
        "\n",
        "X_train = X_train[idx]\n",
        "y_train = y_train[idx]\n",
        "\n",
        "\n",
        "print(X_train.shape)\n",
        "print(y_train.shape)\n"
      ]
    },
    {
      "cell_type": "code",
      "execution_count": 71,
      "metadata": {
        "colab": {
          "base_uri": "https://localhost:8080/",
          "height": 507
        },
        "id": "tmIYinTZgDAo",
        "outputId": "89362ef7-01b5-4748-ce2f-89a8e56309a6"
      },
      "outputs": [
        {
          "data": {
            "image/png": "[encoded data removed]",
            "text/plain": [
              "<Figure size 1200x500 with 2 Axes>"
            ]
          },
          "metadata": {},
          "output_type": "display_data"
        }
      ],
      "source": [
        "plot_samples(test_data)"
      ]
    },
    {
      "cell_type": "code",
      "execution_count": 67,
      "metadata": {
        "colab": {
          "base_uri": "https://localhost:8080/"
        },
        "id": "C97_kTQsaj5s",
        "outputId": "24c40728-58e4-45a8-a2e2-471f579454bb"
      },
      "outputs": [
        {
          "name": "stdout",
          "output_type": "stream",
          "text": [
            "Model: \"model_10\"\n",
            "_________________________________________________________________\n",
            " Layer (type)                Output Shape              Param #   \n",
            "=================================================================\n",
            " input_11 (InputLayer)       [(None, 96, 1)]           0         \n",
            "                                                                 \n",
            " conv1d_31 (Conv1D)          (None, 96, 64)            256       \n",
            "                                                                 \n",
            " dropout_31 (Dropout)        (None, 96, 64)            0         \n",
            "                                                                 \n",
            " conv1d_32 (Conv1D)          (None, 96, 128)           24704     \n",
            "                                                                 \n",
            " batch_normalization_29 (Bat  (None, 96, 128)          512       \n",
            " chNormalization)                                                \n",
            "                                                                 \n",
            " dropout_32 (Dropout)        (None, 96, 128)           0         \n",
            "                                                                 \n",
            " conv1d_33 (Conv1D)          (None, 96, 128)           49280     \n",
            "                                                                 \n",
            " batch_normalization_30 (Bat  (None, 96, 128)          512       \n",
            " chNormalization)                                                \n",
            "                                                                 \n",
            " dropout_33 (Dropout)        (None, 96, 128)           0         \n",
            "                                                                 \n",
            " global_average_pooling1d_10  (None, 128)              0         \n",
            "  (GlobalAveragePooling1D)                                       \n",
            "                                                                 \n",
            " dense_10 (Dense)            (None, 2)                 258       \n",
            "                                                                 \n",
            "=================================================================\n",
            "Total params: 75,522\n",
            "Trainable params: 75,010\n",
            "Non-trainable params: 512\n",
            "_________________________________________________________________\n"
          ]
        }
      ],
      "source": [
        "inp = Input(shape = X_train.shape[1:])\n",
        "\n",
        "conv1 = Conv1D(64, 3, padding='same', activation = 'relu')(inp)\n",
        "conv1 = Dropout(0.1)(conv1)\n",
        "\n",
        "conv2 = Conv1D(128, 3, padding='same', activation = 'relu')(conv1)\n",
        "conv2 = BatchNormalization()(conv2)\n",
        "conv2 = Dropout(0.1)(conv2)\n",
        "\n",
        "\n",
        "conv3 = Conv1D(128, 3, padding='same', activation = 'relu')(conv2)\n",
        "conv3 = BatchNormalization()(conv3)\n",
        "conv3 = Dropout(0.1)(conv3)\n",
        "\n",
        "pool = GlobalAveragePooling1D()(conv3)\n",
        "\n",
        "out = Dense(2, activation='softmax')(pool)\n",
        "\n",
        "model = Model(inputs = inp, outputs= out)\n",
        "model.compile(optimizer = 'Adam', loss = 'sparse_categorical_crossentropy', metrics =['sparse_categorical_accuracy'] )\n",
        "model.summary()"
      ]
    },
    {
      "cell_type": "code",
      "execution_count": 62,
      "metadata": {
        "colab": {
          "base_uri": "https://localhost:8080/"
        },
        "id": "hflMe4Yl3b5W",
        "outputId": "4e356196-ad6a-414f-afff-fa77f4a1047b"
      },
      "outputs": [
        {
          "name": "stdout",
          "output_type": "stream",
          "text": [
            "Epoch 1/50\n",
            "10/10 [==============================] - 1s 34ms/step - loss: 0.3467 - sparse_categorical_accuracy: 0.8375 - val_loss: 0.4389 - val_sparse_categorical_accuracy: 0.7500 - lr: 0.0010\n",
            "Epoch 2/50\n",
            "10/10 [==============================] - 0s 24ms/step - loss: 0.2809 - sparse_categorical_accuracy: 0.8875 - val_loss: 0.4574 - val_sparse_categorical_accuracy: 0.7500 - lr: 0.0010\n",
            "Epoch 3/50\n",
            "10/10 [==============================] - 0s 26ms/step - loss: 0.3822 - sparse_categorical_accuracy: 0.8250 - val_loss: 0.4409 - val_sparse_categorical_accuracy: 0.7500 - lr: 0.0010\n",
            "Epoch 4/50\n",
            "10/10 [==============================] - 0s 24ms/step - loss: 0.3044 - sparse_categorical_accuracy: 0.8875 - val_loss: 0.4778 - val_sparse_categorical_accuracy: 0.8000 - lr: 0.0010\n",
            "Epoch 5/50\n",
            "10/10 [==============================] - 0s 28ms/step - loss: 0.2808 - sparse_categorical_accuracy: 0.9250 - val_loss: 0.4324 - val_sparse_categorical_accuracy: 0.8000 - lr: 5.0000e-04\n",
            "Epoch 6/50\n",
            "10/10 [==============================] - 0s 28ms/step - loss: 0.3241 - sparse_categorical_accuracy: 0.8500 - val_loss: 0.4094 - val_sparse_categorical_accuracy: 0.8000 - lr: 5.0000e-04\n",
            "Epoch 7/50\n",
            "10/10 [==============================] - 0s 27ms/step - loss: 0.2876 - sparse_categorical_accuracy: 0.8875 - val_loss: 0.4469 - val_sparse_categorical_accuracy: 0.7500 - lr: 5.0000e-04\n",
            "Epoch 8/50\n",
            "10/10 [==============================] - 0s 25ms/step - loss: 0.2875 - sparse_categorical_accuracy: 0.9000 - val_loss: 0.4865 - val_sparse_categorical_accuracy: 0.7500 - lr: 5.0000e-04\n",
            "Epoch 9/50\n",
            "10/10 [==============================] - 0s 25ms/step - loss: 0.4338 - sparse_categorical_accuracy: 0.8000 - val_loss: 0.4151 - val_sparse_categorical_accuracy: 0.7500 - lr: 5.0000e-04\n",
            "Epoch 10/50\n",
            "10/10 [==============================] - 0s 29ms/step - loss: 0.2896 - sparse_categorical_accuracy: 0.8750 - val_loss: 0.3935 - val_sparse_categorical_accuracy: 0.7500 - lr: 2.5000e-04\n",
            "Epoch 11/50\n",
            "10/10 [==============================] - 0s 24ms/step - loss: 0.2888 - sparse_categorical_accuracy: 0.8875 - val_loss: 0.4063 - val_sparse_categorical_accuracy: 0.7500 - lr: 2.5000e-04\n",
            "Epoch 12/50\n",
            "10/10 [==============================] - 0s 25ms/step - loss: 0.2706 - sparse_categorical_accuracy: 0.8750 - val_loss: 0.4814 - val_sparse_categorical_accuracy: 0.7500 - lr: 2.5000e-04\n",
            "Epoch 13/50\n",
            "10/10 [==============================] - 0s 25ms/step - loss: 0.2785 - sparse_categorical_accuracy: 0.9250 - val_loss: 0.4892 - val_sparse_categorical_accuracy: 0.7500 - lr: 2.5000e-04\n",
            "Epoch 14/50\n",
            "10/10 [==============================] - 0s 32ms/step - loss: 0.2592 - sparse_categorical_accuracy: 0.9000 - val_loss: 0.4705 - val_sparse_categorical_accuracy: 0.7500 - lr: 1.2500e-04\n",
            "Epoch 15/50\n",
            "10/10 [==============================] - 0s 38ms/step - loss: 0.2663 - sparse_categorical_accuracy: 0.8750 - val_loss: 0.4503 - val_sparse_categorical_accuracy: 0.7500 - lr: 1.2500e-04\n",
            "Epoch 16/50\n",
            "10/10 [==============================] - 0s 40ms/step - loss: 0.2328 - sparse_categorical_accuracy: 0.9250 - val_loss: 0.4235 - val_sparse_categorical_accuracy: 0.7500 - lr: 1.2500e-04\n",
            "Epoch 17/50\n",
            "10/10 [==============================] - 0s 40ms/step - loss: 0.2922 - sparse_categorical_accuracy: 0.8625 - val_loss: 0.4322 - val_sparse_categorical_accuracy: 0.7500 - lr: 1.0000e-04\n",
            "Epoch 18/50\n",
            "10/10 [==============================] - 0s 38ms/step - loss: 0.2613 - sparse_categorical_accuracy: 0.8750 - val_loss: 0.4349 - val_sparse_categorical_accuracy: 0.7000 - lr: 1.0000e-04\n",
            "Epoch 18: early stopping\n"
          ]
        }
      ],
      "source": [
        "callbacks = [ ModelCheckpoint('best.h5', save_best_only = True, monitor = 'val_loss'),\n",
        "             EarlyStopping(monitor = 'val_loss', patience = 8, verbose = 1 ),\n",
        "              ReduceLROnPlateau(monitor = 'val_loss', min_lr = 0.0001, factor = 0.5, patience = 3) ]\n",
        "\n",
        "\n",
        "hist = model.fit(X_train, y_train, batch_size = 8, epochs = 50 , callbacks = callbacks,\n",
        "                 validation_split = 0.2 , verbose = 1)"
      ]
    },
    {
      "cell_type": "code",
      "execution_count": 76,
      "metadata": {
        "colab": {
          "base_uri": "https://localhost:8080/",
          "height": 453
        },
        "id": "oq0DWW_-af1g",
        "outputId": "e611030f-d648-4fe7-c266-3abc46888b3e"
      },
      "outputs": [
        {
          "data": {
            "image/png": "[encoded data removed]",
            "text/plain": [
              "<Figure size 640x480 with 1 Axes>"
            ]
          },
          "metadata": {},
          "output_type": "display_data"
        }
      ],
      "source": [
        "plt.plot(hist.history['sparse_categorical_accuracy'])\n",
        "plt.plot(hist.history['val_sparse_categorical_accuracy'])\n",
        "plt.ylabel('acc', fontsize=\"large\")\n",
        "plt.xlabel(\"epoch\", fontsize=\"large\")\n",
        "plt.legend([\"train\", \"val\"], loc=\"best\")\n",
        "plt.show()"
      ]
    },
    {
      "cell_type": "code",
      "execution_count": 77,
      "metadata": {
        "colab": {
          "base_uri": "https://localhost:8080/"
        },
        "id": "2eSJmAyf5TWs",
        "outputId": "5230d67d-de8f-4db0-97c9-46f450d9d284"
      },
      "outputs": [
        {
          "name": "stdout",
          "output_type": "stream",
          "text": [
            "4/4 [==============================] - 0s 12ms/step - loss: 0.4125 - sparse_categorical_accuracy: 0.8300\n"
          ]
        },
        {
          "data": {
            "text/plain": [
              "[0.4125179350376129, 0.8299999833106995]"
            ]
          },
          "execution_count": 77,
          "metadata": {},
          "output_type": "execute_result"
        }
      ],
      "source": [
        "model = tf.keras.models.load_model('/content/best.h5')\n",
        "model.evaluate(X_test,y_test)"
      ]
    },
    {
      "cell_type": "code",
      "execution_count": 64,
      "metadata": {
        "colab": {
          "base_uri": "https://localhost:8080/"
        },
        "id": "XXsuwjeJ4yat",
        "outputId": "a2763999-b417-4b94-ac48-48d898a6c36f"
      },
      "outputs": [
        {
          "name": "stdout",
          "output_type": "stream",
          "text": [
            "4/4 [==============================] - 0s 10ms/step\n"
          ]
        }
      ],
      "source": [
        "pred = model.predict(X_test)\n",
        "\n",
        "y_pred = []\n",
        "for i in range(len(pred)):\n",
        "  y_pred.append( np.argmax(pred[i]))"
      ]
    },
    {
      "cell_type": "code",
      "execution_count": 65,
      "metadata": {
        "colab": {
          "base_uri": "https://localhost:8080/"
        },
        "id": "M9Zdhyuy5PWb",
        "outputId": "5a12a375-9c95-43d7-8df3-e479ea105c5c"
      },
      "outputs": [
        {
          "name": "stdout",
          "output_type": "stream",
          "text": [
            "              precision    recall  f1-score   support\n",
            "\n",
            "           0       0.71      0.89      0.79        36\n",
            "           1       0.93      0.80      0.86        64\n",
            "\n",
            "    accuracy                           0.83       100\n",
            "   macro avg       0.82      0.84      0.82       100\n",
            "weighted avg       0.85      0.83      0.83       100\n",
            "\n"
          ]
        }
      ],
      "source": [
        "from sklearn.metrics import classification_report, confusion_matrix\n",
        "\n",
        "rep = classification_report(y_test, y_pred)\n",
        "\n",
        "print(rep)"
      ]
    },
    {
      "cell_type": "code",
      "execution_count": 66,
      "metadata": {
        "colab": {
          "base_uri": "https://localhost:8080/",
          "height": 448
        },
        "id": "-0WgSMxI7cm3",
        "outputId": "8feabd0f-3278-4205-ad42-640aa8907bb3"
      },
      "outputs": [
        {
          "data": {
            "text/plain": [
              "<Axes: >"
            ]
          },
          "execution_count": 66,
          "metadata": {},
          "output_type": "execute_result"
        },
        {
          "data": {
            "image/png": "[encoded data removed]",
            "text/plain": [
              "<Figure size 640x480 with 2 Axes>"
            ]
          },
          "metadata": {},
          "output_type": "display_data"
        }
      ],
      "source": [
        "import seaborn as sns\n",
        "\n",
        "cf = confusion_matrix(y_test, y_pred)\n",
        "sns.heatmap(cf, annot =True)\n",
        "\n",
        "\n"
      ]
    }
  ],
  "metadata": {
    "colab": {
      "provenance": []
    },
    "kernelspec": {
      "display_name": "Python 3",
      "name": "python3"
    },
    "language_info": {
      "name": "python"
    }
  },
  "nbformat": 4,
  "nbformat_minor": 0
}
