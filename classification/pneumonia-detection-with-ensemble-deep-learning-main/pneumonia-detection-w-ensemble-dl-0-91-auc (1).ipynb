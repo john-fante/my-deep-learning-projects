{
 "cells": [
  {
   "cell_type": "markdown",
   "id": "dcc8ed46",
   "metadata": {
    "papermill": {
     "duration": 0.008165,
     "end_time": "2023-08-22T23:23:23.879863",
     "exception": false,
     "start_time": "2023-08-22T23:23:23.871698",
     "status": "completed"
    },
    "tags": []
   },
   "source": [
    "<br>\n",
    "First of all, I have added samples of both classes to the validation data from the training data. The validation data was very small (only 16 samples). I have used 2 pretrained models, namely Xception and InceptionV3. Lastly, I used an ensemble method using  2 models using  a weighted average layer.<br>\n",
    "\n",
    "\n",
    "\n",
    "I used followed methods<br>\n",
    "- Increased the size of the validation set <br>\n",
    "- Class weights to deal with the class unbalanced problem <br>\n",
    "- Data augmentation methods <br>\n",
    "- Two pretrained model <br>\n",
    "- Weighted average layer <br>\n",
    "\n",
    "\n",
    "## References\n",
    "- https://stackoverflow.com/questions/67647843/is-there-a-way-to-ensemble-two-keras-h5-models-trained-for-same-classes\n"
   ]
  },
  {
   "cell_type": "code",
   "execution_count": 1,
   "id": "97102c1a",
   "metadata": {
    "execution": {
     "iopub.execute_input": "2023-08-22T23:23:23.897425Z",
     "iopub.status.busy": "2023-08-22T23:23:23.896745Z",
     "iopub.status.idle": "2023-08-22T23:23:34.832094Z",
     "shell.execute_reply": "2023-08-22T23:23:34.831076Z"
    },
    "papermill": {
     "duration": 10.947006,
     "end_time": "2023-08-22T23:23:34.834822",
     "exception": false,
     "start_time": "2023-08-22T23:23:23.887816",
     "status": "completed"
    },
    "tags": []
   },
   "outputs": [],
   "source": [
    "# Importing dependencies\n",
    "\n",
    "import warnings \n",
    "warnings.filterwarnings('ignore')\n",
    "import os\n",
    "import numpy as np\n",
    "import pandas as pd\n",
    "import matplotlib.pyplot as plt\n",
    "import seaborn as sns\n",
    "from tqdm.notebook import tqdm\n",
    "\n",
    "\n",
    "from sklearn.utils import shuffle\n",
    "from sklearn.metrics import classification_report, confusion_matrix\n",
    "\n",
    "from sklearn.utils.class_weight import compute_class_weight\n",
    "\n",
    "import tensorflow as tf\n",
    "tf.config.run_functions_eagerly(True)\n",
    "from tensorflow.keras.layers import Input, Conv2D, BatchNormalization, Dense , Flatten, Dropout, MaxPooling2D, GlobalAveragePooling2D,ReLU, ELU\n",
    "from tensorflow.keras.models import Model\n",
    "from tensorflow.keras.callbacks import ReduceLROnPlateau,EarlyStopping\n",
    "\n",
    "import skimage\n",
    "import cv2"
   ]
  },
  {
   "cell_type": "markdown",
   "id": "ba9e5f48",
   "metadata": {
    "papermill": {
     "duration": 0.007583,
     "end_time": "2023-08-22T23:23:34.850225",
     "exception": false,
     "start_time": "2023-08-22T23:23:34.842642",
     "status": "completed"
    },
    "tags": []
   },
   "source": [
    "# <span style=\"color:#e74c3c;\"> Creating </span> Datasets\n"
   ]
  },
  {
   "cell_type": "code",
   "execution_count": 2,
   "id": "7770f6cc",
   "metadata": {
    "execution": {
     "iopub.execute_input": "2023-08-22T23:23:34.868475Z",
     "iopub.status.busy": "2023-08-22T23:23:34.866701Z",
     "iopub.status.idle": "2023-08-22T23:23:35.554200Z",
     "shell.execute_reply": "2023-08-22T23:23:35.553299Z"
    },
    "papermill": {
     "duration": 0.698626,
     "end_time": "2023-08-22T23:23:35.556534",
     "exception": false,
     "start_time": "2023-08-22T23:23:34.857908",
     "status": "completed"
    },
    "tags": []
   },
   "outputs": [
    {
     "data": {
      "application/vnd.jupyter.widget-view+json": {
       "model_id": "199a9f2d13ab4c80bd7b7ff984aa0c6c",
       "version_major": 2,
       "version_minor": 0
      },
      "text/plain": [
       "images:   0%|          | 0/1341 [00:00<?, ?it/s]"
      ]
     },
     "metadata": {},
     "output_type": "display_data"
    },
    {
     "data": {
      "application/vnd.jupyter.widget-view+json": {
       "model_id": "8307b48d4a36415c8e14697b0be4fab9",
       "version_major": 2,
       "version_minor": 0
      },
      "text/plain": [
       "images:   0%|          | 0/3875 [00:00<?, ?it/s]"
      ]
     },
     "metadata": {},
     "output_type": "display_data"
    },
    {
     "data": {
      "application/vnd.jupyter.widget-view+json": {
       "model_id": "a23fa247b6ac40138843046f2a6afbed",
       "version_major": 2,
       "version_minor": 0
      },
      "text/plain": [
       "images:   0%|          | 0/8 [00:00<?, ?it/s]"
      ]
     },
     "metadata": {},
     "output_type": "display_data"
    },
    {
     "data": {
      "application/vnd.jupyter.widget-view+json": {
       "model_id": "f3b59199b07e424f987f15854af631e7",
       "version_major": 2,
       "version_minor": 0
      },
      "text/plain": [
       "images:   0%|          | 0/8 [00:00<?, ?it/s]"
      ]
     },
     "metadata": {},
     "output_type": "display_data"
    },
    {
     "data": {
      "application/vnd.jupyter.widget-view+json": {
       "model_id": "921e2774608f47e6851b950ba402ba6a",
       "version_major": 2,
       "version_minor": 0
      },
      "text/plain": [
       "images:   0%|          | 0/234 [00:00<?, ?it/s]"
      ]
     },
     "metadata": {},
     "output_type": "display_data"
    },
    {
     "data": {
      "application/vnd.jupyter.widget-view+json": {
       "model_id": "8012c8c793f149388e7327aae28834cc",
       "version_major": 2,
       "version_minor": 0
      },
      "text/plain": [
       "images:   0%|          | 0/390 [00:00<?, ?it/s]"
      ]
     },
     "metadata": {},
     "output_type": "display_data"
    }
   ],
   "source": [
    "# Creating main dataframe contains image paths and their classes.\n",
    "\n",
    "def create_images_list(path):\n",
    "    data = []\n",
    "    images = os.listdir(path)\n",
    "    for i in tqdm(images, desc='images'):\n",
    "        data.append(os.path.join(path, i))\n",
    "        \n",
    "    return data\n",
    "\n",
    "\n",
    "train_data_normal = create_images_list('/kaggle/input/pneumonia-chest-x-ray-dataset/train/normal')\n",
    "train_data_pneumonia = create_images_list('/kaggle/input/pneumonia-chest-x-ray-dataset/train/pneumonia')\n",
    "\n",
    "val_data_normal = create_images_list('/kaggle/input/pneumonia-chest-x-ray-dataset/val/normal')\n",
    "val_data_pneumonia = create_images_list('/kaggle/input/pneumonia-chest-x-ray-dataset/val/pneumonia')\n",
    "\n",
    "test_data_normal = create_images_list('/kaggle/input/pneumonia-chest-x-ray-dataset/test/normal')\n",
    "test_data_pneumonia = create_images_list('/kaggle/input/pneumonia-chest-x-ray-dataset/test/pneumonia')\n",
    "\n",
    "\n",
    "# look-up table\n",
    "classes = {0:'normal', 1 : 'pneumonia'}\n",
    "\n",
    "\n",
    "train_df = pd.concat([ pd.DataFrame( { \"img\": np.array(train_data_normal[:1300]), \"class\": 0 }), \n",
    "                       pd.DataFrame( { \"img\": np.array(train_data_pneumonia[:3800]), \"class\": 1 })] ,ignore_index = True)\n",
    "\n",
    "val_df = pd.concat([ pd.DataFrame({ \"img\": np.array(val_data_normal), \"class\":0 }),\n",
    "                     pd.DataFrame({ \"img\": np.array(val_data_pneumonia) ,\"class\" :1}),\n",
    "                     pd.DataFrame({ \"img\": np.array(train_data_normal[1300:]) ,\"class\" :0}),\n",
    "                     pd.DataFrame({ \"img\": np.array(train_data_pneumonia[3800:]) ,\"class\" :1})], ignore_index = True)\n",
    "\n",
    "test_df = pd.concat([ pd.DataFrame({\"img\": np.array(test_data_normal) , \"class\":0 }), \n",
    "                      pd.DataFrame({\"img\": np.array(test_data_pneumonia), \"class\":1 })],  ignore_index = True)\n",
    "\n",
    "\n",
    "train_df = shuffle(train_df).reset_index().drop( columns = ['index'], axis = 1)\n",
    "val_df = shuffle(val_df).reset_index().drop( columns = ['index'], axis = 1)\n",
    "test_df = shuffle(test_df).reset_index().drop( columns = ['index'], axis = 1)"
   ]
  },
  {
   "cell_type": "code",
   "execution_count": 3,
   "id": "216a70a5",
   "metadata": {
    "execution": {
     "iopub.execute_input": "2023-08-22T23:23:35.576707Z",
     "iopub.status.busy": "2023-08-22T23:23:35.576042Z",
     "iopub.status.idle": "2023-08-22T23:23:35.582619Z",
     "shell.execute_reply": "2023-08-22T23:23:35.581443Z"
    },
    "papermill": {
     "duration": 0.018902,
     "end_time": "2023-08-22T23:23:35.584827",
     "exception": false,
     "start_time": "2023-08-22T23:23:35.565925",
     "status": "completed"
    },
    "tags": []
   },
   "outputs": [
    {
     "name": "stdout",
     "output_type": "stream",
     "text": [
      "train images:  5100\n",
      "val images:  132\n",
      "test images:  624\n"
     ]
    }
   ],
   "source": [
    "print(\"train images: \", train_df.shape[0])\n",
    "print(\"val images: \", val_df.shape[0])\n",
    "print(\"test images: \", test_df.shape[0])"
   ]
  },
  {
   "cell_type": "code",
   "execution_count": 4,
   "id": "129525f8",
   "metadata": {
    "execution": {
     "iopub.execute_input": "2023-08-22T23:23:35.604379Z",
     "iopub.status.busy": "2023-08-22T23:23:35.603481Z",
     "iopub.status.idle": "2023-08-22T23:23:35.614876Z",
     "shell.execute_reply": "2023-08-22T23:23:35.613767Z"
    },
    "papermill": {
     "duration": 0.023191,
     "end_time": "2023-08-22T23:23:35.617011",
     "exception": false,
     "start_time": "2023-08-22T23:23:35.593820",
     "status": "completed"
    },
    "tags": []
   },
   "outputs": [
    {
     "data": {
      "text/plain": [
       "array([3800, 1300])"
      ]
     },
     "execution_count": 4,
     "metadata": {},
     "output_type": "execute_result"
    }
   ],
   "source": [
    "# Unique classes in training data\n",
    "\n",
    "np.array(train_df['class'].value_counts())"
   ]
  },
  {
   "cell_type": "code",
   "execution_count": 5,
   "id": "6ae3f7f1",
   "metadata": {
    "execution": {
     "iopub.execute_input": "2023-08-22T23:23:35.636651Z",
     "iopub.status.busy": "2023-08-22T23:23:35.635887Z",
     "iopub.status.idle": "2023-08-22T23:23:35.643733Z",
     "shell.execute_reply": "2023-08-22T23:23:35.642658Z"
    },
    "papermill": {
     "duration": 0.019661,
     "end_time": "2023-08-22T23:23:35.646024",
     "exception": false,
     "start_time": "2023-08-22T23:23:35.626363",
     "status": "completed"
    },
    "tags": []
   },
   "outputs": [
    {
     "data": {
      "text/plain": [
       "{0: 0.0007692307692307692, 1: 0.0002631578947368421}"
      ]
     },
     "execution_count": 5,
     "metadata": {},
     "output_type": "execute_result"
    }
   ],
   "source": [
    "# Calculating class weights to deal with the imbalanced problem\n",
    "\n",
    "counts = np.bincount(train_df['class'])\n",
    "\n",
    "weight_for_0 = 1.0 / counts[0]\n",
    "weight_for_1 = 1.0 / counts[1]\n",
    "\n",
    "class_weight = {0: weight_for_0, 1: weight_for_1}\n",
    "class_weight"
   ]
  },
  {
   "cell_type": "code",
   "execution_count": 6,
   "id": "c3332c35",
   "metadata": {
    "execution": {
     "iopub.execute_input": "2023-08-22T23:23:35.666611Z",
     "iopub.status.busy": "2023-08-22T23:23:35.665723Z",
     "iopub.status.idle": "2023-08-22T23:23:35.671989Z",
     "shell.execute_reply": "2023-08-22T23:23:35.671020Z"
    },
    "papermill": {
     "duration": 0.018967,
     "end_time": "2023-08-22T23:23:35.674128",
     "exception": false,
     "start_time": "2023-08-22T23:23:35.655161",
     "status": "completed"
    },
    "tags": []
   },
   "outputs": [],
   "source": [
    "def img_preprocessing(image, label):\n",
    "    \n",
    "    img = tf.io.read_file(image)\n",
    "    img = tf.io.decode_jpeg(img, channels = 3)\n",
    "    img = tf.image.resize(img, size = (200,200))\n",
    "    img = tf.cast(img, tf.float32)/255.0\n",
    "    \n",
    "    return img,label\n"
   ]
  },
  {
   "cell_type": "code",
   "execution_count": 7,
   "id": "0e5c0850",
   "metadata": {
    "execution": {
     "iopub.execute_input": "2023-08-22T23:23:35.693528Z",
     "iopub.status.busy": "2023-08-22T23:23:35.692940Z",
     "iopub.status.idle": "2023-08-22T23:23:35.698036Z",
     "shell.execute_reply": "2023-08-22T23:23:35.697124Z"
    },
    "papermill": {
     "duration": 0.016825,
     "end_time": "2023-08-22T23:23:35.700032",
     "exception": false,
     "start_time": "2023-08-22T23:23:35.683207",
     "status": "completed"
    },
    "tags": []
   },
   "outputs": [],
   "source": [
    "def img_augmentation(image, label):\n",
    "    \n",
    "    img = tf.image.random_brightness(image, 0.1)\n",
    "    img = tf.image.random_contrast(img, 0.1, 0.3)\n",
    "    \n",
    "    return img, label"
   ]
  },
  {
   "cell_type": "code",
   "execution_count": 8,
   "id": "0d65e323",
   "metadata": {
    "execution": {
     "iopub.execute_input": "2023-08-22T23:23:35.719975Z",
     "iopub.status.busy": "2023-08-22T23:23:35.719140Z",
     "iopub.status.idle": "2023-08-22T23:23:40.462599Z",
     "shell.execute_reply": "2023-08-22T23:23:40.461563Z"
    },
    "papermill": {
     "duration": 4.755717,
     "end_time": "2023-08-22T23:23:40.465072",
     "exception": false,
     "start_time": "2023-08-22T23:23:35.709355",
     "status": "completed"
    },
    "tags": []
   },
   "outputs": [],
   "source": [
    "BATCH_SIZE = 32\n",
    "\n",
    "train_loader = tf.data.Dataset.from_tensor_slices((train_df['img'], train_df['class'] ))\n",
    "train_dataset = (train_loader.map(img_preprocessing).map(img_augmentation).batch(BATCH_SIZE).shuffle(train_df.shape[0]).prefetch(BATCH_SIZE))\n",
    "\n",
    "val_loader = tf.data.Dataset.from_tensor_slices((val_df['img'], val_df['class'] ))\n",
    "val_dataset = (val_loader.map(img_preprocessing).batch(BATCH_SIZE).shuffle(val_df.shape[0]).prefetch(BATCH_SIZE))\n",
    "\n",
    "test_loader = tf.data.Dataset.from_tensor_slices((test_df['img'], test_df['class'] ))\n",
    "test_dataset = (test_loader.map(img_preprocessing).batch(BATCH_SIZE).shuffle(test_df.shape[0]).prefetch(BATCH_SIZE))\n"
   ]
  },
  {
   "cell_type": "markdown",
   "id": "897c477a",
   "metadata": {
    "papermill": {
     "duration": 0.009777,
     "end_time": "2023-08-22T23:23:40.485134",
     "exception": false,
     "start_time": "2023-08-22T23:23:40.475357",
     "status": "completed"
    },
    "tags": []
   },
   "source": [
    "# <span style=\"color:#e74c3c;\"> Model 1: </span> Pretrained InceptionV3\n"
   ]
  },
  {
   "cell_type": "code",
   "execution_count": 9,
   "id": "5f7f7e06",
   "metadata": {
    "execution": {
     "iopub.execute_input": "2023-08-22T23:23:40.504547Z",
     "iopub.status.busy": "2023-08-22T23:23:40.504234Z",
     "iopub.status.idle": "2023-08-22T23:23:44.626897Z",
     "shell.execute_reply": "2023-08-22T23:23:44.624989Z"
    },
    "papermill": {
     "duration": 4.137705,
     "end_time": "2023-08-22T23:23:44.631936",
     "exception": false,
     "start_time": "2023-08-22T23:23:40.494231",
     "status": "completed"
    },
    "tags": []
   },
   "outputs": [
    {
     "name": "stdout",
     "output_type": "stream",
     "text": [
      "Downloading data from https://storage.googleapis.com/tensorflow/keras-applications/inception_v3/inception_v3_weights_tf_dim_ordering_tf_kernels_notop.h5\n",
      "87910968/87910968 [==============================] - 1s 0us/step\n",
      "Model: \"sequential\"\n",
      "_________________________________________________________________\n",
      " Layer (type)                Output Shape              Param #   \n",
      "=================================================================\n",
      " inception_v3 (Functional)   (None, 4, 4, 2048)        21802784  \n",
      "                                                                 \n",
      " global_average_pooling2d (G  (None, 2048)             0         \n",
      " lobalAveragePooling2D)                                          \n",
      "                                                                 \n",
      " dense (Dense)               (None, 256)               524544    \n",
      "                                                                 \n",
      " batch_normalization_94 (Bat  (None, 256)              1024      \n",
      " chNormalization)                                                \n",
      "                                                                 \n",
      " elu (ELU)                   (None, 256)               0         \n",
      "                                                                 \n",
      " dropout (Dropout)           (None, 256)               0         \n",
      "                                                                 \n",
      " dense_1 (Dense)             (None, 128)               32896     \n",
      "                                                                 \n",
      " batch_normalization_95 (Bat  (None, 128)              512       \n",
      " chNormalization)                                                \n",
      "                                                                 \n",
      " elu_1 (ELU)                 (None, 128)               0         \n",
      "                                                                 \n",
      " dropout_1 (Dropout)         (None, 128)               0         \n",
      "                                                                 \n",
      " dense_2 (Dense)             (None, 1)                 129       \n",
      "                                                                 \n",
      "=================================================================\n",
      "Total params: 22,361,889\n",
      "Trainable params: 558,337\n",
      "Non-trainable params: 21,803,552\n",
      "_________________________________________________________________\n"
     ]
    }
   ],
   "source": [
    "pretrained_model = tf.keras.applications.InceptionV3(weights='imagenet',include_top=False ,input_shape=[200,200, 3])\n",
    "pretrained_model.trainable = False\n",
    "\n",
    "model = tf.keras.Sequential([\n",
    "    pretrained_model,\n",
    "    GlobalAveragePooling2D(),\n",
    "    Dense(256),\n",
    "    BatchNormalization(),\n",
    "    ELU(),\n",
    "    Dropout(0.15),\n",
    "    \n",
    "    Dense(128),\n",
    "    BatchNormalization(),\n",
    "    ELU(),\n",
    "    Dropout(0.15),\n",
    "    \n",
    "    Dense(1, activation = 'sigmoid')\n",
    "    \n",
    "])\n",
    "\n",
    "model.compile(optimizer  = tf.keras.optimizers.Adam(0.00001), loss = 'binary_crossentropy', metrics = ['accuracy', 'AUC', 'Precision', 'Recall'])\n",
    "\n",
    "model.summary()\n"
   ]
  },
  {
   "cell_type": "code",
   "execution_count": 10,
   "id": "61790c47",
   "metadata": {
    "execution": {
     "iopub.execute_input": "2023-08-22T23:23:44.658938Z",
     "iopub.status.busy": "2023-08-22T23:23:44.658647Z",
     "iopub.status.idle": "2023-08-22T23:23:44.663385Z",
     "shell.execute_reply": "2023-08-22T23:23:44.662414Z"
    },
    "papermill": {
     "duration": 0.020528,
     "end_time": "2023-08-22T23:23:44.665381",
     "exception": false,
     "start_time": "2023-08-22T23:23:44.644853",
     "status": "completed"
    },
    "tags": []
   },
   "outputs": [],
   "source": [
    "my_callbacks = [ ReduceLROnPlateau(monitor='accuracy', patience = 2 , verbose=1,factor=0.3, min_lr=0.000001),\n",
    "               EarlyStopping(monitor='val_loss', patience=3)]"
   ]
  },
  {
   "cell_type": "code",
   "execution_count": 11,
   "id": "0e641511",
   "metadata": {
    "execution": {
     "iopub.execute_input": "2023-08-22T23:23:44.691328Z",
     "iopub.status.busy": "2023-08-22T23:23:44.691030Z",
     "iopub.status.idle": "2023-08-23T00:02:57.281778Z",
     "shell.execute_reply": "2023-08-23T00:02:57.280718Z"
    },
    "papermill": {
     "duration": 2352.606509,
     "end_time": "2023-08-23T00:02:57.284334",
     "exception": false,
     "start_time": "2023-08-22T23:23:44.677825",
     "status": "completed"
    },
    "tags": []
   },
   "outputs": [
    {
     "name": "stdout",
     "output_type": "stream",
     "text": [
      "Epoch 1/20\n",
      "160/160 [==============================] - 122s 405ms/step - loss: 2.0260e-04 - accuracy: 0.7141 - auc: 0.8278 - precision: 0.9089 - recall: 0.6850 - val_loss: 0.8349 - val_accuracy: 0.4924 - val_auc: 0.7792 - val_precision: 0.8636 - val_recall: 0.2289 - lr: 1.0000e-05\n",
      "Epoch 2/20\n",
      "160/160 [==============================] - 89s 386ms/step - loss: 1.4488e-04 - accuracy: 0.8029 - auc: 0.9308 - precision: 0.9657 - recall: 0.7626 - val_loss: 0.6995 - val_accuracy: 0.6136 - val_auc: 0.8387 - val_precision: 0.9000 - val_recall: 0.4337 - lr: 1.0000e-05\n",
      "Epoch 3/20\n",
      "160/160 [==============================] - 88s 387ms/step - loss: 1.2863e-04 - accuracy: 0.8282 - auc: 0.9489 - precision: 0.9765 - recall: 0.7884 - val_loss: 0.5925 - val_accuracy: 0.7348 - val_auc: 0.8689 - val_precision: 0.9286 - val_recall: 0.6265 - lr: 1.0000e-05\n",
      "Epoch 4/20\n",
      "160/160 [==============================] - 88s 383ms/step - loss: 1.1998e-04 - accuracy: 0.8447 - auc: 0.9570 - precision: 0.9790 - recall: 0.8089 - val_loss: 0.5557 - val_accuracy: 0.7727 - val_auc: 0.8922 - val_precision: 0.9492 - val_recall: 0.6747 - lr: 1.0000e-05\n",
      "Epoch 5/20\n",
      "160/160 [==============================] - 89s 386ms/step - loss: 1.1239e-04 - accuracy: 0.8553 - auc: 0.9632 - precision: 0.9799 - recall: 0.8226 - val_loss: 0.4697 - val_accuracy: 0.8106 - val_auc: 0.9080 - val_precision: 0.9394 - val_recall: 0.7470 - lr: 1.0000e-05\n",
      "Epoch 6/20\n",
      "160/160 [==============================] - 87s 384ms/step - loss: 1.0639e-04 - accuracy: 0.8731 - auc: 0.9675 - precision: 0.9840 - recall: 0.8434 - val_loss: 0.4202 - val_accuracy: 0.8106 - val_auc: 0.9214 - val_precision: 0.9394 - val_recall: 0.7470 - lr: 1.0000e-05\n",
      "Epoch 7/20\n",
      "160/160 [==============================] - 88s 386ms/step - loss: 1.0082e-04 - accuracy: 0.8812 - auc: 0.9715 - precision: 0.9836 - recall: 0.8547 - val_loss: 0.4587 - val_accuracy: 0.7955 - val_auc: 0.9264 - val_precision: 0.9516 - val_recall: 0.7108 - lr: 1.0000e-05\n",
      "Epoch 8/20\n",
      "160/160 [==============================] - 87s 383ms/step - loss: 9.5500e-05 - accuracy: 0.8845 - auc: 0.9747 - precision: 0.9855 - recall: 0.8576 - val_loss: 0.3930 - val_accuracy: 0.8409 - val_auc: 0.9352 - val_precision: 0.9559 - val_recall: 0.7831 - lr: 1.0000e-05\n",
      "Epoch 9/20\n",
      "160/160 [==============================] - 88s 385ms/step - loss: 9.4838e-05 - accuracy: 0.8863 - auc: 0.9740 - precision: 0.9844 - recall: 0.8611 - val_loss: 0.3754 - val_accuracy: 0.8561 - val_auc: 0.9367 - val_precision: 0.9571 - val_recall: 0.8072 - lr: 1.0000e-05\n",
      "Epoch 10/20\n",
      "160/160 [==============================] - 88s 383ms/step - loss: 8.9411e-05 - accuracy: 0.8978 - auc: 0.9775 - precision: 0.9855 - recall: 0.8758 - val_loss: 0.3177 - val_accuracy: 0.9091 - val_auc: 0.9396 - val_precision: 0.9494 - val_recall: 0.9036 - lr: 1.0000e-05\n",
      "Epoch 11/20\n",
      "160/160 [==============================] - 88s 385ms/step - loss: 8.8315e-05 - accuracy: 0.8998 - auc: 0.9778 - precision: 0.9858 - recall: 0.8782 - val_loss: 0.3236 - val_accuracy: 0.8864 - val_auc: 0.9416 - val_precision: 0.9595 - val_recall: 0.8554 - lr: 1.0000e-05\n",
      "Epoch 12/20\n",
      "160/160 [==============================] - 87s 383ms/step - loss: 8.5848e-05 - accuracy: 0.8998 - auc: 0.9795 - precision: 0.9844 - recall: 0.8795 - val_loss: 0.3098 - val_accuracy: 0.8939 - val_auc: 0.9450 - val_precision: 0.9600 - val_recall: 0.8675 - lr: 1.0000e-05\n",
      "Epoch 13/20\n",
      "160/160 [==============================] - 88s 384ms/step - loss: 8.3537e-05 - accuracy: 0.9039 - auc: 0.9799 - precision: 0.9831 - recall: 0.8863 - val_loss: 0.2970 - val_accuracy: 0.9015 - val_auc: 0.9475 - val_precision: 0.9605 - val_recall: 0.8795 - lr: 1.0000e-05\n",
      "Epoch 14/20\n",
      "160/160 [==============================] - 88s 384ms/step - loss: 8.1191e-05 - accuracy: 0.9071 - auc: 0.9809 - precision: 0.9863 - recall: 0.8876 - val_loss: 0.2846 - val_accuracy: 0.9015 - val_auc: 0.9491 - val_precision: 0.9605 - val_recall: 0.8795 - lr: 1.0000e-05\n",
      "Epoch 15/20\n",
      "160/160 [==============================] - 87s 385ms/step - loss: 7.8980e-05 - accuracy: 0.9122 - auc: 0.9819 - precision: 0.9872 - recall: 0.8937 - val_loss: 0.2785 - val_accuracy: 0.9015 - val_auc: 0.9500 - val_precision: 0.9605 - val_recall: 0.8795 - lr: 1.0000e-05\n",
      "Epoch 16/20\n",
      "160/160 [==============================] - 88s 385ms/step - loss: 7.5532e-05 - accuracy: 0.9151 - auc: 0.9841 - precision: 0.9904 - recall: 0.8947 - val_loss: 0.2775 - val_accuracy: 0.9091 - val_auc: 0.9511 - val_precision: 0.9610 - val_recall: 0.8916 - lr: 1.0000e-05\n",
      "Epoch 17/20\n",
      "160/160 [==============================] - 88s 384ms/step - loss: 7.2091e-05 - accuracy: 0.9192 - auc: 0.9861 - precision: 0.9910 - recall: 0.8997 - val_loss: 0.2650 - val_accuracy: 0.9091 - val_auc: 0.9537 - val_precision: 0.9610 - val_recall: 0.8916 - lr: 1.0000e-05\n",
      "Epoch 18/20\n",
      "160/160 [==============================] - 89s 389ms/step - loss: 7.2111e-05 - accuracy: 0.9214 - auc: 0.9850 - precision: 0.9871 - recall: 0.9063 - val_loss: 0.2684 - val_accuracy: 0.9091 - val_auc: 0.9524 - val_precision: 0.9610 - val_recall: 0.8916 - lr: 1.0000e-05\n",
      "Epoch 19/20\n",
      "160/160 [==============================] - 89s 389ms/step - loss: 7.1847e-05 - accuracy: 0.9200 - auc: 0.9849 - precision: 0.9890 - recall: 0.9026 - val_loss: 0.2746 - val_accuracy: 0.9015 - val_auc: 0.9539 - val_precision: 0.9605 - val_recall: 0.8795 - lr: 1.0000e-05\n",
      "Epoch 20/20\n",
      "160/160 [==============================] - 89s 391ms/step - loss: 7.0079e-05 - accuracy: 0.9241 - auc: 0.9860 - precision: 0.9911 - recall: 0.9063 - val_loss: 0.2611 - val_accuracy: 0.9015 - val_auc: 0.9561 - val_precision: 0.9605 - val_recall: 0.8795 - lr: 1.0000e-05\n"
     ]
    }
   ],
   "source": [
    "hist = model.fit(train_dataset, epochs = 20 ,class_weight = class_weight, validation_data = val_dataset, callbacks = my_callbacks)"
   ]
  },
  {
   "cell_type": "code",
   "execution_count": 12,
   "id": "724976dd",
   "metadata": {
    "execution": {
     "iopub.execute_input": "2023-08-23T00:02:57.812318Z",
     "iopub.status.busy": "2023-08-23T00:02:57.811363Z",
     "iopub.status.idle": "2023-08-23T00:02:58.383287Z",
     "shell.execute_reply": "2023-08-23T00:02:58.382307Z"
    },
    "papermill": {
     "duration": 0.835852,
     "end_time": "2023-08-23T00:02:58.385776",
     "exception": false,
     "start_time": "2023-08-23T00:02:57.549924",
     "status": "completed"
    },
    "tags": []
   },
   "outputs": [],
   "source": [
    "model.save('InceptionV3_weights.h5')"
   ]
  },
  {
   "cell_type": "code",
   "execution_count": 13,
   "id": "d8469c37",
   "metadata": {
    "execution": {
     "iopub.execute_input": "2023-08-23T00:02:58.923926Z",
     "iopub.status.busy": "2023-08-23T00:02:58.923541Z",
     "iopub.status.idle": "2023-08-23T00:03:08.355802Z",
     "shell.execute_reply": "2023-08-23T00:03:08.354546Z"
    },
    "papermill": {
     "duration": 9.70835,
     "end_time": "2023-08-23T00:03:08.358359",
     "exception": false,
     "start_time": "2023-08-23T00:02:58.650009",
     "status": "completed"
    },
    "tags": []
   },
   "outputs": [
    {
     "name": "stdout",
     "output_type": "stream",
     "text": [
      "20/20 [==============================] - 9s 280ms/step - loss: 0.3736 - accuracy: 0.8429 - auc: 0.9086 - precision: 0.8411 - recall: 0.9231\n",
      "test accuracy : 84.295 %\n"
     ]
    }
   ],
   "source": [
    "eval_test = model.evaluate(test_dataset)\n",
    "print('test accuracy : {0:.3f} %'.format(eval_test[1]*100))"
   ]
  },
  {
   "cell_type": "code",
   "execution_count": 14,
   "id": "16bedb25",
   "metadata": {
    "execution": {
     "iopub.execute_input": "2023-08-23T00:03:09.007514Z",
     "iopub.status.busy": "2023-08-23T00:03:09.006988Z",
     "iopub.status.idle": "2023-08-23T00:03:15.207458Z",
     "shell.execute_reply": "2023-08-23T00:03:15.205611Z"
    },
    "papermill": {
     "duration": 6.506478,
     "end_time": "2023-08-23T00:03:15.209952",
     "exception": false,
     "start_time": "2023-08-23T00:03:08.703474",
     "status": "completed"
    },
    "tags": []
   },
   "outputs": [
    {
     "name": "stdout",
     "output_type": "stream",
     "text": [
      "20/20 [==============================] - 6s 182ms/step\n",
      "              precision    recall  f1-score   support\n",
      "\n",
      "           0       0.32      0.26      0.29       234\n",
      "           1       0.60      0.66      0.63       390\n",
      "\n",
      "    accuracy                           0.51       624\n",
      "   macro avg       0.46      0.46      0.46       624\n",
      "weighted avg       0.49      0.51      0.50       624\n",
      "\n"
     ]
    }
   ],
   "source": [
    "pred = model.predict(test_dataset)\n",
    "pred = np.round(pred)\n",
    "clf_rep= classification_report(test_df['class'], pred)\n",
    "\n",
    "print(clf_rep)"
   ]
  },
  {
   "cell_type": "code",
   "execution_count": 15,
   "id": "6f7ec6ac",
   "metadata": {
    "execution": {
     "iopub.execute_input": "2023-08-23T00:03:15.802700Z",
     "iopub.status.busy": "2023-08-23T00:03:15.802325Z",
     "iopub.status.idle": "2023-08-23T00:03:16.164332Z",
     "shell.execute_reply": "2023-08-23T00:03:16.163326Z"
    },
    "papermill": {
     "duration": 0.661277,
     "end_time": "2023-08-23T00:03:16.166443",
     "exception": false,
     "start_time": "2023-08-23T00:03:15.505166",
     "status": "completed"
    },
    "tags": []
   },
   "outputs": [
    {
     "data": {
      "image/png": "[encoded data removed]",
      "text/plain": [
       "<Figure size 640x480 with 2 Axes>"
      ]
     },
     "metadata": {},
     "output_type": "display_data"
    }
   ],
   "source": [
    "cm = confusion_matrix(test_df['class'], pred)\n",
    "cf = sns.heatmap(cm, annot = True, fmt = '.2f' )"
   ]
  },
  {
   "cell_type": "markdown",
   "id": "7de029e2",
   "metadata": {
    "papermill": {
     "duration": 0.269762,
     "end_time": "2023-08-23T00:03:16.708787",
     "exception": false,
     "start_time": "2023-08-23T00:03:16.439025",
     "status": "completed"
    },
    "tags": []
   },
   "source": [
    "# <span style=\"color:#e74c3c;\"> Model 2: </span> Pretrained Xception\n"
   ]
  },
  {
   "cell_type": "code",
   "execution_count": 16,
   "id": "c3492322",
   "metadata": {
    "execution": {
     "iopub.execute_input": "2023-08-23T00:03:17.248858Z",
     "iopub.status.busy": "2023-08-23T00:03:17.247763Z",
     "iopub.status.idle": "2023-08-23T00:03:21.984432Z",
     "shell.execute_reply": "2023-08-23T00:03:21.983107Z"
    },
    "papermill": {
     "duration": 5.017175,
     "end_time": "2023-08-23T00:03:21.992038",
     "exception": false,
     "start_time": "2023-08-23T00:03:16.974863",
     "status": "completed"
    },
    "tags": []
   },
   "outputs": [
    {
     "name": "stdout",
     "output_type": "stream",
     "text": [
      "Downloading data from https://storage.googleapis.com/tensorflow/keras-applications/xception/xception_weights_tf_dim_ordering_tf_kernels_notop.h5\n",
      "83683744/83683744 [==============================] - 2s 0us/step\n",
      "Model: \"sequential_1\"\n",
      "_________________________________________________________________\n",
      " Layer (type)                Output Shape              Param #   \n",
      "=================================================================\n",
      " inception_v3 (Functional)   (None, 4, 4, 2048)        21802784  \n",
      "                                                                 \n",
      " flatten (Flatten)           (None, 32768)             0         \n",
      "                                                                 \n",
      " dense_3 (Dense)             (None, 256)               8388864   \n",
      "                                                                 \n",
      " batch_normalization_100 (Ba  (None, 256)              1024      \n",
      " tchNormalization)                                               \n",
      "                                                                 \n",
      " re_lu (ReLU)                (None, 256)               0         \n",
      "                                                                 \n",
      " dropout_2 (Dropout)         (None, 256)               0         \n",
      "                                                                 \n",
      " dense_4 (Dense)             (None, 128)               32896     \n",
      "                                                                 \n",
      " batch_normalization_101 (Ba  (None, 128)              512       \n",
      " tchNormalization)                                               \n",
      "                                                                 \n",
      " re_lu_1 (ReLU)              (None, 128)               0         \n",
      "                                                                 \n",
      " dropout_3 (Dropout)         (None, 128)               0         \n",
      "                                                                 \n",
      " dense_5 (Dense)             (None, 64)                8256      \n",
      "                                                                 \n",
      " batch_normalization_102 (Ba  (None, 64)               256       \n",
      " tchNormalization)                                               \n",
      "                                                                 \n",
      " re_lu_2 (ReLU)              (None, 64)                0         \n",
      "                                                                 \n",
      " dropout_4 (Dropout)         (None, 64)                0         \n",
      "                                                                 \n",
      " dense_6 (Dense)             (None, 1)                 65        \n",
      "                                                                 \n",
      "=================================================================\n",
      "Total params: 30,234,657\n",
      "Trainable params: 8,430,977\n",
      "Non-trainable params: 21,803,680\n",
      "_________________________________________________________________\n"
     ]
    }
   ],
   "source": [
    "pretrained_model2 = tf.keras.applications.Xception(weights='imagenet',include_top=False ,input_shape=[200,200, 3])\n",
    "pretrained_model2.trainable = False\n",
    "\n",
    "model2 = tf.keras.Sequential([\n",
    "    pretrained_model,\n",
    "    Flatten(),\n",
    "    \n",
    "    Dense(256),\n",
    "    BatchNormalization(),\n",
    "    ReLU(),\n",
    "    Dropout(0.15),\n",
    "\n",
    "    Dense(128),\n",
    "    BatchNormalization(),\n",
    "    ReLU(),\n",
    "    Dropout(0.15),\n",
    "    \n",
    "    Dense(64),\n",
    "    BatchNormalization(),\n",
    "    ReLU(),\n",
    "    Dropout(0.15),\n",
    "    \n",
    "    \n",
    "    Dense(1, activation = 'sigmoid')\n",
    "    \n",
    "])\n",
    "\n",
    "model2.compile(optimizer  = tf.keras.optimizers.Adam(0.00001) , loss = 'binary_crossentropy', metrics = ['accuracy', 'AUC', 'Precision', 'Recall'])\n",
    "\n",
    "model2.summary()"
   ]
  },
  {
   "cell_type": "code",
   "execution_count": 17,
   "id": "caff88eb",
   "metadata": {
    "execution": {
     "iopub.execute_input": "2023-08-23T00:03:22.553088Z",
     "iopub.status.busy": "2023-08-23T00:03:22.552710Z",
     "iopub.status.idle": "2023-08-23T00:23:26.206772Z",
     "shell.execute_reply": "2023-08-23T00:23:26.205846Z"
    },
    "papermill": {
     "duration": 1203.93575,
     "end_time": "2023-08-23T00:23:26.208926",
     "exception": false,
     "start_time": "2023-08-23T00:03:22.273176",
     "status": "completed"
    },
    "tags": []
   },
   "outputs": [
    {
     "name": "stdout",
     "output_type": "stream",
     "text": [
      "Epoch 1/20\n",
      "160/160 [==============================] - 92s 408ms/step - loss: 1.6088e-04 - accuracy: 0.7945 - auc_1: 0.9036 - precision_1: 0.9410 - recall_1: 0.7726 - val_loss: 0.6776 - val_accuracy: 0.6061 - val_auc_1: 0.9120 - val_precision_1: 0.9697 - val_recall_1: 0.3855 - lr: 1.0000e-05\n",
      "Epoch 2/20\n",
      "160/160 [==============================] - 90s 402ms/step - loss: 1.1048e-04 - accuracy: 0.8784 - auc_1: 0.9672 - precision_1: 0.9795 - recall_1: 0.8547 - val_loss: 0.4298 - val_accuracy: 0.8182 - val_auc_1: 0.9422 - val_precision_1: 0.9538 - val_recall_1: 0.7470 - lr: 1.0000e-05\n",
      "Epoch 3/20\n",
      "160/160 [==============================] - 92s 405ms/step - loss: 9.5451e-05 - accuracy: 0.9016 - auc_1: 0.9780 - precision_1: 0.9859 - recall_1: 0.8805 - val_loss: 0.3412 - val_accuracy: 0.8788 - val_auc_1: 0.9539 - val_precision_1: 0.9241 - val_recall_1: 0.8795 - lr: 1.0000e-05\n",
      "Epoch 4/20\n",
      "160/160 [==============================] - 91s 404ms/step - loss: 8.2170e-05 - accuracy: 0.9224 - auc_1: 0.9858 - precision_1: 0.9885 - recall_1: 0.9063 - val_loss: 0.3219 - val_accuracy: 0.9015 - val_auc_1: 0.9597 - val_precision_1: 0.9487 - val_recall_1: 0.8916 - lr: 1.0000e-05\n",
      "Epoch 5/20\n",
      "160/160 [==============================] - 91s 401ms/step - loss: 7.4364e-05 - accuracy: 0.9380 - auc_1: 0.9884 - precision_1: 0.9891 - recall_1: 0.9271 - val_loss: 0.3073 - val_accuracy: 0.9015 - val_auc_1: 0.9613 - val_precision_1: 0.9375 - val_recall_1: 0.9036 - lr: 1.0000e-05\n",
      "Epoch 6/20\n",
      "160/160 [==============================] - 91s 403ms/step - loss: 6.7726e-05 - accuracy: 0.9425 - auc_1: 0.9918 - precision_1: 0.9916 - recall_1: 0.9308 - val_loss: 0.3019 - val_accuracy: 0.8864 - val_auc_1: 0.9565 - val_precision_1: 0.9250 - val_recall_1: 0.8916 - lr: 1.0000e-05\n",
      "Epoch 7/20\n",
      "160/160 [==============================] - 90s 404ms/step - loss: 6.2374e-05 - accuracy: 0.9524 - auc_1: 0.9933 - precision_1: 0.9933 - recall_1: 0.9424 - val_loss: 0.2662 - val_accuracy: 0.9091 - val_auc_1: 0.9641 - val_precision_1: 0.9383 - val_recall_1: 0.9157 - lr: 1.0000e-05\n",
      "Epoch 8/20\n",
      "160/160 [==============================] - 90s 398ms/step - loss: 5.8270e-05 - accuracy: 0.9561 - auc_1: 0.9940 - precision_1: 0.9934 - recall_1: 0.9474 - val_loss: 0.2345 - val_accuracy: 0.9242 - val_auc_1: 0.9728 - val_precision_1: 0.9398 - val_recall_1: 0.9398 - lr: 1.0000e-05\n",
      "Epoch 9/20\n",
      "160/160 [==============================] - 91s 402ms/step - loss: 5.2673e-05 - accuracy: 0.9678 - auc_1: 0.9959 - precision_1: 0.9973 - recall_1: 0.9595 - val_loss: 0.2383 - val_accuracy: 0.9318 - val_auc_1: 0.9736 - val_precision_1: 0.9512 - val_recall_1: 0.9398 - lr: 1.0000e-05\n",
      "Epoch 10/20\n",
      "160/160 [==============================] - 90s 399ms/step - loss: 5.1065e-05 - accuracy: 0.9625 - auc_1: 0.9958 - precision_1: 0.9953 - recall_1: 0.9542 - val_loss: 0.2364 - val_accuracy: 0.9318 - val_auc_1: 0.9696 - val_precision_1: 0.9512 - val_recall_1: 0.9398 - lr: 1.0000e-05\n",
      "Epoch 11/20\n",
      "160/160 [==============================] - 91s 399ms/step - loss: 4.7151e-05 - accuracy: 0.9684 - auc_1: 0.9968 - precision_1: 0.9965 - recall_1: 0.9611 - val_loss: 0.2517 - val_accuracy: 0.9167 - val_auc_1: 0.9631 - val_precision_1: 0.9390 - val_recall_1: 0.9277 - lr: 1.0000e-05\n"
     ]
    }
   ],
   "source": [
    "hist2 = model2.fit(train_dataset, epochs = 20 ,class_weight = class_weight, validation_data = val_dataset, callbacks = my_callbacks)"
   ]
  },
  {
   "cell_type": "code",
   "execution_count": 18,
   "id": "d4706196",
   "metadata": {
    "execution": {
     "iopub.execute_input": "2023-08-23T00:23:27.069185Z",
     "iopub.status.busy": "2023-08-23T00:23:27.068791Z",
     "iopub.status.idle": "2023-08-23T00:24:18.177883Z",
     "shell.execute_reply": "2023-08-23T00:24:18.176881Z"
    },
    "papermill": {
     "duration": 51.525222,
     "end_time": "2023-08-23T00:24:18.180693",
     "exception": false,
     "start_time": "2023-08-23T00:23:26.655471",
     "status": "completed"
    },
    "tags": []
   },
   "outputs": [],
   "source": [
    "model2.save('Xception_weights.h5')"
   ]
  },
  {
   "cell_type": "code",
   "execution_count": 19,
   "id": "f8d57c4d",
   "metadata": {
    "execution": {
     "iopub.execute_input": "2023-08-23T00:24:19.143279Z",
     "iopub.status.busy": "2023-08-23T00:24:19.142895Z",
     "iopub.status.idle": "2023-08-23T00:24:25.859544Z",
     "shell.execute_reply": "2023-08-23T00:24:25.858486Z"
    },
    "papermill": {
     "duration": 7.265192,
     "end_time": "2023-08-23T00:24:25.861845",
     "exception": false,
     "start_time": "2023-08-23T00:24:18.596653",
     "status": "completed"
    },
    "tags": []
   },
   "outputs": [
    {
     "name": "stdout",
     "output_type": "stream",
     "text": [
      "20/20 [==============================] - 7s 214ms/step - loss: 0.3972 - accuracy: 0.8141 - auc_1: 0.9001 - precision_1: 0.7991 - recall_1: 0.9385\n",
      "test accuracy : 81.410 %\n"
     ]
    }
   ],
   "source": [
    "eval_test = model2.evaluate(test_dataset)\n",
    "print('test accuracy : {0:.3f} %'.format(eval_test[1]*100))"
   ]
  },
  {
   "cell_type": "code",
   "execution_count": 20,
   "id": "ecafe766",
   "metadata": {
    "execution": {
     "iopub.execute_input": "2023-08-23T00:24:26.709602Z",
     "iopub.status.busy": "2023-08-23T00:24:26.709197Z",
     "iopub.status.idle": "2023-08-23T00:24:32.934438Z",
     "shell.execute_reply": "2023-08-23T00:24:32.933273Z"
    },
    "papermill": {
     "duration": 6.644321,
     "end_time": "2023-08-23T00:24:32.936460",
     "exception": false,
     "start_time": "2023-08-23T00:24:26.292139",
     "status": "completed"
    },
    "tags": []
   },
   "outputs": [
    {
     "name": "stdout",
     "output_type": "stream",
     "text": [
      "20/20 [==============================] - 6s 186ms/step\n",
      "              precision    recall  f1-score   support\n",
      "\n",
      "           0       0.38      0.27      0.32       234\n",
      "           1       0.63      0.74      0.68       390\n",
      "\n",
      "    accuracy                           0.56       624\n",
      "   macro avg       0.50      0.50      0.50       624\n",
      "weighted avg       0.53      0.56      0.54       624\n",
      "\n"
     ]
    }
   ],
   "source": [
    "pred2 = model2.predict(test_dataset)\n",
    "pred2 = np.round(pred2)\n",
    "clf_rep2= classification_report(test_df['class'], pred2)\n",
    "\n",
    "print(clf_rep2)"
   ]
  },
  {
   "cell_type": "code",
   "execution_count": 21,
   "id": "482ef4cb",
   "metadata": {
    "execution": {
     "iopub.execute_input": "2023-08-23T00:24:33.789986Z",
     "iopub.status.busy": "2023-08-23T00:24:33.789600Z",
     "iopub.status.idle": "2023-08-23T00:24:34.100293Z",
     "shell.execute_reply": "2023-08-23T00:24:34.099230Z"
    },
    "papermill": {
     "duration": 0.735999,
     "end_time": "2023-08-23T00:24:34.102580",
     "exception": false,
     "start_time": "2023-08-23T00:24:33.366581",
     "status": "completed"
    },
    "tags": []
   },
   "outputs": [
    {
     "data": {
      "image/png": "[encoded data removed]",
      "text/plain": [
       "<Figure size 640x480 with 2 Axes>"
      ]
     },
     "metadata": {},
     "output_type": "display_data"
    }
   ],
   "source": [
    "cm2 = confusion_matrix(test_df['class'], pred2)\n",
    "cf2 = sns.heatmap(cm2, annot = True, fmt = '.2f' )"
   ]
  },
  {
   "cell_type": "markdown",
   "id": "a43da916",
   "metadata": {
    "papermill": {
     "duration": 0.428514,
     "end_time": "2023-08-23T00:24:34.946552",
     "exception": false,
     "start_time": "2023-08-23T00:24:34.518038",
     "status": "completed"
    },
    "tags": []
   },
   "source": [
    "# <span style=\"color:#e74c3c;\"> Model 3: </span> Ensemble Model\n"
   ]
  },
  {
   "cell_type": "code",
   "execution_count": 22,
   "id": "5a0fd29c",
   "metadata": {
    "execution": {
     "iopub.execute_input": "2023-08-23T00:24:36.272761Z",
     "iopub.status.busy": "2023-08-23T00:24:36.272132Z",
     "iopub.status.idle": "2023-08-23T00:24:43.244531Z",
     "shell.execute_reply": "2023-08-23T00:24:43.243433Z"
    },
    "papermill": {
     "duration": 7.662217,
     "end_time": "2023-08-23T00:24:43.247099",
     "exception": false,
     "start_time": "2023-08-23T00:24:35.584882",
     "status": "completed"
    },
    "tags": []
   },
   "outputs": [],
   "source": [
    "model1 = tf.keras.models.load_model('/kaggle/working/InceptionV3_weights.h5', compile=False)\n",
    "model2 = tf.keras.models.load_model('/kaggle/working/Xception_weights.h5', compile=False)\n"
   ]
  },
  {
   "cell_type": "code",
   "execution_count": 23,
   "id": "3b554c06",
   "metadata": {
    "execution": {
     "iopub.execute_input": "2023-08-23T00:24:44.112407Z",
     "iopub.status.busy": "2023-08-23T00:24:44.111995Z",
     "iopub.status.idle": "2023-08-23T00:24:44.120171Z",
     "shell.execute_reply": "2023-08-23T00:24:44.118327Z"
    },
    "papermill": {
     "duration": 0.457924,
     "end_time": "2023-08-23T00:24:44.122544",
     "exception": false,
     "start_time": "2023-08-23T00:24:43.664620",
     "status": "completed"
    },
    "tags": []
   },
   "outputs": [],
   "source": [
    "# Average weighted layer from -> https://stackoverflow.com/questions/67647843/is-there-a-way-to-ensemble-two-keras-h5-models-trained-for-same-classes\n",
    "\n",
    "class WeightedAverageLayer(tf.keras.layers.Layer):\n",
    "    def __init__(self, w1, w2, **kwargs):\n",
    "        super(WeightedAverageLayer, self).__init__(**kwargs)\n",
    "        self.w1 = w1\n",
    "        self.w2 = w2\n",
    "\n",
    "    def call(self, inputs):\n",
    "        return self.w1 * inputs[0] + self.w2 * inputs[1]"
   ]
  },
  {
   "cell_type": "code",
   "execution_count": 24,
   "id": "098e3b66",
   "metadata": {
    "execution": {
     "iopub.execute_input": "2023-08-23T00:24:44.985478Z",
     "iopub.status.busy": "2023-08-23T00:24:44.985086Z",
     "iopub.status.idle": "2023-08-23T00:24:46.770088Z",
     "shell.execute_reply": "2023-08-23T00:24:46.768953Z"
    },
    "papermill": {
     "duration": 2.213225,
     "end_time": "2023-08-23T00:24:46.772787",
     "exception": false,
     "start_time": "2023-08-23T00:24:44.559562",
     "status": "completed"
    },
    "tags": []
   },
   "outputs": [],
   "source": [
    "# the first model is better than the second model\n",
    "\n",
    "models = [model1, model2]\n",
    "model_input = tf.keras.Input(shape=(200,200, 3))\n",
    "model_outputs = [model(model_input) for model in models]\n",
    "ensemble_output = WeightedAverageLayer(0.75, 0.25)(model_outputs)\n",
    "ensemble_model = tf.keras.Model(inputs=model_input, outputs=ensemble_output)"
   ]
  },
  {
   "cell_type": "code",
   "execution_count": 25,
   "id": "f3d232c5",
   "metadata": {
    "execution": {
     "iopub.execute_input": "2023-08-23T00:24:47.659717Z",
     "iopub.status.busy": "2023-08-23T00:24:47.659341Z",
     "iopub.status.idle": "2023-08-23T00:37:33.932076Z",
     "shell.execute_reply": "2023-08-23T00:37:33.931012Z"
    },
    "papermill": {
     "duration": 767.260502,
     "end_time": "2023-08-23T00:37:34.450426",
     "exception": false,
     "start_time": "2023-08-23T00:24:47.189924",
     "status": "completed"
    },
    "tags": []
   },
   "outputs": [
    {
     "name": "stdout",
     "output_type": "stream",
     "text": [
      "Model: \"model\"\n",
      "__________________________________________________________________________________________________\n",
      " Layer (type)                   Output Shape         Param #     Connected to                     \n",
      "==================================================================================================\n",
      " input_3 (InputLayer)           [(None, 200, 200, 3  0           []                               \n",
      "                                )]                                                                \n",
      "                                                                                                  \n",
      " sequential (Sequential)        (None, 1)            22361889    ['input_3[0][0]']                \n",
      "                                                                                                  \n",
      " sequential_1 (Sequential)      (None, 1)            30234657    ['input_3[0][0]']                \n",
      "                                                                                                  \n",
      " weighted_average_layer (Weight  (None, 1)           0           ['sequential[0][0]',             \n",
      " edAverageLayer)                                                  'sequential_1[0][0]']           \n",
      "                                                                                                  \n",
      "==================================================================================================\n",
      "Total params: 52,596,546\n",
      "Trainable params: 8,989,314\n",
      "Non-trainable params: 43,607,232\n",
      "__________________________________________________________________________________________________\n",
      "Epoch 1/25\n",
      "160/160 [==============================] - 156s 809ms/step - loss: 5.7039e-05 - accuracy: 0.9420 - auc_2: 0.9934 - precision_2: 0.9924 - recall_2: 0.9292 - val_loss: 0.3732 - val_accuracy: 0.8429 - val_auc_2: 0.9107 - val_precision_2: 0.8380 - val_recall_2: 0.9282 - lr: 1.0000e-05\n",
      "Epoch 2/25\n",
      "160/160 [==============================] - 156s 808ms/step - loss: 5.4373e-05 - accuracy: 0.9422 - auc_2: 0.9943 - precision_2: 0.9930 - recall_2: 0.9289 - val_loss: 0.3750 - val_accuracy: 0.8413 - val_auc_2: 0.9087 - val_precision_2: 0.8392 - val_recall_2: 0.9231 - lr: 1.0000e-05\n",
      "Epoch 3/25\n",
      "160/160 [==============================] - 161s 838ms/step - loss: 5.3609e-05 - accuracy: 0.9404 - auc_2: 0.9945 - precision_2: 0.9949 - recall_2: 0.9247 - val_loss: 0.3856 - val_accuracy: 0.8253 - val_auc_2: 0.9126 - val_precision_2: 0.8102 - val_recall_2: 0.9410 - lr: 1.0000e-05\n",
      "Epoch 4/25\n",
      "160/160 [==============================] - ETA: 0s - loss: 5.2526e-05 - accuracy: 0.9353 - auc_2: 0.9943 - precision_2: 0.9909 - recall_2: 0.9216\n",
      "Epoch 4: ReduceLROnPlateau reducing learning rate to 2.9999999242136253e-06.\n",
      "160/160 [==============================] - 160s 828ms/step - loss: 5.2526e-05 - accuracy: 0.9353 - auc_2: 0.9943 - precision_2: 0.9909 - recall_2: 0.9216 - val_loss: 0.3812 - val_accuracy: 0.8317 - val_auc_2: 0.9120 - val_precision_2: 0.8188 - val_recall_2: 0.9385 - lr: 1.0000e-05\n"
     ]
    }
   ],
   "source": [
    "ensemble_model.compile(optimizer  = tf.keras.optimizers.Adam(0.00001) , loss = 'binary_crossentropy', metrics = ['accuracy', 'AUC', 'Precision', 'Recall'])\n",
    "\n",
    "ensemble_model.summary()\n",
    "\n",
    "\n",
    "hist3 = ensemble_model.fit(train_dataset, epochs = 25 ,class_weight = class_weight, validation_data = test_dataset, callbacks = my_callbacks)"
   ]
  },
  {
   "cell_type": "code",
   "execution_count": 26,
   "id": "0afe7c2e",
   "metadata": {
    "execution": {
     "iopub.execute_input": "2023-08-23T00:37:35.419104Z",
     "iopub.status.busy": "2023-08-23T00:37:35.418724Z",
     "iopub.status.idle": "2023-08-23T00:38:23.554613Z",
     "shell.execute_reply": "2023-08-23T00:38:23.553485Z"
    },
    "papermill": {
     "duration": 48.619908,
     "end_time": "2023-08-23T00:38:23.557027",
     "exception": false,
     "start_time": "2023-08-23T00:37:34.937119",
     "status": "completed"
    },
    "tags": []
   },
   "outputs": [
    {
     "name": "stdout",
     "output_type": "stream",
     "text": [
      "20/20 [==============================] - 48s 412ms/step - loss: 0.3812 - accuracy: 0.8317 - auc_2: 0.9120 - precision_2: 0.8188 - recall_2: 0.9385\n",
      "test accuracy : 83.173 %\n"
     ]
    }
   ],
   "source": [
    "eval_test = ensemble_model.evaluate(test_dataset)\n",
    "print('test accuracy : {0:.3f} %'.format(eval_test[1]*100))"
   ]
  },
  {
   "cell_type": "code",
   "execution_count": 27,
   "id": "b25f1124",
   "metadata": {
    "execution": {
     "iopub.execute_input": "2023-08-23T00:38:24.612103Z",
     "iopub.status.busy": "2023-08-23T00:38:24.611695Z",
     "iopub.status.idle": "2023-08-23T00:38:34.465569Z",
     "shell.execute_reply": "2023-08-23T00:38:34.464208Z"
    },
    "papermill": {
     "duration": 10.414138,
     "end_time": "2023-08-23T00:38:34.467994",
     "exception": false,
     "start_time": "2023-08-23T00:38:24.053856",
     "status": "completed"
    },
    "tags": []
   },
   "outputs": [
    {
     "name": "stdout",
     "output_type": "stream",
     "text": [
      "20/20 [==============================] - 10s 367ms/step\n",
      "              precision    recall  f1-score   support\n",
      "\n",
      "           0       0.40      0.30      0.34       234\n",
      "           1       0.63      0.73      0.68       390\n",
      "\n",
      "    accuracy                           0.57       624\n",
      "   macro avg       0.51      0.51      0.51       624\n",
      "weighted avg       0.54      0.57      0.55       624\n",
      "\n"
     ]
    }
   ],
   "source": [
    "pred3 = ensemble_model.predict(test_dataset)\n",
    "pred3 = np.round(pred3)\n",
    "clf3= classification_report(test_df['class'], pred3)\n",
    "\n",
    "print(clf3)"
   ]
  },
  {
   "cell_type": "code",
   "execution_count": 28,
   "id": "325b2559",
   "metadata": {
    "execution": {
     "iopub.execute_input": "2023-08-23T00:38:35.442239Z",
     "iopub.status.busy": "2023-08-23T00:38:35.441843Z",
     "iopub.status.idle": "2023-08-23T00:38:35.753249Z",
     "shell.execute_reply": "2023-08-23T00:38:35.752178Z"
    },
    "papermill": {
     "duration": 0.803915,
     "end_time": "2023-08-23T00:38:35.755426",
     "exception": false,
     "start_time": "2023-08-23T00:38:34.951511",
     "status": "completed"
    },
    "tags": []
   },
   "outputs": [
    {
     "data": {
      "image/png": "[encoded data removed]",
      "text/plain": [
       "<Figure size 640x480 with 2 Axes>"
      ]
     },
     "metadata": {},
     "output_type": "display_data"
    }
   ],
   "source": [
    "cm3 = confusion_matrix(test_df['class'], pred3)\n",
    "cf3 = sns.heatmap(cm3, annot = True, fmt = '.2f' )"
   ]
  }
 ],
 "metadata": {
  "kernelspec": {
   "display_name": "Python 3",
   "language": "python",
   "name": "python3"
  },
  "language_info": {
   "codemirror_mode": {
    "name": "ipython",
    "version": 3
   },
   "file_extension": ".py",
   "mimetype": "text/x-python",
   "name": "python",
   "nbconvert_exporter": "python",
   "pygments_lexer": "ipython3",
   "version": "3.10.12"
  },
  "papermill": {
   "default_parameters": {},
   "duration": 4527.81675,
   "end_time": "2023-08-23T00:38:40.626058",
   "environment_variables": {},
   "exception": null,
   "input_path": "__notebook__.ipynb",
   "output_path": "__notebook__.ipynb",
   "parameters": {},
   "start_time": "2023-08-22T23:23:12.809308",
   "version": "2.4.0"
  },
  "widgets": {
   "application/vnd.jupyter.widget-state+json": {
    "state": {
     "0021a420f7bd4f0eb531e525d9f9ba0a": {
      "model_module": "@jupyter-widgets/controls",
      "model_module_version": "1.5.0",
      "model_name": "FloatProgressModel",
      "state": {
       "_dom_classes": [],
       "_model_module": "@jupyter-widgets/controls",
       "_model_module_version": "1.5.0",
       "_model_name": "FloatProgressModel",
       "_view_count": null,
       "_view_module": "@jupyter-widgets/controls",
       "_view_module_version": "1.5.0",
       "_view_name": "ProgressView",
       "bar_style": "success",
       "description": "",
       "description_tooltip": null,
       "layout": "IPY_MODEL_6b4f0de39b1e4ca39e1bb3bd596ed46b",
       "max": 234.0,
       "min": 0.0,
       "orientation": "horizontal",
       "style": "IPY_MODEL_f64bbc80e63e43faa43f7b01af8361fb",
       "value": 234.0
      }
     },
     "00481a26959140bf8a45253e563dfde6": {
      "model_module": "@jupyter-widgets/controls",
      "model_module_version": "1.5.0",
      "model_name": "DescriptionStyleModel",
      "state": {
       "_model_module": "@jupyter-widgets/controls",
       "_model_module_version": "1.5.0",
       "_model_name": "DescriptionStyleModel",
       "_view_count": null,
       "_view_module": "@jupyter-widgets/base",
       "_view_module_version": "1.2.0",
       "_view_name": "StyleView",
       "description_width": ""
      }
     },
     "0bd7ef1916a045c6bf1c0548e09473c4": {
      "model_module": "@jupyter-widgets/controls",
      "model_module_version": "1.5.0",
      "model_name": "HTMLModel",
      "state": {
       "_dom_classes": [],
       "_model_module": "@jupyter-widgets/controls",
       "_model_module_version": "1.5.0",
       "_model_name": "HTMLModel",
       "_view_count": null,
       "_view_module": "@jupyter-widgets/controls",
       "_view_module_version": "1.5.0",
       "_view_name": "HTMLView",
       "description": "",
       "description_tooltip": null,
       "layout": "IPY_MODEL_c641080b951b426aa25220f479e76e9b",
       "placeholder": "​",
       "style": "IPY_MODEL_21355a2f08bb42ddaebb68b9756d1f53",
       "value": "images: 100%"
      }
     },
     "0ca5eeb585344cbf893f760523b9649b": {
      "model_module": "@jupyter-widgets/controls",
      "model_module_version": "1.5.0",
      "model_name": "ProgressStyleModel",
      "state": {
       "_model_module": "@jupyter-widgets/controls",
       "_model_module_version": "1.5.0",
       "_model_name": "ProgressStyleModel",
       "_view_count": null,
       "_view_module": "@jupyter-widgets/base",
       "_view_module_version": "1.2.0",
       "_view_name": "StyleView",
       "bar_color": null,
       "description_width": ""
      }
     },
     "12187bfb9d6a41f2b0d08b50ff1bd576": {
      "model_module": "@jupyter-widgets/controls",
      "model_module_version": "1.5.0",
      "model_name": "DescriptionStyleModel",
      "state": {
       "_model_module": "@jupyter-widgets/controls",
       "_model_module_version": "1.5.0",
       "_model_name": "DescriptionStyleModel",
       "_view_count": null,
       "_view_module": "@jupyter-widgets/base",
       "_view_module_version": "1.2.0",
       "_view_name": "StyleView",
       "description_width": ""
      }
     },
     "168780c6ace74cb99ec9fb1375568a99": {
      "model_module": "@jupyter-widgets/base",
      "model_module_version": "1.2.0",
      "model_name": "LayoutModel",
      "state": {
       "_model_module": "@jupyter-widgets/base",
       "_model_module_version": "1.2.0",
       "_model_name": "LayoutModel",
       "_view_count": null,
       "_view_module": "@jupyter-widgets/base",
       "_view_module_version": "1.2.0",
       "_view_name": "LayoutView",
       "align_content": null,
       "align_items": null,
       "align_self": null,
       "border": null,
       "bottom": null,
       "display": null,
       "flex": null,
       "flex_flow": null,
       "grid_area": null,
       "grid_auto_columns": null,
       "grid_auto_flow": null,
       "grid_auto_rows": null,
       "grid_column": null,
       "grid_gap": null,
       "grid_row": null,
       "grid_template_areas": null,
       "grid_template_columns": null,
       "grid_template_rows": null,
       "height": null,
       "justify_content": null,
       "justify_items": null,
       "left": null,
       "margin": null,
       "max_height": null,
       "max_width": null,
       "min_height": null,
       "min_width": null,
       "object_fit": null,
       "object_position": null,
       "order": null,
       "overflow": null,
       "overflow_x": null,
       "overflow_y": null,
       "padding": null,
       "right": null,
       "top": null,
       "visibility": null,
       "width": null
      }
     },
     "199a9f2d13ab4c80bd7b7ff984aa0c6c": {
      "model_module": "@jupyter-widgets/controls",
      "model_module_version": "1.5.0",
      "model_name": "HBoxModel",
      "state": {
       "_dom_classes": [],
       "_model_module": "@jupyter-widgets/controls",
       "_model_module_version": "1.5.0",
       "_model_name": "HBoxModel",
       "_view_count": null,
       "_view_module": "@jupyter-widgets/controls",
       "_view_module_version": "1.5.0",
       "_view_name": "HBoxView",
       "box_style": "",
       "children": [
        "IPY_MODEL_74b46df1a28a4020b15279ddd6e56c46",
        "IPY_MODEL_31a3284d66eb4bad8903b36e56add069",
        "IPY_MODEL_48de3c8f1fc54a5ca80442f9ca086f27"
       ],
       "layout": "IPY_MODEL_dfa600301329434299c70f0cb4aef627"
      }
     },
     "21355a2f08bb42ddaebb68b9756d1f53": {
      "model_module": "@jupyter-widgets/controls",
      "model_module_version": "1.5.0",
      "model_name": "DescriptionStyleModel",
      "state": {
       "_model_module": "@jupyter-widgets/controls",
       "_model_module_version": "1.5.0",
       "_model_name": "DescriptionStyleModel",
       "_view_count": null,
       "_view_module": "@jupyter-widgets/base",
       "_view_module_version": "1.2.0",
       "_view_name": "StyleView",
       "description_width": ""
      }
     },
     "2e75f7dbe2b64a16a91273a17827022c": {
      "model_module": "@jupyter-widgets/controls",
      "model_module_version": "1.5.0",
      "model_name": "DescriptionStyleModel",
      "state": {
       "_model_module": "@jupyter-widgets/controls",
       "_model_module_version": "1.5.0",
       "_model_name": "DescriptionStyleModel",
       "_view_count": null,
       "_view_module": "@jupyter-widgets/base",
       "_view_module_version": "1.2.0",
       "_view_name": "StyleView",
       "description_width": ""
      }
     },
     "31a3284d66eb4bad8903b36e56add069": {
      "model_module": "@jupyter-widgets/controls",
      "model_module_version": "1.5.0",
      "model_name": "FloatProgressModel",
      "state": {
       "_dom_classes": [],
       "_model_module": "@jupyter-widgets/controls",
       "_model_module_version": "1.5.0",
       "_model_name": "FloatProgressModel",
       "_view_count": null,
       "_view_module": "@jupyter-widgets/controls",
       "_view_module_version": "1.5.0",
       "_view_name": "ProgressView",
       "bar_style": "success",
       "description": "",
       "description_tooltip": null,
       "layout": "IPY_MODEL_85bdb78ff75144b4bafe41e5af654051",
       "max": 1341.0,
       "min": 0.0,
       "orientation": "horizontal",
       "style": "IPY_MODEL_0ca5eeb585344cbf893f760523b9649b",
       "value": 1341.0
      }
     },
     "3a7e5676ea8b472f851654924acb8488": {
      "model_module": "@jupyter-widgets/base",
      "model_module_version": "1.2.0",
      "model_name": "LayoutModel",
      "state": {
       "_model_module": "@jupyter-widgets/base",
       "_model_module_version": "1.2.0",
       "_model_name": "LayoutModel",
       "_view_count": null,
       "_view_module": "@jupyter-widgets/base",
       "_view_module_version": "1.2.0",
       "_view_name": "LayoutView",
       "align_content": null,
       "align_items": null,
       "align_self": null,
       "border": null,
       "bottom": null,
       "display": null,
       "flex": null,
       "flex_flow": null,
       "grid_area": null,
       "grid_auto_columns": null,
       "grid_auto_flow": null,
       "grid_auto_rows": null,
       "grid_column": null,
       "grid_gap": null,
       "grid_row": null,
       "grid_template_areas": null,
       "grid_template_columns": null,
       "grid_template_rows": null,
       "height": null,
       "justify_content": null,
       "justify_items": null,
       "left": null,
       "margin": null,
       "max_height": null,
       "max_width": null,
       "min_height": null,
       "min_width": null,
       "object_fit": null,
       "object_position": null,
       "order": null,
       "overflow": null,
       "overflow_x": null,
       "overflow_y": null,
       "padding": null,
       "right": null,
       "top": null,
       "visibility": null,
       "width": null
      }
     },
     "43f822fc16a54f2eb2c1f1945d486dab": {
      "model_module": "@jupyter-widgets/controls",
      "model_module_version": "1.5.0",
      "model_name": "HTMLModel",
      "state": {
       "_dom_classes": [],
       "_model_module": "@jupyter-widgets/controls",
       "_model_module_version": "1.5.0",
       "_model_name": "HTMLModel",
       "_view_count": null,
       "_view_module": "@jupyter-widgets/controls",
       "_view_module_version": "1.5.0",
       "_view_name": "HTMLView",
       "description": "",
       "description_tooltip": null,
       "layout": "IPY_MODEL_bd3422c5e3ec469faa9d4dc17c3b6210",
       "placeholder": "​",
       "style": "IPY_MODEL_8d925c6fc18e4c73911b3e631a833acd",
       "value": " 8/8 [00:00&lt;00:00, 444.82it/s]"
      }
     },
     "48de3c8f1fc54a5ca80442f9ca086f27": {
      "model_module": "@jupyter-widgets/controls",
      "model_module_version": "1.5.0",
      "model_name": "HTMLModel",
      "state": {
       "_dom_classes": [],
       "_model_module": "@jupyter-widgets/controls",
       "_model_module_version": "1.5.0",
       "_model_name": "HTMLModel",
       "_view_count": null,
       "_view_module": "@jupyter-widgets/controls",
       "_view_module_version": "1.5.0",
       "_view_name": "HTMLView",
       "description": "",
       "description_tooltip": null,
       "layout": "IPY_MODEL_6d498ccac4264c738eaac1e78a9e2a70",
       "placeholder": "​",
       "style": "IPY_MODEL_74d9950b17934fcd99160384e5aaa0a0",
       "value": " 1341/1341 [00:00&lt;00:00, 65886.07it/s]"
      }
     },
     "49845b1a13ea47febbe8932fd343b644": {
      "model_module": "@jupyter-widgets/controls",
      "model_module_version": "1.5.0",
      "model_name": "FloatProgressModel",
      "state": {
       "_dom_classes": [],
       "_model_module": "@jupyter-widgets/controls",
       "_model_module_version": "1.5.0",
       "_model_name": "FloatProgressModel",
       "_view_count": null,
       "_view_module": "@jupyter-widgets/controls",
       "_view_module_version": "1.5.0",
       "_view_name": "ProgressView",
       "bar_style": "success",
       "description": "",
       "description_tooltip": null,
       "layout": "IPY_MODEL_849e578374e04228829a4c607dc3dedf",
       "max": 8.0,
       "min": 0.0,
       "orientation": "horizontal",
       "style": "IPY_MODEL_51e3124c7a3a44d4a4267f330314b7f9",
       "value": 8.0
      }
     },
     "51e3124c7a3a44d4a4267f330314b7f9": {
      "model_module": "@jupyter-widgets/controls",
      "model_module_version": "1.5.0",
      "model_name": "ProgressStyleModel",
      "state": {
       "_model_module": "@jupyter-widgets/controls",
       "_model_module_version": "1.5.0",
       "_model_name": "ProgressStyleModel",
       "_view_count": null,
       "_view_module": "@jupyter-widgets/base",
       "_view_module_version": "1.2.0",
       "_view_name": "StyleView",
       "bar_color": null,
       "description_width": ""
      }
     },
     "52077f58bbdb47fbbea1cab7dae86f7d": {
      "model_module": "@jupyter-widgets/base",
      "model_module_version": "1.2.0",
      "model_name": "LayoutModel",
      "state": {
       "_model_module": "@jupyter-widgets/base",
       "_model_module_version": "1.2.0",
       "_model_name": "LayoutModel",
       "_view_count": null,
       "_view_module": "@jupyter-widgets/base",
       "_view_module_version": "1.2.0",
       "_view_name": "LayoutView",
       "align_content": null,
       "align_items": null,
       "align_self": null,
       "border": null,
       "bottom": null,
       "display": null,
       "flex": null,
       "flex_flow": null,
       "grid_area": null,
       "grid_auto_columns": null,
       "grid_auto_flow": null,
       "grid_auto_rows": null,
       "grid_column": null,
       "grid_gap": null,
       "grid_row": null,
       "grid_template_areas": null,
       "grid_template_columns": null,
       "grid_template_rows": null,
       "height": null,
       "justify_content": null,
       "justify_items": null,
       "left": null,
       "margin": null,
       "max_height": null,
       "max_width": null,
       "min_height": null,
       "min_width": null,
       "object_fit": null,
       "object_position": null,
       "order": null,
       "overflow": null,
       "overflow_x": null,
       "overflow_y": null,
       "padding": null,
       "right": null,
       "top": null,
       "visibility": null,
       "width": null
      }
     },
     "58f481264efd416e850339dc71e50138": {
      "model_module": "@jupyter-widgets/base",
      "model_module_version": "1.2.0",
      "model_name": "LayoutModel",
      "state": {
       "_model_module": "@jupyter-widgets/base",
       "_model_module_version": "1.2.0",
       "_model_name": "LayoutModel",
       "_view_count": null,
       "_view_module": "@jupyter-widgets/base",
       "_view_module_version": "1.2.0",
       "_view_name": "LayoutView",
       "align_content": null,
       "align_items": null,
       "align_self": null,
       "border": null,
       "bottom": null,
       "display": null,
       "flex": null,
       "flex_flow": null,
       "grid_area": null,
       "grid_auto_columns": null,
       "grid_auto_flow": null,
       "grid_auto_rows": null,
       "grid_column": null,
       "grid_gap": null,
       "grid_row": null,
       "grid_template_areas": null,
       "grid_template_columns": null,
       "grid_template_rows": null,
       "height": null,
       "justify_content": null,
       "justify_items": null,
       "left": null,
       "margin": null,
       "max_height": null,
       "max_width": null,
       "min_height": null,
       "min_width": null,
       "object_fit": null,
       "object_position": null,
       "order": null,
       "overflow": null,
       "overflow_x": null,
       "overflow_y": null,
       "padding": null,
       "right": null,
       "top": null,
       "visibility": null,
       "width": null
      }
     },
     "5c4fff4b7c3a4fe9a235d3e0f2cba79d": {
      "model_module": "@jupyter-widgets/controls",
      "model_module_version": "1.5.0",
      "model_name": "HTMLModel",
      "state": {
       "_dom_classes": [],
       "_model_module": "@jupyter-widgets/controls",
       "_model_module_version": "1.5.0",
       "_model_name": "HTMLModel",
       "_view_count": null,
       "_view_module": "@jupyter-widgets/controls",
       "_view_module_version": "1.5.0",
       "_view_name": "HTMLView",
       "description": "",
       "description_tooltip": null,
       "layout": "IPY_MODEL_f6a48e63b8c448af9dcba8e7010bba3c",
       "placeholder": "​",
       "style": "IPY_MODEL_12187bfb9d6a41f2b0d08b50ff1bd576",
       "value": "images: 100%"
      }
     },
     "6821468f483a4a11988af98f8284dc89": {
      "model_module": "@jupyter-widgets/controls",
      "model_module_version": "1.5.0",
      "model_name": "ProgressStyleModel",
      "state": {
       "_model_module": "@jupyter-widgets/controls",
       "_model_module_version": "1.5.0",
       "_model_name": "ProgressStyleModel",
       "_view_count": null,
       "_view_module": "@jupyter-widgets/base",
       "_view_module_version": "1.2.0",
       "_view_name": "StyleView",
       "bar_color": null,
       "description_width": ""
      }
     },
     "6b4f0de39b1e4ca39e1bb3bd596ed46b": {
      "model_module": "@jupyter-widgets/base",
      "model_module_version": "1.2.0",
      "model_name": "LayoutModel",
      "state": {
       "_model_module": "@jupyter-widgets/base",
       "_model_module_version": "1.2.0",
       "_model_name": "LayoutModel",
       "_view_count": null,
       "_view_module": "@jupyter-widgets/base",
       "_view_module_version": "1.2.0",
       "_view_name": "LayoutView",
       "align_content": null,
       "align_items": null,
       "align_self": null,
       "border": null,
       "bottom": null,
       "display": null,
       "flex": null,
       "flex_flow": null,
       "grid_area": null,
       "grid_auto_columns": null,
       "grid_auto_flow": null,
       "grid_auto_rows": null,
       "grid_column": null,
       "grid_gap": null,
       "grid_row": null,
       "grid_template_areas": null,
       "grid_template_columns": null,
       "grid_template_rows": null,
       "height": null,
       "justify_content": null,
       "justify_items": null,
       "left": null,
       "margin": null,
       "max_height": null,
       "max_width": null,
       "min_height": null,
       "min_width": null,
       "object_fit": null,
       "object_position": null,
       "order": null,
       "overflow": null,
       "overflow_x": null,
       "overflow_y": null,
       "padding": null,
       "right": null,
       "top": null,
       "visibility": null,
       "width": null
      }
     },
     "6d498ccac4264c738eaac1e78a9e2a70": {
      "model_module": "@jupyter-widgets/base",
      "model_module_version": "1.2.0",
      "model_name": "LayoutModel",
      "state": {
       "_model_module": "@jupyter-widgets/base",
       "_model_module_version": "1.2.0",
       "_model_name": "LayoutModel",
       "_view_count": null,
       "_view_module": "@jupyter-widgets/base",
       "_view_module_version": "1.2.0",
       "_view_name": "LayoutView",
       "align_content": null,
       "align_items": null,
       "align_self": null,
       "border": null,
       "bottom": null,
       "display": null,
       "flex": null,
       "flex_flow": null,
       "grid_area": null,
       "grid_auto_columns": null,
       "grid_auto_flow": null,
       "grid_auto_rows": null,
       "grid_column": null,
       "grid_gap": null,
       "grid_row": null,
       "grid_template_areas": null,
       "grid_template_columns": null,
       "grid_template_rows": null,
       "height": null,
       "justify_content": null,
       "justify_items": null,
       "left": null,
       "margin": null,
       "max_height": null,
       "max_width": null,
       "min_height": null,
       "min_width": null,
       "object_fit": null,
       "object_position": null,
       "order": null,
       "overflow": null,
       "overflow_x": null,
       "overflow_y": null,
       "padding": null,
       "right": null,
       "top": null,
       "visibility": null,
       "width": null
      }
     },
     "6ee6881476c349bd86f490395de6d914": {
      "model_module": "@jupyter-widgets/base",
      "model_module_version": "1.2.0",
      "model_name": "LayoutModel",
      "state": {
       "_model_module": "@jupyter-widgets/base",
       "_model_module_version": "1.2.0",
       "_model_name": "LayoutModel",
       "_view_count": null,
       "_view_module": "@jupyter-widgets/base",
       "_view_module_version": "1.2.0",
       "_view_name": "LayoutView",
       "align_content": null,
       "align_items": null,
       "align_self": null,
       "border": null,
       "bottom": null,
       "display": null,
       "flex": null,
       "flex_flow": null,
       "grid_area": null,
       "grid_auto_columns": null,
       "grid_auto_flow": null,
       "grid_auto_rows": null,
       "grid_column": null,
       "grid_gap": null,
       "grid_row": null,
       "grid_template_areas": null,
       "grid_template_columns": null,
       "grid_template_rows": null,
       "height": null,
       "justify_content": null,
       "justify_items": null,
       "left": null,
       "margin": null,
       "max_height": null,
       "max_width": null,
       "min_height": null,
       "min_width": null,
       "object_fit": null,
       "object_position": null,
       "order": null,
       "overflow": null,
       "overflow_x": null,
       "overflow_y": null,
       "padding": null,
       "right": null,
       "top": null,
       "visibility": null,
       "width": null
      }
     },
     "6f8538c74f9c45d5a6f468f4f9b8c335": {
      "model_module": "@jupyter-widgets/controls",
      "model_module_version": "1.5.0",
      "model_name": "FloatProgressModel",
      "state": {
       "_dom_classes": [],
       "_model_module": "@jupyter-widgets/controls",
       "_model_module_version": "1.5.0",
       "_model_name": "FloatProgressModel",
       "_view_count": null,
       "_view_module": "@jupyter-widgets/controls",
       "_view_module_version": "1.5.0",
       "_view_name": "ProgressView",
       "bar_style": "success",
       "description": "",
       "description_tooltip": null,
       "layout": "IPY_MODEL_905979999c6d4300a6ba5923cb45134b",
       "max": 8.0,
       "min": 0.0,
       "orientation": "horizontal",
       "style": "IPY_MODEL_6821468f483a4a11988af98f8284dc89",
       "value": 8.0
      }
     },
     "74b46df1a28a4020b15279ddd6e56c46": {
      "model_module": "@jupyter-widgets/controls",
      "model_module_version": "1.5.0",
      "model_name": "HTMLModel",
      "state": {
       "_dom_classes": [],
       "_model_module": "@jupyter-widgets/controls",
       "_model_module_version": "1.5.0",
       "_model_name": "HTMLModel",
       "_view_count": null,
       "_view_module": "@jupyter-widgets/controls",
       "_view_module_version": "1.5.0",
       "_view_name": "HTMLView",
       "description": "",
       "description_tooltip": null,
       "layout": "IPY_MODEL_94a81376205340909fb4f8beabfda7fe",
       "placeholder": "​",
       "style": "IPY_MODEL_e262cd1591d84353bb927482489a6cf2",
       "value": "images: 100%"
      }
     },
     "74d9950b17934fcd99160384e5aaa0a0": {
      "model_module": "@jupyter-widgets/controls",
      "model_module_version": "1.5.0",
      "model_name": "DescriptionStyleModel",
      "state": {
       "_model_module": "@jupyter-widgets/controls",
       "_model_module_version": "1.5.0",
       "_model_name": "DescriptionStyleModel",
       "_view_count": null,
       "_view_module": "@jupyter-widgets/base",
       "_view_module_version": "1.2.0",
       "_view_name": "StyleView",
       "description_width": ""
      }
     },
     "74f0076d4b4c4faa92f3132139605083": {
      "model_module": "@jupyter-widgets/controls",
      "model_module_version": "1.5.0",
      "model_name": "HTMLModel",
      "state": {
       "_dom_classes": [],
       "_model_module": "@jupyter-widgets/controls",
       "_model_module_version": "1.5.0",
       "_model_name": "HTMLModel",
       "_view_count": null,
       "_view_module": "@jupyter-widgets/controls",
       "_view_module_version": "1.5.0",
       "_view_name": "HTMLView",
       "description": "",
       "description_tooltip": null,
       "layout": "IPY_MODEL_7d20cdd33f5d4b9ea5fe677c50ab8ae6",
       "placeholder": "​",
       "style": "IPY_MODEL_87046b5a023847cf9c52c664e602e807",
       "value": "images: 100%"
      }
     },
     "7b010863831145f7bb293865ceca9f23": {
      "model_module": "@jupyter-widgets/controls",
      "model_module_version": "1.5.0",
      "model_name": "HTMLModel",
      "state": {
       "_dom_classes": [],
       "_model_module": "@jupyter-widgets/controls",
       "_model_module_version": "1.5.0",
       "_model_name": "HTMLModel",
       "_view_count": null,
       "_view_module": "@jupyter-widgets/controls",
       "_view_module_version": "1.5.0",
       "_view_name": "HTMLView",
       "description": "",
       "description_tooltip": null,
       "layout": "IPY_MODEL_3a7e5676ea8b472f851654924acb8488",
       "placeholder": "​",
       "style": "IPY_MODEL_8fbe78afe7f64eaa8101677fd4408162",
       "value": " 390/390 [00:00&lt;00:00, 30329.26it/s]"
      }
     },
     "7d20cdd33f5d4b9ea5fe677c50ab8ae6": {
      "model_module": "@jupyter-widgets/base",
      "model_module_version": "1.2.0",
      "model_name": "LayoutModel",
      "state": {
       "_model_module": "@jupyter-widgets/base",
       "_model_module_version": "1.2.0",
       "_model_name": "LayoutModel",
       "_view_count": null,
       "_view_module": "@jupyter-widgets/base",
       "_view_module_version": "1.2.0",
       "_view_name": "LayoutView",
       "align_content": null,
       "align_items": null,
       "align_self": null,
       "border": null,
       "bottom": null,
       "display": null,
       "flex": null,
       "flex_flow": null,
       "grid_area": null,
       "grid_auto_columns": null,
       "grid_auto_flow": null,
       "grid_auto_rows": null,
       "grid_column": null,
       "grid_gap": null,
       "grid_row": null,
       "grid_template_areas": null,
       "grid_template_columns": null,
       "grid_template_rows": null,
       "height": null,
       "justify_content": null,
       "justify_items": null,
       "left": null,
       "margin": null,
       "max_height": null,
       "max_width": null,
       "min_height": null,
       "min_width": null,
       "object_fit": null,
       "object_position": null,
       "order": null,
       "overflow": null,
       "overflow_x": null,
       "overflow_y": null,
       "padding": null,
       "right": null,
       "top": null,
       "visibility": null,
       "width": null
      }
     },
     "8012c8c793f149388e7327aae28834cc": {
      "model_module": "@jupyter-widgets/controls",
      "model_module_version": "1.5.0",
      "model_name": "HBoxModel",
      "state": {
       "_dom_classes": [],
       "_model_module": "@jupyter-widgets/controls",
       "_model_module_version": "1.5.0",
       "_model_name": "HBoxModel",
       "_view_count": null,
       "_view_module": "@jupyter-widgets/controls",
       "_view_module_version": "1.5.0",
       "_view_name": "HBoxView",
       "box_style": "",
       "children": [
        "IPY_MODEL_0bd7ef1916a045c6bf1c0548e09473c4",
        "IPY_MODEL_810608d36ea64b7ab4f07470503cb43d",
        "IPY_MODEL_7b010863831145f7bb293865ceca9f23"
       ],
       "layout": "IPY_MODEL_168780c6ace74cb99ec9fb1375568a99"
      }
     },
     "810608d36ea64b7ab4f07470503cb43d": {
      "model_module": "@jupyter-widgets/controls",
      "model_module_version": "1.5.0",
      "model_name": "FloatProgressModel",
      "state": {
       "_dom_classes": [],
       "_model_module": "@jupyter-widgets/controls",
       "_model_module_version": "1.5.0",
       "_model_name": "FloatProgressModel",
       "_view_count": null,
       "_view_module": "@jupyter-widgets/controls",
       "_view_module_version": "1.5.0",
       "_view_name": "ProgressView",
       "bar_style": "success",
       "description": "",
       "description_tooltip": null,
       "layout": "IPY_MODEL_ae7a0b9f377a4dfa968ea05d2295d06e",
       "max": 390.0,
       "min": 0.0,
       "orientation": "horizontal",
       "style": "IPY_MODEL_a554670e857f4063a4c06ade0cb357c7",
       "value": 390.0
      }
     },
     "8307b48d4a36415c8e14697b0be4fab9": {
      "model_module": "@jupyter-widgets/controls",
      "model_module_version": "1.5.0",
      "model_name": "HBoxModel",
      "state": {
       "_dom_classes": [],
       "_model_module": "@jupyter-widgets/controls",
       "_model_module_version": "1.5.0",
       "_model_name": "HBoxModel",
       "_view_count": null,
       "_view_module": "@jupyter-widgets/controls",
       "_view_module_version": "1.5.0",
       "_view_name": "HBoxView",
       "box_style": "",
       "children": [
        "IPY_MODEL_74f0076d4b4c4faa92f3132139605083",
        "IPY_MODEL_eeedf6d050344312bca392dad584171e",
        "IPY_MODEL_f4e568d741cb47a9924e1cf53010a456"
       ],
       "layout": "IPY_MODEL_58f481264efd416e850339dc71e50138"
      }
     },
     "849e578374e04228829a4c607dc3dedf": {
      "model_module": "@jupyter-widgets/base",
      "model_module_version": "1.2.0",
      "model_name": "LayoutModel",
      "state": {
       "_model_module": "@jupyter-widgets/base",
       "_model_module_version": "1.2.0",
       "_model_name": "LayoutModel",
       "_view_count": null,
       "_view_module": "@jupyter-widgets/base",
       "_view_module_version": "1.2.0",
       "_view_name": "LayoutView",
       "align_content": null,
       "align_items": null,
       "align_self": null,
       "border": null,
       "bottom": null,
       "display": null,
       "flex": null,
       "flex_flow": null,
       "grid_area": null,
       "grid_auto_columns": null,
       "grid_auto_flow": null,
       "grid_auto_rows": null,
       "grid_column": null,
       "grid_gap": null,
       "grid_row": null,
       "grid_template_areas": null,
       "grid_template_columns": null,
       "grid_template_rows": null,
       "height": null,
       "justify_content": null,
       "justify_items": null,
       "left": null,
       "margin": null,
       "max_height": null,
       "max_width": null,
       "min_height": null,
       "min_width": null,
       "object_fit": null,
       "object_position": null,
       "order": null,
       "overflow": null,
       "overflow_x": null,
       "overflow_y": null,
       "padding": null,
       "right": null,
       "top": null,
       "visibility": null,
       "width": null
      }
     },
     "85bdb78ff75144b4bafe41e5af654051": {
      "model_module": "@jupyter-widgets/base",
      "model_module_version": "1.2.0",
      "model_name": "LayoutModel",
      "state": {
       "_model_module": "@jupyter-widgets/base",
       "_model_module_version": "1.2.0",
       "_model_name": "LayoutModel",
       "_view_count": null,
       "_view_module": "@jupyter-widgets/base",
       "_view_module_version": "1.2.0",
       "_view_name": "LayoutView",
       "align_content": null,
       "align_items": null,
       "align_self": null,
       "border": null,
       "bottom": null,
       "display": null,
       "flex": null,
       "flex_flow": null,
       "grid_area": null,
       "grid_auto_columns": null,
       "grid_auto_flow": null,
       "grid_auto_rows": null,
       "grid_column": null,
       "grid_gap": null,
       "grid_row": null,
       "grid_template_areas": null,
       "grid_template_columns": null,
       "grid_template_rows": null,
       "height": null,
       "justify_content": null,
       "justify_items": null,
       "left": null,
       "margin": null,
       "max_height": null,
       "max_width": null,
       "min_height": null,
       "min_width": null,
       "object_fit": null,
       "object_position": null,
       "order": null,
       "overflow": null,
       "overflow_x": null,
       "overflow_y": null,
       "padding": null,
       "right": null,
       "top": null,
       "visibility": null,
       "width": null
      }
     },
     "863d207bce1044b985730d153b108d9c": {
      "model_module": "@jupyter-widgets/base",
      "model_module_version": "1.2.0",
      "model_name": "LayoutModel",
      "state": {
       "_model_module": "@jupyter-widgets/base",
       "_model_module_version": "1.2.0",
       "_model_name": "LayoutModel",
       "_view_count": null,
       "_view_module": "@jupyter-widgets/base",
       "_view_module_version": "1.2.0",
       "_view_name": "LayoutView",
       "align_content": null,
       "align_items": null,
       "align_self": null,
       "border": null,
       "bottom": null,
       "display": null,
       "flex": null,
       "flex_flow": null,
       "grid_area": null,
       "grid_auto_columns": null,
       "grid_auto_flow": null,
       "grid_auto_rows": null,
       "grid_column": null,
       "grid_gap": null,
       "grid_row": null,
       "grid_template_areas": null,
       "grid_template_columns": null,
       "grid_template_rows": null,
       "height": null,
       "justify_content": null,
       "justify_items": null,
       "left": null,
       "margin": null,
       "max_height": null,
       "max_width": null,
       "min_height": null,
       "min_width": null,
       "object_fit": null,
       "object_position": null,
       "order": null,
       "overflow": null,
       "overflow_x": null,
       "overflow_y": null,
       "padding": null,
       "right": null,
       "top": null,
       "visibility": null,
       "width": null
      }
     },
     "87046b5a023847cf9c52c664e602e807": {
      "model_module": "@jupyter-widgets/controls",
      "model_module_version": "1.5.0",
      "model_name": "DescriptionStyleModel",
      "state": {
       "_model_module": "@jupyter-widgets/controls",
       "_model_module_version": "1.5.0",
       "_model_name": "DescriptionStyleModel",
       "_view_count": null,
       "_view_module": "@jupyter-widgets/base",
       "_view_module_version": "1.2.0",
       "_view_name": "StyleView",
       "description_width": ""
      }
     },
     "8b4768f6db06465ebb4b825576034e2d": {
      "model_module": "@jupyter-widgets/controls",
      "model_module_version": "1.5.0",
      "model_name": "HTMLModel",
      "state": {
       "_dom_classes": [],
       "_model_module": "@jupyter-widgets/controls",
       "_model_module_version": "1.5.0",
       "_model_name": "HTMLModel",
       "_view_count": null,
       "_view_module": "@jupyter-widgets/controls",
       "_view_module_version": "1.5.0",
       "_view_name": "HTMLView",
       "description": "",
       "description_tooltip": null,
       "layout": "IPY_MODEL_aefec7bb5fc44531994ea6c3dcf08658",
       "placeholder": "​",
       "style": "IPY_MODEL_00481a26959140bf8a45253e563dfde6",
       "value": "images: 100%"
      }
     },
     "8d925c6fc18e4c73911b3e631a833acd": {
      "model_module": "@jupyter-widgets/controls",
      "model_module_version": "1.5.0",
      "model_name": "DescriptionStyleModel",
      "state": {
       "_model_module": "@jupyter-widgets/controls",
       "_model_module_version": "1.5.0",
       "_model_name": "DescriptionStyleModel",
       "_view_count": null,
       "_view_module": "@jupyter-widgets/base",
       "_view_module_version": "1.2.0",
       "_view_name": "StyleView",
       "description_width": ""
      }
     },
     "8fbe78afe7f64eaa8101677fd4408162": {
      "model_module": "@jupyter-widgets/controls",
      "model_module_version": "1.5.0",
      "model_name": "DescriptionStyleModel",
      "state": {
       "_model_module": "@jupyter-widgets/controls",
       "_model_module_version": "1.5.0",
       "_model_name": "DescriptionStyleModel",
       "_view_count": null,
       "_view_module": "@jupyter-widgets/base",
       "_view_module_version": "1.2.0",
       "_view_name": "StyleView",
       "description_width": ""
      }
     },
     "905979999c6d4300a6ba5923cb45134b": {
      "model_module": "@jupyter-widgets/base",
      "model_module_version": "1.2.0",
      "model_name": "LayoutModel",
      "state": {
       "_model_module": "@jupyter-widgets/base",
       "_model_module_version": "1.2.0",
       "_model_name": "LayoutModel",
       "_view_count": null,
       "_view_module": "@jupyter-widgets/base",
       "_view_module_version": "1.2.0",
       "_view_name": "LayoutView",
       "align_content": null,
       "align_items": null,
       "align_self": null,
       "border": null,
       "bottom": null,
       "display": null,
       "flex": null,
       "flex_flow": null,
       "grid_area": null,
       "grid_auto_columns": null,
       "grid_auto_flow": null,
       "grid_auto_rows": null,
       "grid_column": null,
       "grid_gap": null,
       "grid_row": null,
       "grid_template_areas": null,
       "grid_template_columns": null,
       "grid_template_rows": null,
       "height": null,
       "justify_content": null,
       "justify_items": null,
       "left": null,
       "margin": null,
       "max_height": null,
       "max_width": null,
       "min_height": null,
       "min_width": null,
       "object_fit": null,
       "object_position": null,
       "order": null,
       "overflow": null,
       "overflow_x": null,
       "overflow_y": null,
       "padding": null,
       "right": null,
       "top": null,
       "visibility": null,
       "width": null
      }
     },
     "921e2774608f47e6851b950ba402ba6a": {
      "model_module": "@jupyter-widgets/controls",
      "model_module_version": "1.5.0",
      "model_name": "HBoxModel",
      "state": {
       "_dom_classes": [],
       "_model_module": "@jupyter-widgets/controls",
       "_model_module_version": "1.5.0",
       "_model_name": "HBoxModel",
       "_view_count": null,
       "_view_module": "@jupyter-widgets/controls",
       "_view_module_version": "1.5.0",
       "_view_name": "HBoxView",
       "box_style": "",
       "children": [
        "IPY_MODEL_ee43f01472bc4684b80880ebef771889",
        "IPY_MODEL_0021a420f7bd4f0eb531e525d9f9ba0a",
        "IPY_MODEL_93bf60c43d0d44a79eeaa775d47a32d6"
       ],
       "layout": "IPY_MODEL_52077f58bbdb47fbbea1cab7dae86f7d"
      }
     },
     "92bc3264bd3d446f8c0d251d64fc2912": {
      "model_module": "@jupyter-widgets/base",
      "model_module_version": "1.2.0",
      "model_name": "LayoutModel",
      "state": {
       "_model_module": "@jupyter-widgets/base",
       "_model_module_version": "1.2.0",
       "_model_name": "LayoutModel",
       "_view_count": null,
       "_view_module": "@jupyter-widgets/base",
       "_view_module_version": "1.2.0",
       "_view_name": "LayoutView",
       "align_content": null,
       "align_items": null,
       "align_self": null,
       "border": null,
       "bottom": null,
       "display": null,
       "flex": null,
       "flex_flow": null,
       "grid_area": null,
       "grid_auto_columns": null,
       "grid_auto_flow": null,
       "grid_auto_rows": null,
       "grid_column": null,
       "grid_gap": null,
       "grid_row": null,
       "grid_template_areas": null,
       "grid_template_columns": null,
       "grid_template_rows": null,
       "height": null,
       "justify_content": null,
       "justify_items": null,
       "left": null,
       "margin": null,
       "max_height": null,
       "max_width": null,
       "min_height": null,
       "min_width": null,
       "object_fit": null,
       "object_position": null,
       "order": null,
       "overflow": null,
       "overflow_x": null,
       "overflow_y": null,
       "padding": null,
       "right": null,
       "top": null,
       "visibility": null,
       "width": null
      }
     },
     "92eea27bfcb54547a4c88d60a2442a3f": {
      "model_module": "@jupyter-widgets/controls",
      "model_module_version": "1.5.0",
      "model_name": "DescriptionStyleModel",
      "state": {
       "_model_module": "@jupyter-widgets/controls",
       "_model_module_version": "1.5.0",
       "_model_name": "DescriptionStyleModel",
       "_view_count": null,
       "_view_module": "@jupyter-widgets/base",
       "_view_module_version": "1.2.0",
       "_view_name": "StyleView",
       "description_width": ""
      }
     },
     "93bf60c43d0d44a79eeaa775d47a32d6": {
      "model_module": "@jupyter-widgets/controls",
      "model_module_version": "1.5.0",
      "model_name": "HTMLModel",
      "state": {
       "_dom_classes": [],
       "_model_module": "@jupyter-widgets/controls",
       "_model_module_version": "1.5.0",
       "_model_name": "HTMLModel",
       "_view_count": null,
       "_view_module": "@jupyter-widgets/controls",
       "_view_module_version": "1.5.0",
       "_view_name": "HTMLView",
       "description": "",
       "description_tooltip": null,
       "layout": "IPY_MODEL_863d207bce1044b985730d153b108d9c",
       "placeholder": "​",
       "style": "IPY_MODEL_e41155288a804759b9294962522ec976",
       "value": " 234/234 [00:00&lt;00:00, 16737.45it/s]"
      }
     },
     "94a81376205340909fb4f8beabfda7fe": {
      "model_module": "@jupyter-widgets/base",
      "model_module_version": "1.2.0",
      "model_name": "LayoutModel",
      "state": {
       "_model_module": "@jupyter-widgets/base",
       "_model_module_version": "1.2.0",
       "_model_name": "LayoutModel",
       "_view_count": null,
       "_view_module": "@jupyter-widgets/base",
       "_view_module_version": "1.2.0",
       "_view_name": "LayoutView",
       "align_content": null,
       "align_items": null,
       "align_self": null,
       "border": null,
       "bottom": null,
       "display": null,
       "flex": null,
       "flex_flow": null,
       "grid_area": null,
       "grid_auto_columns": null,
       "grid_auto_flow": null,
       "grid_auto_rows": null,
       "grid_column": null,
       "grid_gap": null,
       "grid_row": null,
       "grid_template_areas": null,
       "grid_template_columns": null,
       "grid_template_rows": null,
       "height": null,
       "justify_content": null,
       "justify_items": null,
       "left": null,
       "margin": null,
       "max_height": null,
       "max_width": null,
       "min_height": null,
       "min_width": null,
       "object_fit": null,
       "object_position": null,
       "order": null,
       "overflow": null,
       "overflow_x": null,
       "overflow_y": null,
       "padding": null,
       "right": null,
       "top": null,
       "visibility": null,
       "width": null
      }
     },
     "a23fa247b6ac40138843046f2a6afbed": {
      "model_module": "@jupyter-widgets/controls",
      "model_module_version": "1.5.0",
      "model_name": "HBoxModel",
      "state": {
       "_dom_classes": [],
       "_model_module": "@jupyter-widgets/controls",
       "_model_module_version": "1.5.0",
       "_model_name": "HBoxModel",
       "_view_count": null,
       "_view_module": "@jupyter-widgets/controls",
       "_view_module_version": "1.5.0",
       "_view_name": "HBoxView",
       "box_style": "",
       "children": [
        "IPY_MODEL_8b4768f6db06465ebb4b825576034e2d",
        "IPY_MODEL_49845b1a13ea47febbe8932fd343b644",
        "IPY_MODEL_fb1224253f084f3fa575c296e89b84b4"
       ],
       "layout": "IPY_MODEL_e61053ec0d51430a8205cdd8644d96bb"
      }
     },
     "a554670e857f4063a4c06ade0cb357c7": {
      "model_module": "@jupyter-widgets/controls",
      "model_module_version": "1.5.0",
      "model_name": "ProgressStyleModel",
      "state": {
       "_model_module": "@jupyter-widgets/controls",
       "_model_module_version": "1.5.0",
       "_model_name": "ProgressStyleModel",
       "_view_count": null,
       "_view_module": "@jupyter-widgets/base",
       "_view_module_version": "1.2.0",
       "_view_name": "StyleView",
       "bar_color": null,
       "description_width": ""
      }
     },
     "ae7a0b9f377a4dfa968ea05d2295d06e": {
      "model_module": "@jupyter-widgets/base",
      "model_module_version": "1.2.0",
      "model_name": "LayoutModel",
      "state": {
       "_model_module": "@jupyter-widgets/base",
       "_model_module_version": "1.2.0",
       "_model_name": "LayoutModel",
       "_view_count": null,
       "_view_module": "@jupyter-widgets/base",
       "_view_module_version": "1.2.0",
       "_view_name": "LayoutView",
       "align_content": null,
       "align_items": null,
       "align_self": null,
       "border": null,
       "bottom": null,
       "display": null,
       "flex": null,
       "flex_flow": null,
       "grid_area": null,
       "grid_auto_columns": null,
       "grid_auto_flow": null,
       "grid_auto_rows": null,
       "grid_column": null,
       "grid_gap": null,
       "grid_row": null,
       "grid_template_areas": null,
       "grid_template_columns": null,
       "grid_template_rows": null,
       "height": null,
       "justify_content": null,
       "justify_items": null,
       "left": null,
       "margin": null,
       "max_height": null,
       "max_width": null,
       "min_height": null,
       "min_width": null,
       "object_fit": null,
       "object_position": null,
       "order": null,
       "overflow": null,
       "overflow_x": null,
       "overflow_y": null,
       "padding": null,
       "right": null,
       "top": null,
       "visibility": null,
       "width": null
      }
     },
     "aefec7bb5fc44531994ea6c3dcf08658": {
      "model_module": "@jupyter-widgets/base",
      "model_module_version": "1.2.0",
      "model_name": "LayoutModel",
      "state": {
       "_model_module": "@jupyter-widgets/base",
       "_model_module_version": "1.2.0",
       "_model_name": "LayoutModel",
       "_view_count": null,
       "_view_module": "@jupyter-widgets/base",
       "_view_module_version": "1.2.0",
       "_view_name": "LayoutView",
       "align_content": null,
       "align_items": null,
       "align_self": null,
       "border": null,
       "bottom": null,
       "display": null,
       "flex": null,
       "flex_flow": null,
       "grid_area": null,
       "grid_auto_columns": null,
       "grid_auto_flow": null,
       "grid_auto_rows": null,
       "grid_column": null,
       "grid_gap": null,
       "grid_row": null,
       "grid_template_areas": null,
       "grid_template_columns": null,
       "grid_template_rows": null,
       "height": null,
       "justify_content": null,
       "justify_items": null,
       "left": null,
       "margin": null,
       "max_height": null,
       "max_width": null,
       "min_height": null,
       "min_width": null,
       "object_fit": null,
       "object_position": null,
       "order": null,
       "overflow": null,
       "overflow_x": null,
       "overflow_y": null,
       "padding": null,
       "right": null,
       "top": null,
       "visibility": null,
       "width": null
      }
     },
     "bd3422c5e3ec469faa9d4dc17c3b6210": {
      "model_module": "@jupyter-widgets/base",
      "model_module_version": "1.2.0",
      "model_name": "LayoutModel",
      "state": {
       "_model_module": "@jupyter-widgets/base",
       "_model_module_version": "1.2.0",
       "_model_name": "LayoutModel",
       "_view_count": null,
       "_view_module": "@jupyter-widgets/base",
       "_view_module_version": "1.2.0",
       "_view_name": "LayoutView",
       "align_content": null,
       "align_items": null,
       "align_self": null,
       "border": null,
       "bottom": null,
       "display": null,
       "flex": null,
       "flex_flow": null,
       "grid_area": null,
       "grid_auto_columns": null,
       "grid_auto_flow": null,
       "grid_auto_rows": null,
       "grid_column": null,
       "grid_gap": null,
       "grid_row": null,
       "grid_template_areas": null,
       "grid_template_columns": null,
       "grid_template_rows": null,
       "height": null,
       "justify_content": null,
       "justify_items": null,
       "left": null,
       "margin": null,
       "max_height": null,
       "max_width": null,
       "min_height": null,
       "min_width": null,
       "object_fit": null,
       "object_position": null,
       "order": null,
       "overflow": null,
       "overflow_x": null,
       "overflow_y": null,
       "padding": null,
       "right": null,
       "top": null,
       "visibility": null,
       "width": null
      }
     },
     "c641080b951b426aa25220f479e76e9b": {
      "model_module": "@jupyter-widgets/base",
      "model_module_version": "1.2.0",
      "model_name": "LayoutModel",
      "state": {
       "_model_module": "@jupyter-widgets/base",
       "_model_module_version": "1.2.0",
       "_model_name": "LayoutModel",
       "_view_count": null,
       "_view_module": "@jupyter-widgets/base",
       "_view_module_version": "1.2.0",
       "_view_name": "LayoutView",
       "align_content": null,
       "align_items": null,
       "align_self": null,
       "border": null,
       "bottom": null,
       "display": null,
       "flex": null,
       "flex_flow": null,
       "grid_area": null,
       "grid_auto_columns": null,
       "grid_auto_flow": null,
       "grid_auto_rows": null,
       "grid_column": null,
       "grid_gap": null,
       "grid_row": null,
       "grid_template_areas": null,
       "grid_template_columns": null,
       "grid_template_rows": null,
       "height": null,
       "justify_content": null,
       "justify_items": null,
       "left": null,
       "margin": null,
       "max_height": null,
       "max_width": null,
       "min_height": null,
       "min_width": null,
       "object_fit": null,
       "object_position": null,
       "order": null,
       "overflow": null,
       "overflow_x": null,
       "overflow_y": null,
       "padding": null,
       "right": null,
       "top": null,
       "visibility": null,
       "width": null
      }
     },
     "d3085de6ab2e4c1592978f505bbafb3d": {
      "model_module": "@jupyter-widgets/controls",
      "model_module_version": "1.5.0",
      "model_name": "DescriptionStyleModel",
      "state": {
       "_model_module": "@jupyter-widgets/controls",
       "_model_module_version": "1.5.0",
       "_model_name": "DescriptionStyleModel",
       "_view_count": null,
       "_view_module": "@jupyter-widgets/base",
       "_view_module_version": "1.2.0",
       "_view_name": "StyleView",
       "description_width": ""
      }
     },
     "dc9e71325aca49dbbf069658b13d209d": {
      "model_module": "@jupyter-widgets/base",
      "model_module_version": "1.2.0",
      "model_name": "LayoutModel",
      "state": {
       "_model_module": "@jupyter-widgets/base",
       "_model_module_version": "1.2.0",
       "_model_name": "LayoutModel",
       "_view_count": null,
       "_view_module": "@jupyter-widgets/base",
       "_view_module_version": "1.2.0",
       "_view_name": "LayoutView",
       "align_content": null,
       "align_items": null,
       "align_self": null,
       "border": null,
       "bottom": null,
       "display": null,
       "flex": null,
       "flex_flow": null,
       "grid_area": null,
       "grid_auto_columns": null,
       "grid_auto_flow": null,
       "grid_auto_rows": null,
       "grid_column": null,
       "grid_gap": null,
       "grid_row": null,
       "grid_template_areas": null,
       "grid_template_columns": null,
       "grid_template_rows": null,
       "height": null,
       "justify_content": null,
       "justify_items": null,
       "left": null,
       "margin": null,
       "max_height": null,
       "max_width": null,
       "min_height": null,
       "min_width": null,
       "object_fit": null,
       "object_position": null,
       "order": null,
       "overflow": null,
       "overflow_x": null,
       "overflow_y": null,
       "padding": null,
       "right": null,
       "top": null,
       "visibility": null,
       "width": null
      }
     },
     "dfa600301329434299c70f0cb4aef627": {
      "model_module": "@jupyter-widgets/base",
      "model_module_version": "1.2.0",
      "model_name": "LayoutModel",
      "state": {
       "_model_module": "@jupyter-widgets/base",
       "_model_module_version": "1.2.0",
       "_model_name": "LayoutModel",
       "_view_count": null,
       "_view_module": "@jupyter-widgets/base",
       "_view_module_version": "1.2.0",
       "_view_name": "LayoutView",
       "align_content": null,
       "align_items": null,
       "align_self": null,
       "border": null,
       "bottom": null,
       "display": null,
       "flex": null,
       "flex_flow": null,
       "grid_area": null,
       "grid_auto_columns": null,
       "grid_auto_flow": null,
       "grid_auto_rows": null,
       "grid_column": null,
       "grid_gap": null,
       "grid_row": null,
       "grid_template_areas": null,
       "grid_template_columns": null,
       "grid_template_rows": null,
       "height": null,
       "justify_content": null,
       "justify_items": null,
       "left": null,
       "margin": null,
       "max_height": null,
       "max_width": null,
       "min_height": null,
       "min_width": null,
       "object_fit": null,
       "object_position": null,
       "order": null,
       "overflow": null,
       "overflow_x": null,
       "overflow_y": null,
       "padding": null,
       "right": null,
       "top": null,
       "visibility": null,
       "width": null
      }
     },
     "e262cd1591d84353bb927482489a6cf2": {
      "model_module": "@jupyter-widgets/controls",
      "model_module_version": "1.5.0",
      "model_name": "DescriptionStyleModel",
      "state": {
       "_model_module": "@jupyter-widgets/controls",
       "_model_module_version": "1.5.0",
       "_model_name": "DescriptionStyleModel",
       "_view_count": null,
       "_view_module": "@jupyter-widgets/base",
       "_view_module_version": "1.2.0",
       "_view_name": "StyleView",
       "description_width": ""
      }
     },
     "e26869eedc994af1973e7a563a01bf26": {
      "model_module": "@jupyter-widgets/controls",
      "model_module_version": "1.5.0",
      "model_name": "ProgressStyleModel",
      "state": {
       "_model_module": "@jupyter-widgets/controls",
       "_model_module_version": "1.5.0",
       "_model_name": "ProgressStyleModel",
       "_view_count": null,
       "_view_module": "@jupyter-widgets/base",
       "_view_module_version": "1.2.0",
       "_view_name": "StyleView",
       "bar_color": null,
       "description_width": ""
      }
     },
     "e41155288a804759b9294962522ec976": {
      "model_module": "@jupyter-widgets/controls",
      "model_module_version": "1.5.0",
      "model_name": "DescriptionStyleModel",
      "state": {
       "_model_module": "@jupyter-widgets/controls",
       "_model_module_version": "1.5.0",
       "_model_name": "DescriptionStyleModel",
       "_view_count": null,
       "_view_module": "@jupyter-widgets/base",
       "_view_module_version": "1.2.0",
       "_view_name": "StyleView",
       "description_width": ""
      }
     },
     "e61053ec0d51430a8205cdd8644d96bb": {
      "model_module": "@jupyter-widgets/base",
      "model_module_version": "1.2.0",
      "model_name": "LayoutModel",
      "state": {
       "_model_module": "@jupyter-widgets/base",
       "_model_module_version": "1.2.0",
       "_model_name": "LayoutModel",
       "_view_count": null,
       "_view_module": "@jupyter-widgets/base",
       "_view_module_version": "1.2.0",
       "_view_name": "LayoutView",
       "align_content": null,
       "align_items": null,
       "align_self": null,
       "border": null,
       "bottom": null,
       "display": null,
       "flex": null,
       "flex_flow": null,
       "grid_area": null,
       "grid_auto_columns": null,
       "grid_auto_flow": null,
       "grid_auto_rows": null,
       "grid_column": null,
       "grid_gap": null,
       "grid_row": null,
       "grid_template_areas": null,
       "grid_template_columns": null,
       "grid_template_rows": null,
       "height": null,
       "justify_content": null,
       "justify_items": null,
       "left": null,
       "margin": null,
       "max_height": null,
       "max_width": null,
       "min_height": null,
       "min_width": null,
       "object_fit": null,
       "object_position": null,
       "order": null,
       "overflow": null,
       "overflow_x": null,
       "overflow_y": null,
       "padding": null,
       "right": null,
       "top": null,
       "visibility": null,
       "width": null
      }
     },
     "e7e338635eae4176ab2531685a1ab705": {
      "model_module": "@jupyter-widgets/base",
      "model_module_version": "1.2.0",
      "model_name": "LayoutModel",
      "state": {
       "_model_module": "@jupyter-widgets/base",
       "_model_module_version": "1.2.0",
       "_model_name": "LayoutModel",
       "_view_count": null,
       "_view_module": "@jupyter-widgets/base",
       "_view_module_version": "1.2.0",
       "_view_name": "LayoutView",
       "align_content": null,
       "align_items": null,
       "align_self": null,
       "border": null,
       "bottom": null,
       "display": null,
       "flex": null,
       "flex_flow": null,
       "grid_area": null,
       "grid_auto_columns": null,
       "grid_auto_flow": null,
       "grid_auto_rows": null,
       "grid_column": null,
       "grid_gap": null,
       "grid_row": null,
       "grid_template_areas": null,
       "grid_template_columns": null,
       "grid_template_rows": null,
       "height": null,
       "justify_content": null,
       "justify_items": null,
       "left": null,
       "margin": null,
       "max_height": null,
       "max_width": null,
       "min_height": null,
       "min_width": null,
       "object_fit": null,
       "object_position": null,
       "order": null,
       "overflow": null,
       "overflow_x": null,
       "overflow_y": null,
       "padding": null,
       "right": null,
       "top": null,
       "visibility": null,
       "width": null
      }
     },
     "ee43f01472bc4684b80880ebef771889": {
      "model_module": "@jupyter-widgets/controls",
      "model_module_version": "1.5.0",
      "model_name": "HTMLModel",
      "state": {
       "_dom_classes": [],
       "_model_module": "@jupyter-widgets/controls",
       "_model_module_version": "1.5.0",
       "_model_name": "HTMLModel",
       "_view_count": null,
       "_view_module": "@jupyter-widgets/controls",
       "_view_module_version": "1.5.0",
       "_view_name": "HTMLView",
       "description": "",
       "description_tooltip": null,
       "layout": "IPY_MODEL_6ee6881476c349bd86f490395de6d914",
       "placeholder": "​",
       "style": "IPY_MODEL_92eea27bfcb54547a4c88d60a2442a3f",
       "value": "images: 100%"
      }
     },
     "eeedf6d050344312bca392dad584171e": {
      "model_module": "@jupyter-widgets/controls",
      "model_module_version": "1.5.0",
      "model_name": "FloatProgressModel",
      "state": {
       "_dom_classes": [],
       "_model_module": "@jupyter-widgets/controls",
       "_model_module_version": "1.5.0",
       "_model_name": "FloatProgressModel",
       "_view_count": null,
       "_view_module": "@jupyter-widgets/controls",
       "_view_module_version": "1.5.0",
       "_view_name": "ProgressView",
       "bar_style": "success",
       "description": "",
       "description_tooltip": null,
       "layout": "IPY_MODEL_92bc3264bd3d446f8c0d251d64fc2912",
       "max": 3875.0,
       "min": 0.0,
       "orientation": "horizontal",
       "style": "IPY_MODEL_e26869eedc994af1973e7a563a01bf26",
       "value": 3875.0
      }
     },
     "f3b59199b07e424f987f15854af631e7": {
      "model_module": "@jupyter-widgets/controls",
      "model_module_version": "1.5.0",
      "model_name": "HBoxModel",
      "state": {
       "_dom_classes": [],
       "_model_module": "@jupyter-widgets/controls",
       "_model_module_version": "1.5.0",
       "_model_name": "HBoxModel",
       "_view_count": null,
       "_view_module": "@jupyter-widgets/controls",
       "_view_module_version": "1.5.0",
       "_view_name": "HBoxView",
       "box_style": "",
       "children": [
        "IPY_MODEL_5c4fff4b7c3a4fe9a235d3e0f2cba79d",
        "IPY_MODEL_6f8538c74f9c45d5a6f468f4f9b8c335",
        "IPY_MODEL_43f822fc16a54f2eb2c1f1945d486dab"
       ],
       "layout": "IPY_MODEL_dc9e71325aca49dbbf069658b13d209d"
      }
     },
     "f4e568d741cb47a9924e1cf53010a456": {
      "model_module": "@jupyter-widgets/controls",
      "model_module_version": "1.5.0",
      "model_name": "HTMLModel",
      "state": {
       "_dom_classes": [],
       "_model_module": "@jupyter-widgets/controls",
       "_model_module_version": "1.5.0",
       "_model_name": "HTMLModel",
       "_view_count": null,
       "_view_module": "@jupyter-widgets/controls",
       "_view_module_version": "1.5.0",
       "_view_name": "HTMLView",
       "description": "",
       "description_tooltip": null,
       "layout": "IPY_MODEL_fd32e9c6b6524b03971e833e52cad7a4",
       "placeholder": "​",
       "style": "IPY_MODEL_d3085de6ab2e4c1592978f505bbafb3d",
       "value": " 3875/3875 [00:00&lt;00:00, 142250.11it/s]"
      }
     },
     "f64bbc80e63e43faa43f7b01af8361fb": {
      "model_module": "@jupyter-widgets/controls",
      "model_module_version": "1.5.0",
      "model_name": "ProgressStyleModel",
      "state": {
       "_model_module": "@jupyter-widgets/controls",
       "_model_module_version": "1.5.0",
       "_model_name": "ProgressStyleModel",
       "_view_count": null,
       "_view_module": "@jupyter-widgets/base",
       "_view_module_version": "1.2.0",
       "_view_name": "StyleView",
       "bar_color": null,
       "description_width": ""
      }
     },
     "f6a48e63b8c448af9dcba8e7010bba3c": {
      "model_module": "@jupyter-widgets/base",
      "model_module_version": "1.2.0",
      "model_name": "LayoutModel",
      "state": {
       "_model_module": "@jupyter-widgets/base",
       "_model_module_version": "1.2.0",
       "_model_name": "LayoutModel",
       "_view_count": null,
       "_view_module": "@jupyter-widgets/base",
       "_view_module_version": "1.2.0",
       "_view_name": "LayoutView",
       "align_content": null,
       "align_items": null,
       "align_self": null,
       "border": null,
       "bottom": null,
       "display": null,
       "flex": null,
       "flex_flow": null,
       "grid_area": null,
       "grid_auto_columns": null,
       "grid_auto_flow": null,
       "grid_auto_rows": null,
       "grid_column": null,
       "grid_gap": null,
       "grid_row": null,
       "grid_template_areas": null,
       "grid_template_columns": null,
       "grid_template_rows": null,
       "height": null,
       "justify_content": null,
       "justify_items": null,
       "left": null,
       "margin": null,
       "max_height": null,
       "max_width": null,
       "min_height": null,
       "min_width": null,
       "object_fit": null,
       "object_position": null,
       "order": null,
       "overflow": null,
       "overflow_x": null,
       "overflow_y": null,
       "padding": null,
       "right": null,
       "top": null,
       "visibility": null,
       "width": null
      }
     },
     "fb1224253f084f3fa575c296e89b84b4": {
      "model_module": "@jupyter-widgets/controls",
      "model_module_version": "1.5.0",
      "model_name": "HTMLModel",
      "state": {
       "_dom_classes": [],
       "_model_module": "@jupyter-widgets/controls",
       "_model_module_version": "1.5.0",
       "_model_name": "HTMLModel",
       "_view_count": null,
       "_view_module": "@jupyter-widgets/controls",
       "_view_module_version": "1.5.0",
       "_view_name": "HTMLView",
       "description": "",
       "description_tooltip": null,
       "layout": "IPY_MODEL_e7e338635eae4176ab2531685a1ab705",
       "placeholder": "​",
       "style": "IPY_MODEL_2e75f7dbe2b64a16a91273a17827022c",
       "value": " 8/8 [00:00&lt;00:00, 636.08it/s]"
      }
     },
     "fd32e9c6b6524b03971e833e52cad7a4": {
      "model_module": "@jupyter-widgets/base",
      "model_module_version": "1.2.0",
      "model_name": "LayoutModel",
      "state": {
       "_model_module": "@jupyter-widgets/base",
       "_model_module_version": "1.2.0",
       "_model_name": "LayoutModel",
       "_view_count": null,
       "_view_module": "@jupyter-widgets/base",
       "_view_module_version": "1.2.0",
       "_view_name": "LayoutView",
       "align_content": null,
       "align_items": null,
       "align_self": null,
       "border": null,
       "bottom": null,
       "display": null,
       "flex": null,
       "flex_flow": null,
       "grid_area": null,
       "grid_auto_columns": null,
       "grid_auto_flow": null,
       "grid_auto_rows": null,
       "grid_column": null,
       "grid_gap": null,
       "grid_row": null,
       "grid_template_areas": null,
       "grid_template_columns": null,
       "grid_template_rows": null,
       "height": null,
       "justify_content": null,
       "justify_items": null,
       "left": null,
       "margin": null,
       "max_height": null,
       "max_width": null,
       "min_height": null,
       "min_width": null,
       "object_fit": null,
       "object_position": null,
       "order": null,
       "overflow": null,
       "overflow_x": null,
       "overflow_y": null,
       "padding": null,
       "right": null,
       "top": null,
       "visibility": null,
       "width": null
      }
     }
    },
    "version_major": 2,
    "version_minor": 0
   }
  }
 },
 "nbformat": 4,
 "nbformat_minor": 5
}
