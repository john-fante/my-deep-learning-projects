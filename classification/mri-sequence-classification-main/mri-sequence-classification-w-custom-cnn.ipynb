{
 "cells": [
  {
   "attachments": {
    "3429ec8f-5a98-4d8c-abe7-36d8a80bcbc5.png": {
     "image/png": "[encoded data removed]"
    }
   },
   "cell_type": "markdown",
   "id": "91cba0fc",
   "metadata": {
    "papermill": {
     "duration": 0.003667,
     "end_time": "2023-10-07T14:51:16.254363",
     "exception": false,
     "start_time": "2023-10-07T14:51:16.250696",
     "status": "completed"
    },
    "tags": []
   },
   "source": [
    "## My Goal\n",
    "I have wanted to build a machine learning project about classifying MRI sequences, because sometimes a specific sequence (for example T2) can be more adequate, for example, a segmentation problem in respect of a research domain. On the other hand, some brain tissues or organs can be visualized in some specific sequence [2].\n",
    "\n",
    "\n",
    "I have used the following methods.\n",
    "\n",
    "* I used a custom CNN architecture,\n",
    "* Splitted train(3582 images) and test set (896 images),\n",
    "* 5 Kfold cross-validation,\n",
    "* Used tf.data for input pipeline,\n",
    "\n",
    "## CNN Model\n",
    "![download (19)-2.png](attachment:3429ec8f-5a98-4d8c-abe7-36d8a80bcbc5.png)\n",
    "\n",
    "\n",
    "## My Another Projects\n",
    "* [Rice Classification w/Custom ResNet50 (ACC 85%)](https://www.kaggle.com/code/banddaniel/rice-classification-w-custom-resnet50-acc-85)\n",
    "* [Lung Segmentation UNet w/SeparableConv (Dice:0.93)](https://www.kaggle.com/code/banddaniel/lung-segmentation-unet-w-separableconv-dice-0-93)\n",
    "* [Plate Detection w/detectron2 (mAP@75: 89.19)](https://www.kaggle.com/code/banddaniel/plate-detection-w-detectron2-map-75-89-19)\n",
    "\n",
    "\n",
    "## References\n",
    "1. https://radiopaedia.org/articles/mri-sequences-overview\n",
    "2.https://www.weizmann.ac.il/chembiophys/assaf_tal/sites/chemphys.assaf_tal/files/uploads/lecture_8_-_t1_t2_modeling.pdf"
   ]
  },
  {
   "cell_type": "code",
   "execution_count": 1,
   "id": "0a1105bc",
   "metadata": {
    "execution": {
     "iopub.execute_input": "2023-10-07T14:51:16.262820Z",
     "iopub.status.busy": "2023-10-07T14:51:16.262430Z",
     "iopub.status.idle": "2023-10-07T14:51:25.791707Z",
     "shell.execute_reply": "2023-10-07T14:51:25.790644Z"
    },
    "papermill": {
     "duration": 9.535298,
     "end_time": "2023-10-07T14:51:25.793586",
     "exception": false,
     "start_time": "2023-10-07T14:51:16.258288",
     "status": "completed"
    },
    "tags": []
   },
   "outputs": [],
   "source": [
    "# Importing dependencies\n",
    "\n",
    "from IPython.display import clear_output\n",
    "!pip install visualkeras\n",
    "clear_output()"
   ]
  },
  {
   "cell_type": "code",
   "execution_count": 2,
   "id": "65e0d805",
   "metadata": {
    "execution": {
     "iopub.execute_input": "2023-10-07T14:51:25.801693Z",
     "iopub.status.busy": "2023-10-07T14:51:25.801411Z",
     "iopub.status.idle": "2023-10-07T14:51:33.147066Z",
     "shell.execute_reply": "2023-10-07T14:51:33.146035Z"
    },
    "papermill": {
     "duration": 7.352325,
     "end_time": "2023-10-07T14:51:33.149375",
     "exception": false,
     "start_time": "2023-10-07T14:51:25.797050",
     "status": "completed"
    },
    "tags": []
   },
   "outputs": [],
   "source": [
    "# Importing dependencies\n",
    "\n",
    "import os\n",
    "import warnings\n",
    "warnings.filterwarnings('ignore')\n",
    "import numpy as np\n",
    "import pandas as pd\n",
    "import matplotlib.pyplot as plt\n",
    "import cv2\n",
    "import visualkeras\n",
    "\n",
    "from sklearn.utils import shuffle\n",
    "from sklearn.model_selection import train_test_split, KFold\n",
    "from sklearn.metrics import f1_score, precision_score, recall_score, accuracy_score\n",
    "\n",
    "import tensorflow as tf\n",
    "from tensorflow.keras.layers import Layer,Input, Conv2D, MaxPooling2D, GlobalAveragePooling2D, Flatten\n",
    "from tensorflow.keras.layers import Dense, Dropout, Activation, BatchNormalization\n",
    "from tensorflow.keras.models import Model\n",
    "\n",
    "\n",
    "SEED = 5\n",
    "IMG_SIZE = 200, 200\n",
    "BATCH = 128\n",
    "EPOCHS = 40"
   ]
  },
  {
   "cell_type": "markdown",
   "id": "1609c10a",
   "metadata": {
    "papermill": {
     "duration": 0.002928,
     "end_time": "2023-10-07T14:51:33.155718",
     "exception": false,
     "start_time": "2023-10-07T14:51:33.152790",
     "status": "completed"
    },
    "tags": []
   },
   "source": [
    "# <span style=\"color:#e74c3c;\"> Preprocessing </span>\n"
   ]
  },
  {
   "cell_type": "code",
   "execution_count": 3,
   "id": "d72e108a",
   "metadata": {
    "execution": {
     "iopub.execute_input": "2023-10-07T14:51:33.163561Z",
     "iopub.status.busy": "2023-10-07T14:51:33.163052Z",
     "iopub.status.idle": "2023-10-07T14:51:33.204525Z",
     "shell.execute_reply": "2023-10-07T14:51:33.203104Z"
    },
    "papermill": {
     "duration": 0.047493,
     "end_time": "2023-10-07T14:51:33.206275",
     "exception": false,
     "start_time": "2023-10-07T14:51:33.158782",
     "status": "completed"
    },
    "tags": []
   },
   "outputs": [
    {
     "name": "stdout",
     "output_type": "stream",
     "text": [
      "total T1 sequence folders ->  15\n",
      "total T1C+ sequence folders ->  14\n",
      "total T2 sequence folders ->  15\n"
     ]
    }
   ],
   "source": [
    "# Splitting folders\n",
    "\n",
    "folders = sorted(os.listdir('/kaggle/input/brain-tumor-mri-images-44c'))\n",
    "\n",
    "t1_folders = []\n",
    "t1c_folders = []\n",
    "t2_folders = []\n",
    "\n",
    "for i in range(len(folders)):\n",
    "    if folders[i][-2:] == 'T1':\n",
    "        t1_folders.append(folders[i])\n",
    "    elif folders[i][-2:] == 'T2':\n",
    "        t2_folders.append(folders[i])\n",
    "    elif folders[i][-4:] == 'T1C+':\n",
    "        t1c_folders.append(folders[i])\n",
    "    else:\n",
    "        pass\n",
    "    \n",
    "print('total T1 sequence folders -> ', len(t1_folders))\n",
    "print('total T1C+ sequence folders -> ', len(t1c_folders))\n",
    "print('total T2 sequence folders -> ', len(t2_folders))"
   ]
  },
  {
   "cell_type": "code",
   "execution_count": 4,
   "id": "838aa973",
   "metadata": {
    "execution": {
     "iopub.execute_input": "2023-10-07T14:51:33.213768Z",
     "iopub.status.busy": "2023-10-07T14:51:33.213517Z",
     "iopub.status.idle": "2023-10-07T14:51:35.966385Z",
     "shell.execute_reply": "2023-10-07T14:51:35.965494Z"
    },
    "papermill": {
     "duration": 2.758896,
     "end_time": "2023-10-07T14:51:35.968444",
     "exception": false,
     "start_time": "2023-10-07T14:51:33.209548",
     "status": "completed"
    },
    "tags": []
   },
   "outputs": [],
   "source": [
    "def create_images_list(main_path, folder_names):\n",
    "    full_path = []\n",
    "    for x in range(len(folder_names)):\n",
    "        images = os.listdir(os.path.join(main_path, folder_names[x]))\n",
    "        for i in images:\n",
    "            full_path.append(os.path.join(os.path.join(main_path, folder_names[x]), i))\n",
    "\n",
    "    return full_path\n",
    "\n",
    "\n",
    "t1_images = create_images_list(\"/kaggle/input/brain-tumor-mri-images-44c\", t1_folders)\n",
    "t1c_images = create_images_list(\"/kaggle/input/brain-tumor-mri-images-44c\", t1c_folders)\n",
    "t2_images = create_images_list(\"/kaggle/input/brain-tumor-mri-images-44c\", t2_folders)\n",
    "\n",
    "# look-up table\n",
    "classes = {0:'t1', 1 : 't1_c+', 2: 't2'}\n",
    "\n",
    "data = pd.concat([ pd.DataFrame({'img': t1_images, 'label': 0}),\n",
    "                  pd.DataFrame({'img': t1c_images, 'label': 1}),\n",
    "                  pd.DataFrame({'img': t2_images, 'label': 2})], ignore_index = True)\n",
    "\n",
    "data = data.drop([1470], axis = 0) # for deleting one .webp image \n",
    "data = shuffle(data, random_state = SEED).reset_index(drop = True)"
   ]
  },
  {
   "cell_type": "code",
   "execution_count": 5,
   "id": "db8d2640",
   "metadata": {
    "execution": {
     "iopub.execute_input": "2023-10-07T14:51:35.976578Z",
     "iopub.status.busy": "2023-10-07T14:51:35.976064Z",
     "iopub.status.idle": "2023-10-07T14:51:35.981341Z",
     "shell.execute_reply": "2023-10-07T14:51:35.980572Z"
    },
    "papermill": {
     "duration": 0.011165,
     "end_time": "2023-10-07T14:51:35.983099",
     "exception": false,
     "start_time": "2023-10-07T14:51:35.971934",
     "status": "completed"
    },
    "tags": []
   },
   "outputs": [],
   "source": [
    "# a function for tf.data pipeline\n",
    "# image reading -> resizing -> normalizing\n",
    "\n",
    "def img_preprocessing(image, label):\n",
    "    img = tf.io.read_file(image)\n",
    "    img = tf.io.decode_jpeg(img, channels = 1)\n",
    "    img = tf.image.resize(img, size = (IMG_SIZE))\n",
    "    img = tf.cast(img, tf.float32) / 255.0\n",
    "    \n",
    "    return img, label"
   ]
  },
  {
   "cell_type": "markdown",
   "id": "5129043e",
   "metadata": {
    "papermill": {
     "duration": 0.003001,
     "end_time": "2023-10-07T14:51:35.989383",
     "exception": false,
     "start_time": "2023-10-07T14:51:35.986382",
     "status": "completed"
    },
    "tags": []
   },
   "source": [
    "# <span style=\"color:#e74c3c;\"> Custom </span> Convolution Block\n"
   ]
  },
  {
   "cell_type": "code",
   "execution_count": 6,
   "id": "9a2eeafd",
   "metadata": {
    "execution": {
     "iopub.execute_input": "2023-10-07T14:51:35.997329Z",
     "iopub.status.busy": "2023-10-07T14:51:35.996841Z",
     "iopub.status.idle": "2023-10-07T14:51:36.003897Z",
     "shell.execute_reply": "2023-10-07T14:51:36.002785Z"
    },
    "papermill": {
     "duration": 0.013002,
     "end_time": "2023-10-07T14:51:36.005534",
     "exception": false,
     "start_time": "2023-10-07T14:51:35.992532",
     "status": "completed"
    },
    "tags": []
   },
   "outputs": [],
   "source": [
    "# Creating a convolution block class\n",
    "\n",
    "class ConvBlock(Layer):\n",
    "    def __init__(self, filters, kernel_size, activation = 'relu', batch_norm = False, **kwargs):\n",
    "        super(ConvBlock, self).__init__(**kwargs)\n",
    "        self.filters = filters\n",
    "        self.kernel_size = kernel_size\n",
    "        self.activation = activation\n",
    "        self.batch_norm = batch_norm\n",
    "        \n",
    "        self.conv = Conv2D(filters, kernel_size, strides = 1, padding = 'same')\n",
    "        self.batch = BatchNormalization()\n",
    "        self.act = Activation(activation)\n",
    "        self.pool = MaxPooling2D()\n",
    "    \n",
    "    \n",
    "    def call(self, inputs):\n",
    "        X = self.conv(inputs)\n",
    "        if self.batch_norm:\n",
    "            X = self.batch(X)\n",
    "            X = self.act(X)\n",
    "            X = self.pool(X)\n",
    "            return X\n",
    "        else:\n",
    "            X = self.act(X)\n",
    "            X = self.pool(X)\n",
    "            return X\n",
    "        \n",
    "  \n",
    "    def get_config():\n",
    "        base_config = super().get_config()\n",
    "        \n",
    "        \n",
    "        return {\n",
    "            **base_config,\n",
    "            \"filters\" : self.filters,\n",
    "            \"kernel_size\": self.kernel_size,\n",
    "            \"activation\" : self.act\n",
    "        }\n"
   ]
  },
  {
   "cell_type": "markdown",
   "id": "716becb1",
   "metadata": {
    "papermill": {
     "duration": 0.003012,
     "end_time": "2023-10-07T14:51:36.011915",
     "exception": false,
     "start_time": "2023-10-07T14:51:36.008903",
     "status": "completed"
    },
    "tags": []
   },
   "source": [
    "# <span style=\"color:#e74c3c;\"> CNN </span> Model\n"
   ]
  },
  {
   "cell_type": "code",
   "execution_count": 7,
   "id": "72088cb0",
   "metadata": {
    "execution": {
     "iopub.execute_input": "2023-10-07T14:51:36.019619Z",
     "iopub.status.busy": "2023-10-07T14:51:36.019044Z",
     "iopub.status.idle": "2023-10-07T14:51:39.245791Z",
     "shell.execute_reply": "2023-10-07T14:51:39.245001Z"
    },
    "papermill": {
     "duration": 3.232432,
     "end_time": "2023-10-07T14:51:39.247502",
     "exception": false,
     "start_time": "2023-10-07T14:51:36.015070",
     "status": "completed"
    },
    "tags": []
   },
   "outputs": [
    {
     "name": "stdout",
     "output_type": "stream",
     "text": [
      "Model: \"model\"\n",
      "_________________________________________________________________\n",
      " Layer (type)                Output Shape              Param #   \n",
      "=================================================================\n",
      " input_1 (InputLayer)        [(None, 200, 200, 1)]     0         \n",
      "                                                                 \n",
      " CONV_BLOCK_1 (ConvBlock)    (None, 100, 100, 32)      288       \n",
      "                                                                 \n",
      " CONV_BLOCK_2 (ConvBlock)    (None, 50, 50, 64)        8512      \n",
      "                                                                 \n",
      " CONV_BLOCK_3 (ConvBlock)    (None, 25, 25, 128)       33408     \n",
      "                                                                 \n",
      " CONV_BLOCK_4 (ConvBlock)    (None, 12, 12, 256)       132352    \n",
      "                                                                 \n",
      " global_average_pooling2d (G  (None, 256)              0         \n",
      " lobalAveragePooling2D)                                          \n",
      "                                                                 \n",
      " dense (Dense)               (None, 128)               32896     \n",
      "                                                                 \n",
      " dense_1 (Dense)             (None, 32)                4128      \n",
      "                                                                 \n",
      " dense_2 (Dense)             (None, 3)                 99        \n",
      "                                                                 \n",
      "=================================================================\n",
      "Total params: 211,683\n",
      "Trainable params: 210,723\n",
      "Non-trainable params: 960\n",
      "_________________________________________________________________\n"
     ]
    }
   ],
   "source": [
    "inp = Input(shape = (*IMG_SIZE, 1))\n",
    "C = ConvBlock(32, 2, activation = 'relu', batch_norm =True, name = 'CONV_BLOCK_1')(inp)\n",
    "C = ConvBlock(64, 2, activation = 'relu', batch_norm =True, name = 'CONV_BLOCK_2')(C)\n",
    "C = ConvBlock(128, 2, activation = 'relu', batch_norm =True, name = 'CONV_BLOCK_3')(C)\n",
    "C = ConvBlock(256, 2, activation = 'relu', batch_norm =True, name = 'CONV_BLOCK_4')(C)\n",
    "\n",
    "C = GlobalAveragePooling2D()(C)\n",
    "C = Dense(128, activation = 'relu')(C)\n",
    "C = Dense(32, activation = 'relu')(C)\n",
    "out = Dense(3, activation = 'softmax')(C)\n",
    "\n",
    "model = Model(inputs = inp, outputs = out)\n",
    "model.summary()\n",
    "\n",
    "model.compile(optimizer = tf.keras.optimizers.Adam() , loss = 'sparse_categorical_crossentropy', metrics = ['acc'])"
   ]
  },
  {
   "cell_type": "code",
   "execution_count": 8,
   "id": "a6db701e",
   "metadata": {
    "execution": {
     "iopub.execute_input": "2023-10-07T14:51:39.259726Z",
     "iopub.status.busy": "2023-10-07T14:51:39.258847Z",
     "iopub.status.idle": "2023-10-07T14:51:39.336198Z",
     "shell.execute_reply": "2023-10-07T14:51:39.335223Z"
    },
    "papermill": {
     "duration": 0.085795,
     "end_time": "2023-10-07T14:51:39.337923",
     "exception": false,
     "start_time": "2023-10-07T14:51:39.252128",
     "status": "completed"
    },
    "tags": []
   },
   "outputs": [
    {
     "data": {
      "image/png": "[encoded data removed]",
      "text/plain": [
       "<PIL.Image.Image image mode=RGBA size=1427x570>"
      ]
     },
     "execution_count": 8,
     "metadata": {},
     "output_type": "execute_result"
    },
    {
     "data": {
      "text/plain": [
       "<Figure size 640x480 with 0 Axes>"
      ]
     },
     "metadata": {},
     "output_type": "display_data"
    }
   ],
   "source": [
    "#Plotting the model\n",
    "\n",
    "plt.figure(dpi = 100)\n",
    "visualkeras.layered_view(model, spacing = 50,  scale_z = 1, scale_xy = 2 , legend=True,\n",
    "                         type_ignore=[BatchNormalization, Flatten, Activation, MaxPooling2D])"
   ]
  },
  {
   "cell_type": "markdown",
   "id": "340665f6",
   "metadata": {
    "papermill": {
     "duration": 0.004829,
     "end_time": "2023-10-07T14:51:39.348202",
     "exception": false,
     "start_time": "2023-10-07T14:51:39.343373",
     "status": "completed"
    },
    "tags": []
   },
   "source": [
    "# <span style=\"color:#e74c3c;\"> Training </span> \n"
   ]
  },
  {
   "cell_type": "code",
   "execution_count": 9,
   "id": "4974d841",
   "metadata": {
    "execution": {
     "iopub.execute_input": "2023-10-07T14:51:39.359295Z",
     "iopub.status.busy": "2023-10-07T14:51:39.359032Z",
     "iopub.status.idle": "2023-10-07T15:16:53.831818Z",
     "shell.execute_reply": "2023-10-07T15:16:53.830467Z"
    },
    "papermill": {
     "duration": 1514.480652,
     "end_time": "2023-10-07T15:16:53.833764",
     "exception": false,
     "start_time": "2023-10-07T14:51:39.353112",
     "status": "completed"
    },
    "tags": []
   },
   "outputs": [
    {
     "name": "stdout",
     "output_type": "stream",
     "text": [
      "~~~~~~~~~~~~~~~~~~~~~~~~~~~~~~~~~~~~~~~~~~~~~~~~~~~~~~~~~~~~~~~~~~~~~~~~~~~\n",
      "1.fold starting\n",
      "7/7 [==============================] - 4s 501ms/step\n",
      "Test precision 0.82648\n",
      "Test recall 0.74219\n",
      "Test F1 Score 0.74064\n",
      "Test Accuracy 74.219 %\n",
      "~~~~~~~~~~~~~~~~~~~~~~~~~~~~~~~~~~~~~~~~~~~~~~~~~~~~~~~~~~~~~~~~~~~~~~~~~~~\n",
      "2.fold starting\n",
      "7/7 [==============================] - 1s 203ms/step\n",
      "Test precision 0.93669\n",
      "Test recall 0.92857\n",
      "Test F1 Score 0.92731\n",
      "Test Accuracy 92.857 %\n",
      "~~~~~~~~~~~~~~~~~~~~~~~~~~~~~~~~~~~~~~~~~~~~~~~~~~~~~~~~~~~~~~~~~~~~~~~~~~~\n",
      "3.fold starting\n",
      "7/7 [==============================] - 1s 178ms/step\n",
      "Test precision 0.99229\n",
      "Test recall 0.99219\n",
      "Test F1 Score 0.99220\n",
      "Test Accuracy 99.219 %\n",
      "~~~~~~~~~~~~~~~~~~~~~~~~~~~~~~~~~~~~~~~~~~~~~~~~~~~~~~~~~~~~~~~~~~~~~~~~~~~\n",
      "4.fold starting\n",
      "7/7 [==============================] - 1s 179ms/step\n",
      "Test precision 0.99119\n",
      "Test recall 0.99106\n",
      "Test F1 Score 0.99104\n",
      "Test Accuracy 99.106 %\n",
      "~~~~~~~~~~~~~~~~~~~~~~~~~~~~~~~~~~~~~~~~~~~~~~~~~~~~~~~~~~~~~~~~~~~~~~~~~~~\n",
      "5.fold starting\n",
      "7/7 [==============================] - 1s 177ms/step\n",
      "Test precision 0.99222\n",
      "Test recall 0.99218\n",
      "Test F1 Score 0.99219\n",
      "Test Accuracy 99.218 %\n"
     ]
    }
   ],
   "source": [
    "fold_hists = []\n",
    "test_evals = []\n",
    "test_f1_scores = []\n",
    "test_precision_scores = []\n",
    "test_recall_scores = []\n",
    "    \n",
    "    \n",
    "kf = KFold(n_splits = 5, shuffle = True, random_state = SEED)\n",
    "    \n",
    "for i, (train_index, test_index) in enumerate(kf.split(data['img'],  data['label'])):\n",
    "    \n",
    "    print('~'*75)\n",
    "    print(str(i+1) + '.fold starting')\n",
    "\n",
    "    X_train_fold = data['img'][train_index]\n",
    "    y_train_fold = data['label'][train_index]\n",
    "    \n",
    "    X_test_fold = data['img'][test_index]\n",
    "    y_test_fold = data['label'][test_index]\n",
    "    \n",
    "    # Creating tf.pipeline\n",
    "    train_loader = tf.data.Dataset.from_tensor_slices((X_train_fold, y_train_fold))\n",
    "    train_dataset = (train_loader\n",
    "                     .map(img_preprocessing)\n",
    "                     .batch(BATCH)\n",
    "                     .prefetch(BATCH))\n",
    "    \n",
    "    test_loader = tf.data.Dataset.from_tensor_slices((X_test_fold, y_test_fold))\n",
    "    test_dataset = (test_loader\n",
    "                    .map(img_preprocessing)\n",
    "                    .batch(BATCH)\n",
    "                    .prefetch(BATCH))\n",
    "    \n",
    "    # Training\n",
    "    hist = model.fit(train_dataset, epochs = EPOCHS, batch_size = BATCH, verbose = 0)\n",
    "    fold_hists.append(hist)\n",
    "    \n",
    "    # Test evaluation\n",
    "    test_eval = model.evaluate(test_dataset, verbose = 0)\n",
    "    test_evals.append(test_eval)\n",
    "    \n",
    "    # Test set prediction\n",
    "    test_take1 =  test_dataset.take(-1)\n",
    "    test_take1_ = list(test_take1)\n",
    "    pred = model.predict(test_take1)\n",
    "    pred = np.argmax(pred, axis = 1)\n",
    "    \n",
    "    # Classification metrics\n",
    "    test_precision = precision_score(y_test_fold, pred, average = 'weighted')\n",
    "    test_recall = recall_score(y_test_fold, pred, average = 'weighted')\n",
    "    test_f1 = f1_score(y_test_fold, pred, average = 'weighted')\n",
    "    test_accuracy_score = accuracy_score(y_test_fold, pred)\n",
    "    \n",
    "    test_precision_scores.append(test_precision)\n",
    "    test_recall_scores.append(test_recall)\n",
    "    test_f1_scores.append(test_f1)\n",
    "\n",
    "    print('Test precision {0:.5f}'.format(test_precision))\n",
    "    print('Test recall {0:.5f}'.format(test_recall))\n",
    "    print('Test F1 Score {0:.5f}'.format(test_f1))\n",
    "    print('Test Accuracy {0:.3f} %'.format(test_accuracy_score * 100))"
   ]
  },
  {
   "cell_type": "markdown",
   "id": "108ea058",
   "metadata": {
    "papermill": {
     "duration": 0.006648,
     "end_time": "2023-10-07T15:16:53.848024",
     "exception": false,
     "start_time": "2023-10-07T15:16:53.841376",
     "status": "completed"
    },
    "tags": []
   },
   "source": [
    "# <span style=\"color:#e74c3c;\"> Training </span> Results\n"
   ]
  },
  {
   "cell_type": "code",
   "execution_count": 10,
   "id": "859c4752",
   "metadata": {
    "execution": {
     "iopub.execute_input": "2023-10-07T15:16:53.862912Z",
     "iopub.status.busy": "2023-10-07T15:16:53.862323Z",
     "iopub.status.idle": "2023-10-07T15:16:54.417030Z",
     "shell.execute_reply": "2023-10-07T15:16:54.416145Z"
    },
    "papermill": {
     "duration": 0.564573,
     "end_time": "2023-10-07T15:16:54.419256",
     "exception": false,
     "start_time": "2023-10-07T15:16:53.854683",
     "status": "completed"
    },
    "tags": []
   },
   "outputs": [
    {
     "data": {
      "text/plain": [
       "<matplotlib.legend.Legend at 0x7e432c25b7f0>"
      ]
     },
     "execution_count": 10,
     "metadata": {},
     "output_type": "execute_result"
    },
    {
     "data": {
      "image/png": "[encoded data removed]",
      "text/plain": [
       "<Figure size 1000x400 with 2 Axes>"
      ]
     },
     "metadata": {},
     "output_type": "display_data"
    }
   ],
   "source": [
    "fig, axs = plt.subplots(1,2, figsize = (10,4), dpi = 100)\n",
    "\n",
    "axs[0].grid(linestyle=\"dashdot\")\n",
    "axs[0].set_title(\"Loss\")\n",
    "axs[0].plot(fold_hists[0].history['loss'])\n",
    "axs[0].plot(fold_hists[1].history['loss'])\n",
    "axs[0].plot(fold_hists[2].history['loss'])\n",
    "axs[0].plot(fold_hists[3].history['loss'])\n",
    "axs[0].plot(fold_hists[4].history['loss'])\n",
    "axs[0].legend([\"fold1\", \"fold2\", \"fold3\", \"fold4\", \"fold5\"])\n",
    "\n",
    "axs[1].grid(linestyle=\"dashdot\")\n",
    "axs[1].set_title(\"Accuracy\")\n",
    "axs[1].plot(fold_hists[0].history['acc'])\n",
    "axs[1].plot(fold_hists[1].history['acc'])\n",
    "axs[1].plot(fold_hists[2].history['acc'])\n",
    "axs[1].plot(fold_hists[3].history['acc'])\n",
    "axs[1].plot(fold_hists[4].history['acc'])\n",
    "axs[1].legend([\"fold1\", \"fold2\", \"fold3\", \"fold4\", \"fold5\"])\n",
    "     "
   ]
  },
  {
   "cell_type": "markdown",
   "id": "5d16ca92",
   "metadata": {
    "papermill": {
     "duration": 0.00774,
     "end_time": "2023-10-07T15:16:54.435830",
     "exception": false,
     "start_time": "2023-10-07T15:16:54.428090",
     "status": "completed"
    },
    "tags": []
   },
   "source": [
    "# <span style=\"color:#e74c3c;\"> Test </span> Results\n"
   ]
  },
  {
   "cell_type": "code",
   "execution_count": 11,
   "id": "606be6bb",
   "metadata": {
    "execution": {
     "iopub.execute_input": "2023-10-07T15:16:54.504375Z",
     "iopub.status.busy": "2023-10-07T15:16:54.504042Z",
     "iopub.status.idle": "2023-10-07T15:16:54.508995Z",
     "shell.execute_reply": "2023-10-07T15:16:54.507993Z"
    },
    "papermill": {
     "duration": 0.015952,
     "end_time": "2023-10-07T15:16:54.510675",
     "exception": false,
     "start_time": "2023-10-07T15:16:54.494723",
     "status": "completed"
    },
    "tags": []
   },
   "outputs": [],
   "source": [
    "test_evals_loss = []\n",
    "test_evals_acc = []\n",
    "\n",
    "for i in range(len(test_evals)):\n",
    "    test_evals_loss.append(test_evals[i][0])\n",
    "    test_evals_acc.append(test_evals[i][1]*100)"
   ]
  },
  {
   "cell_type": "code",
   "execution_count": 12,
   "id": "5b7761c2",
   "metadata": {
    "execution": {
     "iopub.execute_input": "2023-10-07T15:16:54.527793Z",
     "iopub.status.busy": "2023-10-07T15:16:54.527118Z",
     "iopub.status.idle": "2023-10-07T15:16:54.532592Z",
     "shell.execute_reply": "2023-10-07T15:16:54.531802Z"
    },
    "papermill": {
     "duration": 0.015759,
     "end_time": "2023-10-07T15:16:54.534208",
     "exception": false,
     "start_time": "2023-10-07T15:16:54.518449",
     "status": "completed"
    },
    "tags": []
   },
   "outputs": [],
   "source": [
    "results = pd.DataFrame({'test_recall_score': test_recall_scores, 'test_precision_score' : test_precision_scores,\n",
    "                        'test_f1_scores': test_f1_scores, 'test_evals_loss':test_evals_loss, 'test_evals_acc':test_evals_acc  })\n",
    "\n",
    "results.index = ['fold 1', 'fold 2', 'fold 3', 'fold 4', 'fold 5']"
   ]
  },
  {
   "cell_type": "code",
   "execution_count": 13,
   "id": "4ac7bc55",
   "metadata": {
    "execution": {
     "iopub.execute_input": "2023-10-07T15:16:54.550780Z",
     "iopub.status.busy": "2023-10-07T15:16:54.550548Z",
     "iopub.status.idle": "2023-10-07T15:16:54.563404Z",
     "shell.execute_reply": "2023-10-07T15:16:54.562490Z"
    },
    "papermill": {
     "duration": 0.023126,
     "end_time": "2023-10-07T15:16:54.565053",
     "exception": false,
     "start_time": "2023-10-07T15:16:54.541927",
     "status": "completed"
    },
    "tags": []
   },
   "outputs": [
    {
     "data": {
      "text/html": [
       "<div>\n",
       "<style scoped>\n",
       "    .dataframe tbody tr th:only-of-type {\n",
       "        vertical-align: middle;\n",
       "    }\n",
       "\n",
       "    .dataframe tbody tr th {\n",
       "        vertical-align: top;\n",
       "    }\n",
       "\n",
       "    .dataframe thead th {\n",
       "        text-align: right;\n",
       "    }\n",
       "</style>\n",
       "<table border=\"1\" class=\"dataframe\">\n",
       "  <thead>\n",
       "    <tr style=\"text-align: right;\">\n",
       "      <th></th>\n",
       "      <th>test_recall_score</th>\n",
       "      <th>test_precision_score</th>\n",
       "      <th>test_f1_scores</th>\n",
       "      <th>test_evals_loss</th>\n",
       "      <th>test_evals_acc</th>\n",
       "    </tr>\n",
       "  </thead>\n",
       "  <tbody>\n",
       "    <tr>\n",
       "      <th>fold 1</th>\n",
       "      <td>0.742188</td>\n",
       "      <td>0.826480</td>\n",
       "      <td>0.740644</td>\n",
       "      <td>1.214037</td>\n",
       "      <td>74.218750</td>\n",
       "    </tr>\n",
       "    <tr>\n",
       "      <th>fold 2</th>\n",
       "      <td>0.928571</td>\n",
       "      <td>0.936685</td>\n",
       "      <td>0.927311</td>\n",
       "      <td>0.244886</td>\n",
       "      <td>92.857140</td>\n",
       "    </tr>\n",
       "    <tr>\n",
       "      <th>fold 3</th>\n",
       "      <td>0.992188</td>\n",
       "      <td>0.992285</td>\n",
       "      <td>0.992199</td>\n",
       "      <td>0.015924</td>\n",
       "      <td>99.218750</td>\n",
       "    </tr>\n",
       "    <tr>\n",
       "      <th>fold 4</th>\n",
       "      <td>0.991061</td>\n",
       "      <td>0.991195</td>\n",
       "      <td>0.991042</td>\n",
       "      <td>0.029448</td>\n",
       "      <td>99.106145</td>\n",
       "    </tr>\n",
       "    <tr>\n",
       "      <th>fold 5</th>\n",
       "      <td>0.992179</td>\n",
       "      <td>0.992218</td>\n",
       "      <td>0.992186</td>\n",
       "      <td>0.023538</td>\n",
       "      <td>99.217880</td>\n",
       "    </tr>\n",
       "  </tbody>\n",
       "</table>\n",
       "</div>"
      ],
      "text/plain": [
       "        test_recall_score  test_precision_score  test_f1_scores  \\\n",
       "fold 1           0.742188              0.826480        0.740644   \n",
       "fold 2           0.928571              0.936685        0.927311   \n",
       "fold 3           0.992188              0.992285        0.992199   \n",
       "fold 4           0.991061              0.991195        0.991042   \n",
       "fold 5           0.992179              0.992218        0.992186   \n",
       "\n",
       "        test_evals_loss  test_evals_acc  \n",
       "fold 1         1.214037       74.218750  \n",
       "fold 2         0.244886       92.857140  \n",
       "fold 3         0.015924       99.218750  \n",
       "fold 4         0.029448       99.106145  \n",
       "fold 5         0.023538       99.217880  "
      ]
     },
     "execution_count": 13,
     "metadata": {},
     "output_type": "execute_result"
    }
   ],
   "source": [
    "results"
   ]
  }
 ],
 "metadata": {
  "kernelspec": {
   "display_name": "Python 3",
   "language": "python",
   "name": "python3"
  },
  "language_info": {
   "codemirror_mode": {
    "name": "ipython",
    "version": 3
   },
   "file_extension": ".py",
   "mimetype": "text/x-python",
   "name": "python",
   "nbconvert_exporter": "python",
   "pygments_lexer": "ipython3",
   "version": "3.10.12"
  },
  "papermill": {
   "default_parameters": {},
   "duration": 1543.938775,
   "end_time": "2023-10-07T15:16:57.399208",
   "environment_variables": {},
   "exception": null,
   "input_path": "__notebook__.ipynb",
   "output_path": "__notebook__.ipynb",
   "parameters": {},
   "start_time": "2023-10-07T14:51:13.460433",
   "version": "2.4.0"
  }
 },
 "nbformat": 4,
 "nbformat_minor": 5
}
